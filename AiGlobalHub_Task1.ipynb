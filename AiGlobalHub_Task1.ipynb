{
  "nbformat": 4,
  "nbformat_minor": 0,
  "metadata": {
    "colab": {
      "name": "AiGlobalHub-Task1",
      "provenance": [],
      "collapsed_sections": []
    },
    "kernelspec": {
      "name": "python3",
      "display_name": "Python 3"
    },
    "language_info": {
      "name": "python"
    }
  },
  "cells": [
    {
      "cell_type": "markdown",
      "source": [
        "\n",
        "# Kütüphanelerin Eklenmesi\n"
      ],
      "metadata": {
        "id": "WolTOHu-ShQT"
      }
    },
    {
      "cell_type": "code",
      "execution_count": 8,
      "metadata": {
        "id": "-soebYAPVFaL"
      },
      "outputs": [],
      "source": [
        "import pandas as pd\n",
        "import numpy as np\n",
        "import matplotlib.pyplot as plt\n",
        "import seaborn as sns\n",
        "import sklearn as sk"
      ]
    },
    {
      "cell_type": "markdown",
      "source": [
        "# Insurance.csv Dosyasının Okunması"
      ],
      "metadata": {
        "id": "LGiL2419S-yS"
      }
    },
    {
      "cell_type": "code",
      "source": [
        "df=pd.read_csv(\"/content/drive/MyDrive/AiGlobalHub/insurance.csv\")"
      ],
      "metadata": {
        "id": "Ds7hH4e-Vfbh"
      },
      "execution_count": 9,
      "outputs": []
    },
    {
      "cell_type": "markdown",
      "source": [
        "# Keşifsel Veri Analizinin Yapılması"
      ],
      "metadata": {
        "id": "7k9ueyqlTQ_I"
      }
    },
    {
      "cell_type": "code",
      "source": [
        "df.info()"
      ],
      "metadata": {
        "colab": {
          "base_uri": "https://localhost:8080/"
        },
        "id": "hE3Z_L0-VkUU",
        "outputId": "0bc7d755-74ec-4d78-99a0-e4708b7718ee"
      },
      "execution_count": 10,
      "outputs": [
        {
          "output_type": "stream",
          "name": "stdout",
          "text": [
            "<class 'pandas.core.frame.DataFrame'>\n",
            "RangeIndex: 1338 entries, 0 to 1337\n",
            "Data columns (total 7 columns):\n",
            " #   Column    Non-Null Count  Dtype  \n",
            "---  ------    --------------  -----  \n",
            " 0   age       1338 non-null   int64  \n",
            " 1   sex       1338 non-null   object \n",
            " 2   bmi       1338 non-null   float64\n",
            " 3   children  1338 non-null   int64  \n",
            " 4   smoker    1338 non-null   object \n",
            " 5   region    1338 non-null   object \n",
            " 6   charges   1338 non-null   float64\n",
            "dtypes: float64(2), int64(2), object(3)\n",
            "memory usage: 73.3+ KB\n"
          ]
        }
      ]
    },
    {
      "cell_type": "code",
      "source": [
        "df.describe()"
      ],
      "metadata": {
        "colab": {
          "base_uri": "https://localhost:8080/",
          "height": 300
        },
        "id": "KsLMlkmrVoIZ",
        "outputId": "1f72e6c8-c3c9-4d81-affe-7daac4ae93ef"
      },
      "execution_count": 11,
      "outputs": [
        {
          "output_type": "execute_result",
          "data": {
            "text/plain": [
              "               age          bmi     children       charges\n",
              "count  1338.000000  1338.000000  1338.000000   1338.000000\n",
              "mean     39.207025    30.663397     1.094918  13270.422265\n",
              "std      14.049960     6.098187     1.205493  12110.011237\n",
              "min      18.000000    15.960000     0.000000   1121.873900\n",
              "25%      27.000000    26.296250     0.000000   4740.287150\n",
              "50%      39.000000    30.400000     1.000000   9382.033000\n",
              "75%      51.000000    34.693750     2.000000  16639.912515\n",
              "max      64.000000    53.130000     5.000000  63770.428010"
            ],
            "text/html": [
              "\n",
              "  <div id=\"df-154d911e-f819-4183-86fd-143da96f39f9\">\n",
              "    <div class=\"colab-df-container\">\n",
              "      <div>\n",
              "<style scoped>\n",
              "    .dataframe tbody tr th:only-of-type {\n",
              "        vertical-align: middle;\n",
              "    }\n",
              "\n",
              "    .dataframe tbody tr th {\n",
              "        vertical-align: top;\n",
              "    }\n",
              "\n",
              "    .dataframe thead th {\n",
              "        text-align: right;\n",
              "    }\n",
              "</style>\n",
              "<table border=\"1\" class=\"dataframe\">\n",
              "  <thead>\n",
              "    <tr style=\"text-align: right;\">\n",
              "      <th></th>\n",
              "      <th>age</th>\n",
              "      <th>bmi</th>\n",
              "      <th>children</th>\n",
              "      <th>charges</th>\n",
              "    </tr>\n",
              "  </thead>\n",
              "  <tbody>\n",
              "    <tr>\n",
              "      <th>count</th>\n",
              "      <td>1338.000000</td>\n",
              "      <td>1338.000000</td>\n",
              "      <td>1338.000000</td>\n",
              "      <td>1338.000000</td>\n",
              "    </tr>\n",
              "    <tr>\n",
              "      <th>mean</th>\n",
              "      <td>39.207025</td>\n",
              "      <td>30.663397</td>\n",
              "      <td>1.094918</td>\n",
              "      <td>13270.422265</td>\n",
              "    </tr>\n",
              "    <tr>\n",
              "      <th>std</th>\n",
              "      <td>14.049960</td>\n",
              "      <td>6.098187</td>\n",
              "      <td>1.205493</td>\n",
              "      <td>12110.011237</td>\n",
              "    </tr>\n",
              "    <tr>\n",
              "      <th>min</th>\n",
              "      <td>18.000000</td>\n",
              "      <td>15.960000</td>\n",
              "      <td>0.000000</td>\n",
              "      <td>1121.873900</td>\n",
              "    </tr>\n",
              "    <tr>\n",
              "      <th>25%</th>\n",
              "      <td>27.000000</td>\n",
              "      <td>26.296250</td>\n",
              "      <td>0.000000</td>\n",
              "      <td>4740.287150</td>\n",
              "    </tr>\n",
              "    <tr>\n",
              "      <th>50%</th>\n",
              "      <td>39.000000</td>\n",
              "      <td>30.400000</td>\n",
              "      <td>1.000000</td>\n",
              "      <td>9382.033000</td>\n",
              "    </tr>\n",
              "    <tr>\n",
              "      <th>75%</th>\n",
              "      <td>51.000000</td>\n",
              "      <td>34.693750</td>\n",
              "      <td>2.000000</td>\n",
              "      <td>16639.912515</td>\n",
              "    </tr>\n",
              "    <tr>\n",
              "      <th>max</th>\n",
              "      <td>64.000000</td>\n",
              "      <td>53.130000</td>\n",
              "      <td>5.000000</td>\n",
              "      <td>63770.428010</td>\n",
              "    </tr>\n",
              "  </tbody>\n",
              "</table>\n",
              "</div>\n",
              "      <button class=\"colab-df-convert\" onclick=\"convertToInteractive('df-154d911e-f819-4183-86fd-143da96f39f9')\"\n",
              "              title=\"Convert this dataframe to an interactive table.\"\n",
              "              style=\"display:none;\">\n",
              "        \n",
              "  <svg xmlns=\"http://www.w3.org/2000/svg\" height=\"24px\"viewBox=\"0 0 24 24\"\n",
              "       width=\"24px\">\n",
              "    <path d=\"M0 0h24v24H0V0z\" fill=\"none\"/>\n",
              "    <path d=\"M18.56 5.44l.94 2.06.94-2.06 2.06-.94-2.06-.94-.94-2.06-.94 2.06-2.06.94zm-11 1L8.5 8.5l.94-2.06 2.06-.94-2.06-.94L8.5 2.5l-.94 2.06-2.06.94zm10 10l.94 2.06.94-2.06 2.06-.94-2.06-.94-.94-2.06-.94 2.06-2.06.94z\"/><path d=\"M17.41 7.96l-1.37-1.37c-.4-.4-.92-.59-1.43-.59-.52 0-1.04.2-1.43.59L10.3 9.45l-7.72 7.72c-.78.78-.78 2.05 0 2.83L4 21.41c.39.39.9.59 1.41.59.51 0 1.02-.2 1.41-.59l7.78-7.78 2.81-2.81c.8-.78.8-2.07 0-2.86zM5.41 20L4 18.59l7.72-7.72 1.47 1.35L5.41 20z\"/>\n",
              "  </svg>\n",
              "      </button>\n",
              "      \n",
              "  <style>\n",
              "    .colab-df-container {\n",
              "      display:flex;\n",
              "      flex-wrap:wrap;\n",
              "      gap: 12px;\n",
              "    }\n",
              "\n",
              "    .colab-df-convert {\n",
              "      background-color: #E8F0FE;\n",
              "      border: none;\n",
              "      border-radius: 50%;\n",
              "      cursor: pointer;\n",
              "      display: none;\n",
              "      fill: #1967D2;\n",
              "      height: 32px;\n",
              "      padding: 0 0 0 0;\n",
              "      width: 32px;\n",
              "    }\n",
              "\n",
              "    .colab-df-convert:hover {\n",
              "      background-color: #E2EBFA;\n",
              "      box-shadow: 0px 1px 2px rgba(60, 64, 67, 0.3), 0px 1px 3px 1px rgba(60, 64, 67, 0.15);\n",
              "      fill: #174EA6;\n",
              "    }\n",
              "\n",
              "    [theme=dark] .colab-df-convert {\n",
              "      background-color: #3B4455;\n",
              "      fill: #D2E3FC;\n",
              "    }\n",
              "\n",
              "    [theme=dark] .colab-df-convert:hover {\n",
              "      background-color: #434B5C;\n",
              "      box-shadow: 0px 1px 3px 1px rgba(0, 0, 0, 0.15);\n",
              "      filter: drop-shadow(0px 1px 2px rgba(0, 0, 0, 0.3));\n",
              "      fill: #FFFFFF;\n",
              "    }\n",
              "  </style>\n",
              "\n",
              "      <script>\n",
              "        const buttonEl =\n",
              "          document.querySelector('#df-154d911e-f819-4183-86fd-143da96f39f9 button.colab-df-convert');\n",
              "        buttonEl.style.display =\n",
              "          google.colab.kernel.accessAllowed ? 'block' : 'none';\n",
              "\n",
              "        async function convertToInteractive(key) {\n",
              "          const element = document.querySelector('#df-154d911e-f819-4183-86fd-143da96f39f9');\n",
              "          const dataTable =\n",
              "            await google.colab.kernel.invokeFunction('convertToInteractive',\n",
              "                                                     [key], {});\n",
              "          if (!dataTable) return;\n",
              "\n",
              "          const docLinkHtml = 'Like what you see? Visit the ' +\n",
              "            '<a target=\"_blank\" href=https://colab.research.google.com/notebooks/data_table.ipynb>data table notebook</a>'\n",
              "            + ' to learn more about interactive tables.';\n",
              "          element.innerHTML = '';\n",
              "          dataTable['output_type'] = 'display_data';\n",
              "          await google.colab.output.renderOutput(dataTable, element);\n",
              "          const docLink = document.createElement('div');\n",
              "          docLink.innerHTML = docLinkHtml;\n",
              "          element.appendChild(docLink);\n",
              "        }\n",
              "      </script>\n",
              "    </div>\n",
              "  </div>\n",
              "  "
            ]
          },
          "metadata": {},
          "execution_count": 11
        }
      ]
    },
    {
      "cell_type": "code",
      "source": [
        "#Bmi(Vücut Kitle İndeksi)’nin dağılımını inceleyiniz.\n",
        "sns.histplot(data=df, x=\"bmi\")\n",
        "#Verimiz 15 ile 50 arasında dağılmaktadır.\n",
        "#Ortalama ve medyan değerleri 30 olarak belirlenmiştir."
      ],
      "metadata": {
        "colab": {
          "base_uri": "https://localhost:8080/",
          "height": 297
        },
        "id": "u1DE3Xn7WC3l",
        "outputId": "d0500f01-505b-4a88-c386-7c30a38e5cf7"
      },
      "execution_count": 12,
      "outputs": [
        {
          "output_type": "execute_result",
          "data": {
            "text/plain": [
              "<matplotlib.axes._subplots.AxesSubplot at 0x7fe8542b3550>"
            ]
          },
          "metadata": {},
          "execution_count": 12
        },
        {
          "output_type": "display_data",
          "data": {
            "text/plain": [
              "<Figure size 432x288 with 1 Axes>"
            ],
            "image/png": "[encoded data removed]"
          },
          "metadata": {
            "needs_background": "light"
          }
        }
      ]
    },
    {
      "cell_type": "code",
      "source": [
        "#“smoker” ile “charges” arasındaki ilişkiyi inceleyiniz\n",
        "plt.bar(df[\"smoker\"],df[\"charges\"])\n",
        "#Sigara kullanan bireylerden daha riskli olduğundan daha çok sigorta ücreti ödemiştir."
      ],
      "metadata": {
        "colab": {
          "base_uri": "https://localhost:8080/",
          "height": 283
        },
        "id": "VOBzpa8ZaRlk",
        "outputId": "a6fb8085-8975-46bb-f4db-85aa851d738c"
      },
      "execution_count": 13,
      "outputs": [
        {
          "output_type": "execute_result",
          "data": {
            "text/plain": [
              "<BarContainer object of 1338 artists>"
            ]
          },
          "metadata": {},
          "execution_count": 13
        },
        {
          "output_type": "display_data",
          "data": {
            "text/plain": [
              "<Figure size 432x288 with 1 Axes>"
            ],
            "image/png": "[encoded data removed]"
          },
          "metadata": {
            "needs_background": "light"
          }
        }
      ]
    },
    {
      "cell_type": "code",
      "source": [
        "sns.countplot(x=\"smoker\", hue=\"region\",data=df)\n",
        "#Sigara içen sayısı daha azdır.\n",
        "#Bölgesel olarak bakıldığında \"Southeast\" bölgesinde sigara kullanımı daha fazladır."
      ],
      "metadata": {
        "colab": {
          "base_uri": "https://localhost:8080/",
          "height": 297
        },
        "id": "VZUsgTDaapRQ",
        "outputId": "21d78ad8-f794-4ed8-dcec-bc31f2c3b663"
      },
      "execution_count": 14,
      "outputs": [
        {
          "output_type": "execute_result",
          "data": {
            "text/plain": [
              "<matplotlib.axes._subplots.AxesSubplot at 0x7fe844cae950>"
            ]
          },
          "metadata": {},
          "execution_count": 14
        },
        {
          "output_type": "display_data",
          "data": {
            "text/plain": [
              "<Figure size 432x288 with 1 Axes>"
            ],
            "image/png": "[encoded data removed]"
          },
          "metadata": {
            "needs_background": "light"
          }
        }
      ]
    },
    {
      "cell_type": "code",
      "source": [
        "plt.bar(df[\"sex\"],df[\"bmi\"])\n",
        "# Erkek bireylerin vücut kitle endeksi daha yüksek çıkmıştır."
      ],
      "metadata": {
        "colab": {
          "base_uri": "https://localhost:8080/",
          "height": 283
        },
        "id": "n5BUNWjIcS_k",
        "outputId": "41c6d625-46e5-4758-9d60-ef35c9b27de0"
      },
      "execution_count": 15,
      "outputs": [
        {
          "output_type": "execute_result",
          "data": {
            "text/plain": [
              "<BarContainer object of 1338 artists>"
            ]
          },
          "metadata": {},
          "execution_count": 15
        },
        {
          "output_type": "display_data",
          "data": {
            "text/plain": [
              "<Figure size 432x288 with 1 Axes>"
            ],
            "image/png": "[encoded data removed]"
          },
          "metadata": {
            "needs_background": "light"
          }
        }
      ]
    },
    {
      "cell_type": "code",
      "source": [
        "ax = sns.countplot(x=\"children\", hue=\"region\",data=df)\n",
        "pd.crosstab(df[\"region\"],df[\"children\"])\n"
      ],
      "metadata": {
        "colab": {
          "base_uri": "https://localhost:8080/",
          "height": 468
        },
        "id": "GUtkj5Ekc6wZ",
        "outputId": "df7d87c9-88e5-4907-fad6-4ac9480938bf"
      },
      "execution_count": 16,
      "outputs": [
        {
          "output_type": "execute_result",
          "data": {
            "text/plain": [
              "children     0   1   2   3  4  5\n",
              "region                          \n",
              "northeast  147  77  51  39  7  3\n",
              "northwest  132  74  66  46  6  1\n",
              "southeast  157  95  66  35  5  6\n",
              "southwest  138  78  57  37  7  8"
            ],
            "text/html": [
              "\n",
              "  <div id=\"df-798d5bb1-ce7e-4ddf-bf5b-43a3ce8a8b29\">\n",
              "    <div class=\"colab-df-container\">\n",
              "      <div>\n",
              "<style scoped>\n",
              "    .dataframe tbody tr th:only-of-type {\n",
              "        vertical-align: middle;\n",
              "    }\n",
              "\n",
              "    .dataframe tbody tr th {\n",
              "        vertical-align: top;\n",
              "    }\n",
              "\n",
              "    .dataframe thead th {\n",
              "        text-align: right;\n",
              "    }\n",
              "</style>\n",
              "<table border=\"1\" class=\"dataframe\">\n",
              "  <thead>\n",
              "    <tr style=\"text-align: right;\">\n",
              "      <th>children</th>\n",
              "      <th>0</th>\n",
              "      <th>1</th>\n",
              "      <th>2</th>\n",
              "      <th>3</th>\n",
              "      <th>4</th>\n",
              "      <th>5</th>\n",
              "    </tr>\n",
              "    <tr>\n",
              "      <th>region</th>\n",
              "      <th></th>\n",
              "      <th></th>\n",
              "      <th></th>\n",
              "      <th></th>\n",
              "      <th></th>\n",
              "      <th></th>\n",
              "    </tr>\n",
              "  </thead>\n",
              "  <tbody>\n",
              "    <tr>\n",
              "      <th>northeast</th>\n",
              "      <td>147</td>\n",
              "      <td>77</td>\n",
              "      <td>51</td>\n",
              "      <td>39</td>\n",
              "      <td>7</td>\n",
              "      <td>3</td>\n",
              "    </tr>\n",
              "    <tr>\n",
              "      <th>northwest</th>\n",
              "      <td>132</td>\n",
              "      <td>74</td>\n",
              "      <td>66</td>\n",
              "      <td>46</td>\n",
              "      <td>6</td>\n",
              "      <td>1</td>\n",
              "    </tr>\n",
              "    <tr>\n",
              "      <th>southeast</th>\n",
              "      <td>157</td>\n",
              "      <td>95</td>\n",
              "      <td>66</td>\n",
              "      <td>35</td>\n",
              "      <td>5</td>\n",
              "      <td>6</td>\n",
              "    </tr>\n",
              "    <tr>\n",
              "      <th>southwest</th>\n",
              "      <td>138</td>\n",
              "      <td>78</td>\n",
              "      <td>57</td>\n",
              "      <td>37</td>\n",
              "      <td>7</td>\n",
              "      <td>8</td>\n",
              "    </tr>\n",
              "  </tbody>\n",
              "</table>\n",
              "</div>\n",
              "      <button class=\"colab-df-convert\" onclick=\"convertToInteractive('df-798d5bb1-ce7e-4ddf-bf5b-43a3ce8a8b29')\"\n",
              "              title=\"Convert this dataframe to an interactive table.\"\n",
              "              style=\"display:none;\">\n",
              "        \n",
              "  <svg xmlns=\"http://www.w3.org/2000/svg\" height=\"24px\"viewBox=\"0 0 24 24\"\n",
              "       width=\"24px\">\n",
              "    <path d=\"M0 0h24v24H0V0z\" fill=\"none\"/>\n",
              "    <path d=\"M18.56 5.44l.94 2.06.94-2.06 2.06-.94-2.06-.94-.94-2.06-.94 2.06-2.06.94zm-11 1L8.5 8.5l.94-2.06 2.06-.94-2.06-.94L8.5 2.5l-.94 2.06-2.06.94zm10 10l.94 2.06.94-2.06 2.06-.94-2.06-.94-.94-2.06-.94 2.06-2.06.94z\"/><path d=\"M17.41 7.96l-1.37-1.37c-.4-.4-.92-.59-1.43-.59-.52 0-1.04.2-1.43.59L10.3 9.45l-7.72 7.72c-.78.78-.78 2.05 0 2.83L4 21.41c.39.39.9.59 1.41.59.51 0 1.02-.2 1.41-.59l7.78-7.78 2.81-2.81c.8-.78.8-2.07 0-2.86zM5.41 20L4 18.59l7.72-7.72 1.47 1.35L5.41 20z\"/>\n",
              "  </svg>\n",
              "      </button>\n",
              "      \n",
              "  <style>\n",
              "    .colab-df-container {\n",
              "      display:flex;\n",
              "      flex-wrap:wrap;\n",
              "      gap: 12px;\n",
              "    }\n",
              "\n",
              "    .colab-df-convert {\n",
              "      background-color: #E8F0FE;\n",
              "      border: none;\n",
              "      border-radius: 50%;\n",
              "      cursor: pointer;\n",
              "      display: none;\n",
              "      fill: #1967D2;\n",
              "      height: 32px;\n",
              "      padding: 0 0 0 0;\n",
              "      width: 32px;\n",
              "    }\n",
              "\n",
              "    .colab-df-convert:hover {\n",
              "      background-color: #E2EBFA;\n",
              "      box-shadow: 0px 1px 2px rgba(60, 64, 67, 0.3), 0px 1px 3px 1px rgba(60, 64, 67, 0.15);\n",
              "      fill: #174EA6;\n",
              "    }\n",
              "\n",
              "    [theme=dark] .colab-df-convert {\n",
              "      background-color: #3B4455;\n",
              "      fill: #D2E3FC;\n",
              "    }\n",
              "\n",
              "    [theme=dark] .colab-df-convert:hover {\n",
              "      background-color: #434B5C;\n",
              "      box-shadow: 0px 1px 3px 1px rgba(0, 0, 0, 0.15);\n",
              "      filter: drop-shadow(0px 1px 2px rgba(0, 0, 0, 0.3));\n",
              "      fill: #FFFFFF;\n",
              "    }\n",
              "  </style>\n",
              "\n",
              "      <script>\n",
              "        const buttonEl =\n",
              "          document.querySelector('#df-798d5bb1-ce7e-4ddf-bf5b-43a3ce8a8b29 button.colab-df-convert');\n",
              "        buttonEl.style.display =\n",
              "          google.colab.kernel.accessAllowed ? 'block' : 'none';\n",
              "\n",
              "        async function convertToInteractive(key) {\n",
              "          const element = document.querySelector('#df-798d5bb1-ce7e-4ddf-bf5b-43a3ce8a8b29');\n",
              "          const dataTable =\n",
              "            await google.colab.kernel.invokeFunction('convertToInteractive',\n",
              "                                                     [key], {});\n",
              "          if (!dataTable) return;\n",
              "\n",
              "          const docLinkHtml = 'Like what you see? Visit the ' +\n",
              "            '<a target=\"_blank\" href=https://colab.research.google.com/notebooks/data_table.ipynb>data table notebook</a>'\n",
              "            + ' to learn more about interactive tables.';\n",
              "          element.innerHTML = '';\n",
              "          dataTable['output_type'] = 'display_data';\n",
              "          await google.colab.output.renderOutput(dataTable, element);\n",
              "          const docLink = document.createElement('div');\n",
              "          docLink.innerHTML = docLinkHtml;\n",
              "          element.appendChild(docLink);\n",
              "        }\n",
              "      </script>\n",
              "    </div>\n",
              "  </div>\n",
              "  "
            ]
          },
          "metadata": {},
          "execution_count": 16
        },
        {
          "output_type": "display_data",
          "data": {
            "text/plain": [
              "<Figure size 432x288 with 1 Axes>"
            ],
            "image/png": "[encoded data removed]"
          },
          "metadata": {
            "needs_background": "light"
          }
        }
      ]
    },
    {
      "cell_type": "code",
      "source": [
        "children = df.groupby(by=df[\"region\"]).sum().reset_index()\n",
        "plt.bar(children[\"region\"],children[\"children\"])\n",
        "#Southeast bölgesinde daha çok çoçuk bulunmaktadır."
      ],
      "metadata": {
        "colab": {
          "base_uri": "https://localhost:8080/",
          "height": 287
        },
        "id": "bt1HJxZ9dQoX",
        "outputId": "59cd8343-21d4-422b-adcd-7f1124ea92d2"
      },
      "execution_count": 17,
      "outputs": [
        {
          "output_type": "execute_result",
          "data": {
            "text/plain": [
              "<BarContainer object of 4 artists>"
            ]
          },
          "metadata": {},
          "execution_count": 17
        },
        {
          "output_type": "display_data",
          "data": {
            "text/plain": [
              "<Figure size 432x288 with 1 Axes>"
            ],
            "image/png": "[encoded data removed]"
          },
          "metadata": {
            "needs_background": "light"
          }
        }
      ]
    },
    {
      "cell_type": "code",
      "source": [
        "plt.scatter(df[\"age\"],df[\"bmi\"])"
      ],
      "metadata": {
        "colab": {
          "base_uri": "https://localhost:8080/",
          "height": 283
        },
        "id": "HV-TTYe0e49H",
        "outputId": "e50902f8-36bd-4fd9-eeb6-67d79d129684"
      },
      "execution_count": 18,
      "outputs": [
        {
          "output_type": "execute_result",
          "data": {
            "text/plain": [
              "<matplotlib.collections.PathCollection at 0x7fe8439bab90>"
            ]
          },
          "metadata": {},
          "execution_count": 18
        },
        {
          "output_type": "display_data",
          "data": {
            "text/plain": [
              "<Figure size 432x288 with 1 Axes>"
            ],
            "image/png": "[encoded data removed]"
          },
          "metadata": {
            "needs_background": "light"
          }
        }
      ]
    },
    {
      "cell_type": "code",
      "source": [
        "x = df[\"age\"]\n",
        "y=df[\"bmi\"]\n",
        "\n",
        "plt.stem(x,y)\n",
        "#Genel olarak bakıldığında bmi değerleri 40 ile 15 arasında dağılmıştır."
      ],
      "metadata": {
        "colab": {
          "base_uri": "https://localhost:8080/",
          "height": 340
        },
        "id": "-IpHwXiLgh09",
        "outputId": "a9fb0b48-31ef-4cea-8879-4ce1f26be27c"
      },
      "execution_count": 19,
      "outputs": [
        {
          "output_type": "stream",
          "name": "stderr",
          "text": [
            "/usr/local/lib/python3.7/dist-packages/ipykernel_launcher.py:4: UserWarning: In Matplotlib 3.3 individual lines on a stem plot will be added as a LineCollection instead of individual lines. This significantly improves the performance of a stem plot. To remove this warning and switch to the new behaviour, set the \"use_line_collection\" keyword argument to True.\n",
            "  after removing the cwd from sys.path.\n"
          ]
        },
        {
          "output_type": "execute_result",
          "data": {
            "text/plain": [
              "<StemContainer object of 3 artists>"
            ]
          },
          "metadata": {},
          "execution_count": 19
        },
        {
          "output_type": "display_data",
          "data": {
            "text/plain": [
              "<Figure size 432x288 with 1 Axes>"
            ],
            "image/png": "[encoded data removed]"
          },
          "metadata": {
            "needs_background": "light"
          }
        }
      ]
    },
    {
      "cell_type": "code",
      "source": [
        "plt.bar(df[\"children\"],df[\"bmi\"])"
      ],
      "metadata": {
        "colab": {
          "base_uri": "https://localhost:8080/",
          "height": 283
        },
        "id": "se1duuzsheRy",
        "outputId": "63d9b58d-0ed5-48c3-b42d-30346df0b90e"
      },
      "execution_count": 20,
      "outputs": [
        {
          "output_type": "execute_result",
          "data": {
            "text/plain": [
              "<BarContainer object of 1338 artists>"
            ]
          },
          "metadata": {},
          "execution_count": 20
        },
        {
          "output_type": "display_data",
          "data": {
            "text/plain": [
              "<Figure size 432x288 with 1 Axes>"
            ],
            "image/png": "[encoded data removed]"
          },
          "metadata": {
            "needs_background": "light"
          }
        }
      ]
    },
    {
      "cell_type": "code",
      "source": [
        "plt.scatter(df[\"children\"],df[\"bmi\"])"
      ],
      "metadata": {
        "colab": {
          "base_uri": "https://localhost:8080/",
          "height": 283
        },
        "id": "Gz7nSxkqiTqN",
        "outputId": "a04cfe21-9b95-41b6-a62c-13dfa016d571"
      },
      "execution_count": 21,
      "outputs": [
        {
          "output_type": "execute_result",
          "data": {
            "text/plain": [
              "<matplotlib.collections.PathCollection at 0x7fe842a5aed0>"
            ]
          },
          "metadata": {},
          "execution_count": 21
        },
        {
          "output_type": "display_data",
          "data": {
            "text/plain": [
              "<Figure size 432x288 with 1 Axes>"
            ],
            "image/png": "[encoded data removed]"
          },
          "metadata": {
            "needs_background": "light"
          }
        }
      ]
    },
    {
      "cell_type": "code",
      "source": [
        "sns.boxplot(df[\"children\"],df[\"bmi\"])"
      ],
      "metadata": {
        "colab": {
          "base_uri": "https://localhost:8080/",
          "height": 354
        },
        "id": "m5uzy5Abk_yY",
        "outputId": "c2302450-aa6e-483e-b82b-409abc988ef0"
      },
      "execution_count": 22,
      "outputs": [
        {
          "output_type": "stream",
          "name": "stderr",
          "text": [
            "/usr/local/lib/python3.7/dist-packages/seaborn/_decorators.py:43: FutureWarning: Pass the following variables as keyword args: x, y. From version 0.12, the only valid positional argument will be `data`, and passing other arguments without an explicit keyword will result in an error or misinterpretation.\n",
            "  FutureWarning\n"
          ]
        },
        {
          "output_type": "execute_result",
          "data": {
            "text/plain": [
              "<matplotlib.axes._subplots.AxesSubplot at 0x7fe841721610>"
            ]
          },
          "metadata": {},
          "execution_count": 22
        },
        {
          "output_type": "display_data",
          "data": {
            "text/plain": [
              "<Figure size 432x288 with 1 Axes>"
            ],
            "image/png": "[encoded data removed]"
          },
          "metadata": {
            "needs_background": "light"
          }
        }
      ]
    },
    {
      "cell_type": "code",
      "source": [
        "sns.boxplot(df[\"bmi\"])"
      ],
      "metadata": {
        "colab": {
          "base_uri": "https://localhost:8080/",
          "height": 354
        },
        "id": "E1cUEYhPkH4u",
        "outputId": "7ad79521-af27-4b54-c258-584c62d16070"
      },
      "execution_count": 23,
      "outputs": [
        {
          "output_type": "stream",
          "name": "stderr",
          "text": [
            "/usr/local/lib/python3.7/dist-packages/seaborn/_decorators.py:43: FutureWarning: Pass the following variable as a keyword arg: x. From version 0.12, the only valid positional argument will be `data`, and passing other arguments without an explicit keyword will result in an error or misinterpretation.\n",
            "  FutureWarning\n"
          ]
        },
        {
          "output_type": "execute_result",
          "data": {
            "text/plain": [
              "<matplotlib.axes._subplots.AxesSubplot at 0x7fe841689850>"
            ]
          },
          "metadata": {},
          "execution_count": 23
        },
        {
          "output_type": "display_data",
          "data": {
            "text/plain": [
              "<Figure size 432x288 with 1 Axes>"
            ],
            "image/png": "[encoded data removed]"
          },
          "metadata": {
            "needs_background": "light"
          }
        }
      ]
    },
    {
      "cell_type": "code",
      "source": [
        "Q1 = np.percentile(df[\"bmi\"] , 25)\n",
        "Q3 = np.percentile(df[\"bmi\"] , 75)\n",
        "IQR = Q3 - Q1\n",
        "ul = Q3+1.5*IQR\n",
        "ll = Q1-1.5*IQR\n",
        "print(ul,ll)\n",
        "outliers = df[(df[\"bmi\"] > ul) | (df[\"bmi\"] < ll)]\n",
        "outliers\n",
        "# 47.29'un üstü ve 13.7'nin altında bulunan bmi değerleri outlierdır."
      ],
      "metadata": {
        "colab": {
          "base_uri": "https://localhost:8080/",
          "height": 350
        },
        "id": "Yai7I6teliQm",
        "outputId": "82ae5691-2fa0-4144-85dd-cfc0b2254840"
      },
      "execution_count": 24,
      "outputs": [
        {
          "output_type": "stream",
          "name": "stdout",
          "text": [
            "47.290000000000006 13.7\n"
          ]
        },
        {
          "output_type": "execute_result",
          "data": {
            "text/plain": [
              "      age     sex    bmi  children smoker     region      charges\n",
              "116    58    male  49.06         0     no  southeast  11381.32540\n",
              "286    46  female  48.07         2     no  northeast   9432.92530\n",
              "401    47    male  47.52         1     no  southeast   8083.91980\n",
              "543    54  female  47.41         0    yes  southeast  63770.42801\n",
              "847    23    male  50.38         1     no  southeast   2438.05520\n",
              "860    37  female  47.60         2    yes  southwest  46113.51100\n",
              "1047   22    male  52.58         1    yes  southeast  44501.39820\n",
              "1088   52    male  47.74         1     no  southeast   9748.91060\n",
              "1317   18    male  53.13         0     no  southeast   1163.46270"
            ],
            "text/html": [
              "\n",
              "  <div id=\"df-45390060-be4b-45cc-9b0c-b40ed88ab1b0\">\n",
              "    <div class=\"colab-df-container\">\n",
              "      <div>\n",
              "<style scoped>\n",
              "    .dataframe tbody tr th:only-of-type {\n",
              "        vertical-align: middle;\n",
              "    }\n",
              "\n",
              "    .dataframe tbody tr th {\n",
              "        vertical-align: top;\n",
              "    }\n",
              "\n",
              "    .dataframe thead th {\n",
              "        text-align: right;\n",
              "    }\n",
              "</style>\n",
              "<table border=\"1\" class=\"dataframe\">\n",
              "  <thead>\n",
              "    <tr style=\"text-align: right;\">\n",
              "      <th></th>\n",
              "      <th>age</th>\n",
              "      <th>sex</th>\n",
              "      <th>bmi</th>\n",
              "      <th>children</th>\n",
              "      <th>smoker</th>\n",
              "      <th>region</th>\n",
              "      <th>charges</th>\n",
              "    </tr>\n",
              "  </thead>\n",
              "  <tbody>\n",
              "    <tr>\n",
              "      <th>116</th>\n",
              "      <td>58</td>\n",
              "      <td>male</td>\n",
              "      <td>49.06</td>\n",
              "      <td>0</td>\n",
              "      <td>no</td>\n",
              "      <td>southeast</td>\n",
              "      <td>11381.32540</td>\n",
              "    </tr>\n",
              "    <tr>\n",
              "      <th>286</th>\n",
              "      <td>46</td>\n",
              "      <td>female</td>\n",
              "      <td>48.07</td>\n",
              "      <td>2</td>\n",
              "      <td>no</td>\n",
              "      <td>northeast</td>\n",
              "      <td>9432.92530</td>\n",
              "    </tr>\n",
              "    <tr>\n",
              "      <th>401</th>\n",
              "      <td>47</td>\n",
              "      <td>male</td>\n",
              "      <td>47.52</td>\n",
              "      <td>1</td>\n",
              "      <td>no</td>\n",
              "      <td>southeast</td>\n",
              "      <td>8083.91980</td>\n",
              "    </tr>\n",
              "    <tr>\n",
              "      <th>543</th>\n",
              "      <td>54</td>\n",
              "      <td>female</td>\n",
              "      <td>47.41</td>\n",
              "      <td>0</td>\n",
              "      <td>yes</td>\n",
              "      <td>southeast</td>\n",
              "      <td>63770.42801</td>\n",
              "    </tr>\n",
              "    <tr>\n",
              "      <th>847</th>\n",
              "      <td>23</td>\n",
              "      <td>male</td>\n",
              "      <td>50.38</td>\n",
              "      <td>1</td>\n",
              "      <td>no</td>\n",
              "      <td>southeast</td>\n",
              "      <td>2438.05520</td>\n",
              "    </tr>\n",
              "    <tr>\n",
              "      <th>860</th>\n",
              "      <td>37</td>\n",
              "      <td>female</td>\n",
              "      <td>47.60</td>\n",
              "      <td>2</td>\n",
              "      <td>yes</td>\n",
              "      <td>southwest</td>\n",
              "      <td>46113.51100</td>\n",
              "    </tr>\n",
              "    <tr>\n",
              "      <th>1047</th>\n",
              "      <td>22</td>\n",
              "      <td>male</td>\n",
              "      <td>52.58</td>\n",
              "      <td>1</td>\n",
              "      <td>yes</td>\n",
              "      <td>southeast</td>\n",
              "      <td>44501.39820</td>\n",
              "    </tr>\n",
              "    <tr>\n",
              "      <th>1088</th>\n",
              "      <td>52</td>\n",
              "      <td>male</td>\n",
              "      <td>47.74</td>\n",
              "      <td>1</td>\n",
              "      <td>no</td>\n",
              "      <td>southeast</td>\n",
              "      <td>9748.91060</td>\n",
              "    </tr>\n",
              "    <tr>\n",
              "      <th>1317</th>\n",
              "      <td>18</td>\n",
              "      <td>male</td>\n",
              "      <td>53.13</td>\n",
              "      <td>0</td>\n",
              "      <td>no</td>\n",
              "      <td>southeast</td>\n",
              "      <td>1163.46270</td>\n",
              "    </tr>\n",
              "  </tbody>\n",
              "</table>\n",
              "</div>\n",
              "      <button class=\"colab-df-convert\" onclick=\"convertToInteractive('df-45390060-be4b-45cc-9b0c-b40ed88ab1b0')\"\n",
              "              title=\"Convert this dataframe to an interactive table.\"\n",
              "              style=\"display:none;\">\n",
              "        \n",
              "  <svg xmlns=\"http://www.w3.org/2000/svg\" height=\"24px\"viewBox=\"0 0 24 24\"\n",
              "       width=\"24px\">\n",
              "    <path d=\"M0 0h24v24H0V0z\" fill=\"none\"/>\n",
              "    <path d=\"M18.56 5.44l.94 2.06.94-2.06 2.06-.94-2.06-.94-.94-2.06-.94 2.06-2.06.94zm-11 1L8.5 8.5l.94-2.06 2.06-.94-2.06-.94L8.5 2.5l-.94 2.06-2.06.94zm10 10l.94 2.06.94-2.06 2.06-.94-2.06-.94-.94-2.06-.94 2.06-2.06.94z\"/><path d=\"M17.41 7.96l-1.37-1.37c-.4-.4-.92-.59-1.43-.59-.52 0-1.04.2-1.43.59L10.3 9.45l-7.72 7.72c-.78.78-.78 2.05 0 2.83L4 21.41c.39.39.9.59 1.41.59.51 0 1.02-.2 1.41-.59l7.78-7.78 2.81-2.81c.8-.78.8-2.07 0-2.86zM5.41 20L4 18.59l7.72-7.72 1.47 1.35L5.41 20z\"/>\n",
              "  </svg>\n",
              "      </button>\n",
              "      \n",
              "  <style>\n",
              "    .colab-df-container {\n",
              "      display:flex;\n",
              "      flex-wrap:wrap;\n",
              "      gap: 12px;\n",
              "    }\n",
              "\n",
              "    .colab-df-convert {\n",
              "      background-color: #E8F0FE;\n",
              "      border: none;\n",
              "      border-radius: 50%;\n",
              "      cursor: pointer;\n",
              "      display: none;\n",
              "      fill: #1967D2;\n",
              "      height: 32px;\n",
              "      padding: 0 0 0 0;\n",
              "      width: 32px;\n",
              "    }\n",
              "\n",
              "    .colab-df-convert:hover {\n",
              "      background-color: #E2EBFA;\n",
              "      box-shadow: 0px 1px 2px rgba(60, 64, 67, 0.3), 0px 1px 3px 1px rgba(60, 64, 67, 0.15);\n",
              "      fill: #174EA6;\n",
              "    }\n",
              "\n",
              "    [theme=dark] .colab-df-convert {\n",
              "      background-color: #3B4455;\n",
              "      fill: #D2E3FC;\n",
              "    }\n",
              "\n",
              "    [theme=dark] .colab-df-convert:hover {\n",
              "      background-color: #434B5C;\n",
              "      box-shadow: 0px 1px 3px 1px rgba(0, 0, 0, 0.15);\n",
              "      filter: drop-shadow(0px 1px 2px rgba(0, 0, 0, 0.3));\n",
              "      fill: #FFFFFF;\n",
              "    }\n",
              "  </style>\n",
              "\n",
              "      <script>\n",
              "        const buttonEl =\n",
              "          document.querySelector('#df-45390060-be4b-45cc-9b0c-b40ed88ab1b0 button.colab-df-convert');\n",
              "        buttonEl.style.display =\n",
              "          google.colab.kernel.accessAllowed ? 'block' : 'none';\n",
              "\n",
              "        async function convertToInteractive(key) {\n",
              "          const element = document.querySelector('#df-45390060-be4b-45cc-9b0c-b40ed88ab1b0');\n",
              "          const dataTable =\n",
              "            await google.colab.kernel.invokeFunction('convertToInteractive',\n",
              "                                                     [key], {});\n",
              "          if (!dataTable) return;\n",
              "\n",
              "          const docLinkHtml = 'Like what you see? Visit the ' +\n",
              "            '<a target=\"_blank\" href=https://colab.research.google.com/notebooks/data_table.ipynb>data table notebook</a>'\n",
              "            + ' to learn more about interactive tables.';\n",
              "          element.innerHTML = '';\n",
              "          dataTable['output_type'] = 'display_data';\n",
              "          await google.colab.output.renderOutput(dataTable, element);\n",
              "          const docLink = document.createElement('div');\n",
              "          docLink.innerHTML = docLinkHtml;\n",
              "          element.appendChild(docLink);\n",
              "        }\n",
              "      </script>\n",
              "    </div>\n",
              "  </div>\n",
              "  "
            ]
          },
          "metadata": {},
          "execution_count": 24
        }
      ]
    },
    {
      "cell_type": "code",
      "source": [
        "plt.scatter(df[\"bmi\"],df[\"charges\"])"
      ],
      "metadata": {
        "colab": {
          "base_uri": "https://localhost:8080/",
          "height": 283
        },
        "id": "r9sQDFybl7AY",
        "outputId": "9949845c-715c-4fd9-911c-ee5250875a9d"
      },
      "execution_count": 25,
      "outputs": [
        {
          "output_type": "execute_result",
          "data": {
            "text/plain": [
              "<matplotlib.collections.PathCollection at 0x7fe84164cc10>"
            ]
          },
          "metadata": {},
          "execution_count": 25
        },
        {
          "output_type": "display_data",
          "data": {
            "text/plain": [
              "<Figure size 432x288 with 1 Axes>"
            ],
            "image/png": "[encoded data removed]"
          },
          "metadata": {
            "needs_background": "light"
          }
        }
      ]
    },
    {
      "cell_type": "code",
      "source": [
        "x = df[\"bmi\"]\n",
        "y=df[\"charges\"]\n",
        "\n",
        "plt.stem(x,y)"
      ],
      "metadata": {
        "colab": {
          "base_uri": "https://localhost:8080/",
          "height": 340
        },
        "id": "zTC1worqm0Z2",
        "outputId": "e02da1fe-047a-455a-88ec-4c1a19252f9e"
      },
      "execution_count": 26,
      "outputs": [
        {
          "output_type": "stream",
          "name": "stderr",
          "text": [
            "/usr/local/lib/python3.7/dist-packages/ipykernel_launcher.py:4: UserWarning: In Matplotlib 3.3 individual lines on a stem plot will be added as a LineCollection instead of individual lines. This significantly improves the performance of a stem plot. To remove this warning and switch to the new behaviour, set the \"use_line_collection\" keyword argument to True.\n",
            "  after removing the cwd from sys.path.\n"
          ]
        },
        {
          "output_type": "execute_result",
          "data": {
            "text/plain": [
              "<StemContainer object of 3 artists>"
            ]
          },
          "metadata": {},
          "execution_count": 26
        },
        {
          "output_type": "display_data",
          "data": {
            "text/plain": [
              "<Figure size 432x288 with 1 Axes>"
            ],
            "image/png": "[encoded data removed]"
          },
          "metadata": {
            "needs_background": "light"
          }
        }
      ]
    },
    {
      "cell_type": "code",
      "source": [
        "sns.jointplot(data=df, x=\"bmi\", y=\"charges\",kind=\"hist\")\n",
        "# Bmi 20 -35 arası, charges 20000 - 0 arasında yoğunlaşmaktadır.\n",
        "# Bmi 30 - 45 arası, charges 30000- 50000 arasında da daha seyrek bir dağılım görülmektedir."
      ],
      "metadata": {
        "colab": {
          "base_uri": "https://localhost:8080/",
          "height": 459
        },
        "id": "s2wX-JKqn7xK",
        "outputId": "97c76d3e-9ddf-42f7-be78-8ea2555d357e"
      },
      "execution_count": 27,
      "outputs": [
        {
          "output_type": "execute_result",
          "data": {
            "text/plain": [
              "<seaborn.axisgrid.JointGrid at 0x7fe8404b46d0>"
            ]
          },
          "metadata": {},
          "execution_count": 27
        },
        {
          "output_type": "display_data",
          "data": {
            "text/plain": [
              "<Figure size 432x432 with 3 Axes>"
            ],
            "image/png": "[encoded data removed]"
          },
          "metadata": {
            "needs_background": "light"
          }
        }
      ]
    },
    {
      "cell_type": "code",
      "source": [
        "sns.barplot(x=df[\"region\"],y=df[\"bmi\"], hue=df[\"smoker\"])\n",
        "#Bölge bazında bakıldığında sigara içen ve içmeyen bireyler eşit olarak dağılmıştır.\n",
        "#Southeast bölgesindeki bireylerin bmi değerleri diğerlerine göre oldukça büyük bulunmuştur."
      ],
      "metadata": {
        "colab": {
          "base_uri": "https://localhost:8080/",
          "height": 297
        },
        "id": "MzfNb48FqrDI",
        "outputId": "9af3b16c-88fa-461f-ebb3-ac3499ca97e6"
      },
      "execution_count": 28,
      "outputs": [
        {
          "output_type": "execute_result",
          "data": {
            "text/plain": [
              "<matplotlib.axes._subplots.AxesSubplot at 0x7fe83da82710>"
            ]
          },
          "metadata": {},
          "execution_count": 28
        },
        {
          "output_type": "display_data",
          "data": {
            "text/plain": [
              "<Figure size 432x288 with 1 Axes>"
            ],
            "image/png": "[encoded data removed]"
          },
          "metadata": {
            "needs_background": "light"
          }
        }
      ]
    },
    {
      "cell_type": "markdown",
      "source": [
        "# Kategorik değişkenleri düzenlemek için Label ve One-Hot Encoding tekniklerinin kullanılması."
      ],
      "metadata": {
        "id": "GofAABATTkE5"
      }
    },
    {
      "cell_type": "code",
      "source": [
        "# One Hot Encoding\n",
        "ohdf = pd.get_dummies(df, columns = ['region'])"
      ],
      "metadata": {
        "id": "eCTJMGbDr0qt"
      },
      "execution_count": 29,
      "outputs": []
    },
    {
      "cell_type": "code",
      "source": [
        "# Label Encoding\n",
        "from sklearn import preprocessing\n",
        "le = preprocessing.LabelEncoder()\n",
        "sex = le.fit_transform(df[\"sex\"])\n",
        "smoker = le.fit_transform(df[\"smoker\"])\n",
        "ohdf[\"smoker\"]=smoker\n"
      ],
      "metadata": {
        "id": "cVnm3IZUtuJU"
      },
      "execution_count": 30,
      "outputs": []
    },
    {
      "cell_type": "markdown",
      "source": [
        "# Veri setinin X_train,X_test, y_train, y_test olacak şekilde bölüştürülemesi."
      ],
      "metadata": {
        "id": "cz2p0gkYubH6"
      }
    },
    {
      "cell_type": "code",
      "source": [
        "ohdf[\"sex\"]=sex"
      ],
      "metadata": {
        "id": "kM_LadFfuAOh"
      },
      "execution_count": 31,
      "outputs": []
    },
    {
      "cell_type": "code",
      "source": [
        "y=ohdf[\"charges\"]\n",
        "X=ohdf.drop([\"charges\"],axis=1)\n",
        "from sklearn.model_selection import train_test_split\n",
        "X_train, X_test, y_train, y_test = train_test_split(X, y, test_size = 0.2,random_state=42) "
      ],
      "metadata": {
        "id": "5Q9Xmy1SvZ27"
      },
      "execution_count": 32,
      "outputs": []
    },
    {
      "cell_type": "markdown",
      "source": [
        "# Veri Setinin Normalize Edilmesi"
      ],
      "metadata": {
        "id": "UtAsi6uNUNXY"
      }
    },
    {
      "cell_type": "code",
      "source": [
        "min_max_scaler = preprocessing.MinMaxScaler()\n",
        "cols=X_train.columns\n",
        "np_scaled_train = min_max_scaler.fit_transform(X_train)\n",
        "np_scaled_test = min_max_scaler.fit_transform(X_test)"
      ],
      "metadata": {
        "id": "6Ce6VKGQUL9z"
      },
      "execution_count": 33,
      "outputs": []
    },
    {
      "cell_type": "code",
      "source": [
        "X_train = pd.DataFrame(np_scaled_train, columns = cols)\n",
        "X_test = pd.DataFrame(np_scaled_test, columns = cols)"
      ],
      "metadata": {
        "id": "WdjivCfQzC_m"
      },
      "execution_count": 34,
      "outputs": []
    },
    {
      "cell_type": "code",
      "source": [
        "X_test"
      ],
      "metadata": {
        "colab": {
          "base_uri": "https://localhost:8080/",
          "height": 487
        },
        "id": "RNy4tCQP0Akd",
        "outputId": "4552e4c2-8688-4c4f-9b8e-9ab1ed0aecfd"
      },
      "execution_count": 35,
      "outputs": [
        {
          "output_type": "execute_result",
          "data": {
            "text/plain": [
              "          age  sex       bmi  children  smoker  region_northeast  \\\n",
              "0    0.586957  0.0  0.233748       0.4     0.0               1.0   \n",
              "1    0.391304  0.0  0.369216       0.0     0.0               0.0   \n",
              "2    1.000000  0.0  0.281560       0.0     1.0               0.0   \n",
              "3    0.608696  1.0  0.249685       0.6     0.0               0.0   \n",
              "4    0.021739  1.0  0.422340       0.0     1.0               0.0   \n",
              "..        ...  ...       ...       ...     ...               ...   \n",
              "263  0.978261  1.0  0.510974       0.0     1.0               0.0   \n",
              "264  0.869565  0.0  0.289529       0.0     0.0               0.0   \n",
              "265  0.434783  1.0  0.313435       0.2     0.0               1.0   \n",
              "266  0.782609  0.0  0.855445       0.0     1.0               0.0   \n",
              "267  0.717391  0.0  0.486090       0.2     0.0               0.0   \n",
              "\n",
              "     region_northwest  region_southeast  region_southwest  \n",
              "0                 0.0               0.0               0.0  \n",
              "1                 1.0               0.0               0.0  \n",
              "2                 1.0               0.0               0.0  \n",
              "3                 1.0               0.0               0.0  \n",
              "4                 1.0               0.0               0.0  \n",
              "..                ...               ...               ...  \n",
              "263               0.0               1.0               0.0  \n",
              "264               1.0               0.0               0.0  \n",
              "265               0.0               0.0               0.0  \n",
              "266               0.0               1.0               0.0  \n",
              "267               0.0               0.0               1.0  \n",
              "\n",
              "[268 rows x 9 columns]"
            ],
            "text/html": [
              "\n",
              "  <div id=\"df-6df4531f-0534-49a1-8b29-a58c32b2b30b\">\n",
              "    <div class=\"colab-df-container\">\n",
              "      <div>\n",
              "<style scoped>\n",
              "    .dataframe tbody tr th:only-of-type {\n",
              "        vertical-align: middle;\n",
              "    }\n",
              "\n",
              "    .dataframe tbody tr th {\n",
              "        vertical-align: top;\n",
              "    }\n",
              "\n",
              "    .dataframe thead th {\n",
              "        text-align: right;\n",
              "    }\n",
              "</style>\n",
              "<table border=\"1\" class=\"dataframe\">\n",
              "  <thead>\n",
              "    <tr style=\"text-align: right;\">\n",
              "      <th></th>\n",
              "      <th>age</th>\n",
              "      <th>sex</th>\n",
              "      <th>bmi</th>\n",
              "      <th>children</th>\n",
              "      <th>smoker</th>\n",
              "      <th>region_northeast</th>\n",
              "      <th>region_northwest</th>\n",
              "      <th>region_southeast</th>\n",
              "      <th>region_southwest</th>\n",
              "    </tr>\n",
              "  </thead>\n",
              "  <tbody>\n",
              "    <tr>\n",
              "      <th>0</th>\n",
              "      <td>0.586957</td>\n",
              "      <td>0.0</td>\n",
              "      <td>0.233748</td>\n",
              "      <td>0.4</td>\n",
              "      <td>0.0</td>\n",
              "      <td>1.0</td>\n",
              "      <td>0.0</td>\n",
              "      <td>0.0</td>\n",
              "      <td>0.0</td>\n",
              "    </tr>\n",
              "    <tr>\n",
              "      <th>1</th>\n",
              "      <td>0.391304</td>\n",
              "      <td>0.0</td>\n",
              "      <td>0.369216</td>\n",
              "      <td>0.0</td>\n",
              "      <td>0.0</td>\n",
              "      <td>0.0</td>\n",
              "      <td>1.0</td>\n",
              "      <td>0.0</td>\n",
              "      <td>0.0</td>\n",
              "    </tr>\n",
              "    <tr>\n",
              "      <th>2</th>\n",
              "      <td>1.000000</td>\n",
              "      <td>0.0</td>\n",
              "      <td>0.281560</td>\n",
              "      <td>0.0</td>\n",
              "      <td>1.0</td>\n",
              "      <td>0.0</td>\n",
              "      <td>1.0</td>\n",
              "      <td>0.0</td>\n",
              "      <td>0.0</td>\n",
              "    </tr>\n",
              "    <tr>\n",
              "      <th>3</th>\n",
              "      <td>0.608696</td>\n",
              "      <td>1.0</td>\n",
              "      <td>0.249685</td>\n",
              "      <td>0.6</td>\n",
              "      <td>0.0</td>\n",
              "      <td>0.0</td>\n",
              "      <td>1.0</td>\n",
              "      <td>0.0</td>\n",
              "      <td>0.0</td>\n",
              "    </tr>\n",
              "    <tr>\n",
              "      <th>4</th>\n",
              "      <td>0.021739</td>\n",
              "      <td>1.0</td>\n",
              "      <td>0.422340</td>\n",
              "      <td>0.0</td>\n",
              "      <td>1.0</td>\n",
              "      <td>0.0</td>\n",
              "      <td>1.0</td>\n",
              "      <td>0.0</td>\n",
              "      <td>0.0</td>\n",
              "    </tr>\n",
              "    <tr>\n",
              "      <th>...</th>\n",
              "      <td>...</td>\n",
              "      <td>...</td>\n",
              "      <td>...</td>\n",
              "      <td>...</td>\n",
              "      <td>...</td>\n",
              "      <td>...</td>\n",
              "      <td>...</td>\n",
              "      <td>...</td>\n",
              "      <td>...</td>\n",
              "    </tr>\n",
              "    <tr>\n",
              "      <th>263</th>\n",
              "      <td>0.978261</td>\n",
              "      <td>1.0</td>\n",
              "      <td>0.510974</td>\n",
              "      <td>0.0</td>\n",
              "      <td>1.0</td>\n",
              "      <td>0.0</td>\n",
              "      <td>0.0</td>\n",
              "      <td>1.0</td>\n",
              "      <td>0.0</td>\n",
              "    </tr>\n",
              "    <tr>\n",
              "      <th>264</th>\n",
              "      <td>0.869565</td>\n",
              "      <td>0.0</td>\n",
              "      <td>0.289529</td>\n",
              "      <td>0.0</td>\n",
              "      <td>0.0</td>\n",
              "      <td>0.0</td>\n",
              "      <td>1.0</td>\n",
              "      <td>0.0</td>\n",
              "      <td>0.0</td>\n",
              "    </tr>\n",
              "    <tr>\n",
              "      <th>265</th>\n",
              "      <td>0.434783</td>\n",
              "      <td>1.0</td>\n",
              "      <td>0.313435</td>\n",
              "      <td>0.2</td>\n",
              "      <td>0.0</td>\n",
              "      <td>1.0</td>\n",
              "      <td>0.0</td>\n",
              "      <td>0.0</td>\n",
              "      <td>0.0</td>\n",
              "    </tr>\n",
              "    <tr>\n",
              "      <th>266</th>\n",
              "      <td>0.782609</td>\n",
              "      <td>0.0</td>\n",
              "      <td>0.855445</td>\n",
              "      <td>0.0</td>\n",
              "      <td>1.0</td>\n",
              "      <td>0.0</td>\n",
              "      <td>0.0</td>\n",
              "      <td>1.0</td>\n",
              "      <td>0.0</td>\n",
              "    </tr>\n",
              "    <tr>\n",
              "      <th>267</th>\n",
              "      <td>0.717391</td>\n",
              "      <td>0.0</td>\n",
              "      <td>0.486090</td>\n",
              "      <td>0.2</td>\n",
              "      <td>0.0</td>\n",
              "      <td>0.0</td>\n",
              "      <td>0.0</td>\n",
              "      <td>0.0</td>\n",
              "      <td>1.0</td>\n",
              "    </tr>\n",
              "  </tbody>\n",
              "</table>\n",
              "<p>268 rows × 9 columns</p>\n",
              "</div>\n",
              "      <button class=\"colab-df-convert\" onclick=\"convertToInteractive('df-6df4531f-0534-49a1-8b29-a58c32b2b30b')\"\n",
              "              title=\"Convert this dataframe to an interactive table.\"\n",
              "              style=\"display:none;\">\n",
              "        \n",
              "  <svg xmlns=\"http://www.w3.org/2000/svg\" height=\"24px\"viewBox=\"0 0 24 24\"\n",
              "       width=\"24px\">\n",
              "    <path d=\"M0 0h24v24H0V0z\" fill=\"none\"/>\n",
              "    <path d=\"M18.56 5.44l.94 2.06.94-2.06 2.06-.94-2.06-.94-.94-2.06-.94 2.06-2.06.94zm-11 1L8.5 8.5l.94-2.06 2.06-.94-2.06-.94L8.5 2.5l-.94 2.06-2.06.94zm10 10l.94 2.06.94-2.06 2.06-.94-2.06-.94-.94-2.06-.94 2.06-2.06.94z\"/><path d=\"M17.41 7.96l-1.37-1.37c-.4-.4-.92-.59-1.43-.59-.52 0-1.04.2-1.43.59L10.3 9.45l-7.72 7.72c-.78.78-.78 2.05 0 2.83L4 21.41c.39.39.9.59 1.41.59.51 0 1.02-.2 1.41-.59l7.78-7.78 2.81-2.81c.8-.78.8-2.07 0-2.86zM5.41 20L4 18.59l7.72-7.72 1.47 1.35L5.41 20z\"/>\n",
              "  </svg>\n",
              "      </button>\n",
              "      \n",
              "  <style>\n",
              "    .colab-df-container {\n",
              "      display:flex;\n",
              "      flex-wrap:wrap;\n",
              "      gap: 12px;\n",
              "    }\n",
              "\n",
              "    .colab-df-convert {\n",
              "      background-color: #E8F0FE;\n",
              "      border: none;\n",
              "      border-radius: 50%;\n",
              "      cursor: pointer;\n",
              "      display: none;\n",
              "      fill: #1967D2;\n",
              "      height: 32px;\n",
              "      padding: 0 0 0 0;\n",
              "      width: 32px;\n",
              "    }\n",
              "\n",
              "    .colab-df-convert:hover {\n",
              "      background-color: #E2EBFA;\n",
              "      box-shadow: 0px 1px 2px rgba(60, 64, 67, 0.3), 0px 1px 3px 1px rgba(60, 64, 67, 0.15);\n",
              "      fill: #174EA6;\n",
              "    }\n",
              "\n",
              "    [theme=dark] .colab-df-convert {\n",
              "      background-color: #3B4455;\n",
              "      fill: #D2E3FC;\n",
              "    }\n",
              "\n",
              "    [theme=dark] .colab-df-convert:hover {\n",
              "      background-color: #434B5C;\n",
              "      box-shadow: 0px 1px 3px 1px rgba(0, 0, 0, 0.15);\n",
              "      filter: drop-shadow(0px 1px 2px rgba(0, 0, 0, 0.3));\n",
              "      fill: #FFFFFF;\n",
              "    }\n",
              "  </style>\n",
              "\n",
              "      <script>\n",
              "        const buttonEl =\n",
              "          document.querySelector('#df-6df4531f-0534-49a1-8b29-a58c32b2b30b button.colab-df-convert');\n",
              "        buttonEl.style.display =\n",
              "          google.colab.kernel.accessAllowed ? 'block' : 'none';\n",
              "\n",
              "        async function convertToInteractive(key) {\n",
              "          const element = document.querySelector('#df-6df4531f-0534-49a1-8b29-a58c32b2b30b');\n",
              "          const dataTable =\n",
              "            await google.colab.kernel.invokeFunction('convertToInteractive',\n",
              "                                                     [key], {});\n",
              "          if (!dataTable) return;\n",
              "\n",
              "          const docLinkHtml = 'Like what you see? Visit the ' +\n",
              "            '<a target=\"_blank\" href=https://colab.research.google.com/notebooks/data_table.ipynb>data table notebook</a>'\n",
              "            + ' to learn more about interactive tables.';\n",
              "          element.innerHTML = '';\n",
              "          dataTable['output_type'] = 'display_data';\n",
              "          await google.colab.output.renderOutput(dataTable, element);\n",
              "          const docLink = document.createElement('div');\n",
              "          docLink.innerHTML = docLinkHtml;\n",
              "          element.appendChild(docLink);\n",
              "        }\n",
              "      </script>\n",
              "    </div>\n",
              "  </div>\n",
              "  "
            ]
          },
          "metadata": {},
          "execution_count": 35
        }
      ]
    },
    {
      "cell_type": "markdown",
      "source": [
        "# Birkaç Regresyon Modeli Seçilip Denenmesi"
      ],
      "metadata": {
        "id": "hsRNnTc6UWco"
      }
    },
    {
      "cell_type": "code",
      "source": [
        "from sklearn.linear_model import LinearRegression"
      ],
      "metadata": {
        "id": "onqyYCqwvxR1"
      },
      "execution_count": 36,
      "outputs": []
    },
    {
      "cell_type": "code",
      "source": [
        "#Lineer Regresyon\n",
        "lin_reg = LinearRegression()\n",
        "lin_reg.fit(X_train,y_train)\n",
        "y_pred = lin_reg.predict(X_test)\n",
        "y_pred"
      ],
      "metadata": {
        "id": "ZKZoejA-w5Bj",
        "colab": {
          "base_uri": "https://localhost:8080/"
        },
        "outputId": "97e626f7-a19c-48c1-8f2e-b711ef861339"
      },
      "execution_count": 37,
      "outputs": [
        {
          "output_type": "execute_result",
          "data": {
            "text/plain": [
              "array([ 8800.,  7008., 36736.,  9296., 26912., 10864.,     0., 16960.,\n",
              "         800., 11104., 27776.,  9312.,  5136., 38432., 40272., 37072.,\n",
              "       15312., 35872.,  8960., 31344.,  3520.,  9968.,  2176.,  7200.,\n",
              "       11200., 12912., 14416.,  6096.,  9808.,  2048.,  8896., 13056.,\n",
              "        4512.,  3168.,  4256., 13088.,  1744.,  8624., 33104., 32512.,\n",
              "        3664.,  4272., 14048., 11280.,  8720., 11872.,  5264.,  2864.,\n",
              "       35408.,  9136., 15824.,  2192., 12480.,  1312., 13328., 12496.,\n",
              "        4160., 32128., 13200., 12864., 14032., 10576., 16256.,  7616.,\n",
              "       11760.,  3936., 26336., 10720.,  1952.,  6160., 10736., 11568.,\n",
              "       10912.,  9056., 11936.,  6624.,  7168., 10624.,  6496.,  8496.,\n",
              "        3680., 36464.,  6192., 30816., 35040., 35184.,  6880., 12832.,\n",
              "        9888., 14368., 17728., 35024., 32864.,  6032., 31936.,  9312.,\n",
              "       29264.,  3600., 28112.,  5616.,  5328.,  1696., 11536., 14960.,\n",
              "       11504.,  4240.,  9760., 31408.,  -320., 32560.,  3136., 10304.,\n",
              "       14272., 31552., 11376.,  3776., 12992., 31552.,  8032.,  3120.,\n",
              "        8400., 10576., 15248.,  5600.,  3616., 10208., 10864., 11008.,\n",
              "       14400.,  7488.,  5248.,  9136.,  9296., 12576.,  8208., 15248.,\n",
              "        8384., 31584., 35856., 31504.,  5904., 12576.,  5968., 14608.,\n",
              "        2288., 32672.,  6144.,  4848., 14368.,  6752., 38688.,  3008.,\n",
              "        5920., 31616., 11664.,  8448., 14736.,  9680., 27008., 33360.,\n",
              "       14480.,  1552., 12896.,  2032.,  5280., 11536., 39744., 36448.,\n",
              "       33888.,  3728.,  7136.,  8512., 12544.,  4672.,  1824., 31888.,\n",
              "       24864., 17520., 26128., 10000., 37120.,  -752.,  6544.,  7664.,\n",
              "        4128.,  5104.,  5808.,  4096., 15312., 11024.,  6832.,  2416.,\n",
              "        1344., 31824., 16432., 11968.,  1120., 12416.,  1408.,  8496.,\n",
              "        1696., 33792., 10928.,  2480., 25472., 26128.,  9312.,  1584.,\n",
              "       13296.,   784., 10064., 10352., 17120., 26640.,  6720.,  5072.,\n",
              "        5696., 13056., 10896.,  8304.,  5168., 12384., 13968., 35728.,\n",
              "        4112., 28784., -1232.,  2816., 10912., 15712.,  5184.,  6656.,\n",
              "        3584., 31072.,  7008., 12384.,  5552.,  9408., 36320.,  4352.,\n",
              "        9408., 31024.,  5760.,  4480.,   896.,  4784.,  4352.,  6336.,\n",
              "       18768., -1808.,  2192., 10560.,  2912., 10000.,  3696.,  5040.,\n",
              "       12192.,  6208.,  8016.,  7488.,  8832., 10288., 27648., 38992.,\n",
              "       11664.,  7552., 41056., 12208.])"
            ]
          },
          "metadata": {},
          "execution_count": 37
        }
      ]
    },
    {
      "cell_type": "code",
      "source": [
        "from sklearn import metrics\n",
        "from sklearn.metrics import r2_score\n",
        "print('MAE: ',metrics.mean_absolute_error(y_test,y_pred))\n",
        "print('MSE: ',metrics.mean_squared_error(y_test,y_pred))\n",
        "print(\"r2 score: \",r2_score(y_test,y_pred))"
      ],
      "metadata": {
        "colab": {
          "base_uri": "https://localhost:8080/"
        },
        "id": "VLmMVTkh7WKo",
        "outputId": "1a49060d-403e-47ed-a58b-d9e337d34c5a"
      },
      "execution_count": 38,
      "outputs": [
        {
          "output_type": "stream",
          "name": "stdout",
          "text": [
            "MAE:  4180.7536169738805\n",
            "MSE:  33571173.58547557\n",
            "r2 score:  0.783758789763416\n"
          ]
        }
      ]
    },
    {
      "cell_type": "code",
      "source": [
        "# XGBoost Regresyon\n",
        "from xgboost import XGBRegressor \n",
        "model = XGBRegressor()\n",
        "model.fit(X_train,y_train)\n",
        "pred_xg = model.predict(X_test)\n",
        "print('MAE: ',metrics.mean_absolute_error(y_test,pred_xg))\n",
        "print('MSE: ',metrics.mean_squared_error(y_test,pred_xg))\n",
        "print(\"r2 score: \",r2_score(y_test,pred_xg))"
      ],
      "metadata": {
        "colab": {
          "base_uri": "https://localhost:8080/"
        },
        "id": "mJIMaL1I-3Bn",
        "outputId": "4f3a2426-715a-4993-d8b7-df59717be601"
      },
      "execution_count": 39,
      "outputs": [
        {
          "output_type": "stream",
          "name": "stdout",
          "text": [
            "[17:26:43] WARNING: /workspace/src/objective/regression_obj.cu:152: reg:linear is now deprecated in favor of reg:squarederror.\n",
            "MAE:  2361.1937241632754\n",
            "MSE:  17978893.509561498\n",
            "r2 score:  0.8841929764140186\n"
          ]
        }
      ]
    },
    {
      "cell_type": "code",
      "source": [
        "# Support Vector Machine Regresyon\n",
        "from sklearn.svm import SVR\n",
        "svr = SVR().fit(X_train, y_train)\n",
        "pred_svr=svr.predict(X_test)\n",
        "print('MAE: ',metrics.mean_absolute_error(y_test,pred_svr))\n",
        "print('MSE: ',metrics.mean_squared_error(y_test,pred_svr))\n",
        "print(\"r2 score: \",r2_score(y_test,pred_svr))"
      ],
      "metadata": {
        "colab": {
          "base_uri": "https://localhost:8080/"
        },
        "id": "J7-nemKy_UqU",
        "outputId": "34204856-c78c-4183-967e-d734dd463bbf"
      },
      "execution_count": 40,
      "outputs": [
        {
          "output_type": "stream",
          "name": "stdout",
          "text": [
            "MAE:  8618.386481299132\n",
            "MSE:  166118204.62935895\n",
            "r2 score:  -0.07001328148153929\n"
          ]
        }
      ]
    },
    {
      "cell_type": "code",
      "source": [
        "# Random Forest Regresyon\n",
        "from sklearn.ensemble import RandomForestRegressor\n",
        "rf_reg=RandomForestRegressor(n_estimators=10,random_state=42)\n",
        "rf_reg.fit(X_train,y_train)\n",
        "pred_rf = rf_reg.predict(X_test)\n",
        "print('MAE: ',metrics.mean_absolute_error(y_test,pred_rf))\n",
        "print('MSE: ',metrics.mean_squared_error(y_test,pred_rf))\n",
        "print(\"r2 score: \",r2_score(y_test,pred_rf))"
      ],
      "metadata": {
        "colab": {
          "base_uri": "https://localhost:8080/"
        },
        "id": "swBKmqbAAoR8",
        "outputId": "f5054329-301d-452e-ab82-47d43e56d01a"
      },
      "execution_count": 41,
      "outputs": [
        {
          "output_type": "stream",
          "name": "stdout",
          "text": [
            "MAE:  2544.828681379975\n",
            "MSE:  21420593.36360628\n",
            "r2 score:  0.8620240361529695\n"
          ]
        }
      ]
    },
    {
      "cell_type": "code",
      "source": [
        "import lightgbm as ltb\n",
        "ltb_model = ltb.LGBMRegressor()\n",
        "ltb_model.fit(X_train,y_train)\n",
        "pred_ltb = ltb_model.predict(X_test)\n",
        "print('MAE: ',metrics.mean_absolute_error(y_test,pred_ltb))\n",
        "print('MSE: ',metrics.mean_squared_error(y_test,pred_ltb))\n",
        "print(\"r2 score: \",r2_score(y_test,pred_ltb))"
      ],
      "metadata": {
        "colab": {
          "base_uri": "https://localhost:8080/"
        },
        "id": "xNukO_gvXbLy",
        "outputId": "d0aa8f37-1f00-4ffb-9331-4d1eaa456d48"
      },
      "execution_count": 53,
      "outputs": [
        {
          "output_type": "stream",
          "name": "stdout",
          "text": [
            "MAE:  2577.0548943228073\n",
            "MSE:  20777360.762430202\n",
            "r2 score:  0.8661672751668752\n"
          ]
        }
      ]
    },
    {
      "cell_type": "code",
      "source": [
        "!pip install catboost\n",
        "import catboost as cb\n",
        "cb_model = cb.CatBoostRegressor(loss_function=\"RMSE\")\n",
        "cb_model.fit(X_train,y_train)\n",
        "pred_cb = cb_model.predict(X_test)\n",
        "print('MAE: ',metrics.mean_absolute_error(y_test,pred_cb))\n",
        "print('MSE: ',metrics.mean_squared_error(y_test,pred_cb))\n",
        "print(\"r2 score: \",r2_score(y_test,pred_cb))"
      ],
      "metadata": {
        "colab": {
          "base_uri": "https://localhost:8080/"
        },
        "id": "OisHm96FXbYo",
        "outputId": "c6c53e4a-a0c7-4a14-a58b-2edc5906a8b9"
      },
      "execution_count": 56,
      "outputs": [
        {
          "output_type": "stream",
          "name": "stdout",
          "text": [
            "Looking in indexes: https://pypi.org/simple, https://us-python.pkg.dev/colab-wheels/public/simple/\n",
            "Requirement already satisfied: catboost in /usr/local/lib/python3.7/dist-packages (1.0.6)\n",
            "Requirement already satisfied: matplotlib in /usr/local/lib/python3.7/dist-packages (from catboost) (3.2.2)\n",
            "Requirement already satisfied: scipy in /usr/local/lib/python3.7/dist-packages (from catboost) (1.7.3)\n",
            "Requirement already satisfied: plotly in /usr/local/lib/python3.7/dist-packages (from catboost) (5.5.0)\n",
            "Requirement already satisfied: pandas>=0.24.0 in /usr/local/lib/python3.7/dist-packages (from catboost) (1.3.5)\n",
            "Requirement already satisfied: graphviz in /usr/local/lib/python3.7/dist-packages (from catboost) (0.10.1)\n",
            "Requirement already satisfied: six in /usr/local/lib/python3.7/dist-packages (from catboost) (1.15.0)\n",
            "Requirement already satisfied: numpy>=1.16.0 in /usr/local/lib/python3.7/dist-packages (from catboost) (1.21.6)\n",
            "Requirement already satisfied: python-dateutil>=2.7.3 in /usr/local/lib/python3.7/dist-packages (from pandas>=0.24.0->catboost) (2.8.2)\n",
            "Requirement already satisfied: pytz>=2017.3 in /usr/local/lib/python3.7/dist-packages (from pandas>=0.24.0->catboost) (2022.2.1)\n",
            "Requirement already satisfied: pyparsing!=2.0.4,!=2.1.2,!=2.1.6,>=2.0.1 in /usr/local/lib/python3.7/dist-packages (from matplotlib->catboost) (3.0.9)\n",
            "Requirement already satisfied: cycler>=0.10 in /usr/local/lib/python3.7/dist-packages (from matplotlib->catboost) (0.11.0)\n",
            "Requirement already satisfied: kiwisolver>=1.0.1 in /usr/local/lib/python3.7/dist-packages (from matplotlib->catboost) (1.4.4)\n",
            "Requirement already satisfied: typing-extensions in /usr/local/lib/python3.7/dist-packages (from kiwisolver>=1.0.1->matplotlib->catboost) (4.1.1)\n",
            "Requirement already satisfied: tenacity>=6.2.0 in /usr/local/lib/python3.7/dist-packages (from plotly->catboost) (8.0.1)\n",
            "Learning rate set to 0.041383\n",
            "0:\tlearn: 11634.8090716\ttotal: 896us\tremaining: 896ms\n",
            "1:\tlearn: 11306.5503133\ttotal: 2.33ms\tremaining: 1.16s\n",
            "2:\tlearn: 10983.8009443\ttotal: 3.59ms\tremaining: 1.19s\n",
            "3:\tlearn: 10652.7732592\ttotal: 5.12ms\tremaining: 1.27s\n",
            "4:\tlearn: 10360.5046413\ttotal: 6.43ms\tremaining: 1.28s\n",
            "5:\tlearn: 10060.7006045\ttotal: 10.2ms\tremaining: 1.68s\n",
            "6:\tlearn: 9781.5058712\ttotal: 11.4ms\tremaining: 1.61s\n",
            "7:\tlearn: 9518.8176570\ttotal: 14.2ms\tremaining: 1.76s\n",
            "8:\tlearn: 9258.3261792\ttotal: 16ms\tremaining: 1.76s\n",
            "9:\tlearn: 9014.2867582\ttotal: 18.4ms\tremaining: 1.82s\n",
            "10:\tlearn: 8786.0158803\ttotal: 20.8ms\tremaining: 1.87s\n",
            "11:\tlearn: 8549.8811049\ttotal: 23ms\tremaining: 1.89s\n",
            "12:\tlearn: 8343.7127118\ttotal: 26.1ms\tremaining: 1.98s\n",
            "13:\tlearn: 8134.5658705\ttotal: 27.9ms\tremaining: 1.97s\n",
            "14:\tlearn: 7939.9606544\ttotal: 30.2ms\tremaining: 1.99s\n",
            "15:\tlearn: 7752.1026674\ttotal: 32.7ms\tremaining: 2.01s\n",
            "16:\tlearn: 7581.6813852\ttotal: 34.7ms\tremaining: 2.01s\n",
            "17:\tlearn: 7412.0448907\ttotal: 36.7ms\tremaining: 2s\n",
            "18:\tlearn: 7256.5402420\ttotal: 38.9ms\tremaining: 2.01s\n",
            "19:\tlearn: 7100.3457696\ttotal: 41.3ms\tremaining: 2.02s\n",
            "20:\tlearn: 6949.2950706\ttotal: 43.5ms\tremaining: 2.03s\n",
            "21:\tlearn: 6809.8197897\ttotal: 45.6ms\tremaining: 2.03s\n",
            "22:\tlearn: 6689.3242849\ttotal: 48.2ms\tremaining: 2.05s\n",
            "23:\tlearn: 6564.0047875\ttotal: 50.6ms\tremaining: 2.06s\n",
            "24:\tlearn: 6452.2219105\ttotal: 52.4ms\tremaining: 2.04s\n",
            "25:\tlearn: 6339.9313510\ttotal: 54.3ms\tremaining: 2.04s\n",
            "26:\tlearn: 6231.8004677\ttotal: 57.8ms\tremaining: 2.08s\n",
            "27:\tlearn: 6128.8446018\ttotal: 58.8ms\tremaining: 2.04s\n",
            "28:\tlearn: 6039.0375821\ttotal: 60.3ms\tremaining: 2.02s\n",
            "29:\tlearn: 5945.7528127\ttotal: 62ms\tremaining: 2s\n",
            "30:\tlearn: 5850.0902647\ttotal: 63.7ms\tremaining: 1.99s\n",
            "31:\tlearn: 5768.1528026\ttotal: 65.3ms\tremaining: 1.97s\n",
            "32:\tlearn: 5690.6078099\ttotal: 66.4ms\tremaining: 1.95s\n",
            "33:\tlearn: 5615.8926918\ttotal: 67.6ms\tremaining: 1.92s\n",
            "34:\tlearn: 5545.3840690\ttotal: 69.1ms\tremaining: 1.9s\n",
            "35:\tlearn: 5477.9615671\ttotal: 70.6ms\tremaining: 1.89s\n",
            "36:\tlearn: 5413.6738746\ttotal: 72ms\tremaining: 1.87s\n",
            "37:\tlearn: 5352.0334007\ttotal: 73.3ms\tremaining: 1.85s\n",
            "38:\tlearn: 5296.0227151\ttotal: 74.6ms\tremaining: 1.84s\n",
            "39:\tlearn: 5244.1077886\ttotal: 75.6ms\tremaining: 1.81s\n",
            "40:\tlearn: 5194.2851208\ttotal: 76.5ms\tremaining: 1.79s\n",
            "41:\tlearn: 5160.4858291\ttotal: 77.3ms\tremaining: 1.76s\n",
            "42:\tlearn: 5108.1341598\ttotal: 78.6ms\tremaining: 1.75s\n",
            "43:\tlearn: 5065.5309040\ttotal: 79.9ms\tremaining: 1.74s\n",
            "44:\tlearn: 5023.7414133\ttotal: 81.3ms\tremaining: 1.73s\n",
            "45:\tlearn: 4978.5395160\ttotal: 82.6ms\tremaining: 1.71s\n",
            "46:\tlearn: 4939.4590730\ttotal: 83.7ms\tremaining: 1.7s\n",
            "47:\tlearn: 4910.9265064\ttotal: 84.5ms\tremaining: 1.68s\n",
            "48:\tlearn: 4875.7997505\ttotal: 85.8ms\tremaining: 1.67s\n",
            "49:\tlearn: 4850.7323585\ttotal: 86.7ms\tremaining: 1.65s\n",
            "50:\tlearn: 4816.3128652\ttotal: 88ms\tremaining: 1.64s\n",
            "51:\tlearn: 4787.8913380\ttotal: 89.4ms\tremaining: 1.63s\n",
            "52:\tlearn: 4762.2332558\ttotal: 90.7ms\tremaining: 1.62s\n",
            "53:\tlearn: 4738.2657170\ttotal: 92ms\tremaining: 1.61s\n",
            "54:\tlearn: 4710.8394708\ttotal: 93.3ms\tremaining: 1.6s\n",
            "55:\tlearn: 4685.8251064\ttotal: 94.6ms\tremaining: 1.59s\n",
            "56:\tlearn: 4664.1819639\ttotal: 96.2ms\tremaining: 1.59s\n",
            "57:\tlearn: 4645.3894829\ttotal: 99.2ms\tremaining: 1.61s\n",
            "58:\tlearn: 4624.3989521\ttotal: 101ms\tremaining: 1.61s\n",
            "59:\tlearn: 4606.9886843\ttotal: 104ms\tremaining: 1.63s\n",
            "60:\tlearn: 4594.9601353\ttotal: 105ms\tremaining: 1.61s\n",
            "61:\tlearn: 4578.9030725\ttotal: 106ms\tremaining: 1.6s\n",
            "62:\tlearn: 4566.8690032\ttotal: 107ms\tremaining: 1.59s\n",
            "63:\tlearn: 4552.6735219\ttotal: 108ms\tremaining: 1.58s\n",
            "64:\tlearn: 4539.3697942\ttotal: 110ms\tremaining: 1.57s\n",
            "65:\tlearn: 4526.5989629\ttotal: 112ms\tremaining: 1.59s\n",
            "66:\tlearn: 4512.6084572\ttotal: 113ms\tremaining: 1.58s\n",
            "67:\tlearn: 4500.0334419\ttotal: 115ms\tremaining: 1.57s\n",
            "68:\tlearn: 4486.9284601\ttotal: 116ms\tremaining: 1.57s\n",
            "69:\tlearn: 4475.1543494\ttotal: 118ms\tremaining: 1.56s\n",
            "70:\tlearn: 4462.1928875\ttotal: 119ms\tremaining: 1.55s\n",
            "71:\tlearn: 4450.6633464\ttotal: 120ms\tremaining: 1.55s\n",
            "72:\tlearn: 4439.1913388\ttotal: 121ms\tremaining: 1.54s\n",
            "73:\tlearn: 4426.5032075\ttotal: 123ms\tremaining: 1.53s\n",
            "74:\tlearn: 4416.0093925\ttotal: 124ms\tremaining: 1.53s\n",
            "75:\tlearn: 4407.5507764\ttotal: 125ms\tremaining: 1.52s\n",
            "76:\tlearn: 4395.5577283\ttotal: 127ms\tremaining: 1.52s\n",
            "77:\tlearn: 4387.0439705\ttotal: 128ms\tremaining: 1.51s\n",
            "78:\tlearn: 4377.9651214\ttotal: 129ms\tremaining: 1.5s\n",
            "79:\tlearn: 4368.0288276\ttotal: 130ms\tremaining: 1.5s\n",
            "80:\tlearn: 4359.6080973\ttotal: 132ms\tremaining: 1.5s\n",
            "81:\tlearn: 4349.2647919\ttotal: 133ms\tremaining: 1.49s\n",
            "82:\tlearn: 4344.3903593\ttotal: 134ms\tremaining: 1.48s\n",
            "83:\tlearn: 4336.3064272\ttotal: 135ms\tremaining: 1.47s\n",
            "84:\tlearn: 4327.6642258\ttotal: 137ms\tremaining: 1.47s\n",
            "85:\tlearn: 4320.2742096\ttotal: 138ms\tremaining: 1.47s\n",
            "86:\tlearn: 4314.0770837\ttotal: 139ms\tremaining: 1.46s\n",
            "87:\tlearn: 4309.4285931\ttotal: 141ms\tremaining: 1.46s\n",
            "88:\tlearn: 4304.9233078\ttotal: 142ms\tremaining: 1.45s\n",
            "89:\tlearn: 4298.9716530\ttotal: 143ms\tremaining: 1.45s\n",
            "90:\tlearn: 4295.6949933\ttotal: 144ms\tremaining: 1.44s\n",
            "91:\tlearn: 4290.2659567\ttotal: 146ms\tremaining: 1.44s\n",
            "92:\tlearn: 4283.4403985\ttotal: 147ms\tremaining: 1.43s\n",
            "93:\tlearn: 4279.3372064\ttotal: 148ms\tremaining: 1.43s\n",
            "94:\tlearn: 4276.4135776\ttotal: 150ms\tremaining: 1.42s\n",
            "95:\tlearn: 4271.2996769\ttotal: 151ms\tremaining: 1.42s\n",
            "96:\tlearn: 4266.8720997\ttotal: 152ms\tremaining: 1.42s\n",
            "97:\tlearn: 4262.4764366\ttotal: 153ms\tremaining: 1.41s\n",
            "98:\tlearn: 4259.1392069\ttotal: 155ms\tremaining: 1.41s\n",
            "99:\tlearn: 4254.3542491\ttotal: 156ms\tremaining: 1.4s\n",
            "100:\tlearn: 4249.8706400\ttotal: 157ms\tremaining: 1.4s\n",
            "101:\tlearn: 4245.1116989\ttotal: 159ms\tremaining: 1.4s\n",
            "102:\tlearn: 4240.5485059\ttotal: 160ms\tremaining: 1.39s\n",
            "103:\tlearn: 4237.2029548\ttotal: 161ms\tremaining: 1.39s\n",
            "104:\tlearn: 4230.5945377\ttotal: 162ms\tremaining: 1.38s\n",
            "105:\tlearn: 4226.0775024\ttotal: 164ms\tremaining: 1.38s\n",
            "106:\tlearn: 4221.4247352\ttotal: 165ms\tremaining: 1.38s\n",
            "107:\tlearn: 4218.2907014\ttotal: 166ms\tremaining: 1.37s\n",
            "108:\tlearn: 4214.3206370\ttotal: 169ms\tremaining: 1.38s\n",
            "109:\tlearn: 4210.1966657\ttotal: 170ms\tremaining: 1.38s\n",
            "110:\tlearn: 4205.9329702\ttotal: 175ms\tremaining: 1.4s\n",
            "111:\tlearn: 4200.1849682\ttotal: 176ms\tremaining: 1.4s\n",
            "112:\tlearn: 4197.2528898\ttotal: 178ms\tremaining: 1.4s\n",
            "113:\tlearn: 4193.5227394\ttotal: 179ms\tremaining: 1.39s\n",
            "114:\tlearn: 4186.9503133\ttotal: 181ms\tremaining: 1.39s\n",
            "115:\tlearn: 4183.1073592\ttotal: 182ms\tremaining: 1.39s\n",
            "116:\tlearn: 4180.2208781\ttotal: 183ms\tremaining: 1.38s\n",
            "117:\tlearn: 4176.6458691\ttotal: 185ms\tremaining: 1.38s\n",
            "118:\tlearn: 4172.3478554\ttotal: 186ms\tremaining: 1.38s\n",
            "119:\tlearn: 4164.3169684\ttotal: 187ms\tremaining: 1.37s\n",
            "120:\tlearn: 4161.0370352\ttotal: 189ms\tremaining: 1.37s\n",
            "121:\tlearn: 4156.2905262\ttotal: 190ms\tremaining: 1.37s\n",
            "122:\tlearn: 4151.6883360\ttotal: 191ms\tremaining: 1.36s\n",
            "123:\tlearn: 4149.2585106\ttotal: 192ms\tremaining: 1.36s\n",
            "124:\tlearn: 4143.4222864\ttotal: 194ms\tremaining: 1.36s\n",
            "125:\tlearn: 4140.3433653\ttotal: 195ms\tremaining: 1.35s\n",
            "126:\tlearn: 4136.0121836\ttotal: 196ms\tremaining: 1.35s\n",
            "127:\tlearn: 4130.6383375\ttotal: 198ms\tremaining: 1.35s\n",
            "128:\tlearn: 4125.1432823\ttotal: 199ms\tremaining: 1.34s\n",
            "129:\tlearn: 4120.4754326\ttotal: 200ms\tremaining: 1.34s\n",
            "130:\tlearn: 4119.0716040\ttotal: 201ms\tremaining: 1.34s\n",
            "131:\tlearn: 4113.5218863\ttotal: 203ms\tremaining: 1.33s\n",
            "132:\tlearn: 4107.4311568\ttotal: 204ms\tremaining: 1.33s\n",
            "133:\tlearn: 4106.6906544\ttotal: 205ms\tremaining: 1.32s\n",
            "134:\tlearn: 4104.9737505\ttotal: 206ms\tremaining: 1.32s\n",
            "135:\tlearn: 4100.4706483\ttotal: 208ms\tremaining: 1.32s\n",
            "136:\tlearn: 4096.5762642\ttotal: 209ms\tremaining: 1.31s\n",
            "137:\tlearn: 4094.2286796\ttotal: 210ms\tremaining: 1.31s\n",
            "138:\tlearn: 4091.5727846\ttotal: 211ms\tremaining: 1.31s\n",
            "139:\tlearn: 4087.1042246\ttotal: 212ms\tremaining: 1.3s\n",
            "140:\tlearn: 4079.8714242\ttotal: 214ms\tremaining: 1.3s\n",
            "141:\tlearn: 4071.5328722\ttotal: 215ms\tremaining: 1.3s\n",
            "142:\tlearn: 4070.2535191\ttotal: 216ms\tremaining: 1.3s\n",
            "143:\tlearn: 4066.6448526\ttotal: 218ms\tremaining: 1.29s\n",
            "144:\tlearn: 4063.7232686\ttotal: 219ms\tremaining: 1.29s\n",
            "145:\tlearn: 4060.4309724\ttotal: 220ms\tremaining: 1.29s\n",
            "146:\tlearn: 4058.0551536\ttotal: 222ms\tremaining: 1.28s\n",
            "147:\tlearn: 4055.6957598\ttotal: 223ms\tremaining: 1.28s\n",
            "148:\tlearn: 4053.9762751\ttotal: 224ms\tremaining: 1.28s\n",
            "149:\tlearn: 4049.7282859\ttotal: 225ms\tremaining: 1.28s\n",
            "150:\tlearn: 4046.1254035\ttotal: 227ms\tremaining: 1.27s\n",
            "151:\tlearn: 4041.3953686\ttotal: 228ms\tremaining: 1.27s\n",
            "152:\tlearn: 4038.9987440\ttotal: 229ms\tremaining: 1.27s\n",
            "153:\tlearn: 4038.0640207\ttotal: 230ms\tremaining: 1.26s\n",
            "154:\tlearn: 4035.5456105\ttotal: 232ms\tremaining: 1.26s\n",
            "155:\tlearn: 4033.0813390\ttotal: 233ms\tremaining: 1.26s\n",
            "156:\tlearn: 4030.8972261\ttotal: 235ms\tremaining: 1.26s\n",
            "157:\tlearn: 4027.6953239\ttotal: 236ms\tremaining: 1.26s\n",
            "158:\tlearn: 4024.1187405\ttotal: 237ms\tremaining: 1.25s\n",
            "159:\tlearn: 4022.0108647\ttotal: 238ms\tremaining: 1.25s\n",
            "160:\tlearn: 4020.2458442\ttotal: 240ms\tremaining: 1.25s\n",
            "161:\tlearn: 4016.9774822\ttotal: 241ms\tremaining: 1.25s\n",
            "162:\tlearn: 4014.6211734\ttotal: 242ms\tremaining: 1.24s\n",
            "163:\tlearn: 4010.6406140\ttotal: 244ms\tremaining: 1.24s\n",
            "164:\tlearn: 4007.7858024\ttotal: 245ms\tremaining: 1.24s\n",
            "165:\tlearn: 4005.9022636\ttotal: 246ms\tremaining: 1.24s\n",
            "166:\tlearn: 4001.8067517\ttotal: 247ms\tremaining: 1.23s\n",
            "167:\tlearn: 3998.8691303\ttotal: 249ms\tremaining: 1.23s\n",
            "168:\tlearn: 3997.0051605\ttotal: 250ms\tremaining: 1.23s\n",
            "169:\tlearn: 3995.0471096\ttotal: 251ms\tremaining: 1.23s\n",
            "170:\tlearn: 3992.0915089\ttotal: 253ms\tremaining: 1.22s\n",
            "171:\tlearn: 3987.9935029\ttotal: 254ms\tremaining: 1.22s\n",
            "172:\tlearn: 3985.3783672\ttotal: 255ms\tremaining: 1.22s\n",
            "173:\tlearn: 3982.2559985\ttotal: 257ms\tremaining: 1.22s\n",
            "174:\tlearn: 3980.6152628\ttotal: 258ms\tremaining: 1.22s\n",
            "175:\tlearn: 3976.1566092\ttotal: 259ms\tremaining: 1.21s\n",
            "176:\tlearn: 3972.5180521\ttotal: 260ms\tremaining: 1.21s\n",
            "177:\tlearn: 3971.3056430\ttotal: 262ms\tremaining: 1.21s\n",
            "178:\tlearn: 3969.5500032\ttotal: 263ms\tremaining: 1.21s\n",
            "179:\tlearn: 3967.9043921\ttotal: 264ms\tremaining: 1.2s\n",
            "180:\tlearn: 3965.5683542\ttotal: 266ms\tremaining: 1.2s\n",
            "181:\tlearn: 3962.0929709\ttotal: 267ms\tremaining: 1.2s\n",
            "182:\tlearn: 3956.6218592\ttotal: 268ms\tremaining: 1.2s\n",
            "183:\tlearn: 3954.1615852\ttotal: 269ms\tremaining: 1.19s\n",
            "184:\tlearn: 3953.0742757\ttotal: 271ms\tremaining: 1.19s\n",
            "185:\tlearn: 3950.9100974\ttotal: 272ms\tremaining: 1.19s\n",
            "186:\tlearn: 3947.7196776\ttotal: 273ms\tremaining: 1.19s\n",
            "187:\tlearn: 3946.0931810\ttotal: 275ms\tremaining: 1.19s\n",
            "188:\tlearn: 3942.8733548\ttotal: 276ms\tremaining: 1.18s\n",
            "189:\tlearn: 3941.7256394\ttotal: 277ms\tremaining: 1.18s\n",
            "190:\tlearn: 3938.8018237\ttotal: 279ms\tremaining: 1.18s\n",
            "191:\tlearn: 3936.5310455\ttotal: 280ms\tremaining: 1.18s\n",
            "192:\tlearn: 3935.4497152\ttotal: 281ms\tremaining: 1.18s\n",
            "193:\tlearn: 3933.1221759\ttotal: 283ms\tremaining: 1.17s\n",
            "194:\tlearn: 3928.3063530\ttotal: 284ms\tremaining: 1.17s\n",
            "195:\tlearn: 3926.3436362\ttotal: 285ms\tremaining: 1.17s\n",
            "196:\tlearn: 3922.8936803\ttotal: 287ms\tremaining: 1.17s\n",
            "197:\tlearn: 3920.6331763\ttotal: 288ms\tremaining: 1.17s\n",
            "198:\tlearn: 3918.3210502\ttotal: 289ms\tremaining: 1.16s\n",
            "199:\tlearn: 3914.4206719\ttotal: 290ms\tremaining: 1.16s\n",
            "200:\tlearn: 3911.8549151\ttotal: 292ms\tremaining: 1.16s\n",
            "201:\tlearn: 3907.1043988\ttotal: 293ms\tremaining: 1.16s\n",
            "202:\tlearn: 3904.1719536\ttotal: 294ms\tremaining: 1.16s\n",
            "203:\tlearn: 3901.6667596\ttotal: 296ms\tremaining: 1.15s\n",
            "204:\tlearn: 3898.7303991\ttotal: 297ms\tremaining: 1.15s\n",
            "205:\tlearn: 3893.1557383\ttotal: 298ms\tremaining: 1.15s\n",
            "206:\tlearn: 3891.2009596\ttotal: 300ms\tremaining: 1.15s\n",
            "207:\tlearn: 3888.3821811\ttotal: 301ms\tremaining: 1.15s\n",
            "208:\tlearn: 3885.3860339\ttotal: 302ms\tremaining: 1.14s\n",
            "209:\tlearn: 3883.3427836\ttotal: 303ms\tremaining: 1.14s\n",
            "210:\tlearn: 3881.6964616\ttotal: 305ms\tremaining: 1.14s\n",
            "211:\tlearn: 3879.9880639\ttotal: 306ms\tremaining: 1.14s\n",
            "212:\tlearn: 3876.4661423\ttotal: 307ms\tremaining: 1.14s\n",
            "213:\tlearn: 3874.8146590\ttotal: 309ms\tremaining: 1.13s\n",
            "214:\tlearn: 3873.7685237\ttotal: 310ms\tremaining: 1.13s\n",
            "215:\tlearn: 3871.9733381\ttotal: 311ms\tremaining: 1.13s\n",
            "216:\tlearn: 3866.9678314\ttotal: 312ms\tremaining: 1.13s\n",
            "217:\tlearn: 3862.7426507\ttotal: 314ms\tremaining: 1.13s\n",
            "218:\tlearn: 3860.4471417\ttotal: 315ms\tremaining: 1.12s\n",
            "219:\tlearn: 3859.9099321\ttotal: 316ms\tremaining: 1.12s\n",
            "220:\tlearn: 3857.7514782\ttotal: 318ms\tremaining: 1.12s\n",
            "221:\tlearn: 3856.3003313\ttotal: 319ms\tremaining: 1.12s\n",
            "222:\tlearn: 3852.6432019\ttotal: 320ms\tremaining: 1.12s\n",
            "223:\tlearn: 3847.4141405\ttotal: 322ms\tremaining: 1.11s\n",
            "224:\tlearn: 3845.6164483\ttotal: 323ms\tremaining: 1.11s\n",
            "225:\tlearn: 3842.3785931\ttotal: 324ms\tremaining: 1.11s\n",
            "226:\tlearn: 3840.2220603\ttotal: 325ms\tremaining: 1.11s\n",
            "227:\tlearn: 3839.5488655\ttotal: 326ms\tremaining: 1.1s\n",
            "228:\tlearn: 3837.0824351\ttotal: 328ms\tremaining: 1.1s\n",
            "229:\tlearn: 3835.6464892\ttotal: 329ms\tremaining: 1.1s\n",
            "230:\tlearn: 3833.2824056\ttotal: 330ms\tremaining: 1.1s\n",
            "231:\tlearn: 3830.0371463\ttotal: 332ms\tremaining: 1.1s\n",
            "232:\tlearn: 3829.5535289\ttotal: 333ms\tremaining: 1.09s\n",
            "233:\tlearn: 3825.5996510\ttotal: 334ms\tremaining: 1.09s\n",
            "234:\tlearn: 3822.1454048\ttotal: 335ms\tremaining: 1.09s\n",
            "235:\tlearn: 3821.0850100\ttotal: 337ms\tremaining: 1.09s\n",
            "236:\tlearn: 3817.7161791\ttotal: 338ms\tremaining: 1.09s\n",
            "237:\tlearn: 3817.0620506\ttotal: 339ms\tremaining: 1.08s\n",
            "238:\tlearn: 3816.0320965\ttotal: 340ms\tremaining: 1.08s\n",
            "239:\tlearn: 3812.9074792\ttotal: 342ms\tremaining: 1.08s\n",
            "240:\tlearn: 3811.9474003\ttotal: 343ms\tremaining: 1.08s\n",
            "241:\tlearn: 3811.5161788\ttotal: 344ms\tremaining: 1.08s\n",
            "242:\tlearn: 3808.1313407\ttotal: 345ms\tremaining: 1.08s\n",
            "243:\tlearn: 3805.5899921\ttotal: 347ms\tremaining: 1.07s\n",
            "244:\tlearn: 3805.4116039\ttotal: 348ms\tremaining: 1.07s\n",
            "245:\tlearn: 3801.4417604\ttotal: 349ms\tremaining: 1.07s\n",
            "246:\tlearn: 3798.9161305\ttotal: 350ms\tremaining: 1.07s\n",
            "247:\tlearn: 3797.1363369\ttotal: 352ms\tremaining: 1.06s\n",
            "248:\tlearn: 3794.0790297\ttotal: 353ms\tremaining: 1.06s\n",
            "249:\tlearn: 3791.9610219\ttotal: 354ms\tremaining: 1.06s\n",
            "250:\tlearn: 3791.5231289\ttotal: 357ms\tremaining: 1.06s\n",
            "251:\tlearn: 3790.7881127\ttotal: 362ms\tremaining: 1.07s\n",
            "252:\tlearn: 3789.1247885\ttotal: 363ms\tremaining: 1.07s\n",
            "253:\tlearn: 3788.3984360\ttotal: 364ms\tremaining: 1.07s\n",
            "254:\tlearn: 3786.3567913\ttotal: 366ms\tremaining: 1.07s\n",
            "255:\tlearn: 3783.3540500\ttotal: 367ms\tremaining: 1.07s\n",
            "256:\tlearn: 3781.9615732\ttotal: 368ms\tremaining: 1.06s\n",
            "257:\tlearn: 3780.4423157\ttotal: 370ms\tremaining: 1.06s\n",
            "258:\tlearn: 3778.3945463\ttotal: 371ms\tremaining: 1.06s\n",
            "259:\tlearn: 3778.2456050\ttotal: 372ms\tremaining: 1.06s\n",
            "260:\tlearn: 3776.3801821\ttotal: 373ms\tremaining: 1.05s\n",
            "261:\tlearn: 3773.9972978\ttotal: 374ms\tremaining: 1.05s\n",
            "262:\tlearn: 3772.1379746\ttotal: 376ms\tremaining: 1.05s\n",
            "263:\tlearn: 3770.9454305\ttotal: 377ms\tremaining: 1.05s\n",
            "264:\tlearn: 3770.2266115\ttotal: 378ms\tremaining: 1.05s\n",
            "265:\tlearn: 3768.4132981\ttotal: 379ms\tremaining: 1.05s\n",
            "266:\tlearn: 3765.2660490\ttotal: 381ms\tremaining: 1.04s\n",
            "267:\tlearn: 3762.9004882\ttotal: 382ms\tremaining: 1.04s\n",
            "268:\tlearn: 3759.3541696\ttotal: 383ms\tremaining: 1.04s\n",
            "269:\tlearn: 3756.2929324\ttotal: 385ms\tremaining: 1.04s\n",
            "270:\tlearn: 3754.7390952\ttotal: 386ms\tremaining: 1.04s\n",
            "271:\tlearn: 3751.3801415\ttotal: 387ms\tremaining: 1.04s\n",
            "272:\tlearn: 3750.8232710\ttotal: 388ms\tremaining: 1.03s\n",
            "273:\tlearn: 3747.6757269\ttotal: 390ms\tremaining: 1.03s\n",
            "274:\tlearn: 3745.4071566\ttotal: 391ms\tremaining: 1.03s\n",
            "275:\tlearn: 3742.7881262\ttotal: 392ms\tremaining: 1.03s\n",
            "276:\tlearn: 3740.9119495\ttotal: 394ms\tremaining: 1.03s\n",
            "277:\tlearn: 3736.8838749\ttotal: 395ms\tremaining: 1.02s\n",
            "278:\tlearn: 3734.7404706\ttotal: 396ms\tremaining: 1.02s\n",
            "279:\tlearn: 3732.8537677\ttotal: 397ms\tremaining: 1.02s\n",
            "280:\tlearn: 3730.8055703\ttotal: 399ms\tremaining: 1.02s\n",
            "281:\tlearn: 3729.5460655\ttotal: 400ms\tremaining: 1.02s\n",
            "282:\tlearn: 3727.3200811\ttotal: 401ms\tremaining: 1.02s\n",
            "283:\tlearn: 3726.8990450\ttotal: 403ms\tremaining: 1.01s\n",
            "284:\tlearn: 3724.5505723\ttotal: 405ms\tremaining: 1.01s\n",
            "285:\tlearn: 3723.8844239\ttotal: 406ms\tremaining: 1.01s\n",
            "286:\tlearn: 3721.4743281\ttotal: 407ms\tremaining: 1.01s\n",
            "287:\tlearn: 3719.9464641\ttotal: 409ms\tremaining: 1.01s\n",
            "288:\tlearn: 3717.9208318\ttotal: 410ms\tremaining: 1.01s\n",
            "289:\tlearn: 3715.9353295\ttotal: 411ms\tremaining: 1.01s\n",
            "290:\tlearn: 3711.2445933\ttotal: 412ms\tremaining: 1s\n",
            "291:\tlearn: 3708.7362778\ttotal: 414ms\tremaining: 1s\n",
            "292:\tlearn: 3706.4713858\ttotal: 415ms\tremaining: 1s\n",
            "293:\tlearn: 3706.1157557\ttotal: 416ms\tremaining: 1000ms\n",
            "294:\tlearn: 3705.1205611\ttotal: 418ms\tremaining: 998ms\n",
            "295:\tlearn: 3704.2912719\ttotal: 419ms\tremaining: 996ms\n",
            "296:\tlearn: 3701.1117737\ttotal: 420ms\tremaining: 994ms\n",
            "297:\tlearn: 3698.9278200\ttotal: 421ms\tremaining: 993ms\n",
            "298:\tlearn: 3698.3118882\ttotal: 423ms\tremaining: 991ms\n",
            "299:\tlearn: 3697.7364718\ttotal: 424ms\tremaining: 990ms\n",
            "300:\tlearn: 3696.0638348\ttotal: 425ms\tremaining: 988ms\n",
            "301:\tlearn: 3695.6948728\ttotal: 427ms\tremaining: 986ms\n",
            "302:\tlearn: 3695.1376683\ttotal: 428ms\tremaining: 984ms\n",
            "303:\tlearn: 3693.3303336\ttotal: 429ms\tremaining: 983ms\n",
            "304:\tlearn: 3690.6499676\ttotal: 430ms\tremaining: 981ms\n",
            "305:\tlearn: 3689.7164310\ttotal: 432ms\tremaining: 979ms\n",
            "306:\tlearn: 3686.6247788\ttotal: 433ms\tremaining: 978ms\n",
            "307:\tlearn: 3684.1845836\ttotal: 434ms\tremaining: 976ms\n",
            "308:\tlearn: 3682.5493659\ttotal: 436ms\tremaining: 974ms\n",
            "309:\tlearn: 3679.3325033\ttotal: 437ms\tremaining: 972ms\n",
            "310:\tlearn: 3677.7867608\ttotal: 438ms\tremaining: 971ms\n",
            "311:\tlearn: 3673.8567900\ttotal: 439ms\tremaining: 969ms\n",
            "312:\tlearn: 3672.8456156\ttotal: 441ms\tremaining: 967ms\n",
            "313:\tlearn: 3668.3335382\ttotal: 442ms\tremaining: 966ms\n",
            "314:\tlearn: 3667.7038183\ttotal: 443ms\tremaining: 964ms\n",
            "315:\tlearn: 3665.1761711\ttotal: 445ms\tremaining: 962ms\n",
            "316:\tlearn: 3663.8997701\ttotal: 446ms\tremaining: 961ms\n",
            "317:\tlearn: 3658.5330264\ttotal: 447ms\tremaining: 959ms\n",
            "318:\tlearn: 3658.0847402\ttotal: 448ms\tremaining: 957ms\n",
            "319:\tlearn: 3653.7905104\ttotal: 450ms\tremaining: 956ms\n",
            "320:\tlearn: 3650.7959220\ttotal: 451ms\tremaining: 954ms\n",
            "321:\tlearn: 3648.9472172\ttotal: 452ms\tremaining: 952ms\n",
            "322:\tlearn: 3646.1929591\ttotal: 454ms\tremaining: 951ms\n",
            "323:\tlearn: 3644.6969401\ttotal: 455ms\tremaining: 949ms\n",
            "324:\tlearn: 3644.4066632\ttotal: 456ms\tremaining: 947ms\n",
            "325:\tlearn: 3644.1224831\ttotal: 457ms\tremaining: 946ms\n",
            "326:\tlearn: 3641.1568810\ttotal: 459ms\tremaining: 944ms\n",
            "327:\tlearn: 3638.5026107\ttotal: 460ms\tremaining: 943ms\n",
            "328:\tlearn: 3637.0386085\ttotal: 462ms\tremaining: 942ms\n",
            "329:\tlearn: 3636.6751888\ttotal: 463ms\tremaining: 940ms\n",
            "330:\tlearn: 3634.5705553\ttotal: 464ms\tremaining: 938ms\n",
            "331:\tlearn: 3632.2077174\ttotal: 466ms\tremaining: 937ms\n",
            "332:\tlearn: 3628.3666579\ttotal: 467ms\tremaining: 935ms\n",
            "333:\tlearn: 3625.2412816\ttotal: 468ms\tremaining: 934ms\n",
            "334:\tlearn: 3623.8932076\ttotal: 470ms\tremaining: 932ms\n",
            "335:\tlearn: 3623.4043508\ttotal: 471ms\tremaining: 931ms\n",
            "336:\tlearn: 3621.6900810\ttotal: 472ms\tremaining: 929ms\n",
            "337:\tlearn: 3620.5114606\ttotal: 474ms\tremaining: 928ms\n",
            "338:\tlearn: 3619.5374319\ttotal: 475ms\tremaining: 926ms\n",
            "339:\tlearn: 3618.1424132\ttotal: 476ms\tremaining: 925ms\n",
            "340:\tlearn: 3616.3513867\ttotal: 479ms\tremaining: 926ms\n",
            "341:\tlearn: 3614.3446293\ttotal: 481ms\tremaining: 925ms\n",
            "342:\tlearn: 3611.2521178\ttotal: 482ms\tremaining: 923ms\n",
            "343:\tlearn: 3609.2223461\ttotal: 483ms\tremaining: 922ms\n",
            "344:\tlearn: 3607.4845808\ttotal: 485ms\tremaining: 920ms\n",
            "345:\tlearn: 3605.8717917\ttotal: 486ms\tremaining: 919ms\n",
            "346:\tlearn: 3605.3438794\ttotal: 487ms\tremaining: 917ms\n",
            "347:\tlearn: 3604.7866612\ttotal: 489ms\tremaining: 916ms\n",
            "348:\tlearn: 3600.5260390\ttotal: 490ms\tremaining: 915ms\n",
            "349:\tlearn: 3597.7456114\ttotal: 492ms\tremaining: 913ms\n",
            "350:\tlearn: 3596.4807864\ttotal: 493ms\tremaining: 912ms\n",
            "351:\tlearn: 3596.2216774\ttotal: 494ms\tremaining: 910ms\n",
            "352:\tlearn: 3593.7488255\ttotal: 496ms\tremaining: 909ms\n",
            "353:\tlearn: 3591.9263654\ttotal: 498ms\tremaining: 908ms\n",
            "354:\tlearn: 3589.7502206\ttotal: 499ms\tremaining: 906ms\n",
            "355:\tlearn: 3588.9742116\ttotal: 500ms\tremaining: 904ms\n",
            "356:\tlearn: 3588.6342685\ttotal: 501ms\tremaining: 902ms\n",
            "357:\tlearn: 3586.9704695\ttotal: 503ms\tremaining: 901ms\n",
            "358:\tlearn: 3585.3709666\ttotal: 504ms\tremaining: 899ms\n",
            "359:\tlearn: 3582.8623986\ttotal: 506ms\tremaining: 899ms\n",
            "360:\tlearn: 3582.3385023\ttotal: 507ms\tremaining: 897ms\n",
            "361:\tlearn: 3578.5917428\ttotal: 508ms\tremaining: 896ms\n",
            "362:\tlearn: 3576.4707734\ttotal: 509ms\tremaining: 894ms\n",
            "363:\tlearn: 3576.0392710\ttotal: 511ms\tremaining: 892ms\n",
            "364:\tlearn: 3572.8641713\ttotal: 512ms\tremaining: 891ms\n",
            "365:\tlearn: 3570.0123955\ttotal: 513ms\tremaining: 889ms\n",
            "366:\tlearn: 3566.7571187\ttotal: 516ms\tremaining: 890ms\n",
            "367:\tlearn: 3565.1692490\ttotal: 517ms\tremaining: 888ms\n",
            "368:\tlearn: 3562.8983669\ttotal: 518ms\tremaining: 886ms\n",
            "369:\tlearn: 3560.9469011\ttotal: 519ms\tremaining: 884ms\n",
            "370:\tlearn: 3557.3601404\ttotal: 521ms\tremaining: 883ms\n",
            "371:\tlearn: 3556.0566204\ttotal: 522ms\tremaining: 881ms\n",
            "372:\tlearn: 3555.0300366\ttotal: 523ms\tremaining: 880ms\n",
            "373:\tlearn: 3553.8969476\ttotal: 525ms\tremaining: 878ms\n",
            "374:\tlearn: 3551.3219076\ttotal: 526ms\tremaining: 877ms\n",
            "375:\tlearn: 3549.2951450\ttotal: 527ms\tremaining: 875ms\n",
            "376:\tlearn: 3548.1831551\ttotal: 529ms\tremaining: 874ms\n",
            "377:\tlearn: 3543.3829211\ttotal: 530ms\tremaining: 873ms\n",
            "378:\tlearn: 3542.0211050\ttotal: 532ms\tremaining: 871ms\n",
            "379:\tlearn: 3540.6720965\ttotal: 534ms\tremaining: 870ms\n",
            "380:\tlearn: 3540.3263825\ttotal: 535ms\tremaining: 869ms\n",
            "381:\tlearn: 3539.2895171\ttotal: 536ms\tremaining: 867ms\n",
            "382:\tlearn: 3537.9502490\ttotal: 538ms\tremaining: 866ms\n",
            "383:\tlearn: 3535.3927223\ttotal: 545ms\tremaining: 875ms\n",
            "384:\tlearn: 3534.1305281\ttotal: 548ms\tremaining: 875ms\n",
            "385:\tlearn: 3532.2577464\ttotal: 549ms\tremaining: 874ms\n",
            "386:\tlearn: 3530.7639728\ttotal: 551ms\tremaining: 872ms\n",
            "387:\tlearn: 3528.2871969\ttotal: 552ms\tremaining: 871ms\n",
            "388:\tlearn: 3526.2845290\ttotal: 554ms\tremaining: 870ms\n",
            "389:\tlearn: 3525.4689502\ttotal: 556ms\tremaining: 869ms\n",
            "390:\tlearn: 3522.5389104\ttotal: 557ms\tremaining: 868ms\n",
            "391:\tlearn: 3522.1628904\ttotal: 559ms\tremaining: 866ms\n",
            "392:\tlearn: 3521.8521667\ttotal: 560ms\tremaining: 865ms\n",
            "393:\tlearn: 3520.8228726\ttotal: 561ms\tremaining: 863ms\n",
            "394:\tlearn: 3519.1040058\ttotal: 563ms\tremaining: 862ms\n",
            "395:\tlearn: 3515.5993893\ttotal: 564ms\tremaining: 860ms\n",
            "396:\tlearn: 3513.8585180\ttotal: 565ms\tremaining: 859ms\n",
            "397:\tlearn: 3511.8220143\ttotal: 567ms\tremaining: 857ms\n",
            "398:\tlearn: 3510.2055155\ttotal: 568ms\tremaining: 856ms\n",
            "399:\tlearn: 3508.1266936\ttotal: 569ms\tremaining: 854ms\n",
            "400:\tlearn: 3507.6916243\ttotal: 571ms\tremaining: 852ms\n",
            "401:\tlearn: 3505.8884707\ttotal: 572ms\tremaining: 851ms\n",
            "402:\tlearn: 3503.5423003\ttotal: 574ms\tremaining: 850ms\n",
            "403:\tlearn: 3503.0020228\ttotal: 575ms\tremaining: 848ms\n",
            "404:\tlearn: 3502.4905075\ttotal: 576ms\tremaining: 846ms\n",
            "405:\tlearn: 3501.1908713\ttotal: 577ms\tremaining: 845ms\n",
            "406:\tlearn: 3499.6123719\ttotal: 579ms\tremaining: 843ms\n",
            "407:\tlearn: 3497.5254089\ttotal: 580ms\tremaining: 842ms\n",
            "408:\tlearn: 3496.2859926\ttotal: 581ms\tremaining: 840ms\n",
            "409:\tlearn: 3493.1011443\ttotal: 583ms\tremaining: 839ms\n",
            "410:\tlearn: 3490.3054473\ttotal: 584ms\tremaining: 837ms\n",
            "411:\tlearn: 3488.6725856\ttotal: 585ms\tremaining: 836ms\n",
            "412:\tlearn: 3487.7949899\ttotal: 587ms\tremaining: 834ms\n",
            "413:\tlearn: 3485.7889405\ttotal: 588ms\tremaining: 833ms\n",
            "414:\tlearn: 3483.8032240\ttotal: 589ms\tremaining: 831ms\n",
            "415:\tlearn: 3482.8261896\ttotal: 591ms\tremaining: 829ms\n",
            "416:\tlearn: 3481.5936238\ttotal: 592ms\tremaining: 828ms\n",
            "417:\tlearn: 3479.7950355\ttotal: 593ms\tremaining: 826ms\n",
            "418:\tlearn: 3478.4321326\ttotal: 595ms\tremaining: 825ms\n",
            "419:\tlearn: 3477.7980004\ttotal: 596ms\tremaining: 823ms\n",
            "420:\tlearn: 3476.5505176\ttotal: 597ms\tremaining: 821ms\n",
            "421:\tlearn: 3475.1468363\ttotal: 599ms\tremaining: 820ms\n",
            "422:\tlearn: 3472.7595919\ttotal: 600ms\tremaining: 818ms\n",
            "423:\tlearn: 3471.2212123\ttotal: 601ms\tremaining: 817ms\n",
            "424:\tlearn: 3466.3115523\ttotal: 603ms\tremaining: 815ms\n",
            "425:\tlearn: 3464.4588483\ttotal: 604ms\tremaining: 814ms\n",
            "426:\tlearn: 3463.4623779\ttotal: 605ms\tremaining: 812ms\n",
            "427:\tlearn: 3462.8798649\ttotal: 606ms\tremaining: 811ms\n",
            "428:\tlearn: 3461.1651574\ttotal: 608ms\tremaining: 809ms\n",
            "429:\tlearn: 3459.5861105\ttotal: 609ms\tremaining: 807ms\n",
            "430:\tlearn: 3459.2645153\ttotal: 612ms\tremaining: 807ms\n",
            "431:\tlearn: 3457.7697851\ttotal: 613ms\tremaining: 806ms\n",
            "432:\tlearn: 3454.9679417\ttotal: 614ms\tremaining: 804ms\n",
            "433:\tlearn: 3454.1748040\ttotal: 615ms\tremaining: 802ms\n",
            "434:\tlearn: 3449.4164889\ttotal: 616ms\tremaining: 800ms\n",
            "435:\tlearn: 3447.4792437\ttotal: 617ms\tremaining: 798ms\n",
            "436:\tlearn: 3444.1611517\ttotal: 621ms\tremaining: 800ms\n",
            "437:\tlearn: 3441.9470798\ttotal: 622ms\tremaining: 798ms\n",
            "438:\tlearn: 3439.7172305\ttotal: 623ms\tremaining: 796ms\n",
            "439:\tlearn: 3436.0907592\ttotal: 625ms\tremaining: 796ms\n",
            "440:\tlearn: 3435.3094374\ttotal: 628ms\tremaining: 796ms\n",
            "441:\tlearn: 3433.6776670\ttotal: 630ms\tremaining: 795ms\n",
            "442:\tlearn: 3430.5915431\ttotal: 631ms\tremaining: 793ms\n",
            "443:\tlearn: 3430.2498132\ttotal: 632ms\tremaining: 791ms\n",
            "444:\tlearn: 3428.0169986\ttotal: 633ms\tremaining: 790ms\n",
            "445:\tlearn: 3425.4216771\ttotal: 634ms\tremaining: 788ms\n",
            "446:\tlearn: 3423.7730891\ttotal: 636ms\tremaining: 787ms\n",
            "447:\tlearn: 3421.4591739\ttotal: 637ms\tremaining: 785ms\n",
            "448:\tlearn: 3416.7722175\ttotal: 639ms\tremaining: 784ms\n",
            "449:\tlearn: 3415.1927793\ttotal: 640ms\tremaining: 782ms\n",
            "450:\tlearn: 3412.8867708\ttotal: 644ms\tremaining: 784ms\n",
            "451:\tlearn: 3411.6572880\ttotal: 647ms\tremaining: 784ms\n",
            "452:\tlearn: 3408.5305403\ttotal: 648ms\tremaining: 782ms\n",
            "453:\tlearn: 3407.0630398\ttotal: 648ms\tremaining: 780ms\n",
            "454:\tlearn: 3405.7670863\ttotal: 650ms\tremaining: 778ms\n",
            "455:\tlearn: 3404.7925609\ttotal: 651ms\tremaining: 777ms\n",
            "456:\tlearn: 3402.7186749\ttotal: 653ms\tremaining: 775ms\n",
            "457:\tlearn: 3401.0693243\ttotal: 654ms\tremaining: 774ms\n",
            "458:\tlearn: 3400.8106358\ttotal: 655ms\tremaining: 772ms\n",
            "459:\tlearn: 3399.2937477\ttotal: 656ms\tremaining: 771ms\n",
            "460:\tlearn: 3397.8104093\ttotal: 658ms\tremaining: 769ms\n",
            "461:\tlearn: 3395.8883129\ttotal: 659ms\tremaining: 768ms\n",
            "462:\tlearn: 3394.6099344\ttotal: 660ms\tremaining: 766ms\n",
            "463:\tlearn: 3393.8370992\ttotal: 662ms\tremaining: 764ms\n",
            "464:\tlearn: 3393.3867709\ttotal: 663ms\tremaining: 763ms\n",
            "465:\tlearn: 3392.7759066\ttotal: 664ms\tremaining: 761ms\n",
            "466:\tlearn: 3391.7444615\ttotal: 666ms\tremaining: 760ms\n",
            "467:\tlearn: 3388.3694857\ttotal: 667ms\tremaining: 758ms\n",
            "468:\tlearn: 3387.0481066\ttotal: 668ms\tremaining: 757ms\n",
            "469:\tlearn: 3383.4795225\ttotal: 670ms\tremaining: 755ms\n",
            "470:\tlearn: 3381.6446677\ttotal: 671ms\tremaining: 754ms\n",
            "471:\tlearn: 3380.6954435\ttotal: 672ms\tremaining: 752ms\n",
            "472:\tlearn: 3379.7703835\ttotal: 674ms\tremaining: 750ms\n",
            "473:\tlearn: 3377.6025112\ttotal: 675ms\tremaining: 749ms\n",
            "474:\tlearn: 3376.6860897\ttotal: 676ms\tremaining: 747ms\n",
            "475:\tlearn: 3376.0575976\ttotal: 678ms\tremaining: 746ms\n",
            "476:\tlearn: 3375.3344618\ttotal: 679ms\tremaining: 744ms\n",
            "477:\tlearn: 3374.6106163\ttotal: 680ms\tremaining: 743ms\n",
            "478:\tlearn: 3373.0127948\ttotal: 682ms\tremaining: 741ms\n",
            "479:\tlearn: 3371.4374512\ttotal: 683ms\tremaining: 740ms\n",
            "480:\tlearn: 3368.0452903\ttotal: 684ms\tremaining: 738ms\n",
            "481:\tlearn: 3367.7260646\ttotal: 685ms\tremaining: 737ms\n",
            "482:\tlearn: 3365.6060658\ttotal: 687ms\tremaining: 735ms\n",
            "483:\tlearn: 3362.6332377\ttotal: 688ms\tremaining: 733ms\n",
            "484:\tlearn: 3362.2322921\ttotal: 689ms\tremaining: 732ms\n",
            "485:\tlearn: 3361.5299033\ttotal: 690ms\tremaining: 730ms\n",
            "486:\tlearn: 3359.7274090\ttotal: 692ms\tremaining: 729ms\n",
            "487:\tlearn: 3358.0574563\ttotal: 693ms\tremaining: 727ms\n",
            "488:\tlearn: 3357.2179735\ttotal: 694ms\tremaining: 725ms\n",
            "489:\tlearn: 3356.5384011\ttotal: 696ms\tremaining: 724ms\n",
            "490:\tlearn: 3355.8903198\ttotal: 697ms\tremaining: 723ms\n",
            "491:\tlearn: 3353.7754737\ttotal: 698ms\tremaining: 721ms\n",
            "492:\tlearn: 3352.3651234\ttotal: 700ms\tremaining: 719ms\n",
            "493:\tlearn: 3349.1073276\ttotal: 701ms\tremaining: 718ms\n",
            "494:\tlearn: 3348.1629198\ttotal: 702ms\tremaining: 716ms\n",
            "495:\tlearn: 3345.8673682\ttotal: 703ms\tremaining: 715ms\n",
            "496:\tlearn: 3344.5563253\ttotal: 705ms\tremaining: 713ms\n",
            "497:\tlearn: 3341.6985164\ttotal: 706ms\tremaining: 712ms\n",
            "498:\tlearn: 3341.2142566\ttotal: 707ms\tremaining: 710ms\n",
            "499:\tlearn: 3339.8013335\ttotal: 709ms\tremaining: 709ms\n",
            "500:\tlearn: 3338.6277562\ttotal: 710ms\tremaining: 707ms\n",
            "501:\tlearn: 3335.9326312\ttotal: 711ms\tremaining: 706ms\n",
            "502:\tlearn: 3332.1760757\ttotal: 713ms\tremaining: 704ms\n",
            "503:\tlearn: 3330.2979925\ttotal: 714ms\tremaining: 702ms\n",
            "504:\tlearn: 3328.8479550\ttotal: 715ms\tremaining: 701ms\n",
            "505:\tlearn: 3328.1947315\ttotal: 716ms\tremaining: 699ms\n",
            "506:\tlearn: 3326.6255658\ttotal: 718ms\tremaining: 698ms\n",
            "507:\tlearn: 3325.2605945\ttotal: 719ms\tremaining: 696ms\n",
            "508:\tlearn: 3321.8493186\ttotal: 720ms\tremaining: 695ms\n",
            "509:\tlearn: 3321.2377501\ttotal: 721ms\tremaining: 693ms\n",
            "510:\tlearn: 3320.4767044\ttotal: 723ms\tremaining: 692ms\n",
            "511:\tlearn: 3316.8461347\ttotal: 725ms\tremaining: 691ms\n",
            "512:\tlearn: 3316.5319915\ttotal: 726ms\tremaining: 690ms\n",
            "513:\tlearn: 3314.6770317\ttotal: 727ms\tremaining: 688ms\n",
            "514:\tlearn: 3313.0271141\ttotal: 729ms\tremaining: 686ms\n",
            "515:\tlearn: 3311.6421418\ttotal: 730ms\tremaining: 684ms\n",
            "516:\tlearn: 3309.1900730\ttotal: 735ms\tremaining: 687ms\n",
            "517:\tlearn: 3308.5976360\ttotal: 737ms\tremaining: 685ms\n",
            "518:\tlearn: 3307.7374320\ttotal: 738ms\tremaining: 684ms\n",
            "519:\tlearn: 3304.1387442\ttotal: 740ms\tremaining: 683ms\n",
            "520:\tlearn: 3303.2471842\ttotal: 741ms\tremaining: 681ms\n",
            "521:\tlearn: 3301.7898285\ttotal: 743ms\tremaining: 680ms\n",
            "522:\tlearn: 3299.7647886\ttotal: 744ms\tremaining: 678ms\n",
            "523:\tlearn: 3297.6329434\ttotal: 745ms\tremaining: 677ms\n",
            "524:\tlearn: 3294.2977149\ttotal: 748ms\tremaining: 677ms\n",
            "525:\tlearn: 3293.8508954\ttotal: 749ms\tremaining: 675ms\n",
            "526:\tlearn: 3292.8467957\ttotal: 751ms\tremaining: 674ms\n",
            "527:\tlearn: 3289.3899783\ttotal: 752ms\tremaining: 672ms\n",
            "528:\tlearn: 3288.9226049\ttotal: 753ms\tremaining: 671ms\n",
            "529:\tlearn: 3288.1580771\ttotal: 754ms\tremaining: 669ms\n",
            "530:\tlearn: 3283.8682800\ttotal: 756ms\tremaining: 668ms\n",
            "531:\tlearn: 3282.5808054\ttotal: 757ms\tremaining: 666ms\n",
            "532:\tlearn: 3280.5140028\ttotal: 758ms\tremaining: 664ms\n",
            "533:\tlearn: 3279.8863549\ttotal: 760ms\tremaining: 663ms\n",
            "534:\tlearn: 3277.8626120\ttotal: 761ms\tremaining: 661ms\n",
            "535:\tlearn: 3277.4043409\ttotal: 762ms\tremaining: 660ms\n",
            "536:\tlearn: 3275.2980996\ttotal: 764ms\tremaining: 658ms\n",
            "537:\tlearn: 3274.2988616\ttotal: 765ms\tremaining: 657ms\n",
            "538:\tlearn: 3273.9211519\ttotal: 766ms\tremaining: 655ms\n",
            "539:\tlearn: 3273.4424555\ttotal: 767ms\tremaining: 654ms\n",
            "540:\tlearn: 3273.2258833\ttotal: 769ms\tremaining: 652ms\n",
            "541:\tlearn: 3272.7171296\ttotal: 770ms\tremaining: 651ms\n",
            "542:\tlearn: 3272.0203424\ttotal: 771ms\tremaining: 649ms\n",
            "543:\tlearn: 3270.8263273\ttotal: 773ms\tremaining: 648ms\n",
            "544:\tlearn: 3269.4037299\ttotal: 774ms\tremaining: 646ms\n",
            "545:\tlearn: 3268.3053182\ttotal: 775ms\tremaining: 645ms\n",
            "546:\tlearn: 3266.1982474\ttotal: 776ms\tremaining: 643ms\n",
            "547:\tlearn: 3264.8054740\ttotal: 778ms\tremaining: 642ms\n",
            "548:\tlearn: 3263.9970402\ttotal: 779ms\tremaining: 640ms\n",
            "549:\tlearn: 3263.2945598\ttotal: 780ms\tremaining: 638ms\n",
            "550:\tlearn: 3261.9045599\ttotal: 782ms\tremaining: 637ms\n",
            "551:\tlearn: 3261.2364498\ttotal: 783ms\tremaining: 635ms\n",
            "552:\tlearn: 3259.8809035\ttotal: 784ms\tremaining: 634ms\n",
            "553:\tlearn: 3257.0484119\ttotal: 787ms\tremaining: 634ms\n",
            "554:\tlearn: 3255.4297145\ttotal: 789ms\tremaining: 632ms\n",
            "555:\tlearn: 3254.3911410\ttotal: 790ms\tremaining: 631ms\n",
            "556:\tlearn: 3253.3687580\ttotal: 791ms\tremaining: 629ms\n",
            "557:\tlearn: 3249.7782308\ttotal: 792ms\tremaining: 628ms\n",
            "558:\tlearn: 3249.0121542\ttotal: 794ms\tremaining: 626ms\n",
            "559:\tlearn: 3248.2734733\ttotal: 795ms\tremaining: 625ms\n",
            "560:\tlearn: 3246.2884608\ttotal: 796ms\tremaining: 623ms\n",
            "561:\tlearn: 3243.4907518\ttotal: 798ms\tremaining: 622ms\n",
            "562:\tlearn: 3241.5281169\ttotal: 799ms\tremaining: 620ms\n",
            "563:\tlearn: 3239.2405974\ttotal: 800ms\tremaining: 619ms\n",
            "564:\tlearn: 3238.3502441\ttotal: 801ms\tremaining: 617ms\n",
            "565:\tlearn: 3235.6364907\ttotal: 803ms\tremaining: 616ms\n",
            "566:\tlearn: 3232.9061715\ttotal: 804ms\tremaining: 614ms\n",
            "567:\tlearn: 3229.5805803\ttotal: 805ms\tremaining: 613ms\n",
            "568:\tlearn: 3226.9313415\ttotal: 807ms\tremaining: 611ms\n",
            "569:\tlearn: 3225.2549503\ttotal: 808ms\tremaining: 610ms\n",
            "570:\tlearn: 3223.8467453\ttotal: 809ms\tremaining: 608ms\n",
            "571:\tlearn: 3223.1753059\ttotal: 811ms\tremaining: 607ms\n",
            "572:\tlearn: 3222.4825700\ttotal: 812ms\tremaining: 605ms\n",
            "573:\tlearn: 3221.9261992\ttotal: 814ms\tremaining: 604ms\n",
            "574:\tlearn: 3220.8263245\ttotal: 815ms\tremaining: 602ms\n",
            "575:\tlearn: 3219.5830304\ttotal: 816ms\tremaining: 601ms\n",
            "576:\tlearn: 3219.3954385\ttotal: 818ms\tremaining: 599ms\n",
            "577:\tlearn: 3218.0744512\ttotal: 820ms\tremaining: 598ms\n",
            "578:\tlearn: 3217.2557825\ttotal: 820ms\tremaining: 597ms\n",
            "579:\tlearn: 3215.9824729\ttotal: 821ms\tremaining: 595ms\n",
            "580:\tlearn: 3215.2577769\ttotal: 822ms\tremaining: 593ms\n",
            "581:\tlearn: 3213.1307900\ttotal: 823ms\tremaining: 591ms\n",
            "582:\tlearn: 3209.9693006\ttotal: 824ms\tremaining: 590ms\n",
            "583:\tlearn: 3208.8355857\ttotal: 826ms\tremaining: 588ms\n",
            "584:\tlearn: 3206.7734578\ttotal: 827ms\tremaining: 587ms\n",
            "585:\tlearn: 3205.6579201\ttotal: 829ms\tremaining: 585ms\n",
            "586:\tlearn: 3204.3269206\ttotal: 830ms\tremaining: 584ms\n",
            "587:\tlearn: 3203.8713418\ttotal: 831ms\tremaining: 582ms\n",
            "588:\tlearn: 3201.9910589\ttotal: 832ms\tremaining: 581ms\n",
            "589:\tlearn: 3200.1085239\ttotal: 834ms\tremaining: 579ms\n",
            "590:\tlearn: 3198.1082378\ttotal: 835ms\tremaining: 578ms\n",
            "591:\tlearn: 3197.7233193\ttotal: 836ms\tremaining: 576ms\n",
            "592:\tlearn: 3196.1854382\ttotal: 838ms\tremaining: 575ms\n",
            "593:\tlearn: 3195.7107309\ttotal: 839ms\tremaining: 574ms\n",
            "594:\tlearn: 3194.9489823\ttotal: 840ms\tremaining: 572ms\n",
            "595:\tlearn: 3193.8666763\ttotal: 842ms\tremaining: 571ms\n",
            "596:\tlearn: 3192.8627963\ttotal: 843ms\tremaining: 569ms\n",
            "597:\tlearn: 3192.1703364\ttotal: 844ms\tremaining: 567ms\n",
            "598:\tlearn: 3191.2725787\ttotal: 845ms\tremaining: 566ms\n",
            "599:\tlearn: 3189.3204902\ttotal: 847ms\tremaining: 565ms\n",
            "600:\tlearn: 3188.4473251\ttotal: 848ms\tremaining: 563ms\n",
            "601:\tlearn: 3186.4375317\ttotal: 850ms\tremaining: 562ms\n",
            "602:\tlearn: 3186.0110381\ttotal: 851ms\tremaining: 560ms\n",
            "603:\tlearn: 3182.8985288\ttotal: 853ms\tremaining: 559ms\n",
            "604:\tlearn: 3182.2286626\ttotal: 854ms\tremaining: 558ms\n",
            "605:\tlearn: 3181.1649952\ttotal: 856ms\tremaining: 556ms\n",
            "606:\tlearn: 3178.2180872\ttotal: 857ms\tremaining: 555ms\n",
            "607:\tlearn: 3176.4429994\ttotal: 858ms\tremaining: 553ms\n",
            "608:\tlearn: 3175.1391843\ttotal: 860ms\tremaining: 552ms\n",
            "609:\tlearn: 3173.1539597\ttotal: 861ms\tremaining: 551ms\n",
            "610:\tlearn: 3172.2055002\ttotal: 863ms\tremaining: 549ms\n",
            "611:\tlearn: 3169.1957959\ttotal: 864ms\tremaining: 548ms\n",
            "612:\tlearn: 3167.8494420\ttotal: 865ms\tremaining: 546ms\n",
            "613:\tlearn: 3167.0165944\ttotal: 867ms\tremaining: 545ms\n",
            "614:\tlearn: 3162.7516272\ttotal: 868ms\tremaining: 543ms\n",
            "615:\tlearn: 3162.1139019\ttotal: 870ms\tremaining: 542ms\n",
            "616:\tlearn: 3160.7560772\ttotal: 871ms\tremaining: 541ms\n",
            "617:\tlearn: 3159.0315025\ttotal: 872ms\tremaining: 539ms\n",
            "618:\tlearn: 3157.7927231\ttotal: 874ms\tremaining: 538ms\n",
            "619:\tlearn: 3155.3263279\ttotal: 875ms\tremaining: 536ms\n",
            "620:\tlearn: 3153.4068677\ttotal: 876ms\tremaining: 535ms\n",
            "621:\tlearn: 3152.8223105\ttotal: 878ms\tremaining: 533ms\n",
            "622:\tlearn: 3152.4393546\ttotal: 879ms\tremaining: 532ms\n",
            "623:\tlearn: 3150.7713128\ttotal: 881ms\tremaining: 531ms\n",
            "624:\tlearn: 3149.1566064\ttotal: 882ms\tremaining: 529ms\n",
            "625:\tlearn: 3145.9589693\ttotal: 883ms\tremaining: 528ms\n",
            "626:\tlearn: 3145.3760403\ttotal: 885ms\tremaining: 527ms\n",
            "627:\tlearn: 3144.1267940\ttotal: 886ms\tremaining: 525ms\n",
            "628:\tlearn: 3143.4882477\ttotal: 888ms\tremaining: 524ms\n",
            "629:\tlearn: 3142.9055467\ttotal: 889ms\tremaining: 522ms\n",
            "630:\tlearn: 3142.6843695\ttotal: 890ms\tremaining: 521ms\n",
            "631:\tlearn: 3141.7739812\ttotal: 892ms\tremaining: 519ms\n",
            "632:\tlearn: 3140.2203741\ttotal: 893ms\tremaining: 518ms\n",
            "633:\tlearn: 3138.3267220\ttotal: 894ms\tremaining: 516ms\n",
            "634:\tlearn: 3137.8302544\ttotal: 896ms\tremaining: 515ms\n",
            "635:\tlearn: 3136.6754723\ttotal: 897ms\tremaining: 513ms\n",
            "636:\tlearn: 3136.0039377\ttotal: 898ms\tremaining: 512ms\n",
            "637:\tlearn: 3135.2216965\ttotal: 900ms\tremaining: 511ms\n",
            "638:\tlearn: 3134.4567072\ttotal: 901ms\tremaining: 509ms\n",
            "639:\tlearn: 3133.5260597\ttotal: 902ms\tremaining: 508ms\n",
            "640:\tlearn: 3132.5420327\ttotal: 904ms\tremaining: 506ms\n",
            "641:\tlearn: 3129.9311286\ttotal: 905ms\tremaining: 505ms\n",
            "642:\tlearn: 3129.0384866\ttotal: 906ms\tremaining: 503ms\n",
            "643:\tlearn: 3128.3598191\ttotal: 908ms\tremaining: 502ms\n",
            "644:\tlearn: 3127.3562400\ttotal: 909ms\tremaining: 500ms\n",
            "645:\tlearn: 3124.4544348\ttotal: 917ms\tremaining: 503ms\n",
            "646:\tlearn: 3122.0547531\ttotal: 919ms\tremaining: 501ms\n",
            "647:\tlearn: 3120.8526288\ttotal: 920ms\tremaining: 500ms\n",
            "648:\tlearn: 3117.7179238\ttotal: 921ms\tremaining: 498ms\n",
            "649:\tlearn: 3116.1944386\ttotal: 923ms\tremaining: 497ms\n",
            "650:\tlearn: 3113.9165375\ttotal: 924ms\tremaining: 495ms\n",
            "651:\tlearn: 3112.9367806\ttotal: 925ms\tremaining: 494ms\n",
            "652:\tlearn: 3112.1565548\ttotal: 927ms\tremaining: 492ms\n",
            "653:\tlearn: 3110.8905339\ttotal: 928ms\tremaining: 491ms\n",
            "654:\tlearn: 3109.6313175\ttotal: 929ms\tremaining: 489ms\n",
            "655:\tlearn: 3108.7625310\ttotal: 931ms\tremaining: 488ms\n",
            "656:\tlearn: 3106.9291880\ttotal: 932ms\tremaining: 487ms\n",
            "657:\tlearn: 3104.1599097\ttotal: 934ms\tremaining: 485ms\n",
            "658:\tlearn: 3101.7026187\ttotal: 935ms\tremaining: 484ms\n",
            "659:\tlearn: 3100.5235118\ttotal: 937ms\tremaining: 482ms\n",
            "660:\tlearn: 3100.1528670\ttotal: 940ms\tremaining: 482ms\n",
            "661:\tlearn: 3099.8103684\ttotal: 941ms\tremaining: 481ms\n",
            "662:\tlearn: 3099.1659219\ttotal: 942ms\tremaining: 479ms\n",
            "663:\tlearn: 3097.9285089\ttotal: 944ms\tremaining: 478ms\n",
            "664:\tlearn: 3095.7947291\ttotal: 945ms\tremaining: 476ms\n",
            "665:\tlearn: 3095.3151252\ttotal: 946ms\tremaining: 475ms\n",
            "666:\tlearn: 3094.4083281\ttotal: 948ms\tremaining: 473ms\n",
            "667:\tlearn: 3093.3307632\ttotal: 949ms\tremaining: 472ms\n",
            "668:\tlearn: 3092.1148199\ttotal: 950ms\tremaining: 470ms\n",
            "669:\tlearn: 3089.0993933\ttotal: 952ms\tremaining: 469ms\n",
            "670:\tlearn: 3086.9474331\ttotal: 953ms\tremaining: 467ms\n",
            "671:\tlearn: 3085.7207940\ttotal: 954ms\tremaining: 466ms\n",
            "672:\tlearn: 3082.6129105\ttotal: 956ms\tremaining: 464ms\n",
            "673:\tlearn: 3079.9805664\ttotal: 957ms\tremaining: 463ms\n",
            "674:\tlearn: 3078.8037767\ttotal: 958ms\tremaining: 461ms\n",
            "675:\tlearn: 3078.6719614\ttotal: 959ms\tremaining: 460ms\n",
            "676:\tlearn: 3075.6609741\ttotal: 961ms\tremaining: 458ms\n",
            "677:\tlearn: 3075.3014711\ttotal: 962ms\tremaining: 457ms\n",
            "678:\tlearn: 3073.2542531\ttotal: 963ms\tremaining: 455ms\n",
            "679:\tlearn: 3072.6072486\ttotal: 965ms\tremaining: 454ms\n",
            "680:\tlearn: 3071.9652863\ttotal: 966ms\tremaining: 453ms\n",
            "681:\tlearn: 3069.3268798\ttotal: 967ms\tremaining: 451ms\n",
            "682:\tlearn: 3068.7635330\ttotal: 969ms\tremaining: 450ms\n",
            "683:\tlearn: 3068.4364014\ttotal: 970ms\tremaining: 448ms\n",
            "684:\tlearn: 3066.2010803\ttotal: 971ms\tremaining: 447ms\n",
            "685:\tlearn: 3064.6089393\ttotal: 973ms\tremaining: 445ms\n",
            "686:\tlearn: 3062.8075878\ttotal: 974ms\tremaining: 444ms\n",
            "687:\tlearn: 3060.9349512\ttotal: 975ms\tremaining: 442ms\n",
            "688:\tlearn: 3058.7288666\ttotal: 977ms\tremaining: 441ms\n",
            "689:\tlearn: 3057.8305447\ttotal: 978ms\tremaining: 439ms\n",
            "690:\tlearn: 3056.8384789\ttotal: 979ms\tremaining: 438ms\n",
            "691:\tlearn: 3054.3164388\ttotal: 981ms\tremaining: 436ms\n",
            "692:\tlearn: 3053.8912574\ttotal: 982ms\tremaining: 435ms\n",
            "693:\tlearn: 3052.4193594\ttotal: 983ms\tremaining: 433ms\n",
            "694:\tlearn: 3050.1696647\ttotal: 984ms\tremaining: 432ms\n",
            "695:\tlearn: 3049.2856027\ttotal: 986ms\tremaining: 431ms\n",
            "696:\tlearn: 3046.7933571\ttotal: 987ms\tremaining: 429ms\n",
            "697:\tlearn: 3046.0403594\ttotal: 988ms\tremaining: 428ms\n",
            "698:\tlearn: 3044.4837423\ttotal: 990ms\tremaining: 426ms\n",
            "699:\tlearn: 3042.7675825\ttotal: 991ms\tremaining: 425ms\n",
            "700:\tlearn: 3041.4378298\ttotal: 992ms\tremaining: 423ms\n",
            "701:\tlearn: 3040.8140620\ttotal: 994ms\tremaining: 422ms\n",
            "702:\tlearn: 3038.8343542\ttotal: 995ms\tremaining: 420ms\n",
            "703:\tlearn: 3037.7556549\ttotal: 996ms\tremaining: 419ms\n",
            "704:\tlearn: 3036.3189036\ttotal: 998ms\tremaining: 417ms\n",
            "705:\tlearn: 3035.6086601\ttotal: 999ms\tremaining: 416ms\n",
            "706:\tlearn: 3034.9875424\ttotal: 1s\tremaining: 415ms\n",
            "707:\tlearn: 3032.9916029\ttotal: 1s\tremaining: 413ms\n",
            "708:\tlearn: 3032.0344085\ttotal: 1s\tremaining: 412ms\n",
            "709:\tlearn: 3030.9125440\ttotal: 1s\tremaining: 410ms\n",
            "710:\tlearn: 3028.4352482\ttotal: 1s\tremaining: 409ms\n",
            "711:\tlearn: 3025.2721621\ttotal: 1.01s\tremaining: 407ms\n",
            "712:\tlearn: 3023.5603131\ttotal: 1.01s\tremaining: 406ms\n",
            "713:\tlearn: 3021.6456112\ttotal: 1.01s\tremaining: 404ms\n",
            "714:\tlearn: 3019.2385412\ttotal: 1.01s\tremaining: 403ms\n",
            "715:\tlearn: 3018.0484542\ttotal: 1.01s\tremaining: 401ms\n",
            "716:\tlearn: 3015.7197748\ttotal: 1.01s\tremaining: 400ms\n",
            "717:\tlearn: 3012.7616385\ttotal: 1.01s\tremaining: 399ms\n",
            "718:\tlearn: 3010.2488004\ttotal: 1.01s\tremaining: 397ms\n",
            "719:\tlearn: 3009.7413064\ttotal: 1.02s\tremaining: 396ms\n",
            "720:\tlearn: 3007.2223311\ttotal: 1.02s\tremaining: 394ms\n",
            "721:\tlearn: 3006.3465288\ttotal: 1.02s\tremaining: 393ms\n",
            "722:\tlearn: 3002.6312691\ttotal: 1.02s\tremaining: 391ms\n",
            "723:\tlearn: 3002.3020608\ttotal: 1.02s\tremaining: 390ms\n",
            "724:\tlearn: 3000.6797042\ttotal: 1.02s\tremaining: 388ms\n",
            "725:\tlearn: 3000.5229789\ttotal: 1.02s\tremaining: 387ms\n",
            "726:\tlearn: 2998.5913811\ttotal: 1.02s\tremaining: 385ms\n",
            "727:\tlearn: 2996.9605514\ttotal: 1.03s\tremaining: 384ms\n",
            "728:\tlearn: 2995.6610945\ttotal: 1.03s\tremaining: 382ms\n",
            "729:\tlearn: 2994.2346736\ttotal: 1.03s\tremaining: 381ms\n",
            "730:\tlearn: 2992.5535282\ttotal: 1.03s\tremaining: 379ms\n",
            "731:\tlearn: 2992.2208594\ttotal: 1.03s\tremaining: 378ms\n",
            "732:\tlearn: 2989.8606423\ttotal: 1.03s\tremaining: 377ms\n",
            "733:\tlearn: 2989.5017329\ttotal: 1.03s\tremaining: 375ms\n",
            "734:\tlearn: 2989.0275697\ttotal: 1.04s\tremaining: 374ms\n",
            "735:\tlearn: 2987.8174052\ttotal: 1.04s\tremaining: 373ms\n",
            "736:\tlearn: 2987.0196915\ttotal: 1.04s\tremaining: 371ms\n",
            "737:\tlearn: 2986.5289086\ttotal: 1.04s\tremaining: 370ms\n",
            "738:\tlearn: 2985.1606121\ttotal: 1.04s\tremaining: 369ms\n",
            "739:\tlearn: 2982.9345403\ttotal: 1.05s\tremaining: 368ms\n",
            "740:\tlearn: 2982.4310464\ttotal: 1.05s\tremaining: 366ms\n",
            "741:\tlearn: 2979.4712401\ttotal: 1.05s\tremaining: 365ms\n",
            "742:\tlearn: 2978.8118734\ttotal: 1.05s\tremaining: 363ms\n",
            "743:\tlearn: 2977.4866858\ttotal: 1.05s\tremaining: 362ms\n",
            "744:\tlearn: 2977.3571252\ttotal: 1.05s\tremaining: 360ms\n",
            "745:\tlearn: 2976.9657936\ttotal: 1.05s\tremaining: 359ms\n",
            "746:\tlearn: 2976.1683521\ttotal: 1.05s\tremaining: 358ms\n",
            "747:\tlearn: 2975.7658641\ttotal: 1.06s\tremaining: 356ms\n",
            "748:\tlearn: 2974.9400551\ttotal: 1.06s\tremaining: 355ms\n",
            "749:\tlearn: 2974.3717595\ttotal: 1.06s\tremaining: 353ms\n",
            "750:\tlearn: 2972.5728736\ttotal: 1.06s\tremaining: 352ms\n",
            "751:\tlearn: 2969.7332738\ttotal: 1.06s\tremaining: 350ms\n",
            "752:\tlearn: 2968.5879125\ttotal: 1.06s\tremaining: 349ms\n",
            "753:\tlearn: 2968.1741873\ttotal: 1.06s\tremaining: 347ms\n",
            "754:\tlearn: 2967.3645079\ttotal: 1.06s\tremaining: 346ms\n",
            "755:\tlearn: 2966.5814954\ttotal: 1.07s\tremaining: 344ms\n",
            "756:\tlearn: 2966.2779374\ttotal: 1.07s\tremaining: 343ms\n",
            "757:\tlearn: 2965.6747383\ttotal: 1.07s\tremaining: 341ms\n",
            "758:\tlearn: 2963.5734498\ttotal: 1.07s\tremaining: 340ms\n",
            "759:\tlearn: 2961.4639976\ttotal: 1.07s\tremaining: 339ms\n",
            "760:\tlearn: 2960.1251772\ttotal: 1.07s\tremaining: 337ms\n",
            "761:\tlearn: 2958.3051478\ttotal: 1.07s\tremaining: 336ms\n",
            "762:\tlearn: 2957.7308437\ttotal: 1.08s\tremaining: 334ms\n",
            "763:\tlearn: 2957.0079555\ttotal: 1.08s\tremaining: 333ms\n",
            "764:\tlearn: 2954.6554212\ttotal: 1.08s\tremaining: 331ms\n",
            "765:\tlearn: 2952.6593546\ttotal: 1.08s\tremaining: 330ms\n",
            "766:\tlearn: 2951.9081834\ttotal: 1.08s\tremaining: 328ms\n",
            "767:\tlearn: 2950.7803780\ttotal: 1.08s\tremaining: 327ms\n",
            "768:\tlearn: 2948.8175496\ttotal: 1.08s\tremaining: 326ms\n",
            "769:\tlearn: 2948.0079066\ttotal: 1.08s\tremaining: 324ms\n",
            "770:\tlearn: 2946.4446715\ttotal: 1.09s\tremaining: 323ms\n",
            "771:\tlearn: 2946.0144579\ttotal: 1.09s\tremaining: 321ms\n",
            "772:\tlearn: 2945.2102685\ttotal: 1.09s\tremaining: 320ms\n",
            "773:\tlearn: 2943.8698569\ttotal: 1.09s\tremaining: 318ms\n",
            "774:\tlearn: 2942.6927499\ttotal: 1.09s\tremaining: 317ms\n",
            "775:\tlearn: 2942.1164326\ttotal: 1.09s\tremaining: 316ms\n",
            "776:\tlearn: 2940.2677100\ttotal: 1.09s\tremaining: 314ms\n",
            "777:\tlearn: 2937.9807565\ttotal: 1.1s\tremaining: 313ms\n",
            "778:\tlearn: 2937.3610740\ttotal: 1.1s\tremaining: 311ms\n",
            "779:\tlearn: 2935.4262047\ttotal: 1.1s\tremaining: 310ms\n",
            "780:\tlearn: 2934.7080148\ttotal: 1.1s\tremaining: 309ms\n",
            "781:\tlearn: 2934.0231227\ttotal: 1.1s\tremaining: 308ms\n",
            "782:\tlearn: 2932.2756223\ttotal: 1.11s\tremaining: 307ms\n",
            "783:\tlearn: 2931.6657613\ttotal: 1.11s\tremaining: 305ms\n",
            "784:\tlearn: 2930.1369734\ttotal: 1.11s\tremaining: 304ms\n",
            "785:\tlearn: 2928.0864780\ttotal: 1.11s\tremaining: 302ms\n",
            "786:\tlearn: 2927.6734056\ttotal: 1.11s\tremaining: 301ms\n",
            "787:\tlearn: 2926.6700872\ttotal: 1.11s\tremaining: 299ms\n",
            "788:\tlearn: 2924.2981174\ttotal: 1.11s\tremaining: 298ms\n",
            "789:\tlearn: 2923.2758326\ttotal: 1.11s\tremaining: 296ms\n",
            "790:\tlearn: 2922.8194412\ttotal: 1.12s\tremaining: 295ms\n",
            "791:\tlearn: 2921.3023059\ttotal: 1.12s\tremaining: 294ms\n",
            "792:\tlearn: 2918.0575947\ttotal: 1.12s\tremaining: 292ms\n",
            "793:\tlearn: 2915.3407648\ttotal: 1.12s\tremaining: 291ms\n",
            "794:\tlearn: 2912.3944021\ttotal: 1.12s\tremaining: 289ms\n",
            "795:\tlearn: 2910.2082641\ttotal: 1.12s\tremaining: 288ms\n",
            "796:\tlearn: 2909.3518707\ttotal: 1.12s\tremaining: 286ms\n",
            "797:\tlearn: 2908.1963826\ttotal: 1.13s\tremaining: 285ms\n",
            "798:\tlearn: 2906.5428422\ttotal: 1.13s\tremaining: 284ms\n",
            "799:\tlearn: 2905.4505234\ttotal: 1.13s\tremaining: 282ms\n",
            "800:\tlearn: 2904.9485635\ttotal: 1.13s\tremaining: 281ms\n",
            "801:\tlearn: 2902.8135679\ttotal: 1.13s\tremaining: 279ms\n",
            "802:\tlearn: 2901.5068544\ttotal: 1.13s\tremaining: 278ms\n",
            "803:\tlearn: 2899.4875465\ttotal: 1.13s\tremaining: 277ms\n",
            "804:\tlearn: 2898.6904962\ttotal: 1.14s\tremaining: 275ms\n",
            "805:\tlearn: 2896.6001333\ttotal: 1.14s\tremaining: 274ms\n",
            "806:\tlearn: 2895.3261830\ttotal: 1.14s\tremaining: 272ms\n",
            "807:\tlearn: 2894.0500168\ttotal: 1.14s\tremaining: 271ms\n",
            "808:\tlearn: 2893.1510789\ttotal: 1.14s\tremaining: 270ms\n",
            "809:\tlearn: 2892.5938886\ttotal: 1.14s\tremaining: 268ms\n",
            "810:\tlearn: 2889.7633979\ttotal: 1.14s\tremaining: 267ms\n",
            "811:\tlearn: 2888.7701289\ttotal: 1.15s\tremaining: 265ms\n",
            "812:\tlearn: 2887.0544645\ttotal: 1.15s\tremaining: 264ms\n",
            "813:\tlearn: 2885.7012593\ttotal: 1.15s\tremaining: 262ms\n",
            "814:\tlearn: 2884.8993165\ttotal: 1.15s\tremaining: 261ms\n",
            "815:\tlearn: 2883.9525625\ttotal: 1.15s\tremaining: 260ms\n",
            "816:\tlearn: 2880.8461425\ttotal: 1.15s\tremaining: 258ms\n",
            "817:\tlearn: 2879.6479624\ttotal: 1.15s\tremaining: 257ms\n",
            "818:\tlearn: 2878.7526395\ttotal: 1.16s\tremaining: 255ms\n",
            "819:\tlearn: 2878.4327653\ttotal: 1.16s\tremaining: 254ms\n",
            "820:\tlearn: 2876.1162978\ttotal: 1.16s\tremaining: 252ms\n",
            "821:\tlearn: 2873.6027183\ttotal: 1.16s\tremaining: 251ms\n",
            "822:\tlearn: 2873.3091856\ttotal: 1.16s\tremaining: 250ms\n",
            "823:\tlearn: 2872.4486815\ttotal: 1.16s\tremaining: 248ms\n",
            "824:\tlearn: 2870.3024330\ttotal: 1.16s\tremaining: 247ms\n",
            "825:\tlearn: 2868.0629981\ttotal: 1.17s\tremaining: 245ms\n",
            "826:\tlearn: 2865.8177321\ttotal: 1.17s\tremaining: 244ms\n",
            "827:\tlearn: 2862.4663534\ttotal: 1.17s\tremaining: 243ms\n",
            "828:\tlearn: 2861.7937455\ttotal: 1.17s\tremaining: 241ms\n",
            "829:\tlearn: 2859.3510464\ttotal: 1.17s\tremaining: 240ms\n",
            "830:\tlearn: 2857.9975409\ttotal: 1.17s\tremaining: 238ms\n",
            "831:\tlearn: 2857.8678668\ttotal: 1.17s\tremaining: 237ms\n",
            "832:\tlearn: 2857.5179142\ttotal: 1.17s\tremaining: 235ms\n",
            "833:\tlearn: 2855.7097360\ttotal: 1.18s\tremaining: 234ms\n",
            "834:\tlearn: 2853.1177736\ttotal: 1.18s\tremaining: 233ms\n",
            "835:\tlearn: 2851.1394369\ttotal: 1.18s\tremaining: 231ms\n",
            "836:\tlearn: 2849.9428484\ttotal: 1.18s\tremaining: 230ms\n",
            "837:\tlearn: 2847.3683515\ttotal: 1.18s\tremaining: 228ms\n",
            "838:\tlearn: 2846.5017828\ttotal: 1.18s\tremaining: 227ms\n",
            "839:\tlearn: 2844.0166532\ttotal: 1.18s\tremaining: 226ms\n",
            "840:\tlearn: 2841.8221113\ttotal: 1.19s\tremaining: 224ms\n",
            "841:\tlearn: 2840.2579295\ttotal: 1.19s\tremaining: 223ms\n",
            "842:\tlearn: 2838.3851760\ttotal: 1.19s\tremaining: 221ms\n",
            "843:\tlearn: 2837.6443159\ttotal: 1.19s\tremaining: 220ms\n",
            "844:\tlearn: 2837.2117177\ttotal: 1.19s\tremaining: 219ms\n",
            "845:\tlearn: 2836.4783466\ttotal: 1.19s\tremaining: 217ms\n",
            "846:\tlearn: 2834.0786757\ttotal: 1.19s\tremaining: 216ms\n",
            "847:\tlearn: 2833.6672538\ttotal: 1.2s\tremaining: 214ms\n",
            "848:\tlearn: 2832.8622407\ttotal: 1.2s\tremaining: 213ms\n",
            "849:\tlearn: 2831.6353346\ttotal: 1.2s\tremaining: 211ms\n",
            "850:\tlearn: 2830.8328882\ttotal: 1.2s\tremaining: 210ms\n",
            "851:\tlearn: 2830.4466515\ttotal: 1.2s\tremaining: 209ms\n",
            "852:\tlearn: 2829.1115904\ttotal: 1.2s\tremaining: 207ms\n",
            "853:\tlearn: 2829.0227008\ttotal: 1.2s\tremaining: 206ms\n",
            "854:\tlearn: 2827.9080012\ttotal: 1.21s\tremaining: 204ms\n",
            "855:\tlearn: 2826.1546859\ttotal: 1.21s\tremaining: 203ms\n",
            "856:\tlearn: 2825.4564725\ttotal: 1.21s\tremaining: 202ms\n",
            "857:\tlearn: 2823.3801633\ttotal: 1.21s\tremaining: 200ms\n",
            "858:\tlearn: 2823.1927340\ttotal: 1.21s\tremaining: 199ms\n",
            "859:\tlearn: 2822.7157953\ttotal: 1.21s\tremaining: 197ms\n",
            "860:\tlearn: 2821.9470102\ttotal: 1.21s\tremaining: 196ms\n",
            "861:\tlearn: 2821.2185862\ttotal: 1.21s\tremaining: 194ms\n",
            "862:\tlearn: 2821.1090876\ttotal: 1.22s\tremaining: 193ms\n",
            "863:\tlearn: 2819.0004186\ttotal: 1.22s\tremaining: 192ms\n",
            "864:\tlearn: 2817.8081084\ttotal: 1.22s\tremaining: 190ms\n",
            "865:\tlearn: 2816.0100724\ttotal: 1.22s\tremaining: 189ms\n",
            "866:\tlearn: 2814.8846794\ttotal: 1.22s\tremaining: 187ms\n",
            "867:\tlearn: 2813.6517986\ttotal: 1.22s\tremaining: 186ms\n",
            "868:\tlearn: 2812.8883921\ttotal: 1.22s\tremaining: 184ms\n",
            "869:\tlearn: 2812.2878138\ttotal: 1.23s\tremaining: 183ms\n",
            "870:\tlearn: 2810.7021399\ttotal: 1.23s\tremaining: 182ms\n",
            "871:\tlearn: 2808.6243641\ttotal: 1.23s\tremaining: 180ms\n",
            "872:\tlearn: 2808.2527972\ttotal: 1.23s\tremaining: 179ms\n",
            "873:\tlearn: 2805.8259855\ttotal: 1.23s\tremaining: 177ms\n",
            "874:\tlearn: 2803.7630026\ttotal: 1.23s\tremaining: 176ms\n",
            "875:\tlearn: 2803.4900312\ttotal: 1.23s\tremaining: 175ms\n",
            "876:\tlearn: 2803.4182829\ttotal: 1.23s\tremaining: 173ms\n",
            "877:\tlearn: 2802.5216719\ttotal: 1.24s\tremaining: 172ms\n",
            "878:\tlearn: 2802.0815223\ttotal: 1.24s\tremaining: 170ms\n",
            "879:\tlearn: 2801.5407833\ttotal: 1.24s\tremaining: 169ms\n",
            "880:\tlearn: 2800.4399243\ttotal: 1.24s\tremaining: 167ms\n",
            "881:\tlearn: 2800.2175692\ttotal: 1.24s\tremaining: 166ms\n",
            "882:\tlearn: 2799.5035194\ttotal: 1.24s\tremaining: 165ms\n",
            "883:\tlearn: 2797.7002263\ttotal: 1.24s\tremaining: 163ms\n",
            "884:\tlearn: 2796.1029059\ttotal: 1.25s\tremaining: 162ms\n",
            "885:\tlearn: 2795.0352190\ttotal: 1.25s\tremaining: 160ms\n",
            "886:\tlearn: 2793.6605920\ttotal: 1.25s\tremaining: 159ms\n",
            "887:\tlearn: 2792.1002881\ttotal: 1.25s\tremaining: 158ms\n",
            "888:\tlearn: 2791.1230563\ttotal: 1.25s\tremaining: 156ms\n",
            "889:\tlearn: 2790.5115006\ttotal: 1.25s\tremaining: 155ms\n",
            "890:\tlearn: 2789.4072687\ttotal: 1.25s\tremaining: 153ms\n",
            "891:\tlearn: 2788.7724801\ttotal: 1.25s\tremaining: 152ms\n",
            "892:\tlearn: 2786.6164496\ttotal: 1.25s\tremaining: 150ms\n",
            "893:\tlearn: 2786.0811349\ttotal: 1.26s\tremaining: 149ms\n",
            "894:\tlearn: 2783.2884580\ttotal: 1.26s\tremaining: 148ms\n",
            "895:\tlearn: 2781.2003308\ttotal: 1.26s\tremaining: 146ms\n",
            "896:\tlearn: 2778.5018296\ttotal: 1.26s\tremaining: 145ms\n",
            "897:\tlearn: 2777.4132691\ttotal: 1.26s\tremaining: 143ms\n",
            "898:\tlearn: 2777.0911315\ttotal: 1.26s\tremaining: 142ms\n",
            "899:\tlearn: 2777.0065356\ttotal: 1.26s\tremaining: 140ms\n",
            "900:\tlearn: 2775.9844372\ttotal: 1.26s\tremaining: 139ms\n",
            "901:\tlearn: 2774.3863766\ttotal: 1.27s\tremaining: 138ms\n",
            "902:\tlearn: 2773.4568265\ttotal: 1.27s\tremaining: 136ms\n",
            "903:\tlearn: 2772.9350875\ttotal: 1.27s\tremaining: 135ms\n",
            "904:\tlearn: 2772.3581455\ttotal: 1.27s\tremaining: 133ms\n",
            "905:\tlearn: 2771.8158381\ttotal: 1.27s\tremaining: 132ms\n",
            "906:\tlearn: 2771.2204831\ttotal: 1.27s\tremaining: 131ms\n",
            "907:\tlearn: 2770.1934797\ttotal: 1.27s\tremaining: 129ms\n",
            "908:\tlearn: 2770.0868779\ttotal: 1.28s\tremaining: 128ms\n",
            "909:\tlearn: 2768.7654944\ttotal: 1.28s\tremaining: 127ms\n",
            "910:\tlearn: 2766.7588478\ttotal: 1.28s\tremaining: 125ms\n",
            "911:\tlearn: 2764.8826811\ttotal: 1.28s\tremaining: 124ms\n",
            "912:\tlearn: 2763.5852671\ttotal: 1.28s\tremaining: 122ms\n",
            "913:\tlearn: 2762.9571877\ttotal: 1.28s\tremaining: 121ms\n",
            "914:\tlearn: 2762.1616550\ttotal: 1.29s\tremaining: 119ms\n",
            "915:\tlearn: 2760.6042822\ttotal: 1.29s\tremaining: 118ms\n",
            "916:\tlearn: 2759.2529623\ttotal: 1.29s\tremaining: 117ms\n",
            "917:\tlearn: 2758.1978642\ttotal: 1.29s\tremaining: 115ms\n",
            "918:\tlearn: 2757.9013142\ttotal: 1.29s\tremaining: 114ms\n",
            "919:\tlearn: 2757.1467816\ttotal: 1.29s\tremaining: 113ms\n",
            "920:\tlearn: 2756.9543703\ttotal: 1.3s\tremaining: 111ms\n",
            "921:\tlearn: 2755.1602971\ttotal: 1.3s\tremaining: 110ms\n",
            "922:\tlearn: 2754.8855155\ttotal: 1.3s\tremaining: 108ms\n",
            "923:\tlearn: 2752.8155699\ttotal: 1.3s\tremaining: 107ms\n",
            "924:\tlearn: 2752.1571447\ttotal: 1.3s\tremaining: 106ms\n",
            "925:\tlearn: 2750.9350048\ttotal: 1.3s\tremaining: 104ms\n",
            "926:\tlearn: 2748.9784677\ttotal: 1.3s\tremaining: 103ms\n",
            "927:\tlearn: 2748.0136103\ttotal: 1.3s\tremaining: 101ms\n",
            "928:\tlearn: 2747.6714825\ttotal: 1.31s\tremaining: 99.8ms\n",
            "929:\tlearn: 2746.5632344\ttotal: 1.31s\tremaining: 98.4ms\n",
            "930:\tlearn: 2745.6887173\ttotal: 1.31s\tremaining: 97ms\n",
            "931:\tlearn: 2743.6569110\ttotal: 1.31s\tremaining: 95.6ms\n",
            "932:\tlearn: 2743.0612604\ttotal: 1.31s\tremaining: 94.2ms\n",
            "933:\tlearn: 2742.5722991\ttotal: 1.31s\tremaining: 92.8ms\n",
            "934:\tlearn: 2742.3353892\ttotal: 1.31s\tremaining: 91.4ms\n",
            "935:\tlearn: 2741.8468647\ttotal: 1.31s\tremaining: 90ms\n",
            "936:\tlearn: 2741.0268780\ttotal: 1.32s\tremaining: 88.6ms\n",
            "937:\tlearn: 2740.4426707\ttotal: 1.32s\tremaining: 87.2ms\n",
            "938:\tlearn: 2739.9683823\ttotal: 1.32s\tremaining: 85.7ms\n",
            "939:\tlearn: 2738.6557256\ttotal: 1.32s\tremaining: 84.3ms\n",
            "940:\tlearn: 2736.0997369\ttotal: 1.32s\tremaining: 82.9ms\n",
            "941:\tlearn: 2734.5588136\ttotal: 1.32s\tremaining: 81.5ms\n",
            "942:\tlearn: 2733.8087140\ttotal: 1.32s\tremaining: 80.1ms\n",
            "943:\tlearn: 2733.4899155\ttotal: 1.33s\tremaining: 78.7ms\n",
            "944:\tlearn: 2732.4521760\ttotal: 1.33s\tremaining: 77.3ms\n",
            "945:\tlearn: 2730.8890425\ttotal: 1.33s\tremaining: 75.9ms\n",
            "946:\tlearn: 2730.2539806\ttotal: 1.33s\tremaining: 74.4ms\n",
            "947:\tlearn: 2730.0583983\ttotal: 1.33s\tremaining: 73ms\n",
            "948:\tlearn: 2729.6066252\ttotal: 1.33s\tremaining: 71.6ms\n",
            "949:\tlearn: 2729.0422115\ttotal: 1.33s\tremaining: 70.2ms\n",
            "950:\tlearn: 2728.4995841\ttotal: 1.33s\tremaining: 68.8ms\n",
            "951:\tlearn: 2726.5299496\ttotal: 1.34s\tremaining: 67.4ms\n",
            "952:\tlearn: 2725.6161377\ttotal: 1.34s\tremaining: 66ms\n",
            "953:\tlearn: 2724.2927572\ttotal: 1.34s\tremaining: 64.6ms\n",
            "954:\tlearn: 2723.7805859\ttotal: 1.34s\tremaining: 63.2ms\n",
            "955:\tlearn: 2722.6535588\ttotal: 1.34s\tremaining: 61.8ms\n",
            "956:\tlearn: 2721.5405342\ttotal: 1.34s\tremaining: 60.4ms\n",
            "957:\tlearn: 2719.6618123\ttotal: 1.34s\tremaining: 59ms\n",
            "958:\tlearn: 2717.7162927\ttotal: 1.34s\tremaining: 57.5ms\n",
            "959:\tlearn: 2717.4845696\ttotal: 1.35s\tremaining: 56.1ms\n",
            "960:\tlearn: 2716.0064480\ttotal: 1.35s\tremaining: 54.7ms\n",
            "961:\tlearn: 2713.8460976\ttotal: 1.35s\tremaining: 53.3ms\n",
            "962:\tlearn: 2713.3260796\ttotal: 1.35s\tremaining: 51.9ms\n",
            "963:\tlearn: 2711.5052505\ttotal: 1.35s\tremaining: 50.5ms\n",
            "964:\tlearn: 2709.6322785\ttotal: 1.35s\tremaining: 49.1ms\n",
            "965:\tlearn: 2707.8122182\ttotal: 1.35s\tremaining: 47.7ms\n",
            "966:\tlearn: 2705.8066940\ttotal: 1.35s\tremaining: 46.3ms\n",
            "967:\tlearn: 2704.6613639\ttotal: 1.36s\tremaining: 44.9ms\n",
            "968:\tlearn: 2704.4145608\ttotal: 1.36s\tremaining: 43.5ms\n",
            "969:\tlearn: 2703.5327615\ttotal: 1.36s\tremaining: 42.1ms\n",
            "970:\tlearn: 2702.8715684\ttotal: 1.36s\tremaining: 40.7ms\n",
            "971:\tlearn: 2701.4300966\ttotal: 1.36s\tremaining: 39.3ms\n",
            "972:\tlearn: 2700.7013283\ttotal: 1.36s\tremaining: 37.9ms\n",
            "973:\tlearn: 2699.8714846\ttotal: 1.37s\tremaining: 36.5ms\n",
            "974:\tlearn: 2698.1654667\ttotal: 1.37s\tremaining: 35.1ms\n",
            "975:\tlearn: 2697.0360736\ttotal: 1.37s\tremaining: 33.7ms\n",
            "976:\tlearn: 2695.9857042\ttotal: 1.37s\tremaining: 32.3ms\n",
            "977:\tlearn: 2693.1602024\ttotal: 1.37s\tremaining: 30.9ms\n",
            "978:\tlearn: 2692.4201058\ttotal: 1.37s\tremaining: 29.5ms\n",
            "979:\tlearn: 2690.4867024\ttotal: 1.37s\tremaining: 28.1ms\n",
            "980:\tlearn: 2690.1513602\ttotal: 1.38s\tremaining: 26.6ms\n",
            "981:\tlearn: 2688.9108495\ttotal: 1.38s\tremaining: 25.2ms\n",
            "982:\tlearn: 2687.2422437\ttotal: 1.38s\tremaining: 23.8ms\n",
            "983:\tlearn: 2686.9780526\ttotal: 1.38s\tremaining: 22.4ms\n",
            "984:\tlearn: 2685.9359504\ttotal: 1.38s\tremaining: 21ms\n",
            "985:\tlearn: 2683.8542007\ttotal: 1.38s\tremaining: 19.6ms\n",
            "986:\tlearn: 2682.5629877\ttotal: 1.38s\tremaining: 18.2ms\n",
            "987:\tlearn: 2681.3572602\ttotal: 1.39s\tremaining: 16.8ms\n",
            "988:\tlearn: 2679.1580210\ttotal: 1.39s\tremaining: 15.4ms\n",
            "989:\tlearn: 2678.3757558\ttotal: 1.39s\tremaining: 14ms\n",
            "990:\tlearn: 2676.7505514\ttotal: 1.39s\tremaining: 12.6ms\n",
            "991:\tlearn: 2675.6843039\ttotal: 1.39s\tremaining: 11.2ms\n",
            "992:\tlearn: 2675.4638939\ttotal: 1.39s\tremaining: 9.81ms\n",
            "993:\tlearn: 2673.7024649\ttotal: 1.39s\tremaining: 8.41ms\n",
            "994:\tlearn: 2672.6241638\ttotal: 1.39s\tremaining: 7ms\n",
            "995:\tlearn: 2670.9100224\ttotal: 1.4s\tremaining: 5.6ms\n",
            "996:\tlearn: 2669.4891195\ttotal: 1.4s\tremaining: 4.2ms\n",
            "997:\tlearn: 2668.3411051\ttotal: 1.4s\tremaining: 2.8ms\n",
            "998:\tlearn: 2665.9576979\ttotal: 1.4s\tremaining: 1.4ms\n",
            "999:\tlearn: 2664.7967260\ttotal: 1.4s\tremaining: 0us\n",
            "MAE:  2582.509149593023\n",
            "MSE:  21033839.666745797\n",
            "r2 score:  0.8645152236373643\n"
          ]
        }
      ]
    },
    {
      "cell_type": "markdown",
      "source": [
        "Altı tane regresyon modeli denendi. En iyi performans gösteren regresyon modeli XGBoost Regresyon modeli olmuştur."
      ],
      "metadata": {
        "id": "z5yyTfdACp4v"
      }
    },
    {
      "cell_type": "markdown",
      "source": [
        "# Seçilen Modelin Performansı Cross Validation Kullanılarak İncelendi"
      ],
      "metadata": {
        "id": "YbQ6bTW8U-yQ"
      }
    },
    {
      "cell_type": "code",
      "source": [
        "from sklearn.model_selection import cross_val_score,KFold\n",
        "kf=KFold(n_splits=5)\n",
        "score=cross_val_score(model,X_train,y_train,cv=kf)\n",
        "print(\"Cross Validation Score are {}\".format(score))\n",
        "print(\"Average Cross Validation score :{}\".format(score.mean()))"
      ],
      "metadata": {
        "colab": {
          "base_uri": "https://localhost:8080/"
        },
        "id": "KicDJKklB1C0",
        "outputId": "0a4ee768-a45b-46a5-f618-1782f31504c5"
      },
      "execution_count": 42,
      "outputs": [
        {
          "output_type": "stream",
          "name": "stdout",
          "text": [
            "[17:26:44] WARNING: /workspace/src/objective/regression_obj.cu:152: reg:linear is now deprecated in favor of reg:squarederror.\n",
            "[17:26:44] WARNING: /workspace/src/objective/regression_obj.cu:152: reg:linear is now deprecated in favor of reg:squarederror.\n",
            "[17:26:44] WARNING: /workspace/src/objective/regression_obj.cu:152: reg:linear is now deprecated in favor of reg:squarederror.\n",
            "[17:26:44] WARNING: /workspace/src/objective/regression_obj.cu:152: reg:linear is now deprecated in favor of reg:squarederror.\n",
            "[17:26:44] WARNING: /workspace/src/objective/regression_obj.cu:152: reg:linear is now deprecated in favor of reg:squarederror.\n",
            "Cross Validation Score are [0.83674851 0.91882059 0.825454   0.79057074 0.84698618]\n",
            "Average Cross Validation score :0.8437160021205425\n"
          ]
        }
      ]
    },
    {
      "cell_type": "code",
      "source": [
        "kf=KFold(n_splits=5)\n",
        "score=cross_val_score(rf_reg,X_train,y_train,cv=kf)\n",
        "print(\"Cross Validation Score are {}\".format(score))\n",
        "print(\"Average Cross Validation score :{}\".format(score.mean()))"
      ],
      "metadata": {
        "colab": {
          "base_uri": "https://localhost:8080/"
        },
        "id": "Vq42G12RC9Pz",
        "outputId": "249d19a6-4f28-45c5-efb2-e453cff3f8e3"
      },
      "execution_count": 43,
      "outputs": [
        {
          "output_type": "stream",
          "name": "stdout",
          "text": [
            "Cross Validation Score are [0.8154961  0.89117666 0.78208545 0.76802772 0.82092793]\n",
            "Average Cross Validation score :0.815542771472168\n"
          ]
        }
      ]
    },
    {
      "cell_type": "markdown",
      "source": [
        "# GridSearch İle Hyperparametre Optimizasyonu Uygulandı"
      ],
      "metadata": {
        "id": "MCH3aqlSVLUZ"
      }
    },
    {
      "cell_type": "code",
      "source": [
        "from sklearn.model_selection import GridSearchCV\n",
        "params = { 'max_depth': [3,6,10],\n",
        "           'learning_rate': [0.01, 0.05, 0.1],\n",
        "           'n_estimators': [100, 500, 1000],\n",
        "           'colsample_bytree': [0.3, 0.7]}\n",
        "clf = GridSearchCV(estimator=model, \n",
        "                   param_grid=params,\n",
        "                   scoring='neg_mean_squared_error', \n",
        "                   verbose=1)\n",
        "grid_search = clf.fit(X_train,y_train)\n"
      ],
      "metadata": {
        "id": "VCH392qqEFYv",
        "colab": {
          "base_uri": "https://localhost:8080/"
        },
        "outputId": "6916fe74-b71a-42fc-ef57-aa59ccaaa407"
      },
      "execution_count": 44,
      "outputs": [
        {
          "output_type": "stream",
          "name": "stdout",
          "text": [
            "Fitting 5 folds for each of 54 candidates, totalling 270 fits\n",
            "[17:26:44] WARNING: /workspace/src/objective/regression_obj.cu:152: reg:linear is now deprecated in favor of reg:squarederror.\n",
            "[17:26:44] WARNING: /workspace/src/objective/regression_obj.cu:152: reg:linear is now deprecated in favor of reg:squarederror.\n",
            "[17:26:44] WARNING: /workspace/src/objective/regression_obj.cu:152: reg:linear is now deprecated in favor of reg:squarederror.\n",
            "[17:26:44] WARNING: /workspace/src/objective/regression_obj.cu:152: reg:linear is now deprecated in favor of reg:squarederror.\n",
            "[17:26:44] WARNING: /workspace/src/objective/regression_obj.cu:152: reg:linear is now deprecated in favor of reg:squarederror.\n",
            "[17:26:44] WARNING: /workspace/src/objective/regression_obj.cu:152: reg:linear is now deprecated in favor of reg:squarederror.\n",
            "[17:26:45] WARNING: /workspace/src/objective/regression_obj.cu:152: reg:linear is now deprecated in favor of reg:squarederror.\n",
            "[17:26:45] WARNING: /workspace/src/objective/regression_obj.cu:152: reg:linear is now deprecated in favor of reg:squarederror.\n",
            "[17:26:45] WARNING: /workspace/src/objective/regression_obj.cu:152: reg:linear is now deprecated in favor of reg:squarederror.\n",
            "[17:26:45] WARNING: /workspace/src/objective/regression_obj.cu:152: reg:linear is now deprecated in favor of reg:squarederror.\n",
            "[17:26:45] WARNING: /workspace/src/objective/regression_obj.cu:152: reg:linear is now deprecated in favor of reg:squarederror.\n",
            "[17:26:45] WARNING: /workspace/src/objective/regression_obj.cu:152: reg:linear is now deprecated in favor of reg:squarederror.\n",
            "[17:26:46] WARNING: /workspace/src/objective/regression_obj.cu:152: reg:linear is now deprecated in favor of reg:squarederror.\n",
            "[17:26:46] WARNING: /workspace/src/objective/regression_obj.cu:152: reg:linear is now deprecated in favor of reg:squarederror.\n",
            "[17:26:46] WARNING: /workspace/src/objective/regression_obj.cu:152: reg:linear is now deprecated in favor of reg:squarederror.\n",
            "[17:26:47] WARNING: /workspace/src/objective/regression_obj.cu:152: reg:linear is now deprecated in favor of reg:squarederror.\n",
            "[17:26:47] WARNING: /workspace/src/objective/regression_obj.cu:152: reg:linear is now deprecated in favor of reg:squarederror.\n",
            "[17:26:47] WARNING: /workspace/src/objective/regression_obj.cu:152: reg:linear is now deprecated in favor of reg:squarederror.\n",
            "[17:26:47] WARNING: /workspace/src/objective/regression_obj.cu:152: reg:linear is now deprecated in favor of reg:squarederror.\n",
            "[17:26:47] WARNING: /workspace/src/objective/regression_obj.cu:152: reg:linear is now deprecated in favor of reg:squarederror.\n",
            "[17:26:47] WARNING: /workspace/src/objective/regression_obj.cu:152: reg:linear is now deprecated in favor of reg:squarederror.\n",
            "[17:26:47] WARNING: /workspace/src/objective/regression_obj.cu:152: reg:linear is now deprecated in favor of reg:squarederror.\n",
            "[17:26:47] WARNING: /workspace/src/objective/regression_obj.cu:152: reg:linear is now deprecated in favor of reg:squarederror.\n",
            "[17:26:47] WARNING: /workspace/src/objective/regression_obj.cu:152: reg:linear is now deprecated in favor of reg:squarederror.\n",
            "[17:26:48] WARNING: /workspace/src/objective/regression_obj.cu:152: reg:linear is now deprecated in favor of reg:squarederror.\n",
            "[17:26:48] WARNING: /workspace/src/objective/regression_obj.cu:152: reg:linear is now deprecated in favor of reg:squarederror.\n",
            "[17:26:48] WARNING: /workspace/src/objective/regression_obj.cu:152: reg:linear is now deprecated in favor of reg:squarederror.\n",
            "[17:26:49] WARNING: /workspace/src/objective/regression_obj.cu:152: reg:linear is now deprecated in favor of reg:squarederror.\n",
            "[17:26:49] WARNING: /workspace/src/objective/regression_obj.cu:152: reg:linear is now deprecated in favor of reg:squarederror.\n",
            "[17:26:49] WARNING: /workspace/src/objective/regression_obj.cu:152: reg:linear is now deprecated in favor of reg:squarederror.\n",
            "[17:26:50] WARNING: /workspace/src/objective/regression_obj.cu:152: reg:linear is now deprecated in favor of reg:squarederror.\n",
            "[17:26:50] WARNING: /workspace/src/objective/regression_obj.cu:152: reg:linear is now deprecated in favor of reg:squarederror.\n",
            "[17:26:50] WARNING: /workspace/src/objective/regression_obj.cu:152: reg:linear is now deprecated in favor of reg:squarederror.\n",
            "[17:26:50] WARNING: /workspace/src/objective/regression_obj.cu:152: reg:linear is now deprecated in favor of reg:squarederror.\n",
            "[17:26:50] WARNING: /workspace/src/objective/regression_obj.cu:152: reg:linear is now deprecated in favor of reg:squarederror.\n",
            "[17:26:50] WARNING: /workspace/src/objective/regression_obj.cu:152: reg:linear is now deprecated in favor of reg:squarederror.\n",
            "[17:26:50] WARNING: /workspace/src/objective/regression_obj.cu:152: reg:linear is now deprecated in favor of reg:squarederror.\n",
            "[17:26:50] WARNING: /workspace/src/objective/regression_obj.cu:152: reg:linear is now deprecated in favor of reg:squarederror.\n",
            "[17:26:51] WARNING: /workspace/src/objective/regression_obj.cu:152: reg:linear is now deprecated in favor of reg:squarederror.\n",
            "[17:26:51] WARNING: /workspace/src/objective/regression_obj.cu:152: reg:linear is now deprecated in favor of reg:squarederror.\n",
            "[17:26:51] WARNING: /workspace/src/objective/regression_obj.cu:152: reg:linear is now deprecated in favor of reg:squarederror.\n",
            "[17:26:52] WARNING: /workspace/src/objective/regression_obj.cu:152: reg:linear is now deprecated in favor of reg:squarederror.\n",
            "[17:26:52] WARNING: /workspace/src/objective/regression_obj.cu:152: reg:linear is now deprecated in favor of reg:squarederror.\n",
            "[17:26:52] WARNING: /workspace/src/objective/regression_obj.cu:152: reg:linear is now deprecated in favor of reg:squarederror.\n",
            "[17:26:53] WARNING: /workspace/src/objective/regression_obj.cu:152: reg:linear is now deprecated in favor of reg:squarederror.\n",
            "[17:26:53] WARNING: /workspace/src/objective/regression_obj.cu:152: reg:linear is now deprecated in favor of reg:squarederror.\n",
            "[17:26:53] WARNING: /workspace/src/objective/regression_obj.cu:152: reg:linear is now deprecated in favor of reg:squarederror.\n",
            "[17:26:54] WARNING: /workspace/src/objective/regression_obj.cu:152: reg:linear is now deprecated in favor of reg:squarederror.\n",
            "[17:26:54] WARNING: /workspace/src/objective/regression_obj.cu:152: reg:linear is now deprecated in favor of reg:squarederror.\n",
            "[17:26:54] WARNING: /workspace/src/objective/regression_obj.cu:152: reg:linear is now deprecated in favor of reg:squarederror.\n",
            "[17:26:54] WARNING: /workspace/src/objective/regression_obj.cu:152: reg:linear is now deprecated in favor of reg:squarederror.\n",
            "[17:26:54] WARNING: /workspace/src/objective/regression_obj.cu:152: reg:linear is now deprecated in favor of reg:squarederror.\n",
            "[17:26:54] WARNING: /workspace/src/objective/regression_obj.cu:152: reg:linear is now deprecated in favor of reg:squarederror.\n",
            "[17:26:54] WARNING: /workspace/src/objective/regression_obj.cu:152: reg:linear is now deprecated in favor of reg:squarederror.\n",
            "[17:26:54] WARNING: /workspace/src/objective/regression_obj.cu:152: reg:linear is now deprecated in favor of reg:squarederror.\n",
            "[17:26:54] WARNING: /workspace/src/objective/regression_obj.cu:152: reg:linear is now deprecated in favor of reg:squarederror.\n",
            "[17:26:55] WARNING: /workspace/src/objective/regression_obj.cu:152: reg:linear is now deprecated in favor of reg:squarederror.\n",
            "[17:26:55] WARNING: /workspace/src/objective/regression_obj.cu:152: reg:linear is now deprecated in favor of reg:squarederror.\n",
            "[17:26:55] WARNING: /workspace/src/objective/regression_obj.cu:152: reg:linear is now deprecated in favor of reg:squarederror.\n",
            "[17:26:55] WARNING: /workspace/src/objective/regression_obj.cu:152: reg:linear is now deprecated in favor of reg:squarederror.\n",
            "[17:26:56] WARNING: /workspace/src/objective/regression_obj.cu:152: reg:linear is now deprecated in favor of reg:squarederror.\n",
            "[17:26:56] WARNING: /workspace/src/objective/regression_obj.cu:152: reg:linear is now deprecated in favor of reg:squarederror.\n",
            "[17:26:56] WARNING: /workspace/src/objective/regression_obj.cu:152: reg:linear is now deprecated in favor of reg:squarederror.\n",
            "[17:26:56] WARNING: /workspace/src/objective/regression_obj.cu:152: reg:linear is now deprecated in favor of reg:squarederror.\n",
            "[17:26:56] WARNING: /workspace/src/objective/regression_obj.cu:152: reg:linear is now deprecated in favor of reg:squarederror.\n",
            "[17:26:56] WARNING: /workspace/src/objective/regression_obj.cu:152: reg:linear is now deprecated in favor of reg:squarederror.\n",
            "[17:26:56] WARNING: /workspace/src/objective/regression_obj.cu:152: reg:linear is now deprecated in favor of reg:squarederror.\n",
            "[17:26:56] WARNING: /workspace/src/objective/regression_obj.cu:152: reg:linear is now deprecated in favor of reg:squarederror.\n",
            "[17:26:57] WARNING: /workspace/src/objective/regression_obj.cu:152: reg:linear is now deprecated in favor of reg:squarederror.\n",
            "[17:26:57] WARNING: /workspace/src/objective/regression_obj.cu:152: reg:linear is now deprecated in favor of reg:squarederror.\n",
            "[17:26:57] WARNING: /workspace/src/objective/regression_obj.cu:152: reg:linear is now deprecated in favor of reg:squarederror.\n",
            "[17:26:57] WARNING: /workspace/src/objective/regression_obj.cu:152: reg:linear is now deprecated in favor of reg:squarederror.\n",
            "[17:26:58] WARNING: /workspace/src/objective/regression_obj.cu:152: reg:linear is now deprecated in favor of reg:squarederror.\n",
            "[17:26:58] WARNING: /workspace/src/objective/regression_obj.cu:152: reg:linear is now deprecated in favor of reg:squarederror.\n",
            "[17:26:58] WARNING: /workspace/src/objective/regression_obj.cu:152: reg:linear is now deprecated in favor of reg:squarederror.\n",
            "[17:26:59] WARNING: /workspace/src/objective/regression_obj.cu:152: reg:linear is now deprecated in favor of reg:squarederror.\n",
            "[17:26:59] WARNING: /workspace/src/objective/regression_obj.cu:152: reg:linear is now deprecated in favor of reg:squarederror.\n",
            "[17:26:59] WARNING: /workspace/src/objective/regression_obj.cu:152: reg:linear is now deprecated in favor of reg:squarederror.\n",
            "[17:26:59] WARNING: /workspace/src/objective/regression_obj.cu:152: reg:linear is now deprecated in favor of reg:squarederror.\n",
            "[17:26:59] WARNING: /workspace/src/objective/regression_obj.cu:152: reg:linear is now deprecated in favor of reg:squarederror.\n",
            "[17:26:59] WARNING: /workspace/src/objective/regression_obj.cu:152: reg:linear is now deprecated in favor of reg:squarederror.\n",
            "[17:26:59] WARNING: /workspace/src/objective/regression_obj.cu:152: reg:linear is now deprecated in favor of reg:squarederror.\n",
            "[17:27:00] WARNING: /workspace/src/objective/regression_obj.cu:152: reg:linear is now deprecated in favor of reg:squarederror.\n",
            "[17:27:00] WARNING: /workspace/src/objective/regression_obj.cu:152: reg:linear is now deprecated in favor of reg:squarederror.\n",
            "[17:27:00] WARNING: /workspace/src/objective/regression_obj.cu:152: reg:linear is now deprecated in favor of reg:squarederror.\n",
            "[17:27:00] WARNING: /workspace/src/objective/regression_obj.cu:152: reg:linear is now deprecated in favor of reg:squarederror.\n",
            "[17:27:01] WARNING: /workspace/src/objective/regression_obj.cu:152: reg:linear is now deprecated in favor of reg:squarederror.\n",
            "[17:27:01] WARNING: /workspace/src/objective/regression_obj.cu:152: reg:linear is now deprecated in favor of reg:squarederror.\n",
            "[17:27:02] WARNING: /workspace/src/objective/regression_obj.cu:152: reg:linear is now deprecated in favor of reg:squarederror.\n",
            "[17:27:02] WARNING: /workspace/src/objective/regression_obj.cu:152: reg:linear is now deprecated in favor of reg:squarederror.\n",
            "[17:27:03] WARNING: /workspace/src/objective/regression_obj.cu:152: reg:linear is now deprecated in favor of reg:squarederror.\n",
            "[17:27:03] WARNING: /workspace/src/objective/regression_obj.cu:152: reg:linear is now deprecated in favor of reg:squarederror.\n",
            "[17:27:03] WARNING: /workspace/src/objective/regression_obj.cu:152: reg:linear is now deprecated in favor of reg:squarederror.\n",
            "[17:27:03] WARNING: /workspace/src/objective/regression_obj.cu:152: reg:linear is now deprecated in favor of reg:squarederror.\n",
            "[17:27:03] WARNING: /workspace/src/objective/regression_obj.cu:152: reg:linear is now deprecated in favor of reg:squarederror.\n",
            "[17:27:03] WARNING: /workspace/src/objective/regression_obj.cu:152: reg:linear is now deprecated in favor of reg:squarederror.\n",
            "[17:27:03] WARNING: /workspace/src/objective/regression_obj.cu:152: reg:linear is now deprecated in favor of reg:squarederror.\n",
            "[17:27:03] WARNING: /workspace/src/objective/regression_obj.cu:152: reg:linear is now deprecated in favor of reg:squarederror.\n",
            "[17:27:03] WARNING: /workspace/src/objective/regression_obj.cu:152: reg:linear is now deprecated in favor of reg:squarederror.\n",
            "[17:27:03] WARNING: /workspace/src/objective/regression_obj.cu:152: reg:linear is now deprecated in favor of reg:squarederror.\n",
            "[17:27:04] WARNING: /workspace/src/objective/regression_obj.cu:152: reg:linear is now deprecated in favor of reg:squarederror.\n",
            "[17:27:04] WARNING: /workspace/src/objective/regression_obj.cu:152: reg:linear is now deprecated in favor of reg:squarederror.\n",
            "[17:27:04] WARNING: /workspace/src/objective/regression_obj.cu:152: reg:linear is now deprecated in favor of reg:squarederror.\n",
            "[17:27:04] WARNING: /workspace/src/objective/regression_obj.cu:152: reg:linear is now deprecated in favor of reg:squarederror.\n",
            "[17:27:05] WARNING: /workspace/src/objective/regression_obj.cu:152: reg:linear is now deprecated in favor of reg:squarederror.\n",
            "[17:27:05] WARNING: /workspace/src/objective/regression_obj.cu:152: reg:linear is now deprecated in favor of reg:squarederror.\n",
            "[17:27:05] WARNING: /workspace/src/objective/regression_obj.cu:152: reg:linear is now deprecated in favor of reg:squarederror.\n",
            "[17:27:05] WARNING: /workspace/src/objective/regression_obj.cu:152: reg:linear is now deprecated in favor of reg:squarederror.\n",
            "[17:27:05] WARNING: /workspace/src/objective/regression_obj.cu:152: reg:linear is now deprecated in favor of reg:squarederror.\n",
            "[17:27:05] WARNING: /workspace/src/objective/regression_obj.cu:152: reg:linear is now deprecated in favor of reg:squarederror.\n",
            "[17:27:05] WARNING: /workspace/src/objective/regression_obj.cu:152: reg:linear is now deprecated in favor of reg:squarederror.\n",
            "[17:27:05] WARNING: /workspace/src/objective/regression_obj.cu:152: reg:linear is now deprecated in favor of reg:squarederror.\n",
            "[17:27:06] WARNING: /workspace/src/objective/regression_obj.cu:152: reg:linear is now deprecated in favor of reg:squarederror.\n",
            "[17:27:06] WARNING: /workspace/src/objective/regression_obj.cu:152: reg:linear is now deprecated in favor of reg:squarederror.\n",
            "[17:27:06] WARNING: /workspace/src/objective/regression_obj.cu:152: reg:linear is now deprecated in favor of reg:squarederror.\n",
            "[17:27:06] WARNING: /workspace/src/objective/regression_obj.cu:152: reg:linear is now deprecated in favor of reg:squarederror.\n",
            "[17:27:06] WARNING: /workspace/src/objective/regression_obj.cu:152: reg:linear is now deprecated in favor of reg:squarederror.\n",
            "[17:27:07] WARNING: /workspace/src/objective/regression_obj.cu:152: reg:linear is now deprecated in favor of reg:squarederror.\n",
            "[17:27:08] WARNING: /workspace/src/objective/regression_obj.cu:152: reg:linear is now deprecated in favor of reg:squarederror.\n",
            "[17:27:08] WARNING: /workspace/src/objective/regression_obj.cu:152: reg:linear is now deprecated in favor of reg:squarederror.\n",
            "[17:27:09] WARNING: /workspace/src/objective/regression_obj.cu:152: reg:linear is now deprecated in favor of reg:squarederror.\n",
            "[17:27:09] WARNING: /workspace/src/objective/regression_obj.cu:152: reg:linear is now deprecated in favor of reg:squarederror.\n",
            "[17:27:09] WARNING: /workspace/src/objective/regression_obj.cu:152: reg:linear is now deprecated in favor of reg:squarederror.\n",
            "[17:27:09] WARNING: /workspace/src/objective/regression_obj.cu:152: reg:linear is now deprecated in favor of reg:squarederror.\n",
            "[17:27:09] WARNING: /workspace/src/objective/regression_obj.cu:152: reg:linear is now deprecated in favor of reg:squarederror.\n",
            "[17:27:09] WARNING: /workspace/src/objective/regression_obj.cu:152: reg:linear is now deprecated in favor of reg:squarederror.\n",
            "[17:27:09] WARNING: /workspace/src/objective/regression_obj.cu:152: reg:linear is now deprecated in favor of reg:squarederror.\n",
            "[17:27:09] WARNING: /workspace/src/objective/regression_obj.cu:152: reg:linear is now deprecated in favor of reg:squarederror.\n",
            "[17:27:10] WARNING: /workspace/src/objective/regression_obj.cu:152: reg:linear is now deprecated in favor of reg:squarederror.\n",
            "[17:27:10] WARNING: /workspace/src/objective/regression_obj.cu:152: reg:linear is now deprecated in favor of reg:squarederror.\n",
            "[17:27:10] WARNING: /workspace/src/objective/regression_obj.cu:152: reg:linear is now deprecated in favor of reg:squarederror.\n",
            "[17:27:11] WARNING: /workspace/src/objective/regression_obj.cu:152: reg:linear is now deprecated in favor of reg:squarederror.\n",
            "[17:27:11] WARNING: /workspace/src/objective/regression_obj.cu:152: reg:linear is now deprecated in favor of reg:squarederror.\n",
            "[17:27:12] WARNING: /workspace/src/objective/regression_obj.cu:152: reg:linear is now deprecated in favor of reg:squarederror.\n",
            "[17:27:12] WARNING: /workspace/src/objective/regression_obj.cu:152: reg:linear is now deprecated in favor of reg:squarederror.\n",
            "[17:27:13] WARNING: /workspace/src/objective/regression_obj.cu:152: reg:linear is now deprecated in favor of reg:squarederror.\n",
            "[17:27:13] WARNING: /workspace/src/objective/regression_obj.cu:152: reg:linear is now deprecated in favor of reg:squarederror.\n",
            "[17:27:13] WARNING: /workspace/src/objective/regression_obj.cu:152: reg:linear is now deprecated in favor of reg:squarederror.\n",
            "[17:27:13] WARNING: /workspace/src/objective/regression_obj.cu:152: reg:linear is now deprecated in favor of reg:squarederror.\n",
            "[17:27:13] WARNING: /workspace/src/objective/regression_obj.cu:152: reg:linear is now deprecated in favor of reg:squarederror.\n",
            "[17:27:13] WARNING: /workspace/src/objective/regression_obj.cu:152: reg:linear is now deprecated in favor of reg:squarederror.\n",
            "[17:27:13] WARNING: /workspace/src/objective/regression_obj.cu:152: reg:linear is now deprecated in favor of reg:squarederror.\n",
            "[17:27:13] WARNING: /workspace/src/objective/regression_obj.cu:152: reg:linear is now deprecated in favor of reg:squarederror.\n",
            "[17:27:14] WARNING: /workspace/src/objective/regression_obj.cu:152: reg:linear is now deprecated in favor of reg:squarederror.\n",
            "[17:27:14] WARNING: /workspace/src/objective/regression_obj.cu:152: reg:linear is now deprecated in favor of reg:squarederror.\n",
            "[17:27:15] WARNING: /workspace/src/objective/regression_obj.cu:152: reg:linear is now deprecated in favor of reg:squarederror.\n",
            "[17:27:16] WARNING: /workspace/src/objective/regression_obj.cu:152: reg:linear is now deprecated in favor of reg:squarederror.\n",
            "[17:27:17] WARNING: /workspace/src/objective/regression_obj.cu:152: reg:linear is now deprecated in favor of reg:squarederror.\n",
            "[17:27:18] WARNING: /workspace/src/objective/regression_obj.cu:152: reg:linear is now deprecated in favor of reg:squarederror.\n",
            "[17:27:18] WARNING: /workspace/src/objective/regression_obj.cu:152: reg:linear is now deprecated in favor of reg:squarederror.\n",
            "[17:27:18] WARNING: /workspace/src/objective/regression_obj.cu:152: reg:linear is now deprecated in favor of reg:squarederror.\n",
            "[17:27:19] WARNING: /workspace/src/objective/regression_obj.cu:152: reg:linear is now deprecated in favor of reg:squarederror.\n",
            "[17:27:19] WARNING: /workspace/src/objective/regression_obj.cu:152: reg:linear is now deprecated in favor of reg:squarederror.\n",
            "[17:27:19] WARNING: /workspace/src/objective/regression_obj.cu:152: reg:linear is now deprecated in favor of reg:squarederror.\n",
            "[17:27:19] WARNING: /workspace/src/objective/regression_obj.cu:152: reg:linear is now deprecated in favor of reg:squarederror.\n",
            "[17:27:19] WARNING: /workspace/src/objective/regression_obj.cu:152: reg:linear is now deprecated in favor of reg:squarederror.\n",
            "[17:27:19] WARNING: /workspace/src/objective/regression_obj.cu:152: reg:linear is now deprecated in favor of reg:squarederror.\n",
            "[17:27:20] WARNING: /workspace/src/objective/regression_obj.cu:152: reg:linear is now deprecated in favor of reg:squarederror.\n",
            "[17:27:20] WARNING: /workspace/src/objective/regression_obj.cu:152: reg:linear is now deprecated in favor of reg:squarederror.\n",
            "[17:27:20] WARNING: /workspace/src/objective/regression_obj.cu:152: reg:linear is now deprecated in favor of reg:squarederror.\n",
            "[17:27:21] WARNING: /workspace/src/objective/regression_obj.cu:152: reg:linear is now deprecated in favor of reg:squarederror.\n",
            "[17:27:21] WARNING: /workspace/src/objective/regression_obj.cu:152: reg:linear is now deprecated in favor of reg:squarederror.\n",
            "[17:27:22] WARNING: /workspace/src/objective/regression_obj.cu:152: reg:linear is now deprecated in favor of reg:squarederror.\n",
            "[17:27:23] WARNING: /workspace/src/objective/regression_obj.cu:152: reg:linear is now deprecated in favor of reg:squarederror.\n",
            "[17:27:23] WARNING: /workspace/src/objective/regression_obj.cu:152: reg:linear is now deprecated in favor of reg:squarederror.\n",
            "[17:27:24] WARNING: /workspace/src/objective/regression_obj.cu:152: reg:linear is now deprecated in favor of reg:squarederror.\n",
            "[17:27:24] WARNING: /workspace/src/objective/regression_obj.cu:152: reg:linear is now deprecated in favor of reg:squarederror.\n",
            "[17:27:24] WARNING: /workspace/src/objective/regression_obj.cu:152: reg:linear is now deprecated in favor of reg:squarederror.\n",
            "[17:27:24] WARNING: /workspace/src/objective/regression_obj.cu:152: reg:linear is now deprecated in favor of reg:squarederror.\n",
            "[17:27:25] WARNING: /workspace/src/objective/regression_obj.cu:152: reg:linear is now deprecated in favor of reg:squarederror.\n",
            "[17:27:25] WARNING: /workspace/src/objective/regression_obj.cu:152: reg:linear is now deprecated in favor of reg:squarederror.\n",
            "[17:27:25] WARNING: /workspace/src/objective/regression_obj.cu:152: reg:linear is now deprecated in favor of reg:squarederror.\n",
            "[17:27:26] WARNING: /workspace/src/objective/regression_obj.cu:152: reg:linear is now deprecated in favor of reg:squarederror.\n",
            "[17:27:27] WARNING: /workspace/src/objective/regression_obj.cu:152: reg:linear is now deprecated in favor of reg:squarederror.\n",
            "[17:27:27] WARNING: /workspace/src/objective/regression_obj.cu:152: reg:linear is now deprecated in favor of reg:squarederror.\n",
            "[17:27:28] WARNING: /workspace/src/objective/regression_obj.cu:152: reg:linear is now deprecated in favor of reg:squarederror.\n",
            "[17:27:29] WARNING: /workspace/src/objective/regression_obj.cu:152: reg:linear is now deprecated in favor of reg:squarederror.\n",
            "[17:27:30] WARNING: /workspace/src/objective/regression_obj.cu:152: reg:linear is now deprecated in favor of reg:squarederror.\n",
            "[17:27:32] WARNING: /workspace/src/objective/regression_obj.cu:152: reg:linear is now deprecated in favor of reg:squarederror.\n",
            "[17:27:33] WARNING: /workspace/src/objective/regression_obj.cu:152: reg:linear is now deprecated in favor of reg:squarederror.\n",
            "[17:27:34] WARNING: /workspace/src/objective/regression_obj.cu:152: reg:linear is now deprecated in favor of reg:squarederror.\n",
            "[17:27:34] WARNING: /workspace/src/objective/regression_obj.cu:152: reg:linear is now deprecated in favor of reg:squarederror.\n",
            "[17:27:34] WARNING: /workspace/src/objective/regression_obj.cu:152: reg:linear is now deprecated in favor of reg:squarederror.\n",
            "[17:27:34] WARNING: /workspace/src/objective/regression_obj.cu:152: reg:linear is now deprecated in favor of reg:squarederror.\n",
            "[17:27:34] WARNING: /workspace/src/objective/regression_obj.cu:152: reg:linear is now deprecated in favor of reg:squarederror.\n",
            "[17:27:34] WARNING: /workspace/src/objective/regression_obj.cu:152: reg:linear is now deprecated in favor of reg:squarederror.\n",
            "[17:27:34] WARNING: /workspace/src/objective/regression_obj.cu:152: reg:linear is now deprecated in favor of reg:squarederror.\n",
            "[17:27:35] WARNING: /workspace/src/objective/regression_obj.cu:152: reg:linear is now deprecated in favor of reg:squarederror.\n",
            "[17:27:35] WARNING: /workspace/src/objective/regression_obj.cu:152: reg:linear is now deprecated in favor of reg:squarederror.\n",
            "[17:27:35] WARNING: /workspace/src/objective/regression_obj.cu:152: reg:linear is now deprecated in favor of reg:squarederror.\n",
            "[17:27:35] WARNING: /workspace/src/objective/regression_obj.cu:152: reg:linear is now deprecated in favor of reg:squarederror.\n",
            "[17:27:36] WARNING: /workspace/src/objective/regression_obj.cu:152: reg:linear is now deprecated in favor of reg:squarederror.\n",
            "[17:27:36] WARNING: /workspace/src/objective/regression_obj.cu:152: reg:linear is now deprecated in favor of reg:squarederror.\n",
            "[17:27:36] WARNING: /workspace/src/objective/regression_obj.cu:152: reg:linear is now deprecated in favor of reg:squarederror.\n",
            "[17:27:37] WARNING: /workspace/src/objective/regression_obj.cu:152: reg:linear is now deprecated in favor of reg:squarederror.\n",
            "[17:27:37] WARNING: /workspace/src/objective/regression_obj.cu:152: reg:linear is now deprecated in favor of reg:squarederror.\n",
            "[17:27:37] WARNING: /workspace/src/objective/regression_obj.cu:152: reg:linear is now deprecated in favor of reg:squarederror.\n",
            "[17:27:37] WARNING: /workspace/src/objective/regression_obj.cu:152: reg:linear is now deprecated in favor of reg:squarederror.\n",
            "[17:27:37] WARNING: /workspace/src/objective/regression_obj.cu:152: reg:linear is now deprecated in favor of reg:squarederror.\n",
            "[17:27:37] WARNING: /workspace/src/objective/regression_obj.cu:152: reg:linear is now deprecated in favor of reg:squarederror.\n",
            "[17:27:37] WARNING: /workspace/src/objective/regression_obj.cu:152: reg:linear is now deprecated in favor of reg:squarederror.\n",
            "[17:27:38] WARNING: /workspace/src/objective/regression_obj.cu:152: reg:linear is now deprecated in favor of reg:squarederror.\n",
            "[17:27:38] WARNING: /workspace/src/objective/regression_obj.cu:152: reg:linear is now deprecated in favor of reg:squarederror.\n",
            "[17:27:38] WARNING: /workspace/src/objective/regression_obj.cu:152: reg:linear is now deprecated in favor of reg:squarederror.\n",
            "[17:27:39] WARNING: /workspace/src/objective/regression_obj.cu:152: reg:linear is now deprecated in favor of reg:squarederror.\n",
            "[17:27:39] WARNING: /workspace/src/objective/regression_obj.cu:152: reg:linear is now deprecated in favor of reg:squarederror.\n",
            "[17:27:40] WARNING: /workspace/src/objective/regression_obj.cu:152: reg:linear is now deprecated in favor of reg:squarederror.\n",
            "[17:27:41] WARNING: /workspace/src/objective/regression_obj.cu:152: reg:linear is now deprecated in favor of reg:squarederror.\n",
            "[17:27:41] WARNING: /workspace/src/objective/regression_obj.cu:152: reg:linear is now deprecated in favor of reg:squarederror.\n",
            "[17:27:42] WARNING: /workspace/src/objective/regression_obj.cu:152: reg:linear is now deprecated in favor of reg:squarederror.\n",
            "[17:27:42] WARNING: /workspace/src/objective/regression_obj.cu:152: reg:linear is now deprecated in favor of reg:squarederror.\n",
            "[17:27:43] WARNING: /workspace/src/objective/regression_obj.cu:152: reg:linear is now deprecated in favor of reg:squarederror.\n",
            "[17:27:43] WARNING: /workspace/src/objective/regression_obj.cu:152: reg:linear is now deprecated in favor of reg:squarederror.\n",
            "[17:27:44] WARNING: /workspace/src/objective/regression_obj.cu:152: reg:linear is now deprecated in favor of reg:squarederror.\n",
            "[17:27:44] WARNING: /workspace/src/objective/regression_obj.cu:152: reg:linear is now deprecated in favor of reg:squarederror.\n",
            "[17:27:44] WARNING: /workspace/src/objective/regression_obj.cu:152: reg:linear is now deprecated in favor of reg:squarederror.\n",
            "[17:27:45] WARNING: /workspace/src/objective/regression_obj.cu:152: reg:linear is now deprecated in favor of reg:squarederror.\n",
            "[17:27:46] WARNING: /workspace/src/objective/regression_obj.cu:152: reg:linear is now deprecated in favor of reg:squarederror.\n",
            "[17:27:46] WARNING: /workspace/src/objective/regression_obj.cu:152: reg:linear is now deprecated in favor of reg:squarederror.\n",
            "[17:27:47] WARNING: /workspace/src/objective/regression_obj.cu:152: reg:linear is now deprecated in favor of reg:squarederror.\n",
            "[17:27:48] WARNING: /workspace/src/objective/regression_obj.cu:152: reg:linear is now deprecated in favor of reg:squarederror.\n",
            "[17:27:49] WARNING: /workspace/src/objective/regression_obj.cu:152: reg:linear is now deprecated in favor of reg:squarederror.\n",
            "[17:27:50] WARNING: /workspace/src/objective/regression_obj.cu:152: reg:linear is now deprecated in favor of reg:squarederror.\n",
            "[17:27:51] WARNING: /workspace/src/objective/regression_obj.cu:152: reg:linear is now deprecated in favor of reg:squarederror.\n",
            "[17:27:52] WARNING: /workspace/src/objective/regression_obj.cu:152: reg:linear is now deprecated in favor of reg:squarederror.\n",
            "[17:27:53] WARNING: /workspace/src/objective/regression_obj.cu:152: reg:linear is now deprecated in favor of reg:squarederror.\n",
            "[17:27:53] WARNING: /workspace/src/objective/regression_obj.cu:152: reg:linear is now deprecated in favor of reg:squarederror.\n",
            "[17:27:54] WARNING: /workspace/src/objective/regression_obj.cu:152: reg:linear is now deprecated in favor of reg:squarederror.\n",
            "[17:27:54] WARNING: /workspace/src/objective/regression_obj.cu:152: reg:linear is now deprecated in favor of reg:squarederror.\n",
            "[17:27:54] WARNING: /workspace/src/objective/regression_obj.cu:152: reg:linear is now deprecated in favor of reg:squarederror.\n",
            "[17:27:54] WARNING: /workspace/src/objective/regression_obj.cu:152: reg:linear is now deprecated in favor of reg:squarederror.\n",
            "[17:27:54] WARNING: /workspace/src/objective/regression_obj.cu:152: reg:linear is now deprecated in favor of reg:squarederror.\n",
            "[17:27:54] WARNING: /workspace/src/objective/regression_obj.cu:152: reg:linear is now deprecated in favor of reg:squarederror.\n",
            "[17:27:54] WARNING: /workspace/src/objective/regression_obj.cu:152: reg:linear is now deprecated in favor of reg:squarederror.\n",
            "[17:27:54] WARNING: /workspace/src/objective/regression_obj.cu:152: reg:linear is now deprecated in favor of reg:squarederror.\n",
            "[17:27:55] WARNING: /workspace/src/objective/regression_obj.cu:152: reg:linear is now deprecated in favor of reg:squarederror.\n",
            "[17:27:55] WARNING: /workspace/src/objective/regression_obj.cu:152: reg:linear is now deprecated in favor of reg:squarederror.\n",
            "[17:27:55] WARNING: /workspace/src/objective/regression_obj.cu:152: reg:linear is now deprecated in favor of reg:squarederror.\n",
            "[17:27:56] WARNING: /workspace/src/objective/regression_obj.cu:152: reg:linear is now deprecated in favor of reg:squarederror.\n",
            "[17:27:56] WARNING: /workspace/src/objective/regression_obj.cu:152: reg:linear is now deprecated in favor of reg:squarederror.\n",
            "[17:27:57] WARNING: /workspace/src/objective/regression_obj.cu:152: reg:linear is now deprecated in favor of reg:squarederror.\n",
            "[17:27:57] WARNING: /workspace/src/objective/regression_obj.cu:152: reg:linear is now deprecated in favor of reg:squarederror.\n",
            "[17:27:57] WARNING: /workspace/src/objective/regression_obj.cu:152: reg:linear is now deprecated in favor of reg:squarederror.\n",
            "[17:27:57] WARNING: /workspace/src/objective/regression_obj.cu:152: reg:linear is now deprecated in favor of reg:squarederror.\n",
            "[17:27:57] WARNING: /workspace/src/objective/regression_obj.cu:152: reg:linear is now deprecated in favor of reg:squarederror.\n",
            "[17:27:57] WARNING: /workspace/src/objective/regression_obj.cu:152: reg:linear is now deprecated in favor of reg:squarederror.\n",
            "[17:27:57] WARNING: /workspace/src/objective/regression_obj.cu:152: reg:linear is now deprecated in favor of reg:squarederror.\n",
            "[17:27:58] WARNING: /workspace/src/objective/regression_obj.cu:152: reg:linear is now deprecated in favor of reg:squarederror.\n",
            "[17:27:58] WARNING: /workspace/src/objective/regression_obj.cu:152: reg:linear is now deprecated in favor of reg:squarederror.\n",
            "[17:27:58] WARNING: /workspace/src/objective/regression_obj.cu:152: reg:linear is now deprecated in favor of reg:squarederror.\n",
            "[17:27:59] WARNING: /workspace/src/objective/regression_obj.cu:152: reg:linear is now deprecated in favor of reg:squarederror.\n",
            "[17:27:59] WARNING: /workspace/src/objective/regression_obj.cu:152: reg:linear is now deprecated in favor of reg:squarederror.\n",
            "[17:28:00] WARNING: /workspace/src/objective/regression_obj.cu:152: reg:linear is now deprecated in favor of reg:squarederror.\n",
            "[17:28:01] WARNING: /workspace/src/objective/regression_obj.cu:152: reg:linear is now deprecated in favor of reg:squarederror.\n",
            "[17:28:01] WARNING: /workspace/src/objective/regression_obj.cu:152: reg:linear is now deprecated in favor of reg:squarederror.\n",
            "[17:28:02] WARNING: /workspace/src/objective/regression_obj.cu:152: reg:linear is now deprecated in favor of reg:squarederror.\n",
            "[17:28:02] WARNING: /workspace/src/objective/regression_obj.cu:152: reg:linear is now deprecated in favor of reg:squarederror.\n",
            "[17:28:02] WARNING: /workspace/src/objective/regression_obj.cu:152: reg:linear is now deprecated in favor of reg:squarederror.\n",
            "[17:28:02] WARNING: /workspace/src/objective/regression_obj.cu:152: reg:linear is now deprecated in favor of reg:squarederror.\n",
            "[17:28:02] WARNING: /workspace/src/objective/regression_obj.cu:152: reg:linear is now deprecated in favor of reg:squarederror.\n",
            "[17:28:03] WARNING: /workspace/src/objective/regression_obj.cu:152: reg:linear is now deprecated in favor of reg:squarederror.\n",
            "[17:28:03] WARNING: /workspace/src/objective/regression_obj.cu:152: reg:linear is now deprecated in favor of reg:squarederror.\n",
            "[17:28:04] WARNING: /workspace/src/objective/regression_obj.cu:152: reg:linear is now deprecated in favor of reg:squarederror.\n",
            "[17:28:04] WARNING: /workspace/src/objective/regression_obj.cu:152: reg:linear is now deprecated in favor of reg:squarederror.\n",
            "[17:28:05] WARNING: /workspace/src/objective/regression_obj.cu:152: reg:linear is now deprecated in favor of reg:squarederror.\n",
            "[17:28:06] WARNING: /workspace/src/objective/regression_obj.cu:152: reg:linear is now deprecated in favor of reg:squarederror.\n",
            "[17:28:07] WARNING: /workspace/src/objective/regression_obj.cu:152: reg:linear is now deprecated in favor of reg:squarederror.\n",
            "[17:28:08] WARNING: /workspace/src/objective/regression_obj.cu:152: reg:linear is now deprecated in favor of reg:squarederror.\n",
            "[17:28:09] WARNING: /workspace/src/objective/regression_obj.cu:152: reg:linear is now deprecated in favor of reg:squarederror.\n",
            "[17:28:10] WARNING: /workspace/src/objective/regression_obj.cu:152: reg:linear is now deprecated in favor of reg:squarederror.\n",
            "[17:28:11] WARNING: /workspace/src/objective/regression_obj.cu:152: reg:linear is now deprecated in favor of reg:squarederror.\n"
          ]
        }
      ]
    },
    {
      "cell_type": "code",
      "source": [
        "clf.best_params_  #Grid Search ile en iyi sonuçları verebilecek parametreleri bulduk. "
      ],
      "metadata": {
        "colab": {
          "base_uri": "https://localhost:8080/"
        },
        "id": "UWufAVN7Ey1L",
        "outputId": "ca349f03-c3cf-47f2-a6e6-0a140ab43f0a"
      },
      "execution_count": 45,
      "outputs": [
        {
          "output_type": "execute_result",
          "data": {
            "text/plain": [
              "{'colsample_bytree': 0.7,\n",
              " 'learning_rate': 0.05,\n",
              " 'max_depth': 3,\n",
              " 'n_estimators': 100}"
            ]
          },
          "metadata": {},
          "execution_count": 45
        }
      ]
    },
    {
      "cell_type": "code",
      "source": [
        "param={'colsample_bytree': 0.7,\n",
        " 'learning_rate': 0.05,\n",
        " 'max_depth': 3,\n",
        " 'n_estimators': 100}\n",
        "model = XGBRegressor(colsample_bytree=0.7,learning_rate= 0.05,max_depth= 3,n_estimators= 100)\n",
        "model.fit(X_train,y_train)\n",
        "pred_xg = model.predict(X_test)\n",
        "print('MAE: ',metrics.mean_absolute_error(y_test,pred_xg))\n",
        "print('MSE: ',metrics.mean_squared_error(y_test,pred_xg))\n",
        "print(\"r2 score: \",r2_score(y_test,pred_xg))"
      ],
      "metadata": {
        "colab": {
          "base_uri": "https://localhost:8080/"
        },
        "id": "1pBSGACBH5fg",
        "outputId": "8a0aad30-ba00-41ff-d801-3a4a313444f7"
      },
      "execution_count": 46,
      "outputs": [
        {
          "output_type": "stream",
          "name": "stdout",
          "text": [
            "[17:28:12] WARNING: /workspace/src/objective/regression_obj.cu:152: reg:linear is now deprecated in favor of reg:squarederror.\n",
            "MAE:  2465.3048999131875\n",
            "MSE:  18754180.086311717\n",
            "r2 score:  0.8791991412354601\n"
          ]
        }
      ]
    },
    {
      "cell_type": "markdown",
      "source": [
        "## Başka bir HyperParametre Optimizasyon Yöntemi olan Optuna İmport Edilip Denendi"
      ],
      "metadata": {
        "id": "efGo4a-9VRmo"
      }
    },
    {
      "cell_type": "code",
      "source": [
        "!pip install optuna"
      ],
      "metadata": {
        "colab": {
          "base_uri": "https://localhost:8080/"
        },
        "id": "dEOHoSOGK_90",
        "outputId": "d42e4fd8-3d17-43ae-a646-6321c5d877bd"
      },
      "execution_count": 47,
      "outputs": [
        {
          "output_type": "stream",
          "name": "stdout",
          "text": [
            "Looking in indexes: https://pypi.org/simple, https://us-python.pkg.dev/colab-wheels/public/simple/\n",
            "Collecting optuna\n",
            "  Downloading optuna-2.10.1-py3-none-any.whl (308 kB)\n",
            "\u001b[K     |████████████████████████████████| 308 kB 4.0 MB/s \n",
            "\u001b[?25hRequirement already satisfied: packaging>=20.0 in /usr/local/lib/python3.7/dist-packages (from optuna) (21.3)\n",
            "Requirement already satisfied: sqlalchemy>=1.1.0 in /usr/local/lib/python3.7/dist-packages (from optuna) (1.4.40)\n",
            "Requirement already satisfied: scipy!=1.4.0 in /usr/local/lib/python3.7/dist-packages (from optuna) (1.7.3)\n",
            "Requirement already satisfied: tqdm in /usr/local/lib/python3.7/dist-packages (from optuna) (4.64.0)\n",
            "Collecting alembic\n",
            "  Downloading alembic-1.8.1-py3-none-any.whl (209 kB)\n",
            "\u001b[K     |████████████████████████████████| 209 kB 54.7 MB/s \n",
            "\u001b[?25hRequirement already satisfied: PyYAML in /usr/local/lib/python3.7/dist-packages (from optuna) (6.0)\n",
            "Collecting cmaes>=0.8.2\n",
            "  Downloading cmaes-0.8.2-py3-none-any.whl (15 kB)\n",
            "Collecting cliff\n",
            "  Downloading cliff-3.10.1-py3-none-any.whl (81 kB)\n",
            "\u001b[K     |████████████████████████████████| 81 kB 10.6 MB/s \n",
            "\u001b[?25hRequirement already satisfied: numpy in /usr/local/lib/python3.7/dist-packages (from optuna) (1.21.6)\n",
            "Collecting colorlog\n",
            "  Downloading colorlog-6.6.0-py2.py3-none-any.whl (11 kB)\n",
            "Requirement already satisfied: pyparsing!=3.0.5,>=2.0.2 in /usr/local/lib/python3.7/dist-packages (from packaging>=20.0->optuna) (3.0.9)\n",
            "Requirement already satisfied: greenlet!=0.4.17 in /usr/local/lib/python3.7/dist-packages (from sqlalchemy>=1.1.0->optuna) (1.1.2)\n",
            "Requirement already satisfied: importlib-metadata in /usr/local/lib/python3.7/dist-packages (from sqlalchemy>=1.1.0->optuna) (4.12.0)\n",
            "Requirement already satisfied: importlib-resources in /usr/local/lib/python3.7/dist-packages (from alembic->optuna) (5.9.0)\n",
            "Collecting Mako\n",
            "  Downloading Mako-1.2.1-py3-none-any.whl (78 kB)\n",
            "\u001b[K     |████████████████████████████████| 78 kB 8.3 MB/s \n",
            "\u001b[?25hCollecting autopage>=0.4.0\n",
            "  Downloading autopage-0.5.1-py3-none-any.whl (29 kB)\n",
            "Requirement already satisfied: PrettyTable>=0.7.2 in /usr/local/lib/python3.7/dist-packages (from cliff->optuna) (3.3.0)\n",
            "Collecting pbr!=2.1.0,>=2.0.0\n",
            "  Downloading pbr-5.10.0-py2.py3-none-any.whl (112 kB)\n",
            "\u001b[K     |████████████████████████████████| 112 kB 46.6 MB/s \n",
            "\u001b[?25hCollecting stevedore>=2.0.1\n",
            "  Downloading stevedore-3.5.0-py3-none-any.whl (49 kB)\n",
            "\u001b[K     |████████████████████████████████| 49 kB 5.3 MB/s \n",
            "\u001b[?25hCollecting cmd2>=1.0.0\n",
            "  Downloading cmd2-2.4.2-py3-none-any.whl (147 kB)\n",
            "\u001b[K     |████████████████████████████████| 147 kB 46.9 MB/s \n",
            "\u001b[?25hRequirement already satisfied: attrs>=16.3.0 in /usr/local/lib/python3.7/dist-packages (from cmd2>=1.0.0->cliff->optuna) (22.1.0)\n",
            "Requirement already satisfied: wcwidth>=0.1.7 in /usr/local/lib/python3.7/dist-packages (from cmd2>=1.0.0->cliff->optuna) (0.2.5)\n",
            "Collecting pyperclip>=1.6\n",
            "  Downloading pyperclip-1.8.2.tar.gz (20 kB)\n",
            "Requirement already satisfied: typing-extensions in /usr/local/lib/python3.7/dist-packages (from cmd2>=1.0.0->cliff->optuna) (4.1.1)\n",
            "Requirement already satisfied: zipp>=0.5 in /usr/local/lib/python3.7/dist-packages (from importlib-metadata->sqlalchemy>=1.1.0->optuna) (3.8.1)\n",
            "Requirement already satisfied: MarkupSafe>=0.9.2 in /usr/local/lib/python3.7/dist-packages (from Mako->alembic->optuna) (2.0.1)\n",
            "Building wheels for collected packages: pyperclip\n",
            "  Building wheel for pyperclip (setup.py) ... \u001b[?25l\u001b[?25hdone\n",
            "  Created wheel for pyperclip: filename=pyperclip-1.8.2-py3-none-any.whl size=11137 sha256=466333ec5017bfe7b6de512bbac063e13339d8e85fa86f64205dd6b19c14d5c8\n",
            "  Stored in directory: /root/.cache/pip/wheels/9f/18/84/8f69f8b08169c7bae2dde6bd7daf0c19fca8c8e500ee620a28\n",
            "Successfully built pyperclip\n",
            "Installing collected packages: pyperclip, pbr, stevedore, Mako, cmd2, autopage, colorlog, cmaes, cliff, alembic, optuna\n",
            "Successfully installed Mako-1.2.1 alembic-1.8.1 autopage-0.5.1 cliff-3.10.1 cmaes-0.8.2 cmd2-2.4.2 colorlog-6.6.0 optuna-2.10.1 pbr-5.10.0 pyperclip-1.8.2 stevedore-3.5.0\n"
          ]
        }
      ]
    },
    {
      "cell_type": "code",
      "source": [
        "from sklearn.metrics import mean_squared_error\n",
        "import optuna\n",
        "from optuna import Trial, visualization\n",
        "from optuna.samplers import TPESampler\n",
        "from sklearn.model_selection import cross_val_score\n",
        "def return_score(param):\n",
        "  model = XGBRegressor(**param)  \n",
        "  rmse = -np.mean(cross_val_score(model,X_train,y_train, cv = 4, n_jobs =-1,scoring='neg_root_mean_squared_error'))\n",
        "  return rmse\n",
        "def objective(trial):\n",
        "  param = {\n",
        "                \"n_estimators\" : trial.suggest_int('n_estimators', 0, 500),\n",
        "                'max_depth':trial.suggest_int('max_depth', 3, 5),\n",
        "                'reg_alpha':trial.suggest_uniform('reg_alpha',0,6),\n",
        "                'reg_lambda':trial.suggest_uniform('reg_lambda',0,2),\n",
        "                'min_child_weight':trial.suggest_int('min_child_weight',0,5),\n",
        "                'gamma':trial.suggest_uniform('gamma', 0, 4),\n",
        "                'learning_rate':trial.suggest_loguniform('learning_rate',0.05,0.5),\n",
        "                'colsample_bytree':trial.suggest_uniform('colsample_bytree',0.4,0.9),\n",
        "                'subsample':trial.suggest_uniform('subsample',0.4,0.9),\n",
        "                'nthread' : -1\n",
        "            }\n",
        "  return(return_score(param)) # this will return the rmse score"
      ],
      "metadata": {
        "id": "vVlMuKM3I8jj"
      },
      "execution_count": 48,
      "outputs": []
    },
    {
      "cell_type": "markdown",
      "source": [],
      "metadata": {
        "id": "hqx-3RZuLRJF"
      }
    },
    {
      "cell_type": "code",
      "source": [
        "study1 = optuna.create_study(direction='minimize',sampler=TPESampler())\n",
        "study1.optimize(objective, n_trials= 550,show_progress_bar = True)\n",
        "bestparam=study1.best_params\n"
      ],
      "metadata": {
        "colab": {
          "base_uri": "https://localhost:8080/",
          "height": 1000
        },
        "id": "7JBWs8DiKs5R",
        "outputId": "11d6706a-e582-4d96-fcb6-f1c9bf0d0bcf"
      },
      "execution_count": 49,
      "outputs": [
        {
          "output_type": "stream",
          "name": "stdout",
          "text": [
            "\u001b[32m[I 2022-08-27 17:29:32,283]\u001b[0m Trial 166 finished with value: 4592.669267791643 and parameters: {'n_estimators': 51, 'max_depth': 3, 'reg_alpha': 4.193945523820966, 'reg_lambda': 1.546829097802394, 'min_child_weight': 3, 'gamma': 2.276037963916954, 'learning_rate': 0.08037852305864315, 'colsample_bytree': 0.8324690425514127, 'subsample': 0.891437078229843}. Best is trial 165 with value: 4571.824435356775.\u001b[0m\n",
            "\u001b[32m[I 2022-08-27 17:29:32,511]\u001b[0m Trial 167 finished with value: 4628.309414337904 and parameters: {'n_estimators': 62, 'max_depth': 4, 'reg_alpha': 4.003036699478268, 'reg_lambda': 1.5977185518908976, 'min_child_weight': 3, 'gamma': 2.441444164990607, 'learning_rate': 0.07671043069959277, 'colsample_bytree': 0.890906582787313, 'subsample': 0.8834949019395909}. Best is trial 165 with value: 4571.824435356775.\u001b[0m\n",
            "\u001b[32m[I 2022-08-27 17:29:32,713]\u001b[0m Trial 168 finished with value: 4583.331919220676 and parameters: {'n_estimators': 73, 'max_depth': 3, 'reg_alpha': 3.491662831625526, 'reg_lambda': 0.31044877106619506, 'min_child_weight': 3, 'gamma': 1.421370749510234, 'learning_rate': 0.07173271807053866, 'colsample_bytree': 0.8932327668937109, 'subsample': 0.8964492421045467}. Best is trial 165 with value: 4571.824435356775.\u001b[0m\n",
            "\u001b[32m[I 2022-08-27 17:29:32,879]\u001b[0m Trial 169 finished with value: 5212.887583026553 and parameters: {'n_estimators': 44, 'max_depth': 3, 'reg_alpha': 3.7169239465355353, 'reg_lambda': 1.6510950298169242, 'min_child_weight': 3, 'gamma': 2.7551879691955863, 'learning_rate': 0.08358564188297399, 'colsample_bytree': 0.6426821016969485, 'subsample': 0.8768681391272503}. Best is trial 165 with value: 4571.824435356775.\u001b[0m\n",
            "\u001b[32m[I 2022-08-27 17:29:33,087]\u001b[0m Trial 170 finished with value: 4578.2354946024825 and parameters: {'n_estimators': 59, 'max_depth': 3, 'reg_alpha': 4.395521774241834, 'reg_lambda': 1.7615982315336525, 'min_child_weight': 3, 'gamma': 2.5358191933189436, 'learning_rate': 0.07572744442535587, 'colsample_bytree': 0.8999039229172692, 'subsample': 0.8990640815739366}. Best is trial 165 with value: 4571.824435356775.\u001b[0m\n",
            "\u001b[32m[I 2022-08-27 17:29:33,283]\u001b[0m Trial 171 finished with value: 4583.076755909175 and parameters: {'n_estimators': 60, 'max_depth': 3, 'reg_alpha': 4.271163043845598, 'reg_lambda': 1.758422757381844, 'min_child_weight': 3, 'gamma': 2.4655960843517652, 'learning_rate': 0.0755468743435985, 'colsample_bytree': 0.8832132278334924, 'subsample': 0.8829727378725849}. Best is trial 165 with value: 4571.824435356775.\u001b[0m\n",
            "\u001b[32m[I 2022-08-27 17:29:33,506]\u001b[0m Trial 172 finished with value: 4575.037600048603 and parameters: {'n_estimators': 72, 'max_depth': 3, 'reg_alpha': 4.408685191196993, 'reg_lambda': 1.8423188082547213, 'min_child_weight': 3, 'gamma': 2.1745678385970777, 'learning_rate': 0.06650035499748096, 'colsample_bytree': 0.8991155093271127, 'subsample': 0.8966746856243811}. Best is trial 165 with value: 4571.824435356775.\u001b[0m\n",
            "\u001b[32m[I 2022-08-27 17:29:33,732]\u001b[0m Trial 173 finished with value: 4572.63417667784 and parameters: {'n_estimators': 79, 'max_depth': 3, 'reg_alpha': 4.348684665366131, 'reg_lambda': 1.8272974197379956, 'min_child_weight': 3, 'gamma': 2.043757632236061, 'learning_rate': 0.06873386383545083, 'colsample_bytree': 0.8798754053363803, 'subsample': 0.8887961350363593}. Best is trial 165 with value: 4571.824435356775.\u001b[0m\n",
            "\u001b[32m[I 2022-08-27 17:29:33,974]\u001b[0m Trial 174 finished with value: 4599.984934495896 and parameters: {'n_estimators': 84, 'max_depth': 3, 'reg_alpha': 4.290178547791697, 'reg_lambda': 1.8679167062829596, 'min_child_weight': 3, 'gamma': 1.9919154678144304, 'learning_rate': 0.07501691082940555, 'colsample_bytree': 0.8995841737777197, 'subsample': 0.8948623229615088}. Best is trial 165 with value: 4571.824435356775.\u001b[0m\n",
            "\u001b[32m[I 2022-08-27 17:29:34,224]\u001b[0m Trial 175 finished with value: 4601.156821290332 and parameters: {'n_estimators': 100, 'max_depth': 3, 'reg_alpha': 4.407814647907559, 'reg_lambda': 1.9197506107186555, 'min_child_weight': 3, 'gamma': 2.0502005475496867, 'learning_rate': 0.06889514534024424, 'colsample_bytree': 0.8808362720884125, 'subsample': 0.8982358752190861}. Best is trial 165 with value: 4571.824435356775.\u001b[0m\n",
            "\u001b[32m[I 2022-08-27 17:29:34,393]\u001b[0m Trial 176 finished with value: 4607.652825299396 and parameters: {'n_estimators': 51, 'max_depth': 3, 'reg_alpha': 4.506610059574262, 'reg_lambda': 1.8289875382687943, 'min_child_weight': 3, 'gamma': 2.2071213142464057, 'learning_rate': 0.07911551795584189, 'colsample_bytree': 0.87056640066429, 'subsample': 0.8694173407337226}. Best is trial 165 with value: 4571.824435356775.\u001b[0m\n",
            "\u001b[32m[I 2022-08-27 17:29:34,597]\u001b[0m Trial 177 finished with value: 5243.627387854089 and parameters: {'n_estimators': 32, 'max_depth': 3, 'reg_alpha': 4.368143774332551, 'reg_lambda': 1.9417456648723794, 'min_child_weight': 3, 'gamma': 1.9306131594428497, 'learning_rate': 0.06710469080776872, 'colsample_bytree': 0.8997651255304807, 'subsample': 0.887594188352591}. Best is trial 165 with value: 4571.824435356775.\u001b[0m\n",
            "\u001b[32m[I 2022-08-27 17:29:34,929]\u001b[0m Trial 178 finished with value: 4593.23628278152 and parameters: {'n_estimators': 64, 'max_depth': 3, 'reg_alpha': 4.546247000877701, 'reg_lambda': 1.8448947789743233, 'min_child_weight': 3, 'gamma': 2.142091490315604, 'learning_rate': 0.07207047785214662, 'colsample_bytree': 0.8868076017961309, 'subsample': 0.5342881458117918}. Best is trial 165 with value: 4571.824435356775.\u001b[0m\n",
            "\u001b[32m[I 2022-08-27 17:29:35,427]\u001b[0m Trial 179 finished with value: 4583.927164837649 and parameters: {'n_estimators': 75, 'max_depth': 3, 'reg_alpha': 4.681605890165728, 'reg_lambda': 1.8888445632535722, 'min_child_weight': 3, 'gamma': 2.0695846909498403, 'learning_rate': 0.06572359700139573, 'colsample_bytree': 0.8614871780909978, 'subsample': 0.5788883162375064}. Best is trial 165 with value: 4571.824435356775.\u001b[0m\n",
            "\u001b[32m[I 2022-08-27 17:29:35,923]\u001b[0m Trial 180 finished with value: 4594.715811500674 and parameters: {'n_estimators': 86, 'max_depth': 3, 'reg_alpha': 4.197475449328866, 'reg_lambda': 1.806409342748145, 'min_child_weight': 3, 'gamma': 2.3085172106754603, 'learning_rate': 0.08274878594004474, 'colsample_bytree': 0.8788825348153769, 'subsample': 0.8627968468383278}. Best is trial 165 with value: 4571.824435356775.\u001b[0m\n",
            "\u001b[32m[I 2022-08-27 17:29:36,321]\u001b[0m Trial 181 finished with value: 4578.007447148048 and parameters: {'n_estimators': 78, 'max_depth': 3, 'reg_alpha': 4.102256148918755, 'reg_lambda': 1.7754254207641236, 'min_child_weight': 3, 'gamma': 1.2267834249544114, 'learning_rate': 0.06409519287076025, 'colsample_bytree': 0.8919123535060953, 'subsample': 0.8799558832404586}. Best is trial 165 with value: 4571.824435356775.\u001b[0m\n",
            "\u001b[32m[I 2022-08-27 17:29:36,691]\u001b[0m Trial 182 finished with value: 4627.773936505562 and parameters: {'n_estimators': 55, 'max_depth': 3, 'reg_alpha': 4.42335892609353, 'reg_lambda': 1.7426681086737286, 'min_child_weight': 3, 'gamma': 1.1990967186896029, 'learning_rate': 0.07360107215804222, 'colsample_bytree': 0.8883437271797512, 'subsample': 0.7155165032404974}. Best is trial 165 with value: 4571.824435356775.\u001b[0m\n",
            "\u001b[32m[I 2022-08-27 17:29:37,056]\u001b[0m Trial 183 finished with value: 4578.902259795695 and parameters: {'n_estimators': 71, 'max_depth': 3, 'reg_alpha': 3.994989909297084, 'reg_lambda': 1.7888062298435503, 'min_child_weight': 3, 'gamma': 1.087269271535238, 'learning_rate': 0.06165535281436685, 'colsample_bytree': 0.8918042481115241, 'subsample': 0.898375176652214}. Best is trial 165 with value: 4571.824435356775.\u001b[0m\n",
            "\u001b[32m[I 2022-08-27 17:29:37,502]\u001b[0m Trial 184 finished with value: 4592.47509482569 and parameters: {'n_estimators': 99, 'max_depth': 3, 'reg_alpha': 4.002227066628702, 'reg_lambda': 0.824198987104504, 'min_child_weight': 3, 'gamma': 1.089220632450815, 'learning_rate': 0.061955353507577374, 'colsample_bytree': 0.8927037393441759, 'subsample': 0.8975248819906897}. Best is trial 165 with value: 4571.824435356775.\u001b[0m\n",
            "\u001b[32m[I 2022-08-27 17:29:37,969]\u001b[0m Trial 185 finished with value: 4585.78404800148 and parameters: {'n_estimators': 81, 'max_depth': 3, 'reg_alpha': 3.879095969183503, 'reg_lambda': 1.7879534936402512, 'min_child_weight': 3, 'gamma': 1.4945031902075938, 'learning_rate': 0.07077294089750165, 'colsample_bytree': 0.8748952530873978, 'subsample': 0.8716109280072942}. Best is trial 165 with value: 4571.824435356775.\u001b[0m\n",
            "\u001b[32m[I 2022-08-27 17:29:38,302]\u001b[0m Trial 186 finished with value: 4597.579242318186 and parameters: {'n_estimators': 66, 'max_depth': 3, 'reg_alpha': 3.9917680766558683, 'reg_lambda': 1.8443062931079555, 'min_child_weight': 3, 'gamma': 0.7908938770115406, 'learning_rate': 0.06497571999859357, 'colsample_bytree': 0.8850996680316383, 'subsample': 0.8913593902065409}. Best is trial 165 with value: 4571.824435356775.\u001b[0m\n",
            "\u001b[32m[I 2022-08-27 17:29:38,692]\u001b[0m Trial 187 finished with value: 5686.855025487897 and parameters: {'n_estimators': 50, 'max_depth': 3, 'reg_alpha': 3.7460117018151324, 'reg_lambda': 1.7441776883203668, 'min_child_weight': 3, 'gamma': 0.9159702639289791, 'learning_rate': 0.05625635651796622, 'colsample_bytree': 0.6143882264008661, 'subsample': 0.8568509824406185}. Best is trial 165 with value: 4571.824435356775.\u001b[0m\n",
            "\u001b[32m[I 2022-08-27 17:29:39,091]\u001b[0m Trial 188 finished with value: 4616.034155111023 and parameters: {'n_estimators': 91, 'max_depth': 3, 'reg_alpha': 4.12892175725555, 'reg_lambda': 1.8863617527191583, 'min_child_weight': 3, 'gamma': 1.3496508053464629, 'learning_rate': 0.08852677276429974, 'colsample_bytree': 0.8931658046869065, 'subsample': 0.8991034894806004}. Best is trial 165 with value: 4571.824435356775.\u001b[0m\n",
            "\u001b[32m[I 2022-08-27 17:29:39,371]\u001b[0m Trial 189 finished with value: 5049.929973342716 and parameters: {'n_estimators': 41, 'max_depth': 3, 'reg_alpha': 4.274539126020691, 'reg_lambda': 1.8136298806745141, 'min_child_weight': 3, 'gamma': 1.0542750386603557, 'learning_rate': 0.06136530387966736, 'colsample_bytree': 0.873888788324859, 'subsample': 0.8738268771014599}. Best is trial 165 with value: 4571.824435356775.\u001b[0m\n",
            "\u001b[32m[I 2022-08-27 17:29:39,870]\u001b[0m Trial 190 finished with value: 4596.231351378716 and parameters: {'n_estimators': 108, 'max_depth': 3, 'reg_alpha': 4.099550763475669, 'reg_lambda': 1.7177221432079912, 'min_child_weight': 3, 'gamma': 1.262856478823902, 'learning_rate': 0.06024946742901075, 'colsample_bytree': 0.8814334285339941, 'subsample': 0.848226670278414}. Best is trial 165 with value: 4571.824435356775.\u001b[0m\n",
            "\u001b[32m[I 2022-08-27 17:29:40,423]\u001b[0m Trial 191 finished with value: 4574.652601784507 and parameters: {'n_estimators': 73, 'max_depth': 3, 'reg_alpha': 4.425519925469931, 'reg_lambda': 1.658479491735532, 'min_child_weight': 3, 'gamma': 1.1865830769509418, 'learning_rate': 0.06787254366497583, 'colsample_bytree': 0.89925215601145, 'subsample': 0.6619794563253965}. Best is trial 165 with value: 4571.824435356775.\u001b[0m\n",
            "\u001b[32m[I 2022-08-27 17:29:40,895]\u001b[0m Trial 192 finished with value: 4571.798730379503 and parameters: {'n_estimators': 75, 'max_depth': 3, 'reg_alpha': 4.506010479180435, 'reg_lambda': 1.7683815521959156, 'min_child_weight': 3, 'gamma': 1.2088087081100347, 'learning_rate': 0.06460471447212358, 'colsample_bytree': 0.8983044640000254, 'subsample': 0.884115921895454}. Best is trial 192 with value: 4571.798730379503.\u001b[0m\n",
            "\u001b[32m[I 2022-08-27 17:29:41,272]\u001b[0m Trial 193 finished with value: 4605.468123336439 and parameters: {'n_estimators': 59, 'max_depth': 3, 'reg_alpha': 4.583482668932692, 'reg_lambda': 1.769171151324114, 'min_child_weight': 3, 'gamma': 1.2069313645667792, 'learning_rate': 0.0652337063203005, 'colsample_bytree': 0.8968083856625639, 'subsample': 0.693180403050827}. Best is trial 192 with value: 4571.798730379503.\u001b[0m\n",
            "\u001b[32m[I 2022-08-27 17:29:41,671]\u001b[0m Trial 194 finished with value: 4575.475470739066 and parameters: {'n_estimators': 73, 'max_depth': 3, 'reg_alpha': 4.734870409678861, 'reg_lambda': 1.8415483680378806, 'min_child_weight': 3, 'gamma': 1.116726263291381, 'learning_rate': 0.06858189517930052, 'colsample_bytree': 0.8983842948480646, 'subsample': 0.882235625514174}. Best is trial 192 with value: 4571.798730379503.\u001b[0m\n",
            "\u001b[32m[I 2022-08-27 17:29:42,067]\u001b[0m Trial 195 finished with value: 4570.913557074467 and parameters: {'n_estimators': 71, 'max_depth': 3, 'reg_alpha': 4.767853261916245, 'reg_lambda': 1.7940388640003109, 'min_child_weight': 3, 'gamma': 1.0792485546672494, 'learning_rate': 0.06917244313825574, 'colsample_bytree': 0.8992987179930397, 'subsample': 0.8844861035673789}. Best is trial 195 with value: 4570.913557074467.\u001b[0m\n",
            "\u001b[32m[I 2022-08-27 17:29:42,489]\u001b[0m Trial 196 finished with value: 4572.240659066904 and parameters: {'n_estimators': 67, 'max_depth': 3, 'reg_alpha': 4.700712519690024, 'reg_lambda': 1.8030864054185294, 'min_child_weight': 3, 'gamma': 1.1209050525999236, 'learning_rate': 0.07010780748397334, 'colsample_bytree': 0.8991820974874587, 'subsample': 0.8865927214558305}. Best is trial 195 with value: 4570.913557074467.\u001b[0m\n",
            "\u001b[32m[I 2022-08-27 17:29:42,842]\u001b[0m Trial 197 finished with value: 4575.3707534191235 and parameters: {'n_estimators': 80, 'max_depth': 3, 'reg_alpha': 4.854775574052942, 'reg_lambda': 1.8060658848911595, 'min_child_weight': 3, 'gamma': 1.153557645450606, 'learning_rate': 0.06992118014597799, 'colsample_bytree': 0.8986950124462758, 'subsample': 0.8866404571189342}. Best is trial 195 with value: 4570.913557074467.\u001b[0m\n",
            "\u001b[32m[I 2022-08-27 17:29:43,288]\u001b[0m Trial 198 finished with value: 4598.2291715635 and parameters: {'n_estimators': 83, 'max_depth': 3, 'reg_alpha': 4.758354245829535, 'reg_lambda': 1.824277118908976, 'min_child_weight': 3, 'gamma': 1.1553617082001164, 'learning_rate': 0.0773973663089307, 'colsample_bytree': 0.8991762109594159, 'subsample': 0.8847713717156112}. Best is trial 195 with value: 4570.913557074467.\u001b[0m\n",
            "\u001b[32m[I 2022-08-27 17:29:43,726]\u001b[0m Trial 199 finished with value: 4600.119593380729 and parameters: {'n_estimators': 58, 'max_depth': 3, 'reg_alpha': 4.873122475944659, 'reg_lambda': 1.8716928928056018, 'min_child_weight': 3, 'gamma': 0.9656463813836662, 'learning_rate': 0.07042322532274999, 'colsample_bytree': 0.887215147808651, 'subsample': 0.8861759972324563}. Best is trial 195 with value: 4570.913557074467.\u001b[0m\n",
            "\u001b[32m[I 2022-08-27 17:29:44,107]\u001b[0m Trial 200 finished with value: 4586.913906814631 and parameters: {'n_estimators': 76, 'max_depth': 3, 'reg_alpha': 4.710818624547925, 'reg_lambda': 1.9441334448824623, 'min_child_weight': 3, 'gamma': 1.1138006477593034, 'learning_rate': 0.07504931531045819, 'colsample_bytree': 0.8851036205782107, 'subsample': 0.8989163729981626}. Best is trial 195 with value: 4570.913557074467.\u001b[0m\n",
            "\u001b[32m[I 2022-08-27 17:29:44,599]\u001b[0m Trial 201 finished with value: 4574.483236466893 and parameters: {'n_estimators': 70, 'max_depth': 3, 'reg_alpha': 4.993831465636209, 'reg_lambda': 1.7768908301794006, 'min_child_weight': 3, 'gamma': 1.3138850047709028, 'learning_rate': 0.06894253348213111, 'colsample_bytree': 0.8996293513575422, 'subsample': 0.8794589570600763}. Best is trial 195 with value: 4570.913557074467.\u001b[0m\n",
            "\u001b[32m[I 2022-08-27 17:29:45,009]\u001b[0m Trial 202 finished with value: 4577.15435022259 and parameters: {'n_estimators': 66, 'max_depth': 3, 'reg_alpha': 5.014571554493243, 'reg_lambda': 1.7925254329535534, 'min_child_weight': 3, 'gamma': 1.2583372263701231, 'learning_rate': 0.06925715636262464, 'colsample_bytree': 0.8980390053942823, 'subsample': 0.8741557870785264}. Best is trial 195 with value: 4570.913557074467.\u001b[0m\n",
            "\u001b[32m[I 2022-08-27 17:29:45,401]\u001b[0m Trial 203 finished with value: 4579.119217558849 and parameters: {'n_estimators': 63, 'max_depth': 3, 'reg_alpha': 4.993143961358923, 'reg_lambda': 1.781629207051333, 'min_child_weight': 3, 'gamma': 1.2804294440772457, 'learning_rate': 0.06971949096560012, 'colsample_bytree': 0.8910963912750955, 'subsample': 0.8764483940661592}. Best is trial 195 with value: 4570.913557074467.\u001b[0m\n",
            "\u001b[32m[I 2022-08-27 17:29:45,748]\u001b[0m Trial 204 finished with value: 4611.237120371339 and parameters: {'n_estimators': 49, 'max_depth': 3, 'reg_alpha': 4.888900931869497, 'reg_lambda': 1.8031018918121868, 'min_child_weight': 3, 'gamma': 1.0593903814249035, 'learning_rate': 0.07335378745819933, 'colsample_bytree': 0.8985216781149122, 'subsample': 0.8877941889273344}. Best is trial 195 with value: 4570.913557074467.\u001b[0m\n",
            "\u001b[32m[I 2022-08-27 17:29:46,244]\u001b[0m Trial 205 finished with value: 4582.0807365934015 and parameters: {'n_estimators': 71, 'max_depth': 3, 'reg_alpha': 5.093480628687257, 'reg_lambda': 1.8353258388063325, 'min_child_weight': 3, 'gamma': 1.3683313869676643, 'learning_rate': 0.06865805800993224, 'colsample_bytree': 0.8989378240179102, 'subsample': 0.8753786218504548}. Best is trial 195 with value: 4570.913557074467.\u001b[0m\n",
            "\u001b[32m[I 2022-08-27 17:29:47,136]\u001b[0m Trial 206 finished with value: 4772.499116508812 and parameters: {'n_estimators': 260, 'max_depth': 3, 'reg_alpha': 4.777351693972025, 'reg_lambda': 1.7609550174189992, 'min_child_weight': 3, 'gamma': 1.2437221270691812, 'learning_rate': 0.07914858279039053, 'colsample_bytree': 0.8842421347668652, 'subsample': 0.8901158880143738}. Best is trial 195 with value: 4570.913557074467.\u001b[0m\n",
            "\u001b[32m[I 2022-08-27 17:29:47,513]\u001b[0m Trial 207 finished with value: 4604.440621962412 and parameters: {'n_estimators': 52, 'max_depth': 3, 'reg_alpha': 4.671480388432345, 'reg_lambda': 1.792681208070921, 'min_child_weight': 3, 'gamma': 0.8997490308390975, 'learning_rate': 0.07319698780073729, 'colsample_bytree': 0.8991607346950706, 'subsample': 0.8674335760917528}. Best is trial 195 with value: 4570.913557074467.\u001b[0m\n",
            "\u001b[32m[I 2022-08-27 17:29:47,915]\u001b[0m Trial 208 finished with value: 4589.916354809773 and parameters: {'n_estimators': 65, 'max_depth': 3, 'reg_alpha': 4.944722082589719, 'reg_lambda': 1.8706357117968786, 'min_child_weight': 3, 'gamma': 1.146064654680669, 'learning_rate': 0.06824804505343762, 'colsample_bytree': 0.8788361875872485, 'subsample': 0.8789838401417792}. Best is trial 195 with value: 4570.913557074467.\u001b[0m\n",
            "\u001b[32m[I 2022-08-27 17:29:48,405]\u001b[0m Trial 209 finished with value: 4589.876831317184 and parameters: {'n_estimators': 79, 'max_depth': 3, 'reg_alpha': 4.577971616564117, 'reg_lambda': 1.831853487183221, 'min_child_weight': 3, 'gamma': 1.0148924577437815, 'learning_rate': 0.0766784023105314, 'colsample_bytree': 0.887275633409796, 'subsample': 0.8881988686202206}. Best is trial 195 with value: 4570.913557074467.\u001b[0m\n",
            "\u001b[32m[I 2022-08-27 17:29:48,814]\u001b[0m Trial 210 finished with value: 4581.3524223363775 and parameters: {'n_estimators': 58, 'max_depth': 3, 'reg_alpha': 4.793919193803922, 'reg_lambda': 1.748248113265192, 'min_child_weight': 3, 'gamma': 1.3207728929068223, 'learning_rate': 0.0710885285284709, 'colsample_bytree': 0.8888894759585129, 'subsample': 0.899689950458025}. Best is trial 195 with value: 4570.913557074467.\u001b[0m\n",
            "\u001b[32m[I 2022-08-27 17:29:49,315]\u001b[0m Trial 211 finished with value: 4575.260942819596 and parameters: {'n_estimators': 67, 'max_depth': 3, 'reg_alpha': 4.900562549637232, 'reg_lambda': 1.7899673599742272, 'min_child_weight': 3, 'gamma': 1.2730775099919653, 'learning_rate': 0.06910886418225314, 'colsample_bytree': 0.8999195270149751, 'subsample': 0.8767912851938106}. Best is trial 195 with value: 4570.913557074467.\u001b[0m\n",
            "\u001b[32m[I 2022-08-27 17:29:49,788]\u001b[0m Trial 212 finished with value: 4582.626288878922 and parameters: {'n_estimators': 69, 'max_depth': 3, 'reg_alpha': 5.1196059957121065, 'reg_lambda': 1.794496947762307, 'min_child_weight': 3, 'gamma': 1.1987333535613263, 'learning_rate': 0.0663899939694004, 'colsample_bytree': 0.898872614004247, 'subsample': 0.8703206229437135}. Best is trial 195 with value: 4570.913557074467.\u001b[0m\n",
            "\u001b[32m[I 2022-08-27 17:29:50,290]\u001b[0m Trial 213 finished with value: 4580.066014000187 and parameters: {'n_estimators': 86, 'max_depth': 3, 'reg_alpha': 4.976293865958853, 'reg_lambda': 1.8507309015960507, 'min_child_weight': 3, 'gamma': 1.094774315134081, 'learning_rate': 0.06968603378810459, 'colsample_bytree': 0.8762465409049324, 'subsample': 0.8808060685876095}. Best is trial 195 with value: 4570.913557074467.\u001b[0m\n",
            "\u001b[32m[I 2022-08-27 17:29:50,678]\u001b[0m Trial 214 finished with value: 4570.910917073795 and parameters: {'n_estimators': 75, 'max_depth': 3, 'reg_alpha': 4.677400200508745, 'reg_lambda': 1.7550977238078458, 'min_child_weight': 3, 'gamma': 1.376580312873011, 'learning_rate': 0.07331765357444457, 'colsample_bytree': 0.888635129746018, 'subsample': 0.6638448461292312}. Best is trial 214 with value: 4570.910917073795.\u001b[0m\n",
            "\u001b[32m[I 2022-08-27 17:29:50,963]\u001b[0m Trial 215 finished with value: 4644.649166295958 and parameters: {'n_estimators': 40, 'max_depth': 3, 'reg_alpha': 4.847982233863325, 'reg_lambda': 1.8110698514762822, 'min_child_weight': 3, 'gamma': 1.2672814956447573, 'learning_rate': 0.08192510680113721, 'colsample_bytree': 0.8996254810700257, 'subsample': 0.889101837530418}. Best is trial 214 with value: 4570.910917073795.\u001b[0m\n",
            "\u001b[32m[I 2022-08-27 17:29:51,386]\u001b[0m Trial 216 finished with value: 4589.12146409851 and parameters: {'n_estimators': 75, 'max_depth': 3, 'reg_alpha': 4.702112718634389, 'reg_lambda': 1.9013695021208552, 'min_child_weight': 3, 'gamma': 1.4244059782823562, 'learning_rate': 0.07423765911184975, 'colsample_bytree': 0.8880141721216993, 'subsample': 0.8749101576941045}. Best is trial 214 with value: 4570.910917073795.\u001b[0m\n",
            "\u001b[32m[I 2022-08-27 17:29:51,769]\u001b[0m Trial 217 finished with value: 4602.989670285294 and parameters: {'n_estimators': 55, 'max_depth': 3, 'reg_alpha': 4.952750487208204, 'reg_lambda': 1.7565523768159865, 'min_child_weight': 3, 'gamma': 1.3564370690075638, 'learning_rate': 0.07211729350366489, 'colsample_bytree': 0.88897368440201, 'subsample': 0.6506183436046603}. Best is trial 214 with value: 4570.910917073795.\u001b[0m\n",
            "\u001b[32m[I 2022-08-27 17:29:52,121]\u001b[0m Trial 218 finished with value: 4672.338771836055 and parameters: {'n_estimators': 64, 'max_depth': 3, 'reg_alpha': 4.5215974501761975, 'reg_lambda': 1.7771495424141324, 'min_child_weight': 3, 'gamma': 1.1917738329166467, 'learning_rate': 0.15109265213023204, 'colsample_bytree': 0.8797076844391748, 'subsample': 0.8836385874349173}. Best is trial 214 with value: 4570.910917073795.\u001b[0m\n",
            "\u001b[32m[I 2022-08-27 17:29:52,675]\u001b[0m Trial 219 finished with value: 4598.875186882761 and parameters: {'n_estimators': 80, 'max_depth': 3, 'reg_alpha': 5.076160399802817, 'reg_lambda': 1.8375853584817052, 'min_child_weight': 3, 'gamma': 1.5138207461408903, 'learning_rate': 0.07755917372636578, 'colsample_bytree': 0.8898842821858218, 'subsample': 0.6592524960838949}. Best is trial 214 with value: 4570.910917073795.\u001b[0m\n",
            "\u001b[32m[I 2022-08-27 17:29:53,072]\u001b[0m Trial 220 finished with value: 4685.304707728731 and parameters: {'n_estimators': 46, 'max_depth': 3, 'reg_alpha': 4.789188954192202, 'reg_lambda': 1.7286792235605966, 'min_child_weight': 0, 'gamma': 1.255763436705035, 'learning_rate': 0.06780454625100747, 'colsample_bytree': 0.8999101218070134, 'subsample': 0.8657611006418169}. Best is trial 214 with value: 4570.910917073795.\u001b[0m\n",
            "\u001b[32m[I 2022-08-27 17:29:53,880]\u001b[0m Trial 221 finished with value: 4587.938215683056 and parameters: {'n_estimators': 72, 'max_depth': 3, 'reg_alpha': 4.680703176963471, 'reg_lambda': 1.788118847108057, 'min_child_weight': 3, 'gamma': 1.1412343638162479, 'learning_rate': 0.06452547510925438, 'colsample_bytree': 0.8733385015012892, 'subsample': 0.8876309723836606}. Best is trial 214 with value: 4570.910917073795.\u001b[0m\n",
            "\u001b[32m[I 2022-08-27 17:29:54,362]\u001b[0m Trial 222 finished with value: 4592.641848341471 and parameters: {'n_estimators': 88, 'max_depth': 3, 'reg_alpha': 4.599708119188481, 'reg_lambda': 1.7283948095619697, 'min_child_weight': 3, 'gamma': 1.0417096299675002, 'learning_rate': 0.06975132862336948, 'colsample_bytree': 0.8823997721746341, 'subsample': 0.8995446777316353}. Best is trial 214 with value: 4570.910917073795.\u001b[0m\n",
            "\u001b[32m[I 2022-08-27 17:29:54,828]\u001b[0m Trial 223 finished with value: 4567.103137128717 and parameters: {'n_estimators': 64, 'max_depth': 3, 'reg_alpha': 4.478622650081676, 'reg_lambda': 0.9420167377821815, 'min_child_weight': 3, 'gamma': 1.335340679624581, 'learning_rate': 0.07417518671179231, 'colsample_bytree': 0.8999456948509177, 'subsample': 0.6625123283209107}. Best is trial 223 with value: 4567.103137128717.\u001b[0m\n",
            "\u001b[32m[I 2022-08-27 17:29:55,203]\u001b[0m Trial 224 finished with value: 4571.810103513867 and parameters: {'n_estimators': 61, 'max_depth': 3, 'reg_alpha': 4.4842756079062855, 'reg_lambda': 0.9489602893408561, 'min_child_weight': 3, 'gamma': 1.4282043960998119, 'learning_rate': 0.07540440558328093, 'colsample_bytree': 0.8909970028060874, 'subsample': 0.6610307151845987}. Best is trial 223 with value: 4567.103137128717.\u001b[0m\n",
            "\u001b[32m[I 2022-08-27 17:29:55,635]\u001b[0m Trial 225 finished with value: 4582.404109650831 and parameters: {'n_estimators': 58, 'max_depth': 3, 'reg_alpha': 4.4907795268818, 'reg_lambda': 0.9533950110239925, 'min_child_weight': 3, 'gamma': 1.4271798909619093, 'learning_rate': 0.07498539490473638, 'colsample_bytree': 0.8902248414085889, 'subsample': 0.6358283363808027}. Best is trial 223 with value: 4567.103137128717.\u001b[0m\n",
            "\u001b[32m[I 2022-08-27 17:29:56,049]\u001b[0m Trial 226 finished with value: 4588.533562104508 and parameters: {'n_estimators': 64, 'max_depth': 3, 'reg_alpha': 4.50039748798151, 'reg_lambda': 1.023283151860363, 'min_child_weight': 3, 'gamma': 1.3228580875274636, 'learning_rate': 0.0808607563340599, 'colsample_bytree': 0.8998065061368083, 'subsample': 0.6728680447137965}. Best is trial 223 with value: 4567.103137128717.\u001b[0m\n",
            "\u001b[32m[I 2022-08-27 17:29:56,502]\u001b[0m Trial 227 finished with value: 4634.319092264302 and parameters: {'n_estimators': 48, 'max_depth': 3, 'reg_alpha': 4.3523682113273106, 'reg_lambda': 0.8949051560163387, 'min_child_weight': 3, 'gamma': 1.3900836429577095, 'learning_rate': 0.0772117181716716, 'colsample_bytree': 0.8826974170322369, 'subsample': 0.6820456701809041}. Best is trial 223 with value: 4567.103137128717.\u001b[0m\n",
            "\u001b[32m[I 2022-08-27 17:29:56,861]\u001b[0m Trial 228 finished with value: 4763.314083534248 and parameters: {'n_estimators': 33, 'max_depth': 3, 'reg_alpha': 4.732630589625303, 'reg_lambda': 0.9879882331002738, 'min_child_weight': 3, 'gamma': 1.593054060567378, 'learning_rate': 0.08630159325321361, 'colsample_bytree': 0.8998418610717013, 'subsample': 0.6640802396447979}. Best is trial 223 with value: 4567.103137128717.\u001b[0m\n",
            "\u001b[32m[I 2022-08-27 17:29:57,365]\u001b[0m Trial 229 finished with value: 4580.328560661531 and parameters: {'n_estimators': 78, 'max_depth': 3, 'reg_alpha': 4.857001525317999, 'reg_lambda': 1.0924105561715627, 'min_child_weight': 3, 'gamma': 1.241141365026375, 'learning_rate': 0.07265682267534886, 'colsample_bytree': 0.8887014018822798, 'subsample': 0.6629583328186506}. Best is trial 223 with value: 4567.103137128717.\u001b[0m\n",
            "\u001b[32m[I 2022-08-27 17:29:57,732]\u001b[0m Trial 230 finished with value: 4598.912614122604 and parameters: {'n_estimators': 66, 'max_depth': 3, 'reg_alpha': 4.554801459277265, 'reg_lambda': 0.9581981064654418, 'min_child_weight': 3, 'gamma': 1.493379041368035, 'learning_rate': 0.07102284702257705, 'colsample_bytree': 0.8753157571678049, 'subsample': 0.654817886361254}. Best is trial 223 with value: 4567.103137128717.\u001b[0m\n",
            "\u001b[32m[I 2022-08-27 17:29:58,108]\u001b[0m Trial 231 finished with value: 4585.13371922765 and parameters: {'n_estimators': 72, 'max_depth': 3, 'reg_alpha': 4.311850154271435, 'reg_lambda': 1.8176955998249835, 'min_child_weight': 3, 'gamma': 1.1146259516243628, 'learning_rate': 0.06729113255339123, 'colsample_bytree': 0.8893228084115503, 'subsample': 0.6463966658960452}. Best is trial 223 with value: 4567.103137128717.\u001b[0m\n",
            "\u001b[32m[I 2022-08-27 17:29:58,437]\u001b[0m Trial 232 finished with value: 4582.508765823812 and parameters: {'n_estimators': 59, 'max_depth': 3, 'reg_alpha': 4.469506405773614, 'reg_lambda': 0.8376927944651964, 'min_child_weight': 3, 'gamma': 1.3064829630540147, 'learning_rate': 0.07423145292090091, 'colsample_bytree': 0.8996745718723049, 'subsample': 0.8790422788774449}. Best is trial 223 with value: 4567.103137128717.\u001b[0m\n",
            "\u001b[32m[I 2022-08-27 17:29:58,806]\u001b[0m Trial 233 finished with value: 4586.799941942014 and parameters: {'n_estimators': 81, 'max_depth': 3, 'reg_alpha': 4.660693905717364, 'reg_lambda': 0.9122458821113106, 'min_child_weight': 3, 'gamma': 1.2141395327882902, 'learning_rate': 0.0649321317742528, 'colsample_bytree': 0.8891756917360918, 'subsample': 0.6699272744344383}. Best is trial 223 with value: 4567.103137128717.\u001b[0m\n",
            "\u001b[32m[I 2022-08-27 17:29:59,237]\u001b[0m Trial 234 finished with value: 4576.368590600185 and parameters: {'n_estimators': 70, 'max_depth': 3, 'reg_alpha': 4.940933736623087, 'reg_lambda': 1.8616924772208523, 'min_child_weight': 3, 'gamma': 1.1673043260122136, 'learning_rate': 0.06907480163957849, 'colsample_bytree': 0.8794610811848573, 'subsample': 0.8922505953641848}. Best is trial 223 with value: 4567.103137128717.\u001b[0m\n",
            "\u001b[32m[I 2022-08-27 17:29:59,432]\u001b[0m Trial 235 finished with value: 4635.410335817296 and parameters: {'n_estimators': 55, 'max_depth': 3, 'reg_alpha': 5.000247111292821, 'reg_lambda': 1.8868124190713307, 'min_child_weight': 3, 'gamma': 1.354304215354968, 'learning_rate': 0.06981224255423904, 'colsample_bytree': 0.8782396453391662, 'subsample': 0.8807774576859023}. Best is trial 223 with value: 4567.103137128717.\u001b[0m\n",
            "\u001b[32m[I 2022-08-27 17:29:59,664]\u001b[0m Trial 236 finished with value: 4610.083831335391 and parameters: {'n_estimators': 87, 'max_depth': 3, 'reg_alpha': 4.912134597360514, 'reg_lambda': 0.9183347217702094, 'min_child_weight': 3, 'gamma': 1.1752086024851804, 'learning_rate': 0.07867892530079132, 'colsample_bytree': 0.8824596414867448, 'subsample': 0.8651934641401897}. Best is trial 223 with value: 4567.103137128717.\u001b[0m\n",
            "\u001b[32m[I 2022-08-27 17:29:59,868]\u001b[0m Trial 237 finished with value: 4579.262992855745 and parameters: {'n_estimators': 68, 'max_depth': 3, 'reg_alpha': 5.133100239601517, 'reg_lambda': 0.8666842562711892, 'min_child_weight': 3, 'gamma': 1.2557014034343086, 'learning_rate': 0.07304818580815592, 'colsample_bytree': 0.8908784197310278, 'subsample': 0.890309528986481}. Best is trial 223 with value: 4567.103137128717.\u001b[0m\n",
            "\u001b[32m[I 2022-08-27 17:30:00,042]\u001b[0m Trial 238 finished with value: 4756.836533331225 and parameters: {'n_estimators': 46, 'max_depth': 3, 'reg_alpha': 4.807465944660865, 'reg_lambda': 0.6865110825937428, 'min_child_weight': 3, 'gamma': 0.9689434309844575, 'learning_rate': 0.06702567497204727, 'colsample_bytree': 0.8671531592764381, 'subsample': 0.8717436503685503}. Best is trial 223 with value: 4567.103137128717.\u001b[0m\n",
            "\u001b[32m[I 2022-08-27 17:30:00,320]\u001b[0m Trial 239 finished with value: 4745.294844127465 and parameters: {'n_estimators': 78, 'max_depth': 5, 'reg_alpha': 4.638735527030849, 'reg_lambda': 1.860405257769271, 'min_child_weight': 3, 'gamma': 1.306019309911697, 'learning_rate': 0.07628102423166468, 'colsample_bytree': 0.8998069442963715, 'subsample': 0.889098636499769}. Best is trial 223 with value: 4567.103137128717.\u001b[0m\n",
            "\u001b[32m[I 2022-08-27 17:30:00,512]\u001b[0m Trial 240 finished with value: 4579.785977661549 and parameters: {'n_estimators': 61, 'max_depth': 3, 'reg_alpha': 4.908157144260141, 'reg_lambda': 1.9187850691296613, 'min_child_weight': 3, 'gamma': 1.4433703118882115, 'learning_rate': 0.08266175972469521, 'colsample_bytree': 0.8796168403756845, 'subsample': 0.6922003837868029}. Best is trial 223 with value: 4567.103137128717.\u001b[0m\n",
            "\u001b[32m[I 2022-08-27 17:30:00,729]\u001b[0m Trial 241 finished with value: 4575.894175013359 and parameters: {'n_estimators': 69, 'max_depth': 3, 'reg_alpha': 4.205829214122885, 'reg_lambda': 1.823684218371873, 'min_child_weight': 3, 'gamma': 1.105391981777033, 'learning_rate': 0.06411045401339725, 'colsample_bytree': 0.8915256494404652, 'subsample': 0.8982659762945704}. Best is trial 223 with value: 4567.103137128717.\u001b[0m\n",
            "\u001b[32m[I 2022-08-27 17:30:00,945]\u001b[0m Trial 242 finished with value: 4586.034665486824 and parameters: {'n_estimators': 70, 'max_depth': 3, 'reg_alpha': 4.359088974537397, 'reg_lambda': 1.832049639236789, 'min_child_weight': 3, 'gamma': 1.1493071638070036, 'learning_rate': 0.06484465278021521, 'colsample_bytree': 0.8902964626106591, 'subsample': 0.8777679826845577}. Best is trial 223 with value: 4567.103137128717.\u001b[0m\n",
            "\u001b[32m[I 2022-08-27 17:30:01,522]\u001b[0m Trial 243 finished with value: 4820.150475267281 and parameters: {'n_estimators': 335, 'max_depth': 3, 'reg_alpha': 4.281525701944622, 'reg_lambda': 1.863730496423642, 'min_child_weight': 3, 'gamma': 1.0876260820126293, 'learning_rate': 0.06870939105563914, 'colsample_bytree': 0.8995122848583477, 'subsample': 0.890576651386645}. Best is trial 223 with value: 4567.103137128717.\u001b[0m\n",
            "\u001b[32m[I 2022-08-27 17:30:01,708]\u001b[0m Trial 244 finished with value: 4597.605205220448 and parameters: {'n_estimators': 60, 'max_depth': 3, 'reg_alpha': 4.203996078633478, 'reg_lambda': 1.811297869098889, 'min_child_weight': 3, 'gamma': 1.2314844805977787, 'learning_rate': 0.07121074123061413, 'colsample_bytree': 0.8820484513942439, 'subsample': 0.872496812960261}. Best is trial 223 with value: 4567.103137128717.\u001b[0m\n",
            "\u001b[32m[I 2022-08-27 17:30:01,957]\u001b[0m Trial 245 finished with value: 4629.907990577868 and parameters: {'n_estimators': 75, 'max_depth': 4, 'reg_alpha': 3.201161160148584, 'reg_lambda': 1.7878829914158143, 'min_child_weight': 3, 'gamma': 1.0128265585308744, 'learning_rate': 0.06600704502154618, 'colsample_bytree': 0.8902219764452416, 'subsample': 0.8998103960834087}. Best is trial 223 with value: 4567.103137128717.\u001b[0m\n",
            "\u001b[32m[I 2022-08-27 17:30:02,203]\u001b[0m Trial 246 finished with value: 4588.605508543084 and parameters: {'n_estimators': 90, 'max_depth': 3, 'reg_alpha': 2.9217635358168352, 'reg_lambda': 1.7612896317046272, 'min_child_weight': 3, 'gamma': 1.3852944077351521, 'learning_rate': 0.07235299219817094, 'colsample_bytree': 0.8999064205384832, 'subsample': 0.8829521318835484}. Best is trial 223 with value: 4567.103137128717.\u001b[0m\n",
            "\u001b[32m[I 2022-08-27 17:30:02,401]\u001b[0m Trial 247 finished with value: 4656.012396395666 and parameters: {'n_estimators': 55, 'max_depth': 3, 'reg_alpha': 4.457839775327505, 'reg_lambda': 1.8541451002848919, 'min_child_weight': 3, 'gamma': 1.1774639533071807, 'learning_rate': 0.06816789702666419, 'colsample_bytree': 0.8772182247952016, 'subsample': 0.8671475256627074}. Best is trial 223 with value: 4567.103137128717.\u001b[0m\n",
            "\u001b[32m[I 2022-08-27 17:30:02,621]\u001b[0m Trial 248 finished with value: 4584.4648022605525 and parameters: {'n_estimators': 70, 'max_depth': 3, 'reg_alpha': 4.7528303313873, 'reg_lambda': 1.8957087118703617, 'min_child_weight': 3, 'gamma': 1.3046852648640042, 'learning_rate': 0.07558768725113717, 'colsample_bytree': 0.8895716800733756, 'subsample': 0.8907143787219537}. Best is trial 223 with value: 4567.103137128717.\u001b[0m\n",
            "\u001b[32m[I 2022-08-27 17:30:02,858]\u001b[0m Trial 249 finished with value: 4580.952782602057 and parameters: {'n_estimators': 84, 'max_depth': 3, 'reg_alpha': 5.081292199799535, 'reg_lambda': 1.7411004061546256, 'min_child_weight': 0, 'gamma': 1.1426596480923907, 'learning_rate': 0.06421738303489996, 'colsample_bytree': 0.8728275079794485, 'subsample': 0.6790537212010412}. Best is trial 223 with value: 4567.103137128717.\u001b[0m\n",
            "\u001b[32m[I 2022-08-27 17:30:03,077]\u001b[0m Trial 250 finished with value: 4643.604787308211 and parameters: {'n_estimators': 67, 'max_depth': 3, 'reg_alpha': 4.606744290397691, 'reg_lambda': 0.9622525638181508, 'min_child_weight': 1, 'gamma': 1.2414870801303024, 'learning_rate': 0.1317991404885796, 'colsample_bytree': 0.889932941448394, 'subsample': 0.6391786743517457}. Best is trial 223 with value: 4567.103137128717.\u001b[0m\n",
            "\u001b[32m[I 2022-08-27 17:30:03,257]\u001b[0m Trial 251 finished with value: 4619.815476535584 and parameters: {'n_estimators': 50, 'max_depth': 3, 'reg_alpha': 4.416811826960821, 'reg_lambda': 1.0448788274603942, 'min_child_weight': 3, 'gamma': 0.848063996393299, 'learning_rate': 0.07002736223186519, 'colsample_bytree': 0.8998483747536941, 'subsample': 0.8605835367439626}. Best is trial 223 with value: 4567.103137128717.\u001b[0m\n",
            "\u001b[32m[I 2022-08-27 17:30:03,505]\u001b[0m Trial 252 finished with value: 4595.2870483403585 and parameters: {'n_estimators': 83, 'max_depth': 3, 'reg_alpha': 4.796278691461026, 'reg_lambda': 1.8195632234621455, 'min_child_weight': 3, 'gamma': 0.7092351002471436, 'learning_rate': 0.07939120409726887, 'colsample_bytree': 0.8820043953772567, 'subsample': 0.6543647382161734}. Best is trial 223 with value: 4567.103137128717.\u001b[0m\n",
            "\u001b[32m[I 2022-08-27 17:30:03,703]\u001b[0m Trial 253 finished with value: 4588.167882984166 and parameters: {'n_estimators': 62, 'max_depth': 3, 'reg_alpha': 4.211109650538573, 'reg_lambda': 1.7692557172116155, 'min_child_weight': 3, 'gamma': 1.3266692214744207, 'learning_rate': 0.07390446063549883, 'colsample_bytree': 0.8651039689304805, 'subsample': 0.881050355705824}. Best is trial 223 with value: 4567.103137128717.\u001b[0m\n",
            "\u001b[32m[I 2022-08-27 17:30:03,917]\u001b[0m Trial 254 finished with value: 4631.647511653227 and parameters: {'n_estimators': 76, 'max_depth': 3, 'reg_alpha': 4.544812819291955, 'reg_lambda': 1.8351148383343487, 'min_child_weight': 3, 'gamma': 1.137953388454021, 'learning_rate': 0.06665524997624402, 'colsample_bytree': 0.7530371882462474, 'subsample': 0.8996660513602743}. Best is trial 223 with value: 4567.103137128717.\u001b[0m\n",
            "\u001b[32m[I 2022-08-27 17:30:04,155]\u001b[0m Trial 255 finished with value: 4604.25544243836 and parameters: {'n_estimators': 93, 'max_depth': 3, 'reg_alpha': 4.974377008996793, 'reg_lambda': 1.875870807977256, 'min_child_weight': 3, 'gamma': 1.0659315073041595, 'learning_rate': 0.06306811102658096, 'colsample_bytree': 0.7330030678787838, 'subsample': 0.8780441145394228}. Best is trial 223 with value: 4567.103137128717.\u001b[0m\n",
            "\u001b[32m[I 2022-08-27 17:30:04,333]\u001b[0m Trial 256 finished with value: 4756.425801796638 and parameters: {'n_estimators': 40, 'max_depth': 3, 'reg_alpha': 4.706755173949174, 'reg_lambda': 1.7999889115633751, 'min_child_weight': 3, 'gamma': 1.4101263474342536, 'learning_rate': 0.07041655175988093, 'colsample_bytree': 0.8891461977947615, 'subsample': 0.8882543170822825}. Best is trial 223 with value: 4567.103137128717.\u001b[0m\n",
            "\u001b[32m[I 2022-08-27 17:30:04,561]\u001b[0m Trial 257 finished with value: 4586.022903675955 and parameters: {'n_estimators': 55, 'max_depth': 3, 'reg_alpha': 4.114869864469122, 'reg_lambda': 1.7198908714670929, 'min_child_weight': 3, 'gamma': 0.9795852051508083, 'learning_rate': 0.09489536150741473, 'colsample_bytree': 0.8822217531027697, 'subsample': 0.5502702332391961}. Best is trial 223 with value: 4567.103137128717.\u001b[0m\n",
            "\u001b[32m[I 2022-08-27 17:30:04,779]\u001b[0m Trial 258 finished with value: 4586.872739668543 and parameters: {'n_estimators': 74, 'max_depth': 3, 'reg_alpha': 4.876672996902981, 'reg_lambda': 1.7549469540474778, 'min_child_weight': 3, 'gamma': 1.2109804694905792, 'learning_rate': 0.07574767436751935, 'colsample_bytree': 0.8998273962797031, 'subsample': 0.8713669792464497}. Best is trial 223 with value: 4567.103137128717.\u001b[0m\n",
            "\u001b[32m[I 2022-08-27 17:30:05,000]\u001b[0m Trial 259 finished with value: 4623.997063547323 and parameters: {'n_estimators': 62, 'max_depth': 3, 'reg_alpha': 4.5127333916942565, 'reg_lambda': 1.917459206988664, 'min_child_weight': 3, 'gamma': 1.285937917014802, 'learning_rate': 0.11982431844393505, 'colsample_bytree': 0.8715950313022555, 'subsample': 0.8885891595744989}. Best is trial 223 with value: 4567.103137128717.\u001b[0m\n",
            "\u001b[32m[I 2022-08-27 17:30:05,244]\u001b[0m Trial 260 finished with value: 4590.016537494972 and parameters: {'n_estimators': 81, 'max_depth': 3, 'reg_alpha': 4.336683477927876, 'reg_lambda': 1.8440964794302428, 'min_child_weight': 3, 'gamma': 1.519303902971235, 'learning_rate': 0.06794210076705791, 'colsample_bytree': 0.8905959763555829, 'subsample': 0.5174302776314016}. Best is trial 223 with value: 4567.103137128717.\u001b[0m\n",
            "\u001b[32m[I 2022-08-27 17:30:05,432]\u001b[0m Trial 261 finished with value: 5857.818742274108 and parameters: {'n_estimators': 68, 'max_depth': 3, 'reg_alpha': 5.027140797092598, 'reg_lambda': 1.7879072894571886, 'min_child_weight': 3, 'gamma': 1.0793955011246343, 'learning_rate': 0.07130350201348379, 'colsample_bytree': 0.40193321202580834, 'subsample': 0.6668010754156898}. Best is trial 223 with value: 4567.103137128717.\u001b[0m\n",
            "\u001b[32m[I 2022-08-27 17:30:05,632]\u001b[0m Trial 262 finished with value: 4744.3459146257655 and parameters: {'n_estimators': 49, 'max_depth': 3, 'reg_alpha': 4.608481295789877, 'reg_lambda': 1.8162597084499945, 'min_child_weight': 3, 'gamma': 1.1875116539393902, 'learning_rate': 0.06509692793755505, 'colsample_bytree': 0.8818408565956661, 'subsample': 0.860595862441916}. Best is trial 223 with value: 4567.103137128717.\u001b[0m\n",
            "\u001b[32m[I 2022-08-27 17:30:05,875]\u001b[0m Trial 263 finished with value: 4619.0417787872675 and parameters: {'n_estimators': 89, 'max_depth': 3, 'reg_alpha': 4.725084181256584, 'reg_lambda': 1.8763895045970593, 'min_child_weight': 3, 'gamma': 1.3889276249440923, 'learning_rate': 0.08438925163749796, 'colsample_bytree': 0.8904150465046521, 'subsample': 0.879490348410293}. Best is trial 223 with value: 4567.103137128717.\u001b[0m\n",
            "\u001b[32m[I 2022-08-27 17:30:06,080]\u001b[0m Trial 264 finished with value: 4582.674873463498 and parameters: {'n_estimators': 64, 'max_depth': 3, 'reg_alpha': 4.400963600582335, 'reg_lambda': 1.7631532240593009, 'min_child_weight': 3, 'gamma': 1.267972159277081, 'learning_rate': 0.07945669942434685, 'colsample_bytree': 0.87056531109731, 'subsample': 0.8996995562690261}. Best is trial 223 with value: 4567.103137128717.\u001b[0m\n",
            "\u001b[32m[I 2022-08-27 17:30:06,302]\u001b[0m Trial 265 finished with value: 4585.148887842552 and parameters: {'n_estimators': 77, 'max_depth': 3, 'reg_alpha': 4.23627391681092, 'reg_lambda': 1.7025736361706412, 'min_child_weight': 3, 'gamma': 1.00468041569607, 'learning_rate': 0.07295094348694296, 'colsample_bytree': 0.8895642513195757, 'subsample': 0.8711921403213129}. Best is trial 223 with value: 4567.103137128717.\u001b[0m\n",
            "\u001b[32m[I 2022-08-27 17:30:06,495]\u001b[0m Trial 266 finished with value: 4687.694873915999 and parameters: {'n_estimators': 55, 'max_depth': 3, 'reg_alpha': 3.341393027065234, 'reg_lambda': 1.8087610488833792, 'min_child_weight': 3, 'gamma': 0.4454453655642405, 'learning_rate': 0.06290439228301044, 'colsample_bytree': 0.8786499129917686, 'subsample': 0.8907960044998328}. Best is trial 223 with value: 4567.103137128717.\u001b[0m\n",
            "\u001b[32m[I 2022-08-27 17:30:06,757]\u001b[0m Trial 267 finished with value: 4592.96483294144 and parameters: {'n_estimators': 94, 'max_depth': 3, 'reg_alpha': 5.181677744466041, 'reg_lambda': 1.85497614251143, 'min_child_weight': 3, 'gamma': 1.1515399152926014, 'learning_rate': 0.06869394803750523, 'colsample_bytree': 0.8996443593949733, 'subsample': 0.8525053325129768}. Best is trial 223 with value: 4567.103137128717.\u001b[0m\n",
            "\u001b[32m[I 2022-08-27 17:30:06,935]\u001b[0m Trial 268 finished with value: 4698.092127900946 and parameters: {'n_estimators': 40, 'max_depth': 3, 'reg_alpha': 4.827736104518394, 'reg_lambda': 1.9059601486204822, 'min_child_weight': 0, 'gamma': 1.347126793354893, 'learning_rate': 0.07635937754588683, 'colsample_bytree': 0.8910440968392002, 'subsample': 0.882477818748689}. Best is trial 223 with value: 4567.103137128717.\u001b[0m\n",
            "\u001b[32m[I 2022-08-27 17:30:07,643]\u001b[0m Trial 269 finished with value: 4889.243517113371 and parameters: {'n_estimators': 458, 'max_depth': 3, 'reg_alpha': 4.622343523023246, 'reg_lambda': 0.9374900516493935, 'min_child_weight': 3, 'gamma': 1.2454640661973675, 'learning_rate': 0.06638217788209168, 'colsample_bytree': 0.8610392186818749, 'subsample': 0.8637870463873677}. Best is trial 223 with value: 4567.103137128717.\u001b[0m\n",
            "\u001b[32m[I 2022-08-27 17:30:07,859]\u001b[0m Trial 270 finished with value: 4583.209361833757 and parameters: {'n_estimators': 71, 'max_depth': 3, 'reg_alpha': 4.910637266238442, 'reg_lambda': 1.6683178686760352, 'min_child_weight': 3, 'gamma': 2.555224308612395, 'learning_rate': 0.07256158811304297, 'colsample_bytree': 0.8822580895900354, 'subsample': 0.570298069846755}. Best is trial 223 with value: 4567.103137128717.\u001b[0m\n",
            "\u001b[32m[I 2022-08-27 17:30:08,071]\u001b[0m Trial 271 finished with value: 4771.330004537792 and parameters: {'n_estimators': 80, 'max_depth': 3, 'reg_alpha': 2.5713747452601226, 'reg_lambda': 1.7367373382785645, 'min_child_weight': 3, 'gamma': 0.9161864851599575, 'learning_rate': 0.17743576329246727, 'colsample_bytree': 0.5631134813608947, 'subsample': 0.7282632802528403}. Best is trial 223 with value: 4567.103137128717.\u001b[0m\n",
            "\u001b[32m[I 2022-08-27 17:30:08,744]\u001b[0m Trial 272 finished with value: 4844.824688610139 and parameters: {'n_estimators': 419, 'max_depth': 3, 'reg_alpha': 4.077083511693032, 'reg_lambda': 0.9969135089282457, 'min_child_weight': 3, 'gamma': 1.0816746072533132, 'learning_rate': 0.06310930237944999, 'colsample_bytree': 0.6853096705582714, 'subsample': 0.7018011772347594}. Best is trial 223 with value: 4567.103137128717.\u001b[0m\n",
            "\u001b[32m[I 2022-08-27 17:30:08,973]\u001b[0m Trial 273 finished with value: 4628.905310984923 and parameters: {'n_estimators': 61, 'max_depth': 4, 'reg_alpha': 4.465310624674586, 'reg_lambda': 1.9559946180256933, 'min_child_weight': 3, 'gamma': 1.4706566514703554, 'learning_rate': 0.0692056620194317, 'colsample_bytree': 0.891821179864369, 'subsample': 0.8748231225387998}. Best is trial 223 with value: 4567.103137128717.\u001b[0m\n",
            "\u001b[32m[I 2022-08-27 17:30:09,158]\u001b[0m Trial 274 finished with value: 4626.735316736861 and parameters: {'n_estimators': 51, 'max_depth': 3, 'reg_alpha': 4.731463601614274, 'reg_lambda': 1.778323638018232, 'min_child_weight': 3, 'gamma': 1.3359986704657865, 'learning_rate': 0.07463538415103955, 'colsample_bytree': 0.8727889919246172, 'subsample': 0.8908887328161122}. Best is trial 223 with value: 4567.103137128717.\u001b[0m\n",
            "\u001b[32m[I 2022-08-27 17:30:09,321]\u001b[0m Trial 275 finished with value: 5584.54481444826 and parameters: {'n_estimators': 28, 'max_depth': 3, 'reg_alpha': 4.312846555077899, 'reg_lambda': 1.8439156077094547, 'min_child_weight': 3, 'gamma': 3.0177522704344435, 'learning_rate': 0.0671928298080205, 'colsample_bytree': 0.8992312670905857, 'subsample': 0.882821854962402}. Best is trial 223 with value: 4567.103137128717.\u001b[0m\n",
            "\u001b[32m[I 2022-08-27 17:30:09,554]\u001b[0m Trial 276 finished with value: 4619.240685975897 and parameters: {'n_estimators': 84, 'max_depth': 3, 'reg_alpha': 5.023480189381606, 'reg_lambda': 0.866510039880472, 'min_child_weight': 3, 'gamma': 1.1788006281627985, 'learning_rate': 0.08199898841025406, 'colsample_bytree': 0.8999743426036185, 'subsample': 0.899212820013947}. Best is trial 223 with value: 4567.103137128717.\u001b[0m\n",
            "\u001b[32m[I 2022-08-27 17:30:09,781]\u001b[0m Trial 277 finished with value: 4586.3580976909425 and parameters: {'n_estimators': 70, 'max_depth': 3, 'reg_alpha': 4.511788199843216, 'reg_lambda': 1.8091740609702573, 'min_child_weight': 3, 'gamma': 1.244474219047237, 'learning_rate': 0.0781989714169551, 'colsample_bytree': 0.882046887021403, 'subsample': 0.8640177448820453}. Best is trial 223 with value: 4567.103137128717.\u001b[0m\n",
            "\u001b[32m[I 2022-08-27 17:30:10,023]\u001b[0m Trial 278 finished with value: 4747.995610288549 and parameters: {'n_estimators': 98, 'max_depth': 3, 'reg_alpha': 4.832842384719855, 'reg_lambda': 1.715987252807316, 'min_child_weight': 3, 'gamma': 1.5813336852875077, 'learning_rate': 0.07118119026753578, 'colsample_bytree': 0.587377656686964, 'subsample': 0.6192840875834673}. Best is trial 223 with value: 4567.103137128717.\u001b[0m\n",
            "\u001b[32m[I 2022-08-27 17:30:10,222]\u001b[0m Trial 279 finished with value: 4625.711115881033 and parameters: {'n_estimators': 62, 'max_depth': 3, 'reg_alpha': 3.9083746021116266, 'reg_lambda': 1.8849058608548288, 'min_child_weight': 3, 'gamma': 1.0575876015304027, 'learning_rate': 0.0637162602768416, 'colsample_bytree': 0.8639992952964344, 'subsample': 0.873510514160303}. Best is trial 223 with value: 4567.103137128717.\u001b[0m\n",
            "\u001b[32m[I 2022-08-27 17:30:10,440]\u001b[0m Trial 280 finished with value: 4579.701436803202 and parameters: {'n_estimators': 74, 'max_depth': 3, 'reg_alpha': 4.694973910177361, 'reg_lambda': 1.7613295740317851, 'min_child_weight': 3, 'gamma': 1.3961312644909778, 'learning_rate': 0.06953454098214139, 'colsample_bytree': 0.8900326576419443, 'subsample': 0.6614672573949448}. Best is trial 223 with value: 4567.103137128717.\u001b[0m\n",
            "\u001b[32m[I 2022-08-27 17:30:10,618]\u001b[0m Trial 281 finished with value: 4693.144475875731 and parameters: {'n_estimators': 45, 'max_depth': 3, 'reg_alpha': 4.185138998382092, 'reg_lambda': 1.8325374899252918, 'min_child_weight': 3, 'gamma': 1.1392492682217175, 'learning_rate': 0.07506617441244214, 'colsample_bytree': 0.8762881516491675, 'subsample': 0.8904497098834491}. Best is trial 223 with value: 4567.103137128717.\u001b[0m\n",
            "\u001b[32m[I 2022-08-27 17:30:10,852]\u001b[0m Trial 282 finished with value: 4610.926243361429 and parameters: {'n_estimators': 86, 'max_depth': 3, 'reg_alpha': 4.35603487810646, 'reg_lambda': 1.778672258522762, 'min_child_weight': 3, 'gamma': 1.3029063149359907, 'learning_rate': 0.08702746046733532, 'colsample_bytree': 0.8837168229440274, 'subsample': 0.8540411636157232}. Best is trial 223 with value: 4567.103137128717.\u001b[0m\n",
            "\u001b[32m[I 2022-08-27 17:30:11,046]\u001b[0m Trial 283 finished with value: 4598.953451506343 and parameters: {'n_estimators': 57, 'max_depth': 3, 'reg_alpha': 4.580911719375534, 'reg_lambda': 1.6807769175619807, 'min_child_weight': 0, 'gamma': 2.663590849454725, 'learning_rate': 0.0661306471964095, 'colsample_bytree': 0.892183351476083, 'subsample': 0.8824603527323583}. Best is trial 223 with value: 4567.103137128717.\u001b[0m\n",
            "\u001b[32m[I 2022-08-27 17:30:11,249]\u001b[0m Trial 284 finished with value: 4583.466830609794 and parameters: {'n_estimators': 68, 'max_depth': 3, 'reg_alpha': 5.16925522313089, 'reg_lambda': 1.8568894041431674, 'min_child_weight': 3, 'gamma': 1.1998301395059459, 'learning_rate': 0.07234592711749864, 'colsample_bytree': 0.874389577932783, 'subsample': 0.8999073016360748}. Best is trial 223 with value: 4567.103137128717.\u001b[0m\n",
            "\u001b[32m[I 2022-08-27 17:30:11,468]\u001b[0m Trial 285 finished with value: 5087.463525695763 and parameters: {'n_estimators': 78, 'max_depth': 3, 'reg_alpha': 4.965918886666476, 'reg_lambda': 1.7370773418807266, 'min_child_weight': 3, 'gamma': 0.9863743563725746, 'learning_rate': 0.4845183839991225, 'colsample_bytree': 0.8918789221395083, 'subsample': 0.8704862283425742}. Best is trial 223 with value: 4567.103137128717.\u001b[0m\n",
            "\u001b[32m[I 2022-08-27 17:30:11,907]\u001b[0m Trial 286 finished with value: 5464.700418220267 and parameters: {'n_estimators': 228, 'max_depth': 3, 'reg_alpha': 4.419655896420549, 'reg_lambda': 1.800118241642909, 'min_child_weight': 3, 'gamma': 1.100179848380719, 'learning_rate': 0.44124273156618926, 'colsample_bytree': 0.899992287376636, 'subsample': 0.8886191055447115}. Best is trial 223 with value: 4567.103137128717.\u001b[0m\n",
            "\u001b[32m[I 2022-08-27 17:30:12,665]\u001b[0m Trial 287 finished with value: 5341.948323088481 and parameters: {'n_estimators': 500, 'max_depth': 3, 'reg_alpha': 4.748964501276018, 'reg_lambda': 1.9265719236512908, 'min_child_weight': 3, 'gamma': 1.42352878969165, 'learning_rate': 0.21426614064887634, 'colsample_bytree': 0.8829777676100139, 'subsample': 0.880452660060555}. Best is trial 223 with value: 4567.103137128717.\u001b[0m\n",
            "\u001b[32m[I 2022-08-27 17:30:12,866]\u001b[0m Trial 288 finished with value: 4596.456365013792 and parameters: {'n_estimators': 55, 'max_depth': 3, 'reg_alpha': 4.0740404341339564, 'reg_lambda': 1.8275936742744046, 'min_child_weight': 3, 'gamma': 1.2992466389599662, 'learning_rate': 0.07922052041503132, 'colsample_bytree': 0.8674364862999696, 'subsample': 0.6477011590510084}. Best is trial 223 with value: 4567.103137128717.\u001b[0m\n",
            "\u001b[32m[I 2022-08-27 17:30:13,128]\u001b[0m Trial 289 finished with value: 4583.220027362188 and parameters: {'n_estimators': 91, 'max_depth': 3, 'reg_alpha': 4.897595646646554, 'reg_lambda': 1.889621403586838, 'min_child_weight': 3, 'gamma': 1.2341338093571557, 'learning_rate': 0.06266235291361916, 'colsample_bytree': 0.8996032421072958, 'subsample': 0.8609272067663318}. Best is trial 223 with value: 4567.103137128717.\u001b[0m\n",
            "\u001b[32m[I 2022-08-27 17:30:13,330]\u001b[0m Trial 290 finished with value: 4588.905221264084 and parameters: {'n_estimators': 66, 'max_depth': 3, 'reg_alpha': 4.5970856959826385, 'reg_lambda': 1.769920775442387, 'min_child_weight': 3, 'gamma': 1.4807784327372828, 'learning_rate': 0.06835198914955724, 'colsample_bytree': 0.8832584828492005, 'subsample': 0.8915254691863358}. Best is trial 223 with value: 4567.103137128717.\u001b[0m\n",
            "\u001b[32m[I 2022-08-27 17:30:13,586]\u001b[0m Trial 291 finished with value: 4597.274456755539 and parameters: {'n_estimators': 102, 'max_depth': 3, 'reg_alpha': 2.718194704295794, 'reg_lambda': 1.7300671249514052, 'min_child_weight': 3, 'gamma': 2.585886989111722, 'learning_rate': 0.06563796037066749, 'colsample_bytree': 0.8904820072561319, 'subsample': 0.8478946536138514}. Best is trial 223 with value: 4567.103137128717.\u001b[0m\n",
            "\u001b[32m[I 2022-08-27 17:30:13,797]\u001b[0m Trial 292 finished with value: 4779.6344891770495 and parameters: {'n_estimators': 42, 'max_depth': 3, 'reg_alpha': 4.264743418003205, 'reg_lambda': 1.812264611122118, 'min_child_weight': 3, 'gamma': 1.1518874539906618, 'learning_rate': 0.07323970348192814, 'colsample_bytree': 0.8581661591554357, 'subsample': 0.5532379139126189}. Best is trial 223 with value: 4567.103137128717.\u001b[0m\n",
            "\u001b[32m[I 2022-08-27 17:30:13,991]\u001b[0m Trial 293 finished with value: 5033.110992279046 and parameters: {'n_estimators': 77, 'max_depth': 3, 'reg_alpha': 5.0875266914365875, 'reg_lambda': 1.8626636917189774, 'min_child_weight': 3, 'gamma': 1.361073670522553, 'learning_rate': 0.0767828436144549, 'colsample_bytree': 0.48360967050591064, 'subsample': 0.8733239776911091}. Best is trial 223 with value: 4567.103137128717.\u001b[0m\n",
            "\u001b[32m[I 2022-08-27 17:30:14,197]\u001b[0m Trial 294 finished with value: 4598.790948616832 and parameters: {'n_estimators': 64, 'max_depth': 3, 'reg_alpha': 2.3668104998885333, 'reg_lambda': 1.7086644838339886, 'min_child_weight': 2, 'gamma': 1.029190466689133, 'learning_rate': 0.07029029993068212, 'colsample_bytree': 0.8759994658634079, 'subsample': 0.6355043636339375}. Best is trial 223 with value: 4567.103137128717.\u001b[0m\n",
            "\u001b[32m[I 2022-08-27 17:30:14,379]\u001b[0m Trial 295 finished with value: 4731.941277928725 and parameters: {'n_estimators': 50, 'max_depth': 3, 'reg_alpha': 4.51243031653951, 'reg_lambda': 1.6564291111368155, 'min_child_weight': 3, 'gamma': 1.692740119579501, 'learning_rate': 0.28744169000933323, 'colsample_bytree': 0.8908773788383645, 'subsample': 0.6733619383807322}. Best is trial 223 with value: 4567.103137128717.\u001b[0m\n",
            "\u001b[32m[I 2022-08-27 17:30:14,599]\u001b[0m Trial 296 finished with value: 4812.795850086182 and parameters: {'n_estimators': 83, 'max_depth': 3, 'reg_alpha': 4.827747955001913, 'reg_lambda': 1.7633123639339505, 'min_child_weight': 3, 'gamma': 0.9065720016394532, 'learning_rate': 0.062276508103666306, 'colsample_bytree': 0.6640944707703258, 'subsample': 0.8814724510977746}. Best is trial 223 with value: 4567.103137128717.\u001b[0m\n",
            "\u001b[32m[I 2022-08-27 17:30:14,826]\u001b[0m Trial 297 finished with value: 4589.497549987031 and parameters: {'n_estimators': 73, 'max_depth': 3, 'reg_alpha': 4.6785584539906635, 'reg_lambda': 1.8008648978540538, 'min_child_weight': 3, 'gamma': 1.2154867655178192, 'learning_rate': 0.06679677821931505, 'colsample_bytree': 0.8997856120242864, 'subsample': 0.8636400068350365}. Best is trial 223 with value: 4567.103137128717.\u001b[0m\n",
            "\u001b[32m[I 2022-08-27 17:30:15,084]\u001b[0m Trial 298 finished with value: 4780.227270021773 and parameters: {'n_estimators': 62, 'max_depth': 5, 'reg_alpha': 4.1648923018249, 'reg_lambda': 1.1586090063488925, 'min_child_weight': 3, 'gamma': 1.307463338458418, 'learning_rate': 0.08218357083716983, 'colsample_bytree': 0.8837377466676327, 'subsample': 0.8923870609676994}. Best is trial 223 with value: 4567.103137128717.\u001b[0m\n",
            "\u001b[32m[I 2022-08-27 17:30:15,327]\u001b[0m Trial 299 finished with value: 4609.921474145038 and parameters: {'n_estimators': 93, 'max_depth': 3, 'reg_alpha': 4.349232526432261, 'reg_lambda': 1.898190498392857, 'min_child_weight': 0, 'gamma': 1.0856388258306175, 'learning_rate': 0.07114431169310115, 'colsample_bytree': 0.8698487425940828, 'subsample': 0.6554949098102397}. Best is trial 223 with value: 4567.103137128717.\u001b[0m\n",
            "\u001b[32m[I 2022-08-27 17:30:15,523]\u001b[0m Trial 300 finished with value: 4900.889379258389 and parameters: {'n_estimators': 34, 'max_depth': 3, 'reg_alpha': 3.0872626921236987, 'reg_lambda': 1.8464185058956273, 'min_child_weight': 3, 'gamma': 2.5114556942240163, 'learning_rate': 0.0750750037165117, 'colsample_bytree': 0.8900126578464653, 'subsample': 0.8758454706407177}. Best is trial 223 with value: 4567.103137128717.\u001b[0m\n",
            "\u001b[32m[I 2022-08-27 17:30:15,905]\u001b[0m Trial 301 finished with value: 4686.8473699193855 and parameters: {'n_estimators': 191, 'max_depth': 3, 'reg_alpha': 5.320908333518429, 'reg_lambda': 1.7966581571785232, 'min_child_weight': 3, 'gamma': 1.222633735598133, 'learning_rate': 0.06458913126368988, 'colsample_bytree': 0.8808218181380536, 'subsample': 0.5315320420026898}. Best is trial 223 with value: 4567.103137128717.\u001b[0m\n",
            "\u001b[32m[I 2022-08-27 17:30:16,090]\u001b[0m Trial 302 finished with value: 4601.579963716643 and parameters: {'n_estimators': 53, 'max_depth': 3, 'reg_alpha': 0.2451635356022246, 'reg_lambda': 1.2781146945146502, 'min_child_weight': 3, 'gamma': 2.300541000359227, 'learning_rate': 0.06955099315357403, 'colsample_bytree': 0.89993267791687, 'subsample': 0.8857305650878414}. Best is trial 223 with value: 4567.103137128717.\u001b[0m\n",
            "\u001b[32m[I 2022-08-27 17:30:16,693]\u001b[0m Trial 303 finished with value: 4866.022885534597 and parameters: {'n_estimators': 366, 'max_depth': 3, 'reg_alpha': 4.488339289399897, 'reg_lambda': 1.9382306176851503, 'min_child_weight': 3, 'gamma': 1.1202099876451848, 'learning_rate': 0.07894681318583029, 'colsample_bytree': 0.8904285910444996, 'subsample': 0.8651162781313926}. Best is trial 223 with value: 4567.103137128717.\u001b[0m\n",
            "\u001b[32m[I 2022-08-27 17:30:16,917]\u001b[0m Trial 304 finished with value: 4603.263242705338 and parameters: {'n_estimators': 71, 'max_depth': 3, 'reg_alpha': 3.805530774626073, 'reg_lambda': 1.7464262463239537, 'min_child_weight': 3, 'gamma': 1.44229405913996, 'learning_rate': 0.06075539985606816, 'colsample_bytree': 0.8746102789218321, 'subsample': 0.8989464277736494}. Best is trial 223 with value: 4567.103137128717.\u001b[0m\n",
            "\u001b[32m[I 2022-08-27 17:30:17,143]\u001b[0m Trial 305 finished with value: 4587.097280698195 and parameters: {'n_estimators': 82, 'max_depth': 3, 'reg_alpha': 4.983865445646444, 'reg_lambda': 1.8416095137431447, 'min_child_weight': 3, 'gamma': 1.358200629795172, 'learning_rate': 0.0731510089788068, 'colsample_bytree': 0.8830961536686892, 'subsample': 0.877505428344552}. Best is trial 223 with value: 4567.103137128717.\u001b[0m\n",
            "\u001b[32m[I 2022-08-27 17:30:17,353]\u001b[0m Trial 306 finished with value: 4587.417318697563 and parameters: {'n_estimators': 60, 'max_depth': 3, 'reg_alpha': 4.7962919873077885, 'reg_lambda': 1.8735215981661617, 'min_child_weight': 3, 'gamma': 0.20779940202269853, 'learning_rate': 0.06746848702578927, 'colsample_bytree': 0.8908891565508303, 'subsample': 0.8887756973515583}. Best is trial 223 with value: 4567.103137128717.\u001b[0m\n",
            "\u001b[32m[I 2022-08-27 17:30:17,572]\u001b[0m Trial 307 finished with value: 4591.406571233667 and parameters: {'n_estimators': 73, 'max_depth': 3, 'reg_alpha': 1.5964026108262594, 'reg_lambda': 1.6785593132295558, 'min_child_weight': 3, 'gamma': 1.2624554261701526, 'learning_rate': 0.06412798677828475, 'colsample_bytree': 0.8608740045766535, 'subsample': 0.854090201386958}. Best is trial 223 with value: 4567.103137128717.\u001b[0m\n",
            "\u001b[32m[I 2022-08-27 17:30:17,750]\u001b[0m Trial 308 finished with value: 4745.891963521328 and parameters: {'n_estimators': 45, 'max_depth': 3, 'reg_alpha': 4.642197388073568, 'reg_lambda': 1.7875732196990914, 'min_child_weight': 3, 'gamma': 2.4389044434879668, 'learning_rate': 0.07047460513413456, 'colsample_bytree': 0.8742428446006192, 'subsample': 0.899885180500367}. Best is trial 223 with value: 4567.103137128717.\u001b[0m\n",
            "\u001b[32m[I 2022-08-27 17:30:18,284]\u001b[0m Trial 309 finished with value: 4818.418137684086 and parameters: {'n_estimators': 284, 'max_depth': 3, 'reg_alpha': 3.95308611586258, 'reg_lambda': 1.7113670171733184, 'min_child_weight': 3, 'gamma': 1.018936798490658, 'learning_rate': 0.07641292482531861, 'colsample_bytree': 0.8909104663283973, 'subsample': 0.6882551154395099}. Best is trial 223 with value: 4567.103137128717.\u001b[0m\n",
            "\u001b[32m[I 2022-08-27 17:30:18,527]\u001b[0m Trial 310 finished with value: 4655.635634251657 and parameters: {'n_estimators': 89, 'max_depth': 3, 'reg_alpha': 4.407740688280214, 'reg_lambda': 0.3609420519893811, 'min_child_weight': 1, 'gamma': 2.901428114540599, 'learning_rate': 0.09262538386844352, 'colsample_bytree': 0.8831283818920843, 'subsample': 0.8715099333356165}. Best is trial 223 with value: 4567.103137128717.\u001b[0m\n",
            "\u001b[32m[I 2022-08-27 17:30:18,882]\u001b[0m Trial 311 finished with value: 4765.166677363074 and parameters: {'n_estimators': 168, 'max_depth': 3, 'reg_alpha': 4.225768159726093, 'reg_lambda': 1.819061240782086, 'min_child_weight': 3, 'gamma': 1.5370878681555236, 'learning_rate': 0.11250432577353144, 'colsample_bytree': 0.8995190228702428, 'subsample': 0.882905331331879}. Best is trial 223 with value: 4567.103137128717.\u001b[0m\n",
            "\u001b[32m[I 2022-08-27 17:30:19,145]\u001b[0m Trial 312 finished with value: 4575.475083312229 and parameters: {'n_estimators': 68, 'max_depth': 3, 'reg_alpha': 4.908740665975743, 'reg_lambda': 1.754335864545968, 'min_child_weight': 3, 'gamma': 2.1524074539212523, 'learning_rate': 0.06777100083824446, 'colsample_bytree': 0.899899447790309, 'subsample': 0.7511970367199986}. Best is trial 223 with value: 4567.103137128717.\u001b[0m\n",
            "\u001b[32m[I 2022-08-27 17:30:19,374]\u001b[0m Trial 313 finished with value: 4582.053225500521 and parameters: {'n_estimators': 81, 'max_depth': 3, 'reg_alpha': 4.890578108816778, 'reg_lambda': 1.9213115846732052, 'min_child_weight': 0, 'gamma': 2.1347722506156015, 'learning_rate': 0.0665248141015631, 'colsample_bytree': 0.8670415285759799, 'subsample': 0.8455570105945117}. Best is trial 223 with value: 4567.103137128717.\u001b[0m\n",
            "\u001b[32m[I 2022-08-27 17:30:19,920]\u001b[0m Trial 314 finished with value: 4807.3519246422275 and parameters: {'n_estimators': 310, 'max_depth': 3, 'reg_alpha': 4.992944202428175, 'reg_lambda': 0.4826294179401095, 'min_child_weight': 3, 'gamma': 1.9860116041703852, 'learning_rate': 0.06182568978022885, 'colsample_bytree': 0.8908589081578413, 'subsample': 0.7358300877121838}. Best is trial 223 with value: 4567.103137128717.\u001b[0m\n",
            "\u001b[32m[I 2022-08-27 17:30:20,168]\u001b[0m Trial 315 finished with value: 4639.806347906639 and parameters: {'n_estimators': 67, 'max_depth': 4, 'reg_alpha': 5.187826841761555, 'reg_lambda': 1.0188029408661796, 'min_child_weight': 3, 'gamma': 2.0731610177855533, 'learning_rate': 0.06813924393269088, 'colsample_bytree': 0.899993265029529, 'subsample': 0.7615383203336069}. Best is trial 223 with value: 4567.103137128717.\u001b[0m\n",
            "\u001b[32m[I 2022-08-27 17:30:20,434]\u001b[0m Trial 316 finished with value: 4606.832504814981 and parameters: {'n_estimators': 106, 'max_depth': 3, 'reg_alpha': 5.080944450391504, 'reg_lambda': 1.754367019172459, 'min_child_weight': 3, 'gamma': 2.2049942818372985, 'learning_rate': 0.06406619163170194, 'colsample_bytree': 0.881516164085605, 'subsample': 0.6658876695190991}. Best is trial 223 with value: 4567.103137128717.\u001b[0m\n",
            "\u001b[32m[I 2022-08-27 17:30:20,661]\u001b[0m Trial 317 finished with value: 4591.985278718383 and parameters: {'n_estimators': 77, 'max_depth': 3, 'reg_alpha': 4.759291292891514, 'reg_lambda': 1.844666449290257, 'min_child_weight': 3, 'gamma': 1.840351941786437, 'learning_rate': 0.07241400112515094, 'colsample_bytree': 0.8542146667918026, 'subsample': 0.6798747281098803}. Best is trial 223 with value: 4567.103137128717.\u001b[0m\n",
            "\u001b[32m[I 2022-08-27 17:30:20,903]\u001b[0m Trial 318 finished with value: 4596.791678839661 and parameters: {'n_estimators': 96, 'max_depth': 3, 'reg_alpha': 4.901663674766213, 'reg_lambda': 1.7993278946243683, 'min_child_weight': 3, 'gamma': 2.260800920562865, 'learning_rate': 0.06896997590341815, 'colsample_bytree': 0.8747759129379922, 'subsample': 0.8588616672202867}. Best is trial 223 with value: 4567.103137128717.\u001b[0m\n",
            "\u001b[32m[I 2022-08-27 17:30:21,159]\u001b[0m Trial 319 finished with value: 4614.824308646778 and parameters: {'n_estimators': 70, 'max_depth': 4, 'reg_alpha': 3.469254565420972, 'reg_lambda': 1.9733919027061297, 'min_child_weight': 3, 'gamma': 1.1604206358626592, 'learning_rate': 0.060523622122281025, 'colsample_bytree': 0.889917981804156, 'subsample': 0.7771519558859593}. Best is trial 223 with value: 4567.103137128717.\u001b[0m\n",
            "\u001b[32m[I 2022-08-27 17:30:21,338]\u001b[0m Trial 320 finished with value: 4673.803915006878 and parameters: {'n_estimators': 54, 'max_depth': 3, 'reg_alpha': 4.6981941784630505, 'reg_lambda': 0.915046020357418, 'min_child_weight': 3, 'gamma': 2.1625400551253406, 'learning_rate': 0.06558311954617838, 'colsample_bytree': 0.8834771732730906, 'subsample': 0.8681749793248354}. Best is trial 223 with value: 4567.103137128717.\u001b[0m\n",
            "\u001b[32m[I 2022-08-27 17:30:22,010]\u001b[0m Trial 321 finished with value: 4927.681709955442 and parameters: {'n_estimators': 386, 'max_depth': 3, 'reg_alpha': 4.578974429543316, 'reg_lambda': 1.0871825982772578, 'min_child_weight': 3, 'gamma': 1.2864011002670335, 'learning_rate': 0.07137587330466438, 'colsample_bytree': 0.8896523127886735, 'subsample': 0.6542470300436554}. Best is trial 223 with value: 4567.103137128717.\u001b[0m\n",
            "\u001b[32m[I 2022-08-27 17:30:22,253]\u001b[0m Trial 322 finished with value: 4592.930537607262 and parameters: {'n_estimators': 85, 'max_depth': 3, 'reg_alpha': 4.8573569441427225, 'reg_lambda': 1.7048103785975166, 'min_child_weight': 3, 'gamma': 1.1743356194623267, 'learning_rate': 0.06560290308479333, 'colsample_bytree': 0.8682143044812245, 'subsample': 0.6247423749940688}. Best is trial 223 with value: 4567.103137128717.\u001b[0m\n",
            "\u001b[32m[I 2022-08-27 17:30:22,467]\u001b[0m Trial 323 finished with value: 4591.261382832525 and parameters: {'n_estimators': 64, 'max_depth': 3, 'reg_alpha': 5.001335489084587, 'reg_lambda': 1.8690167551031713, 'min_child_weight': 3, 'gamma': 1.3801264122543229, 'learning_rate': 0.06799112243063224, 'colsample_bytree': 0.899698271020349, 'subsample': 0.7147147911238237}. Best is trial 223 with value: 4567.103137128717.\u001b[0m\n",
            "\u001b[32m[I 2022-08-27 17:30:22,708]\u001b[0m Trial 324 finished with value: 4604.052876113893 and parameters: {'n_estimators': 77, 'max_depth': 3, 'reg_alpha': 4.780618073530052, 'reg_lambda': 1.7434221686507236, 'min_child_weight': 3, 'gamma': 0.8006629852907439, 'learning_rate': 0.08537503165438444, 'colsample_bytree': 0.8799412905949622, 'subsample': 0.8796287195092537}. Best is trial 223 with value: 4567.103137128717.\u001b[0m\n",
            "\u001b[32m[I 2022-08-27 17:30:22,903]\u001b[0m Trial 325 finished with value: 4590.655013365333 and parameters: {'n_estimators': 55, 'max_depth': 3, 'reg_alpha': 4.598480820729315, 'reg_lambda': 1.6498241894689558, 'min_child_weight': 3, 'gamma': 1.055322041801038, 'learning_rate': 0.07380946607823836, 'colsample_bytree': 0.8905447407643616, 'subsample': 0.5604116641313562}. Best is trial 223 with value: 4567.103137128717.\u001b[0m\n",
            "\u001b[32m[I 2022-08-27 17:30:23,143]\u001b[0m Trial 326 finished with value: 4584.488857295204 and parameters: {'n_estimators': 68, 'max_depth': 3, 'reg_alpha': 5.1516991203685585, 'reg_lambda': 1.8251055236616738, 'min_child_weight': 3, 'gamma': 0.9390198521833747, 'learning_rate': 0.06330427545969093, 'colsample_bytree': 0.8997441957792253, 'subsample': 0.5852040276529711}. Best is trial 223 with value: 4567.103137128717.\u001b[0m\n",
            "\u001b[32m[I 2022-08-27 17:30:23,374]\u001b[0m Trial 327 finished with value: 4585.170379276508 and parameters: {'n_estimators': 86, 'max_depth': 3, 'reg_alpha': 1.3045618480453958, 'reg_lambda': 1.895788437460594, 'min_child_weight': 3, 'gamma': 1.2202641746897729, 'learning_rate': 0.07038759587983445, 'colsample_bytree': 0.8765675773468422, 'subsample': 0.871198648132387}. Best is trial 223 with value: 4567.103137128717.\u001b[0m\n",
            "\u001b[32m[I 2022-08-27 17:30:23,545]\u001b[0m Trial 328 finished with value: 4843.474177661143 and parameters: {'n_estimators': 36, 'max_depth': 3, 'reg_alpha': 4.700785856380131, 'reg_lambda': 1.7808238615594938, 'min_child_weight': 3, 'gamma': 2.3661514870026785, 'learning_rate': 0.08026053910330294, 'colsample_bytree': 0.8840799108748256, 'subsample': 0.5408993561043688}. Best is trial 223 with value: 4567.103137128717.\u001b[0m\n",
            "\u001b[32m[I 2022-08-27 17:30:23,757]\u001b[0m Trial 329 finished with value: 4609.645892204575 and parameters: {'n_estimators': 61, 'max_depth': 3, 'reg_alpha': 4.914070436290458, 'reg_lambda': 0.18880972284760777, 'min_child_weight': 2, 'gamma': 2.0533146487160723, 'learning_rate': 0.059153860348193706, 'colsample_bytree': 0.8911953384593416, 'subsample': 0.8559021559657823}. Best is trial 223 with value: 4567.103137128717.\u001b[0m\n",
            "\u001b[32m[I 2022-08-27 17:30:24,023]\u001b[0m Trial 330 finished with value: 4608.4597996289285 and parameters: {'n_estimators': 96, 'max_depth': 3, 'reg_alpha': 4.017560646185778, 'reg_lambda': 1.8264183425055989, 'min_child_weight': 3, 'gamma': 1.3263044355107647, 'learning_rate': 0.07407585859623973, 'colsample_bytree': 0.8630098864500617, 'subsample': 0.6443935884818595}. Best is trial 223 with value: 4567.103137128717.\u001b[0m\n",
            "\u001b[32m[I 2022-08-27 17:30:24,224]\u001b[0m Trial 331 finished with value: 4762.250240679876 and parameters: {'n_estimators': 46, 'max_depth': 3, 'reg_alpha': 4.465784463699823, 'reg_lambda': 0.9758762421534242, 'min_child_weight': 3, 'gamma': 1.1098196888908884, 'learning_rate': 0.06730877216179774, 'colsample_bytree': 0.8725502482154559, 'subsample': 0.8886921965054928}. Best is trial 223 with value: 4567.103137128717.\u001b[0m\n",
            "\u001b[32m[I 2022-08-27 17:30:24,447]\u001b[0m Trial 332 finished with value: 4570.44843174968 and parameters: {'n_estimators': 76, 'max_depth': 3, 'reg_alpha': 3.604876266866474, 'reg_lambda': 1.7220948174511135, 'min_child_weight': 3, 'gamma': 1.2616257195880016, 'learning_rate': 0.06338347608691107, 'colsample_bytree': 0.8995325039073198, 'subsample': 0.789452939611824}. Best is trial 223 with value: 4567.103137128717.\u001b[0m\n",
            "\u001b[32m[I 2022-08-27 17:30:24,685]\u001b[0m Trial 333 finished with value: 4579.26723762787 and parameters: {'n_estimators': 73, 'max_depth': 3, 'reg_alpha': 3.0129613168247085, 'reg_lambda': 1.6052949634417009, 'min_child_weight': 3, 'gamma': 3.213906885034058, 'learning_rate': 0.06110707863004363, 'colsample_bytree': 0.8994541584176237, 'subsample': 0.7943098511874953}. Best is trial 223 with value: 4567.103137128717.\u001b[0m\n",
            "\u001b[32m[I 2022-08-27 17:30:24,873]\u001b[0m Trial 334 finished with value: 4611.735283304625 and parameters: {'n_estimators': 57, 'max_depth': 3, 'reg_alpha': 3.613150326517031, 'reg_lambda': 1.688242630055106, 'min_child_weight': 3, 'gamma': 1.4289448859770606, 'learning_rate': 0.07013296502365518, 'colsample_bytree': 0.8850927749378145, 'subsample': 0.7820710748542403}. Best is trial 223 with value: 4567.103137128717.\u001b[0m\n",
            "\u001b[32m[I 2022-08-27 17:30:25,077]\u001b[0m Trial 335 finished with value: 5660.501331456626 and parameters: {'n_estimators': 69, 'max_depth': 3, 'reg_alpha': 3.3830114223782624, 'reg_lambda': 1.7305035907324642, 'min_child_weight': 3, 'gamma': 1.29028953992907, 'learning_rate': 0.07741495393015774, 'colsample_bytree': 0.4360946738293763, 'subsample': 0.748462215515953}. Best is trial 223 with value: 4567.103137128717.\u001b[0m\n",
            "\u001b[32m[I 2022-08-27 17:30:25,337]\u001b[0m Trial 336 finished with value: 5045.706501335525 and parameters: {'n_estimators': 86, 'max_depth': 3, 'reg_alpha': 3.5401001373008407, 'reg_lambda': 1.6468233694169085, 'min_child_weight': 0, 'gamma': 1.9154732068570632, 'learning_rate': 0.36050144275734264, 'colsample_bytree': 0.8898827123347888, 'subsample': 0.8085909473439274}. Best is trial 223 with value: 4567.103137128717.\u001b[0m\n",
            "\u001b[32m[I 2022-08-27 17:30:25,537]\u001b[0m Trial 337 finished with value: 4660.8053475742645 and parameters: {'n_estimators': 49, 'max_depth': 3, 'reg_alpha': 3.7040494747584494, 'reg_lambda': 1.2170255224046895, 'min_child_weight': 3, 'gamma': 2.2538003303533576, 'learning_rate': 0.06528576524445785, 'colsample_bytree': 0.8997060049003966, 'subsample': 0.8421764263498985}. Best is trial 223 with value: 4567.103137128717.\u001b[0m\n",
            "\u001b[32m[I 2022-08-27 17:30:25,760]\u001b[0m Trial 338 finished with value: 4584.267958225325 and parameters: {'n_estimators': 79, 'max_depth': 3, 'reg_alpha': 5.057453386858242, 'reg_lambda': 1.7189538934834672, 'min_child_weight': 3, 'gamma': 1.167745246917476, 'learning_rate': 0.0729433506896931, 'colsample_bytree': 0.8798065117708634, 'subsample': 0.7562594643846876}. Best is trial 223 with value: 4567.103137128717.\u001b[0m\n",
            "\u001b[32m[I 2022-08-27 17:30:25,913]\u001b[0m Trial 339 finished with value: 5337.81171597891 and parameters: {'n_estimators': 19, 'max_depth': 3, 'reg_alpha': 4.831710142731735, 'reg_lambda': 1.774476242751385, 'min_child_weight': 3, 'gamma': 1.360795393068925, 'learning_rate': 0.10562773182653534, 'colsample_bytree': 0.8910428723930158, 'subsample': 0.8286244587649527}. Best is trial 223 with value: 4567.103137128717.\u001b[0m\n",
            "\u001b[32m[I 2022-08-27 17:30:26,113]\u001b[0m Trial 340 finished with value: 4605.281852441146 and parameters: {'n_estimators': 61, 'max_depth': 3, 'reg_alpha': 3.1621727339215693, 'reg_lambda': 1.8620721714362005, 'min_child_weight': 3, 'gamma': 1.0452405975610932, 'learning_rate': 0.06776174534357929, 'colsample_bytree': 0.8707900889261312, 'subsample': 0.850069370927044}. Best is trial 223 with value: 4567.103137128717.\u001b[0m\n",
            "\u001b[32m[I 2022-08-27 17:30:26,381]\u001b[0m Trial 341 finished with value: 4589.994751065989 and parameters: {'n_estimators': 101, 'max_depth': 3, 'reg_alpha': 4.543229447268933, 'reg_lambda': 1.8058329923889174, 'min_child_weight': 3, 'gamma': 1.4808295578284942, 'learning_rate': 0.058651772954870375, 'colsample_bytree': 0.8833848078299052, 'subsample': 0.81238052410029}. Best is trial 223 with value: 4567.103137128717.\u001b[0m\n",
            "\u001b[32m[I 2022-08-27 17:30:26,886]\u001b[0m Trial 342 finished with value: 4579.685700112677 and parameters: {'n_estimators': 68, 'max_depth': 3, 'reg_alpha': 4.676215366501006, 'reg_lambda': 1.9099925174735453, 'min_child_weight': 1, 'gamma': 1.2402946156960881, 'learning_rate': 0.08166470864852182, 'colsample_bytree': 0.8922747910232174, 'subsample': 0.7691816532421619}. Best is trial 223 with value: 4567.103137128717.\u001b[0m\n",
            "\u001b[32m[I 2022-08-27 17:30:27,635]\u001b[0m Trial 343 finished with value: 4737.8131225878915 and parameters: {'n_estimators': 88, 'max_depth': 5, 'reg_alpha': 3.3126920627642678, 'reg_lambda': 1.6713804174519113, 'min_child_weight': 3, 'gamma': 1.6313125991266255, 'learning_rate': 0.06345682960603598, 'colsample_bytree': 0.8997222924320935, 'subsample': 0.7980761003381316}. Best is trial 223 with value: 4567.103137128717.\u001b[0m\n",
            "\u001b[32m[I 2022-08-27 17:30:27,863]\u001b[0m Trial 344 finished with value: 4590.915573949427 and parameters: {'n_estimators': 76, 'max_depth': 3, 'reg_alpha': 5.25372739925227, 'reg_lambda': 1.7460132713205196, 'min_child_weight': 3, 'gamma': 2.1579765737771632, 'learning_rate': 0.07538612905671159, 'colsample_bytree': 0.849699138681046, 'subsample': 0.8201416378491061}. Best is trial 223 with value: 4567.103137128717.\u001b[0m\n",
            "\u001b[32m[I 2022-08-27 17:30:28,321]\u001b[0m Trial 345 finished with value: 4736.8656695570635 and parameters: {'n_estimators': 45, 'max_depth': 3, 'reg_alpha': 4.788010734759907, 'reg_lambda': 1.8327879546536914, 'min_child_weight': 3, 'gamma': 1.1082590029130583, 'learning_rate': 0.07097102723730689, 'colsample_bytree': 0.8783662454945574, 'subsample': 0.8884962879966738}. Best is trial 223 with value: 4567.103137128717.\u001b[0m\n",
            "\u001b[32m[I 2022-08-27 17:30:29,012]\u001b[0m Trial 346 finished with value: 4595.38759217856 and parameters: {'n_estimators': 58, 'max_depth': 3, 'reg_alpha': 4.3025809152379795, 'reg_lambda': 0.8721354584057595, 'min_child_weight': 3, 'gamma': 2.024015834237917, 'learning_rate': 0.06808602781946219, 'colsample_bytree': 0.8915614143679202, 'subsample': 0.6677525000262727}. Best is trial 223 with value: 4567.103137128717.\u001b[0m\n",
            "\u001b[32m[I 2022-08-27 17:30:29,250]\u001b[0m Trial 347 finished with value: 4599.625221181783 and parameters: {'n_estimators': 69, 'max_depth': 3, 'reg_alpha': 4.96424117083418, 'reg_lambda': 1.3967760831561369, 'min_child_weight': 3, 'gamma': 1.278305144594172, 'learning_rate': 0.061748996304520534, 'colsample_bytree': 0.881098203374059, 'subsample': 0.8718276501272176}. Best is trial 223 with value: 4567.103137128717.\u001b[0m\n",
            "\u001b[32m[I 2022-08-27 17:30:29,612]\u001b[0m Trial 348 finished with value: 4586.660794437534 and parameters: {'n_estimators': 80, 'max_depth': 3, 'reg_alpha': 4.599783723398348, 'reg_lambda': 0.7972010285619338, 'min_child_weight': 3, 'gamma': 0.9819254440713564, 'learning_rate': 0.07258666862451688, 'colsample_bytree': 0.8633701098264471, 'subsample': 0.5745827160886454}. Best is trial 223 with value: 4567.103137128717.\u001b[0m\n",
            "\u001b[32m[I 2022-08-27 17:30:30,299]\u001b[0m Trial 349 finished with value: 4588.503740673788 and parameters: {'n_estimators': 52, 'max_depth': 3, 'reg_alpha': 4.446762989274233, 'reg_lambda': 1.8735109781633543, 'min_child_weight': 3, 'gamma': 2.3111373307434775, 'learning_rate': 0.0771486385771401, 'colsample_bytree': 0.8905688691183054, 'subsample': 0.8655613764772287}. Best is trial 223 with value: 4567.103137128717.\u001b[0m\n",
            "\u001b[32m[I 2022-08-27 17:30:30,651]\u001b[0m Trial 350 finished with value: 4585.058736974884 and parameters: {'n_estimators': 93, 'max_depth': 3, 'reg_alpha': 5.059969839532971, 'reg_lambda': 1.9529700884158336, 'min_child_weight': 3, 'gamma': 1.3669204237265768, 'learning_rate': 0.06660665081820814, 'colsample_bytree': 0.899961555891227, 'subsample': 0.8325374100774318}. Best is trial 223 with value: 4567.103137128717.\u001b[0m\n",
            "\u001b[32m[I 2022-08-27 17:30:30,852]\u001b[0m Trial 351 finished with value: 4587.549136640824 and parameters: {'n_estimators': 65, 'max_depth': 3, 'reg_alpha': 4.7349456557040375, 'reg_lambda': 1.7824357785869982, 'min_child_weight': 3, 'gamma': 1.1638152873979655, 'learning_rate': 0.07035044828504462, 'colsample_bytree': 0.8725544077222005, 'subsample': 0.8790789601197941}. Best is trial 223 with value: 4567.103137128717.\u001b[0m\n",
            "\u001b[32m[I 2022-08-27 17:30:31,024]\u001b[0m Trial 352 finished with value: 5164.462878484691 and parameters: {'n_estimators': 37, 'max_depth': 3, 'reg_alpha': 4.942414626963687, 'reg_lambda': 1.6968330388597193, 'min_child_weight': 3, 'gamma': 1.5593677948063442, 'learning_rate': 0.06418076013249864, 'colsample_bytree': 0.8838851509872826, 'subsample': 0.49624529627552716}. Best is trial 223 with value: 4567.103137128717.\u001b[0m\n",
            "\u001b[32m[I 2022-08-27 17:30:31,448]\u001b[0m Trial 353 finished with value: 4795.333223019335 and parameters: {'n_estimators': 266, 'max_depth': 3, 'reg_alpha': 4.3353383096533005, 'reg_lambda': 1.751474808247649, 'min_child_weight': 3, 'gamma': 1.439926349743201, 'learning_rate': 0.07412121708974954, 'colsample_bytree': 0.5357808977456254, 'subsample': 0.6756767057851287}. Best is trial 223 with value: 4567.103137128717.\u001b[0m\n",
            "\u001b[32m[I 2022-08-27 17:30:31,682]\u001b[0m Trial 354 finished with value: 4600.191900423703 and parameters: {'n_estimators': 75, 'max_depth': 3, 'reg_alpha': 4.514628866761522, 'reg_lambda': 1.8196701497946544, 'min_child_weight': 3, 'gamma': 1.2302446672288112, 'learning_rate': 0.05649238692843689, 'colsample_bytree': 0.8877815524759286, 'subsample': 0.8881139765986097}. Best is trial 223 with value: 4567.103137128717.\u001b[0m\n",
            "\u001b[32m[I 2022-08-27 17:30:32,423]\u001b[0m Trial 355 finished with value: 4938.19620137526 and parameters: {'n_estimators': 485, 'max_depth': 3, 'reg_alpha': 4.810907150347413, 'reg_lambda': 1.8571315069660776, 'min_child_weight': 3, 'gamma': 1.1714229769642792, 'learning_rate': 0.0850078865420291, 'colsample_bytree': 0.7124258567303086, 'subsample': 0.8999125936242581}. Best is trial 223 with value: 4567.103137128717.\u001b[0m\n",
            "\u001b[32m[I 2022-08-27 17:30:32,702]\u001b[0m Trial 356 finished with value: 4614.44757190468 and parameters: {'n_estimators': 111, 'max_depth': 3, 'reg_alpha': 4.671546365029932, 'reg_lambda': 1.7949386472893463, 'min_child_weight': 0, 'gamma': 1.3157894516175797, 'learning_rate': 0.06864789759724359, 'colsample_bytree': 0.8994638066746032, 'subsample': 0.8546763371926062}. Best is trial 223 with value: 4567.103137128717.\u001b[0m\n",
            "\u001b[32m[I 2022-08-27 17:30:32,924]\u001b[0m Trial 357 finished with value: 4630.84013470955 and parameters: {'n_estimators': 63, 'max_depth': 3, 'reg_alpha': 5.418837134361438, 'reg_lambda': 0.9429587322509163, 'min_child_weight': 3, 'gamma': 1.0916106373684291, 'learning_rate': 0.060991321255446, 'colsample_bytree': 0.8574995095178563, 'subsample': 0.8419432040187406}. Best is trial 223 with value: 4567.103137128717.\u001b[0m\n",
            "\u001b[32m[I 2022-08-27 17:30:33,158]\u001b[0m Trial 358 finished with value: 4582.755832726895 and parameters: {'n_estimators': 87, 'max_depth': 3, 'reg_alpha': 2.871390290603751, 'reg_lambda': 1.720947774801658, 'min_child_weight': 3, 'gamma': 2.3492805706812963, 'learning_rate': 0.06575730751797207, 'colsample_bytree': 0.8740269875241544, 'subsample': 0.8635518498630175}. Best is trial 223 with value: 4567.103137128717.\u001b[0m\n",
            "\u001b[32m[I 2022-08-27 17:30:33,355]\u001b[0m Trial 359 finished with value: 4589.721897821312 and parameters: {'n_estimators': 53, 'max_depth': 3, 'reg_alpha': 2.231394988965328, 'reg_lambda': 1.35362140271441, 'min_child_weight': 2, 'gamma': 0.8857169941557836, 'learning_rate': 0.07819410292283525, 'colsample_bytree': 0.8902076253908475, 'subsample': 0.695901959087891}. Best is trial 223 with value: 4567.103137128717.\u001b[0m\n",
            "\u001b[32m[I 2022-08-27 17:30:33,583]\u001b[0m Trial 360 finished with value: 4570.290769796916 and parameters: {'n_estimators': 77, 'max_depth': 3, 'reg_alpha': 4.191477080566437, 'reg_lambda': 1.9013053592275309, 'min_child_weight': 3, 'gamma': 3.0857551895080553, 'learning_rate': 0.07180673355928961, 'colsample_bytree': 0.8818610141066349, 'subsample': 0.8804603531784404}. Best is trial 223 with value: 4567.103137128717.\u001b[0m\n",
            "\u001b[32m[I 2022-08-27 17:30:33,838]\u001b[0m Trial 361 finished with value: 4903.213673503138 and parameters: {'n_estimators': 102, 'max_depth': 3, 'reg_alpha': 4.233791435341359, 'reg_lambda': 1.9447381922544473, 'min_child_weight': 3, 'gamma': 3.416761975168704, 'learning_rate': 0.07048954770915043, 'colsample_bytree': 0.5039682057197438, 'subsample': 0.6029878628469633}. Best is trial 223 with value: 4567.103137128717.\u001b[0m\n",
            "\u001b[32m[I 2022-08-27 17:30:34,075]\u001b[0m Trial 362 finished with value: 4588.779023652736 and parameters: {'n_estimators': 83, 'max_depth': 3, 'reg_alpha': 4.118733418279357, 'reg_lambda': 1.9197775656442082, 'min_child_weight': 3, 'gamma': 3.9816782920824663, 'learning_rate': 0.06317636891501723, 'colsample_bytree': 0.8803107582654317, 'subsample': 0.8883020264877688}. Best is trial 223 with value: 4567.103137128717.\u001b[0m\n",
            "\u001b[32m[I 2022-08-27 17:30:34,307]\u001b[0m Trial 363 finished with value: 4573.6207948024585 and parameters: {'n_estimators': 74, 'max_depth': 3, 'reg_alpha': 4.444641260658139, 'reg_lambda': 1.8948650820074389, 'min_child_weight': 3, 'gamma': 3.137357275532469, 'learning_rate': 0.0672995417630066, 'colsample_bytree': 0.8915063697418236, 'subsample': 0.8813795918648872}. Best is trial 223 with value: 4567.103137128717.\u001b[0m\n",
            "\u001b[32m[I 2022-08-27 17:30:34,596]\u001b[0m Trial 364 finished with value: 4587.268232721194 and parameters: {'n_estimators': 94, 'max_depth': 3, 'reg_alpha': 4.331271511224591, 'reg_lambda': 1.8590819430937944, 'min_child_weight': 3, 'gamma': 3.15629442650794, 'learning_rate': 0.06706935946392752, 'colsample_bytree': 0.891633889250635, 'subsample': 0.8807146436572602}. Best is trial 223 with value: 4567.103137128717.\u001b[0m\n",
            "\u001b[32m[I 2022-08-27 17:30:34,824]\u001b[0m Trial 365 finished with value: 4574.57245331551 and parameters: {'n_estimators': 76, 'max_depth': 3, 'reg_alpha': 4.469597774801196, 'reg_lambda': 1.8944274189741996, 'min_child_weight': 3, 'gamma': 2.691446582483864, 'learning_rate': 0.06859791461197272, 'colsample_bytree': 0.8997665185514959, 'subsample': 0.8918276649374608}. Best is trial 223 with value: 4567.103137128717.\u001b[0m\n",
            "\u001b[32m[I 2022-08-27 17:30:35,079]\u001b[0m Trial 366 finished with value: 4596.051474595948 and parameters: {'n_estimators': 79, 'max_depth': 3, 'reg_alpha': 4.4205814983766185, 'reg_lambda': 1.8986638139601124, 'min_child_weight': 3, 'gamma': 2.8787195361146947, 'learning_rate': 0.05836294826063406, 'colsample_bytree': 0.8830051384538632, 'subsample': 0.8953044133246577}. Best is trial 223 with value: 4567.103137128717.\u001b[0m\n",
            "\u001b[32m[I 2022-08-27 17:30:35,332]\u001b[0m Trial 367 finished with value: 4586.409584917348 and parameters: {'n_estimators': 90, 'max_depth': 3, 'reg_alpha': 4.5129095202359535, 'reg_lambda': 1.973031269050381, 'min_child_weight': 3, 'gamma': 3.073156167153215, 'learning_rate': 0.06510670742764312, 'colsample_bytree': 0.8992282975889317, 'subsample': 0.8909020076834376}. Best is trial 223 with value: 4567.103137128717.\u001b[0m\n",
            "\u001b[32m[I 2022-08-27 17:30:35,572]\u001b[0m Trial 368 finished with value: 4584.472941542054 and parameters: {'n_estimators': 75, 'max_depth': 3, 'reg_alpha': 4.20330917186439, 'reg_lambda': 1.916903935535437, 'min_child_weight': 3, 'gamma': 2.711490898618367, 'learning_rate': 0.07192033312301557, 'colsample_bytree': 0.8712369741414558, 'subsample': 0.8839177693135941}. Best is trial 223 with value: 4567.103137128717.\u001b[0m\n",
            "\u001b[32m[I 2022-08-27 17:30:35,831]\u001b[0m Trial 369 finished with value: 4578.828253970027 and parameters: {'n_estimators': 84, 'max_depth': 3, 'reg_alpha': 4.410414995085312, 'reg_lambda': 1.8971813930926213, 'min_child_weight': 3, 'gamma': 3.3040220393937, 'learning_rate': 0.0677650245259273, 'colsample_bytree': 0.8843760029568316, 'subsample': 0.8917163948821127}. Best is trial 223 with value: 4567.103137128717.\u001b[0m\n",
            "\u001b[32m[I 2022-08-27 17:30:36,058]\u001b[0m Trial 370 finished with value: 4573.261684424669 and parameters: {'n_estimators': 71, 'max_depth': 3, 'reg_alpha': 4.597262456759803, 'reg_lambda': 1.9767750664354373, 'min_child_weight': 3, 'gamma': 2.7625094643823593, 'learning_rate': 0.06245641983155871, 'colsample_bytree': 0.8908343309523377, 'subsample': 0.8797980845695204}. Best is trial 223 with value: 4567.103137128717.\u001b[0m\n",
            "\u001b[32m[I 2022-08-27 17:30:36,278]\u001b[0m Trial 371 finished with value: 4580.743027828177 and parameters: {'n_estimators': 71, 'max_depth': 3, 'reg_alpha': 4.554840206759664, 'reg_lambda': 1.9813566372339477, 'min_child_weight': 3, 'gamma': 2.764548704904682, 'learning_rate': 0.06308766737217779, 'colsample_bytree': 0.8915362018033833, 'subsample': 0.8991634335289347}. Best is trial 223 with value: 4567.103137128717.\u001b[0m\n",
            "\u001b[32m[I 2022-08-27 17:30:36,552]\u001b[0m Trial 372 finished with value: 4581.44299880304 and parameters: {'n_estimators': 100, 'max_depth': 3, 'reg_alpha': 4.29509399280481, 'reg_lambda': 1.9576210531558076, 'min_child_weight': 3, 'gamma': 2.98123975680152, 'learning_rate': 0.06936953336528354, 'colsample_bytree': 0.8767801723087693, 'subsample': 0.8794913316972172}. Best is trial 223 with value: 4567.103137128717.\u001b[0m\n",
            "\u001b[32m[I 2022-08-27 17:30:36,770]\u001b[0m Trial 373 finished with value: 4570.39922176043 and parameters: {'n_estimators': 72, 'max_depth': 3, 'reg_alpha': 4.433377240529693, 'reg_lambda': 1.958483559326215, 'min_child_weight': 3, 'gamma': 2.8217360248993035, 'learning_rate': 0.06568004160990902, 'colsample_bytree': 0.8911389905843039, 'subsample': 0.8910092253214195}. Best is trial 223 with value: 4567.103137128717.\u001b[0m\n",
            "\u001b[32m[I 2022-08-27 17:30:37,021]\u001b[0m Trial 374 finished with value: 4576.467392330633 and parameters: {'n_estimators': 89, 'max_depth': 3, 'reg_alpha': 4.368706551453203, 'reg_lambda': 1.9856448734485936, 'min_child_weight': 3, 'gamma': 2.657998347726535, 'learning_rate': 0.06163624027876121, 'colsample_bytree': 0.89103220062406, 'subsample': 0.8829368250572268}. Best is trial 223 with value: 4567.103137128717.\u001b[0m\n",
            "\u001b[32m[I 2022-08-27 17:30:37,253]\u001b[0m Trial 375 finished with value: 4578.415759911966 and parameters: {'n_estimators': 76, 'max_depth': 3, 'reg_alpha': 4.43542193767732, 'reg_lambda': 1.9744500615935043, 'min_child_weight': 3, 'gamma': 2.812695451644166, 'learning_rate': 0.06513729091234438, 'colsample_bytree': 0.8990955292130496, 'subsample': 0.873245462510213}. Best is trial 223 with value: 4567.103137128717.\u001b[0m\n",
            "\u001b[32m[I 2022-08-27 17:30:37,540]\u001b[0m Trial 376 finished with value: 4928.623580503331 and parameters: {'n_estimators': 114, 'max_depth': 3, 'reg_alpha': 4.573879611431778, 'reg_lambda': 1.933190505200674, 'min_child_weight': 3, 'gamma': 2.6772587350079444, 'learning_rate': 0.2537613719984354, 'colsample_bytree': 0.8845785016676703, 'subsample': 0.7876804659125165}. Best is trial 223 with value: 4567.103137128717.\u001b[0m\n",
            "\u001b[32m[I 2022-08-27 17:30:37,780]\u001b[0m Trial 377 finished with value: 4639.62553696269 and parameters: {'n_estimators': 61, 'max_depth': 4, 'reg_alpha': 4.175514972331063, 'reg_lambda': 1.9312383295605426, 'min_child_weight': 3, 'gamma': 2.954521697735478, 'learning_rate': 0.06516157842210367, 'colsample_bytree': 0.8991908204246811, 'subsample': 0.8998974827915247}. Best is trial 223 with value: 4567.103137128717.\u001b[0m\n",
            "\u001b[32m[I 2022-08-27 17:30:38,021]\u001b[0m Trial 378 finished with value: 4578.718989071813 and parameters: {'n_estimators': 81, 'max_depth': 3, 'reg_alpha': 4.478442766536912, 'reg_lambda': 1.9009889130918778, 'min_child_weight': 3, 'gamma': 3.1006130620473287, 'learning_rate': 0.06029200636308045, 'colsample_bytree': 0.88921645097733, 'subsample': 0.6613613702227529}. Best is trial 223 with value: 4567.103137128717.\u001b[0m\n",
            "\u001b[32m[I 2022-08-27 17:30:38,231]\u001b[0m Trial 379 finished with value: 4583.290866733942 and parameters: {'n_estimators': 67, 'max_depth': 3, 'reg_alpha': 4.259249740244641, 'reg_lambda': 1.9654830812562052, 'min_child_weight': 3, 'gamma': 2.7442113173093037, 'learning_rate': 0.07278057336244871, 'colsample_bytree': 0.8683082937548767, 'subsample': 0.8841257934286197}. Best is trial 223 with value: 4567.103137128717.\u001b[0m\n",
            "\u001b[32m[I 2022-08-27 17:30:38,483]\u001b[0m Trial 380 finished with value: 4596.063149321273 and parameters: {'n_estimators': 95, 'max_depth': 3, 'reg_alpha': 4.623514672262041, 'reg_lambda': 1.9936961958192232, 'min_child_weight': 3, 'gamma': 2.823154803865211, 'learning_rate': 0.06660280702134122, 'colsample_bytree': 0.8820795179842712, 'subsample': 0.633346554387423}. Best is trial 223 with value: 4567.103137128717.\u001b[0m\n",
            "\u001b[32m[I 2022-08-27 17:30:38,691]\u001b[0m Trial 381 finished with value: 4650.178052001909 and parameters: {'n_estimators': 56, 'max_depth': 3, 'reg_alpha': 4.363187687677764, 'reg_lambda': 1.884373407105176, 'min_child_weight': 3, 'gamma': 3.508266749313858, 'learning_rate': 0.16488110963517513, 'colsample_bytree': 0.8900960101290831, 'subsample': 0.8887149433583644}. Best is trial 223 with value: 4567.103137128717.\u001b[0m\n",
            "\u001b[32m[I 2022-08-27 17:30:38,928]\u001b[0m Trial 382 finished with value: 4578.864384682116 and parameters: {'n_estimators': 78, 'max_depth': 3, 'reg_alpha': 4.505760186726865, 'reg_lambda': 1.9409692592879704, 'min_child_weight': 3, 'gamma': 3.021099909965251, 'learning_rate': 0.06317911839727577, 'colsample_bytree': 0.8918217272192652, 'subsample': 0.6489932673588349}. Best is trial 223 with value: 4567.103137128717.\u001b[0m\n",
            "\u001b[32m[I 2022-08-27 17:30:39,152]\u001b[0m Trial 383 finished with value: 4579.9930802809895 and parameters: {'n_estimators': 68, 'max_depth': 3, 'reg_alpha': 4.038731753103669, 'reg_lambda': 0.7482762790230911, 'min_child_weight': 3, 'gamma': 2.6198683699564476, 'learning_rate': 0.07057879462529022, 'colsample_bytree': 0.8991288405356944, 'subsample': 0.8746665325596089}. Best is trial 223 with value: 4567.103137128717.\u001b[0m\n",
            "\u001b[32m[I 2022-08-27 17:30:39,404]\u001b[0m Trial 384 finished with value: 4695.862489681775 and parameters: {'n_estimators': 87, 'max_depth': 3, 'reg_alpha': 4.674490136123216, 'reg_lambda': 1.9944633720221425, 'min_child_weight': 3, 'gamma': 2.9028271257290963, 'learning_rate': 0.13959184055122714, 'colsample_bytree': 0.8767689194911812, 'subsample': 0.8921774113148071}. Best is trial 223 with value: 4567.103137128717.\u001b[0m\n",
            "\u001b[32m[I 2022-08-27 17:30:39,596]\u001b[0m Trial 385 finished with value: 4674.777153503605 and parameters: {'n_estimators': 47, 'max_depth': 3, 'reg_alpha': 4.25970799552545, 'reg_lambda': 1.8438103786561426, 'min_child_weight': 3, 'gamma': 2.7002415501878403, 'learning_rate': 0.07515758758596829, 'colsample_bytree': 0.8839112876187845, 'subsample': 0.8811655265556892}. Best is trial 223 with value: 4567.103137128717.\u001b[0m\n",
            "\u001b[32m[I 2022-08-27 17:30:39,822]\u001b[0m Trial 386 finished with value: 4583.495083533231 and parameters: {'n_estimators': 73, 'max_depth': 3, 'reg_alpha': 4.569460367326698, 'reg_lambda': 1.89410344047659, 'min_child_weight': 3, 'gamma': 2.5728678364101913, 'learning_rate': 0.06757989643851381, 'colsample_bytree': 0.8987215978037055, 'subsample': 0.7237491782811231}. Best is trial 223 with value: 4567.103137128717.\u001b[0m\n",
            "\u001b[32m[I 2022-08-27 17:30:40,016]\u001b[0m Trial 387 finished with value: 4768.257551437897 and parameters: {'n_estimators': 60, 'max_depth': 3, 'reg_alpha': 0.7567601728583657, 'reg_lambda': 0.9957925378988375, 'min_child_weight': 3, 'gamma': 2.8411589267887813, 'learning_rate': 0.12504865142661822, 'colsample_bytree': 0.6288173828677713, 'subsample': 0.7053499166054285}. Best is trial 223 with value: 4567.103137128717.\u001b[0m\n",
            "\u001b[32m[I 2022-08-27 17:30:40,282]\u001b[0m Trial 388 finished with value: 4598.006878538703 and parameters: {'n_estimators': 104, 'max_depth': 3, 'reg_alpha': 4.443359223472526, 'reg_lambda': 1.935221667849032, 'min_child_weight': 3, 'gamma': 3.248186675988432, 'learning_rate': 0.07259066000385894, 'colsample_bytree': 0.867477389045723, 'subsample': 0.873120092344514}. Best is trial 223 with value: 4567.103137128717.\u001b[0m\n",
            "\u001b[32m[I 2022-08-27 17:30:40,570]\u001b[0m Trial 389 finished with value: 4572.816498469552 and parameters: {'n_estimators': 83, 'max_depth': 3, 'reg_alpha': 4.313216164847711, 'reg_lambda': 1.8231410543912752, 'min_child_weight': 3, 'gamma': 2.7716510486572554, 'learning_rate': 0.061976188584333174, 'colsample_bytree': 0.8896199421385984, 'subsample': 0.5664470450569183}. Best is trial 223 with value: 4567.103137128717.\u001b[0m\n",
            "\u001b[32m[I 2022-08-27 17:30:41,001]\u001b[0m Trial 390 finished with value: 4707.9421148217625 and parameters: {'n_estimators': 211, 'max_depth': 3, 'reg_alpha': 4.360197549014301, 'reg_lambda': 1.8770143795509875, 'min_child_weight': 3, 'gamma': 2.7835719321571286, 'learning_rate': 0.05890403772611258, 'colsample_bytree': 0.8997370186935104, 'subsample': 0.6550043356461458}. Best is trial 223 with value: 4567.103137128717.\u001b[0m\n",
            "\u001b[32m[I 2022-08-27 17:30:41,258]\u001b[0m Trial 391 finished with value: 4578.4883373831835 and parameters: {'n_estimators': 91, 'max_depth': 3, 'reg_alpha': 4.531090677260986, 'reg_lambda': 1.8302016195542667, 'min_child_weight': 3, 'gamma': 2.7488667547902494, 'learning_rate': 0.062279310679773166, 'colsample_bytree': 0.8999391585001868, 'subsample': 0.5597161122595772}. Best is trial 223 with value: 4567.103137128717.\u001b[0m\n",
            "\u001b[32m[I 2022-08-27 17:30:41,489]\u001b[0m Trial 392 finished with value: 4588.694191279693 and parameters: {'n_estimators': 80, 'max_depth': 3, 'reg_alpha': 4.660417404817597, 'reg_lambda': 1.7841333342927634, 'min_child_weight': 3, 'gamma': 2.6183068822803017, 'learning_rate': 0.0684608043176497, 'colsample_bytree': 0.8759395213550654, 'subsample': 0.5455760768443806}. Best is trial 223 with value: 4567.103137128717.\u001b[0m\n",
            "\u001b[32m[I 2022-08-27 17:30:41,760]\u001b[0m Trial 393 finished with value: 4612.203995732027 and parameters: {'n_estimators': 97, 'max_depth': 3, 'reg_alpha': 4.428057369122997, 'reg_lambda': 1.9252701958185334, 'min_child_weight': 3, 'gamma': 2.9402819430643423, 'learning_rate': 0.07450436211948602, 'colsample_bytree': 0.8835318811981806, 'subsample': 0.5708271548823133}. Best is trial 223 with value: 4567.103137128717.\u001b[0m\n",
            "\u001b[32m[I 2022-08-27 17:30:42,014]\u001b[0m Trial 394 finished with value: 4581.118230592092 and parameters: {'n_estimators': 86, 'max_depth': 3, 'reg_alpha': 4.627013087074588, 'reg_lambda': 1.8643989653746662, 'min_child_weight': 3, 'gamma': 2.8018027258870366, 'learning_rate': 0.06492773976399885, 'colsample_bytree': 0.8874561662442381, 'subsample': 0.5541251315214093}. Best is trial 223 with value: 4567.103137128717.\u001b[0m\n",
            "\u001b[32m[I 2022-08-27 17:30:42,229]\u001b[0m Trial 395 finished with value: 4590.1025851529575 and parameters: {'n_estimators': 64, 'max_depth': 3, 'reg_alpha': 4.302153018782444, 'reg_lambda': 1.0587021370695662, 'min_child_weight': 3, 'gamma': 2.8561062646971447, 'learning_rate': 0.07040512636159997, 'colsample_bytree': 0.8760212118658055, 'subsample': 0.569268959547444}. Best is trial 223 with value: 4567.103137128717.\u001b[0m\n",
            "\u001b[32m[I 2022-08-27 17:30:42,469]\u001b[0m Trial 396 finished with value: 4581.0237086165025 and parameters: {'n_estimators': 75, 'max_depth': 3, 'reg_alpha': 4.14092796297745, 'reg_lambda': 1.7468992856021184, 'min_child_weight': 3, 'gamma': 2.6829820902363, 'learning_rate': 0.06059592111755656, 'colsample_bytree': 0.890011951052073, 'subsample': 0.581197982805472}. Best is trial 223 with value: 4567.103137128717.\u001b[0m\n",
            "\u001b[32m[I 2022-08-27 17:30:42,681]\u001b[0m Trial 397 finished with value: 4679.104377211736 and parameters: {'n_estimators': 54, 'max_depth': 3, 'reg_alpha': 4.735700504922778, 'reg_lambda': 1.8314200227460413, 'min_child_weight': 3, 'gamma': 3.173270973822254, 'learning_rate': 0.06643940093060638, 'colsample_bytree': 0.8659552597120627, 'subsample': 0.5135884264382072}. Best is trial 223 with value: 4567.103137128717.\u001b[0m\n",
            "\u001b[32m[I 2022-08-27 17:30:42,951]\u001b[0m Trial 398 finished with value: 4639.74216365119 and parameters: {'n_estimators': 83, 'max_depth': 4, 'reg_alpha': 4.5499582945572286, 'reg_lambda': 1.8013326632956745, 'min_child_weight': 3, 'gamma': 2.5364689513185117, 'learning_rate': 0.05627748297778601, 'colsample_bytree': 0.8995213459943561, 'subsample': 0.6839889376666881}. Best is trial 223 with value: 4567.103137128717.\u001b[0m\n",
            "\u001b[32m[I 2022-08-27 17:30:43,174]\u001b[0m Trial 399 finished with value: 4594.10763635666 and parameters: {'n_estimators': 68, 'max_depth': 3, 'reg_alpha': 4.433691749909494, 'reg_lambda': 1.88536269864331, 'min_child_weight': 3, 'gamma': 3.8168922496335194, 'learning_rate': 0.07169801408116688, 'colsample_bytree': 0.8825205489640142, 'subsample': 0.735085444182073}. Best is trial 223 with value: 4567.103137128717.\u001b[0m\n",
            "\u001b[32m[I 2022-08-27 17:30:43,474]\u001b[0m Trial 400 finished with value: 4654.028062167285 and parameters: {'n_estimators': 122, 'max_depth': 3, 'reg_alpha': 4.757348587739317, 'reg_lambda': 0.8980012771501076, 'min_child_weight': 3, 'gamma': 2.747603507253338, 'learning_rate': 0.07562210431130872, 'colsample_bytree': 0.8900885757071131, 'subsample': 0.5382393532219925}. Best is trial 223 with value: 4567.103137128717.\u001b[0m\n",
            "\u001b[32m[I 2022-08-27 17:30:43,766]\u001b[0m Trial 401 finished with value: 4594.46557009394 and parameters: {'n_estimators': 107, 'max_depth': 3, 'reg_alpha': 4.340299834157112, 'reg_lambda': 1.7630588440814814, 'min_child_weight': 3, 'gamma': 2.6565625039415934, 'learning_rate': 0.06291664837995141, 'colsample_bytree': 0.8744107479717483, 'subsample': 0.5284467989661574}. Best is trial 223 with value: 4567.103137128717.\u001b[0m\n",
            "\u001b[32m[I 2022-08-27 17:30:43,996]\u001b[0m Trial 402 finished with value: 4583.344572282613 and parameters: {'n_estimators': 75, 'max_depth': 3, 'reg_alpha': 4.5983926794215835, 'reg_lambda': 1.8539100032797833, 'min_child_weight': 3, 'gamma': 3.3324835460454745, 'learning_rate': 0.0698208856408778, 'colsample_bytree': 0.8895802797421978, 'subsample': 0.8679672985759659}. Best is trial 223 with value: 4567.103137128717.\u001b[0m\n",
            "\u001b[32m[I 2022-08-27 17:30:44,219]\u001b[0m Trial 403 finished with value: 4584.089099452982 and parameters: {'n_estimators': 61, 'max_depth': 3, 'reg_alpha': 4.127863183496721, 'reg_lambda': 1.7135625474381408, 'min_child_weight': 3, 'gamma': 3.081476239729788, 'learning_rate': 0.0668615981252554, 'colsample_bytree': 0.8998887230306593, 'subsample': 0.7437567356835095}. Best is trial 223 with value: 4567.103137128717.\u001b[0m\n",
            "\u001b[32m[I 2022-08-27 17:30:44,835]\u001b[0m Trial 404 finished with value: 4840.4830510556 and parameters: {'n_estimators': 399, 'max_depth': 3, 'reg_alpha': 4.519463594885543, 'reg_lambda': 1.931819868533636, 'min_child_weight': 3, 'gamma': 2.892210519383084, 'learning_rate': 0.0731743855220897, 'colsample_bytree': 0.7697445936612605, 'subsample': 0.8794613382900948}. Best is trial 223 with value: 4567.103137128717.\u001b[0m\n",
            "\u001b[32m[I 2022-08-27 17:30:45,091]\u001b[0m Trial 405 finished with value: 4603.470929811603 and parameters: {'n_estimators': 92, 'max_depth': 3, 'reg_alpha': 4.715640185763413, 'reg_lambda': 1.8134051174984998, 'min_child_weight': 3, 'gamma': 2.602966581628129, 'learning_rate': 0.07820096111204129, 'colsample_bytree': 0.8824165989285234, 'subsample': 0.675617462259566}. Best is trial 223 with value: 4567.103137128717.\u001b[0m\n",
            "\u001b[32m[I 2022-08-27 17:30:45,282]\u001b[0m Trial 406 finished with value: 4906.064736620221 and parameters: {'n_estimators': 42, 'max_depth': 3, 'reg_alpha': 4.267160590164909, 'reg_lambda': 1.765667575471421, 'min_child_weight': 3, 'gamma': 2.4907812767648143, 'learning_rate': 0.06064399899878272, 'colsample_bytree': 0.891297839845309, 'subsample': 0.562815803393722}. Best is trial 223 with value: 4567.103137128717.\u001b[0m\n",
            "\u001b[32m[I 2022-08-27 17:30:45,541]\u001b[0m Trial 407 finished with value: 4587.426541765322 and parameters: {'n_estimators': 81, 'max_depth': 3, 'reg_alpha': 3.8542118987669087, 'reg_lambda': 1.898831773487854, 'min_child_weight': 3, 'gamma': 2.1250008725647165, 'learning_rate': 0.06841622199208269, 'colsample_bytree': 0.8743014352214563, 'subsample': 0.64084004140801}. Best is trial 223 with value: 4567.103137128717.\u001b[0m\n",
            "\u001b[32m[I 2022-08-27 17:30:45,737]\u001b[0m Trial 408 finished with value: 4697.476623246225 and parameters: {'n_estimators': 53, 'max_depth': 3, 'reg_alpha': 4.431448926075843, 'reg_lambda': 1.8361643375943937, 'min_child_weight': 3, 'gamma': 2.982274222480514, 'learning_rate': 0.06513002574758017, 'colsample_bytree': 0.8830673093558237, 'subsample': 0.8886061582834083}. Best is trial 223 with value: 4567.103137128717.\u001b[0m\n",
            "\u001b[32m[I 2022-08-27 17:30:45,974]\u001b[0m Trial 409 finished with value: 4586.488256447476 and parameters: {'n_estimators': 66, 'max_depth': 3, 'reg_alpha': 4.849026825481104, 'reg_lambda': 0.96247928556316, 'min_child_weight': 3, 'gamma': 2.799348365749982, 'learning_rate': 0.07116335784222197, 'colsample_bytree': 0.8913491408988741, 'subsample': 0.6676350020552616}. Best is trial 223 with value: 4567.103137128717.\u001b[0m\n",
            "\u001b[32m[I 2022-08-27 17:30:46,239]\u001b[0m Trial 410 finished with value: 4570.891632191056 and parameters: {'n_estimators': 72, 'max_depth': 3, 'reg_alpha': 4.658620044305824, 'reg_lambda': 1.7843860283605693, 'min_child_weight': 3, 'gamma': 1.9871437995504453, 'learning_rate': 0.06460086276312006, 'colsample_bytree': 0.8999712922770038, 'subsample': 0.7726749590258607}. Best is trial 223 with value: 4567.103137128717.\u001b[0m\n",
            "\u001b[32m[I 2022-08-27 17:30:46,381]\u001b[0m Trial 411 finished with value: 12365.668718384262 and parameters: {'n_estimators': 7, 'max_depth': 3, 'reg_alpha': 4.6657004023268716, 'reg_lambda': 1.7338555099774897, 'min_child_weight': 3, 'gamma': 2.058616521295301, 'learning_rate': 0.06768388855813698, 'colsample_bytree': 0.8617130121034908, 'subsample': 0.7631568560818109}. Best is trial 223 with value: 4567.103137128717.\u001b[0m\n",
            "\u001b[32m[I 2022-08-27 17:30:46,632]\u001b[0m Trial 412 finished with value: 4567.96562442829 and parameters: {'n_estimators': 88, 'max_depth': 3, 'reg_alpha': 3.9865326391823004, 'reg_lambda': 1.6908831775906017, 'min_child_weight': 3, 'gamma': 1.9804629897776864, 'learning_rate': 0.0635622038511894, 'colsample_bytree': 0.899216750659613, 'subsample': 0.7705323488571055}. Best is trial 223 with value: 4567.103137128717.\u001b[0m\n",
            "\u001b[32m[I 2022-08-27 17:30:46,980]\u001b[0m Trial 413 finished with value: 4640.196314025325 and parameters: {'n_estimators': 151, 'max_depth': 3, 'reg_alpha': 3.96783867573242, 'reg_lambda': 1.6547361892656633, 'min_child_weight': 3, 'gamma': 1.8287709140781094, 'learning_rate': 0.0633102214198815, 'colsample_bytree': 0.8990490284635279, 'subsample': 0.7706172008697124}. Best is trial 223 with value: 4567.103137128717.\u001b[0m\n",
            "\u001b[32m[I 2022-08-27 17:30:47,229]\u001b[0m Trial 414 finished with value: 4576.461904497232 and parameters: {'n_estimators': 84, 'max_depth': 3, 'reg_alpha': 4.062666003065282, 'reg_lambda': 1.6311551552091001, 'min_child_weight': 3, 'gamma': 2.01490072894211, 'learning_rate': 0.06495168443691839, 'colsample_bytree': 0.8898405277054074, 'subsample': 0.753846386239249}. Best is trial 223 with value: 4567.103137128717.\u001b[0m\n",
            "\u001b[32m[I 2022-08-27 17:30:47,567]\u001b[0m Trial 415 finished with value: 4740.128222733532 and parameters: {'n_estimators': 100, 'max_depth': 5, 'reg_alpha': 4.168050692509867, 'reg_lambda': 1.5729547309312424, 'min_child_weight': 3, 'gamma': 1.9486344904149708, 'learning_rate': 0.06131021838618071, 'colsample_bytree': 0.8996092189580164, 'subsample': 0.7699852644815381}. Best is trial 223 with value: 4567.103137128717.\u001b[0m\n",
            "\u001b[32m[I 2022-08-27 17:30:47,815]\u001b[0m Trial 416 finished with value: 4581.346098452935 and parameters: {'n_estimators': 89, 'max_depth': 3, 'reg_alpha': 3.9338532482002955, 'reg_lambda': 1.450837123559166, 'min_child_weight': 3, 'gamma': 1.9536007749346578, 'learning_rate': 0.07497780686415143, 'colsample_bytree': 0.8813955261309862, 'subsample': 0.790960948751323}. Best is trial 223 with value: 4567.103137128717.\u001b[0m\n",
            "\u001b[32m[I 2022-08-27 17:30:48,052]\u001b[0m Trial 417 finished with value: 4574.928590730452 and parameters: {'n_estimators': 73, 'max_depth': 3, 'reg_alpha': 4.248355378148705, 'reg_lambda': 1.6828217731183777, 'min_child_weight': 3, 'gamma': 1.8032928329030777, 'learning_rate': 0.06597028647189566, 'colsample_bytree': 0.8732313628843958, 'subsample': 0.7843073777378431}. Best is trial 223 with value: 4567.103137128717.\u001b[0m\n",
            "\u001b[32m[I 2022-08-27 17:30:48,306]\u001b[0m Trial 418 finished with value: 4572.879244967442 and parameters: {'n_estimators': 96, 'max_depth': 3, 'reg_alpha': 4.093539922329304, 'reg_lambda': 1.6822906673847233, 'min_child_weight': 4, 'gamma': 1.810458298561967, 'learning_rate': 0.05800562250366812, 'colsample_bytree': 0.8680249678407496, 'subsample': 0.7801790719713931}. Best is trial 223 with value: 4567.103137128717.\u001b[0m\n",
            "\u001b[32m[I 2022-08-27 17:30:48,582]\u001b[0m Trial 419 finished with value: 4577.722783393079 and parameters: {'n_estimators': 107, 'max_depth': 3, 'reg_alpha': 3.967951102658217, 'reg_lambda': 1.6311369178322084, 'min_child_weight': 2, 'gamma': 1.9652060240809608, 'learning_rate': 0.058390674288423816, 'colsample_bytree': 0.8599317124356334, 'subsample': 0.7864969891770468}. Best is trial 223 with value: 4567.103137128717.\u001b[0m\n",
            "\u001b[32m[I 2022-08-27 17:30:48,842]\u001b[0m Trial 420 finished with value: 4577.838580811971 and parameters: {'n_estimators': 96, 'max_depth': 3, 'reg_alpha': 4.098857626265266, 'reg_lambda': 1.6072719758749248, 'min_child_weight': 5, 'gamma': 1.683949366213161, 'learning_rate': 0.055764605516477404, 'colsample_bytree': 0.8651004008041145, 'subsample': 0.7769311154006941}. Best is trial 223 with value: 4567.103137128717.\u001b[0m\n",
            "\u001b[32m[I 2022-08-27 17:30:49,098]\u001b[0m Trial 421 finished with value: 4572.944334406246 and parameters: {'n_estimators': 92, 'max_depth': 3, 'reg_alpha': 3.799457820045545, 'reg_lambda': 1.6878524942925626, 'min_child_weight': 2, 'gamma': 1.8812660521676898, 'learning_rate': 0.05773051011739512, 'colsample_bytree': 0.853123357152009, 'subsample': 0.7666959998497819}. Best is trial 223 with value: 4567.103137128717.\u001b[0m\n",
            "\u001b[32m[I 2022-08-27 17:30:49,422]\u001b[0m Trial 422 finished with value: 4592.31757592458 and parameters: {'n_estimators': 117, 'max_depth': 3, 'reg_alpha': 3.804635578297042, 'reg_lambda': 1.6762669241938346, 'min_child_weight': 2, 'gamma': 1.757034864673141, 'learning_rate': 0.05766944490879152, 'colsample_bytree': 0.8518565712780203, 'subsample': 0.788764841631813}. Best is trial 223 with value: 4567.103137128717.\u001b[0m\n",
            "\u001b[32m[I 2022-08-27 17:30:49,692]\u001b[0m Trial 423 finished with value: 4581.669611174933 and parameters: {'n_estimators': 99, 'max_depth': 3, 'reg_alpha': 3.6981951621124045, 'reg_lambda': 1.6829369906981215, 'min_child_weight': 2, 'gamma': 1.875834462853299, 'learning_rate': 0.05267669138235883, 'colsample_bytree': 0.8686688459345075, 'subsample': 0.7605670270510906}. Best is trial 223 with value: 4567.103137128717.\u001b[0m\n",
            "\u001b[32m[I 2022-08-27 17:30:49,955]\u001b[0m Trial 424 finished with value: 4583.511640855906 and parameters: {'n_estimators': 91, 'max_depth': 3, 'reg_alpha': 3.874078730610158, 'reg_lambda': 1.6582992922723252, 'min_child_weight': 3, 'gamma': 1.763593128579946, 'learning_rate': 0.0569524520043679, 'colsample_bytree': 0.8546261987716385, 'subsample': 0.8008313795908181}. Best is trial 223 with value: 4567.103137128717.\u001b[0m\n",
            "\u001b[32m[I 2022-08-27 17:30:50,200]\u001b[0m Trial 425 finished with value: 4597.010543423119 and parameters: {'n_estimators': 81, 'max_depth': 3, 'reg_alpha': 4.027666690725329, 'reg_lambda': 1.5145861810200587, 'min_child_weight': 4, 'gamma': 1.9336686343409297, 'learning_rate': 0.053788103671695814, 'colsample_bytree': 0.8697549455534883, 'subsample': 0.7661902246967365}. Best is trial 223 with value: 4567.103137128717.\u001b[0m\n",
            "\u001b[32m[I 2022-08-27 17:30:50,480]\u001b[0m Trial 426 finished with value: 4584.973156020304 and parameters: {'n_estimators': 110, 'max_depth': 3, 'reg_alpha': 4.144390062881864, 'reg_lambda': 1.573524729070432, 'min_child_weight': 2, 'gamma': 1.8650691677527698, 'learning_rate': 0.060579452373949856, 'colsample_bytree': 0.8746065166196157, 'subsample': 0.7807039749581945}. Best is trial 223 with value: 4567.103137128717.\u001b[0m\n",
            "\u001b[32m[I 2022-08-27 17:30:50,719]\u001b[0m Trial 427 finished with value: 4582.162715950013 and parameters: {'n_estimators': 75, 'max_depth': 3, 'reg_alpha': 4.238424788498634, 'reg_lambda': 1.6954222507541243, 'min_child_weight': 2, 'gamma': 1.7564029801319625, 'learning_rate': 0.05922047207374389, 'colsample_bytree': 0.8626850964669843, 'subsample': 0.7763656536011485}. Best is trial 223 with value: 4567.103137128717.\u001b[0m\n",
            "\u001b[32m[I 2022-08-27 17:30:50,939]\u001b[0m Trial 428 finished with value: 4733.594885749562 and parameters: {'n_estimators': 58, 'max_depth': 3, 'reg_alpha': 3.909359867610962, 'reg_lambda': 1.6354772111763767, 'min_child_weight': 2, 'gamma': 1.8060619270143086, 'learning_rate': 0.055195883412956365, 'colsample_bytree': 0.8759053256164998, 'subsample': 0.7768211804276165}. Best is trial 223 with value: 4567.103137128717.\u001b[0m\n",
            "\u001b[32m[I 2022-08-27 17:30:51,101]\u001b[0m Trial 429 finished with value: 5846.511508786742 and parameters: {'n_estimators': 30, 'max_depth': 3, 'reg_alpha': 4.333941782414945, 'reg_lambda': 1.6893965586853332, 'min_child_weight': 2, 'gamma': 1.848068647589855, 'learning_rate': 0.06207370271035076, 'colsample_bytree': 0.8817564082923943, 'subsample': 0.7819014267440936}. Best is trial 223 with value: 4567.103137128717.\u001b[0m\n",
            "\u001b[32m[I 2022-08-27 17:30:51,348]\u001b[0m Trial 430 finished with value: 4583.281138311315 and parameters: {'n_estimators': 90, 'max_depth': 3, 'reg_alpha': 4.223406034120029, 'reg_lambda': 1.6974977082769438, 'min_child_weight': 4, 'gamma': 1.8978477124816844, 'learning_rate': 0.05881883995909145, 'colsample_bytree': 0.8749769702951329, 'subsample': 0.8007873353748366}. Best is trial 223 with value: 4567.103137128717.\u001b[0m\n",
            "\u001b[32m[I 2022-08-27 17:30:51,576]\u001b[0m Trial 431 finished with value: 4583.56007365625 and parameters: {'n_estimators': 72, 'max_depth': 3, 'reg_alpha': 3.802739989282986, 'reg_lambda': 1.593093517072306, 'min_child_weight': 2, 'gamma': 2.013924277902829, 'learning_rate': 0.06335704042986406, 'colsample_bytree': 0.8840521100595619, 'subsample': 0.77030965593833}. Best is trial 223 with value: 4567.103137128717.\u001b[0m\n",
            "\u001b[32m[I 2022-08-27 17:30:51,757]\u001b[0m Trial 432 finished with value: 5071.911306293336 and parameters: {'n_estimators': 44, 'max_depth': 3, 'reg_alpha': 4.051863910917908, 'reg_lambda': 1.6471231484747673, 'min_child_weight': 4, 'gamma': 1.7539236307724748, 'learning_rate': 0.05594526749466318, 'colsample_bytree': 0.862095485665211, 'subsample': 0.7584282720716238}. Best is trial 223 with value: 4567.103137128717.\u001b[0m\n",
            "\u001b[32m[I 2022-08-27 17:30:51,988]\u001b[0m Trial 433 finished with value: 4636.990427281653 and parameters: {'n_estimators': 61, 'max_depth': 3, 'reg_alpha': 4.3048069818912245, 'reg_lambda': 1.7152598540495179, 'min_child_weight': 4, 'gamma': 1.6704264341595305, 'learning_rate': 0.06037871751438167, 'colsample_bytree': 0.8885599592629239, 'subsample': 0.7852971722294108}. Best is trial 223 with value: 4567.103137128717.\u001b[0m\n",
            "\u001b[32m[I 2022-08-27 17:30:52,233]\u001b[0m Trial 434 finished with value: 4592.4966655131775 and parameters: {'n_estimators': 82, 'max_depth': 3, 'reg_alpha': 4.388289239042929, 'reg_lambda': 1.6645097054052764, 'min_child_weight': 4, 'gamma': 2.079888515716567, 'learning_rate': 0.06370231698522376, 'colsample_bytree': 0.8720754137316166, 'subsample': 0.7382863418337352}. Best is trial 223 with value: 4567.103137128717.\u001b[0m\n",
            "\u001b[32m[I 2022-08-27 17:30:52,452]\u001b[0m Trial 435 finished with value: 4594.999902303512 and parameters: {'n_estimators': 73, 'max_depth': 3, 'reg_alpha': 4.151143976998626, 'reg_lambda': 1.7315432002602174, 'min_child_weight': 4, 'gamma': 2.0137967665340812, 'learning_rate': 0.06214690049143215, 'colsample_bytree': 0.8820728551909898, 'subsample': 0.798082846621164}. Best is trial 223 with value: 4567.103137128717.\u001b[0m\n",
            "\u001b[32m[I 2022-08-27 17:30:52,755]\u001b[0m Trial 436 finished with value: 4617.861410856386 and parameters: {'n_estimators': 127, 'max_depth': 3, 'reg_alpha': 4.255830736855842, 'reg_lambda': 1.696977633217098, 'min_child_weight': 3, 'gamma': 1.8537372327360668, 'learning_rate': 0.0654621238180779, 'colsample_bytree': 0.8902746621263592, 'subsample': 0.7509770664703193}. Best is trial 223 with value: 4567.103137128717.\u001b[0m\n",
            "\u001b[32m[I 2022-08-27 17:30:53,034]\u001b[0m Trial 437 finished with value: 4559.341375814847 and parameters: {'n_estimators': 97, 'max_depth': 3, 'reg_alpha': 4.458210741797118, 'reg_lambda': 1.6174788939345357, 'min_child_weight': 1, 'gamma': 1.94842947069491, 'learning_rate': 0.05822974580579944, 'colsample_bytree': 0.8469725425912444, 'subsample': 0.7813118905514153}. Best is trial 437 with value: 4559.341375814847.\u001b[0m\n",
            "\u001b[32m[I 2022-08-27 17:30:53,291]\u001b[0m Trial 438 finished with value: 4787.216237622272 and parameters: {'n_estimators': 107, 'max_depth': 3, 'reg_alpha': 4.446035669148128, 'reg_lambda': 1.5354020975689562, 'min_child_weight': 1, 'gamma': 2.0731387823219665, 'learning_rate': 0.052773279569282905, 'colsample_bytree': 0.6498368531185635, 'subsample': 0.7919063217779692}. Best is trial 437 with value: 4559.341375814847.\u001b[0m\n",
            "\u001b[32m[I 2022-08-27 17:30:53,550]\u001b[0m Trial 439 finished with value: 4618.185486882363 and parameters: {'n_estimators': 99, 'max_depth': 3, 'reg_alpha': 4.431795418324347, 'reg_lambda': 1.6003369003354382, 'min_child_weight': 1, 'gamma': 1.9076395501564605, 'learning_rate': 0.057756894368912244, 'colsample_bytree': 0.8549294707541156, 'subsample': 0.41379478242893547}. Best is trial 437 with value: 4559.341375814847.\u001b[0m\n",
            "\u001b[32m[I 2022-08-27 17:30:53,831]\u001b[0m Trial 440 finished with value: 4580.285967323716 and parameters: {'n_estimators': 91, 'max_depth': 3, 'reg_alpha': 4.334346632776536, 'reg_lambda': 1.616415375234919, 'min_child_weight': 4, 'gamma': 2.0066873729431878, 'learning_rate': 0.05009185067651848, 'colsample_bytree': 0.828286047503111, 'subsample': 0.7732496972057868}. Best is trial 437 with value: 4559.341375814847.\u001b[0m\n",
            "\u001b[32m[I 2022-08-27 17:30:54,163]\u001b[0m Trial 441 finished with value: 4684.573015581225 and parameters: {'n_estimators': 119, 'max_depth': 4, 'reg_alpha': 4.50263505407081, 'reg_lambda': 1.6535024035617922, 'min_child_weight': 4, 'gamma': 1.916137747247828, 'learning_rate': 0.058246864356450184, 'colsample_bytree': 0.8429546799232509, 'subsample': 0.7832882701229751}. Best is trial 437 with value: 4559.341375814847.\u001b[0m\n",
            "\u001b[32m[I 2022-08-27 17:30:54,427]\u001b[0m Trial 442 finished with value: 4579.905477195996 and parameters: {'n_estimators': 96, 'max_depth': 3, 'reg_alpha': 3.991191959891235, 'reg_lambda': 1.6677039818141004, 'min_child_weight': 1, 'gamma': 1.806643118399306, 'learning_rate': 0.05523293612522054, 'colsample_bytree': 0.8564162667208525, 'subsample': 0.7617683913051727}. Best is trial 437 with value: 4559.341375814847.\u001b[0m\n",
            "\u001b[32m[I 2022-08-27 17:30:54,715]\u001b[0m Trial 443 finished with value: 4580.993880644394 and parameters: {'n_estimators': 103, 'max_depth': 3, 'reg_alpha': 4.213814188939928, 'reg_lambda': 1.709613868139329, 'min_child_weight': 3, 'gamma': 3.0514965880575513, 'learning_rate': 0.059854448818118015, 'colsample_bytree': 0.8662099815685919, 'subsample': 0.7752787102079247}. Best is trial 437 with value: 4559.341375814847.\u001b[0m\n",
            "\u001b[32m[I 2022-08-27 17:30:54,962]\u001b[0m Trial 444 finished with value: 4573.921747132774 and parameters: {'n_estimators': 86, 'max_depth': 3, 'reg_alpha': 4.363205308486976, 'reg_lambda': 1.60439719013735, 'min_child_weight': 1, 'gamma': 1.9908794394373566, 'learning_rate': 0.06190987846020079, 'colsample_bytree': 0.8398395065380247, 'subsample': 0.7928881140382958}. Best is trial 437 with value: 4559.341375814847.\u001b[0m\n",
            "\u001b[32m[I 2022-08-27 17:30:55,255]\u001b[0m Trial 445 finished with value: 4586.86313653844 and parameters: {'n_estimators': 110, 'max_depth': 3, 'reg_alpha': 4.144552184618564, 'reg_lambda': 1.5638119379915818, 'min_child_weight': 1, 'gamma': 1.9579741871329037, 'learning_rate': 0.0547741402906934, 'colsample_bytree': 0.8323047609193605, 'subsample': 0.7939753221140394}. Best is trial 437 with value: 4559.341375814847.\u001b[0m\n",
            "\u001b[32m[I 2022-08-27 17:30:55,496]\u001b[0m Trial 446 finished with value: 4580.2097144089485 and parameters: {'n_estimators': 86, 'max_depth': 3, 'reg_alpha': 4.333827354623875, 'reg_lambda': 1.6049284159198287, 'min_child_weight': 1, 'gamma': 1.6968258826439548, 'learning_rate': 0.05719767856569383, 'colsample_bytree': 0.833332425191996, 'subsample': 0.7950056328792418}. Best is trial 437 with value: 4559.341375814847.\u001b[0m\n",
            "\u001b[32m[I 2022-08-27 17:30:55,755]\u001b[0m Trial 447 finished with value: 4567.8673842264 and parameters: {'n_estimators': 91, 'max_depth': 3, 'reg_alpha': 4.516263757227886, 'reg_lambda': 1.5592761232531482, 'min_child_weight': 3, 'gamma': 3.1457610467115056, 'learning_rate': 0.06077087007544725, 'colsample_bytree': 0.8573243729962664, 'subsample': 0.783865993636698}. Best is trial 437 with value: 4559.341375814847.\u001b[0m\n",
            "\u001b[32m[I 2022-08-27 17:30:56,025]\u001b[0m Trial 448 finished with value: 4569.257158750514 and parameters: {'n_estimators': 98, 'max_depth': 3, 'reg_alpha': 4.549695253439699, 'reg_lambda': 1.5345600489401836, 'min_child_weight': 1, 'gamma': 1.9927053919848186, 'learning_rate': 0.059652623201437265, 'colsample_bytree': 0.835777018421431, 'subsample': 0.7694903582660576}. Best is trial 437 with value: 4559.341375814847.\u001b[0m\n",
            "\u001b[32m[I 2022-08-27 17:30:56,361]\u001b[0m Trial 449 finished with value: 4594.853331534281 and parameters: {'n_estimators': 134, 'max_depth': 3, 'reg_alpha': 4.510730947593919, 'reg_lambda': 1.5904478036542342, 'min_child_weight': 1, 'gamma': 3.121106668280209, 'learning_rate': 0.055100875309230385, 'colsample_bytree': 0.8470881480537616, 'subsample': 0.8054591709708829}. Best is trial 437 with value: 4559.341375814847.\u001b[0m\n",
            "\u001b[32m[I 2022-08-27 17:30:56,644]\u001b[0m Trial 450 finished with value: 4594.169534964854 and parameters: {'n_estimators': 114, 'max_depth': 3, 'reg_alpha': 4.530495907685869, 'reg_lambda': 1.5054010058567642, 'min_child_weight': 1, 'gamma': 3.0654756004675745, 'learning_rate': 0.05886683804010501, 'colsample_bytree': 0.843578801283308, 'subsample': 0.761657861261363}. Best is trial 437 with value: 4559.341375814847.\u001b[0m\n",
            "\u001b[32m[I 2022-08-27 17:30:56,939]\u001b[0m Trial 451 finished with value: 4571.5658913758125 and parameters: {'n_estimators': 101, 'max_depth': 3, 'reg_alpha': 4.591997600771603, 'reg_lambda': 1.560630644580558, 'min_child_weight': 1, 'gamma': 2.9307689308357547, 'learning_rate': 0.061014761196258295, 'colsample_bytree': 0.8440807106265064, 'subsample': 0.7709960392188544}. Best is trial 437 with value: 4559.341375814847.\u001b[0m\n",
            "\u001b[32m[I 2022-08-27 17:30:57,223]\u001b[0m Trial 452 finished with value: 4578.4434555778325 and parameters: {'n_estimators': 104, 'max_depth': 3, 'reg_alpha': 4.588166048653981, 'reg_lambda': 1.5779276630335164, 'min_child_weight': 1, 'gamma': 2.951982038758924, 'learning_rate': 0.0567335459841185, 'colsample_bytree': 0.8388194549391135, 'subsample': 0.7681244081320661}. Best is trial 437 with value: 4559.341375814847.\u001b[0m\n",
            "\u001b[32m[I 2022-08-27 17:30:57,494]\u001b[0m Trial 453 finished with value: 4573.701791315396 and parameters: {'n_estimators': 103, 'max_depth': 3, 'reg_alpha': 4.5855164342477455, 'reg_lambda': 1.4681749468295555, 'min_child_weight': 1, 'gamma': 3.14939250180709, 'learning_rate': 0.05342784300474482, 'colsample_bytree': 0.8014607104164319, 'subsample': 0.7786891896270848}. Best is trial 437 with value: 4559.341375814847.\u001b[0m\n",
            "\u001b[32m[I 2022-08-27 17:30:57,831]\u001b[0m Trial 454 finished with value: 4579.92966417606 and parameters: {'n_estimators': 119, 'max_depth': 3, 'reg_alpha': 4.604604378367309, 'reg_lambda': 1.529463648637528, 'min_child_weight': 1, 'gamma': 2.975392500689306, 'learning_rate': 0.05508397657747126, 'colsample_bytree': 0.827815750660348, 'subsample': 0.7733169685416377}. Best is trial 437 with value: 4559.341375814847.\u001b[0m\n",
            "\u001b[32m[I 2022-08-27 17:30:58,141]\u001b[0m Trial 455 finished with value: 4595.628613413332 and parameters: {'n_estimators': 127, 'max_depth': 3, 'reg_alpha': 4.655856628991775, 'reg_lambda': 1.5655834409294185, 'min_child_weight': 1, 'gamma': 3.2244129061553175, 'learning_rate': 0.05917103615834475, 'colsample_bytree': 0.8447535939430136, 'subsample': 0.7811869426696131}. Best is trial 437 with value: 4559.341375814847.\u001b[0m\n",
            "\u001b[32m[I 2022-08-27 17:30:58,426]\u001b[0m Trial 456 finished with value: 4587.858229750531 and parameters: {'n_estimators': 112, 'max_depth': 3, 'reg_alpha': 4.524845002656924, 'reg_lambda': 1.5677703676935857, 'min_child_weight': 1, 'gamma': 3.2670743515110985, 'learning_rate': 0.05233935357203117, 'colsample_bytree': 0.8206005789035588, 'subsample': 0.7458404767768039}. Best is trial 437 with value: 4559.341375814847.\u001b[0m\n",
            "\u001b[32m[I 2022-08-27 17:30:58,702]\u001b[0m Trial 457 finished with value: 4577.3463937185215 and parameters: {'n_estimators': 103, 'max_depth': 3, 'reg_alpha': 4.41526624729011, 'reg_lambda': 1.4828721519125236, 'min_child_weight': 1, 'gamma': 3.1705213336756604, 'learning_rate': 0.051781518893811364, 'colsample_bytree': 0.8061325779532144, 'subsample': 0.770472362042115}. Best is trial 437 with value: 4559.341375814847.\u001b[0m\n",
            "\u001b[32m[I 2022-08-27 17:30:58,981]\u001b[0m Trial 458 finished with value: 4584.343795556595 and parameters: {'n_estimators': 103, 'max_depth': 3, 'reg_alpha': 4.65800755198147, 'reg_lambda': 1.554630430370077, 'min_child_weight': 1, 'gamma': 3.1610726894502164, 'learning_rate': 0.05356946263927137, 'colsample_bytree': 0.8043623263410657, 'subsample': 0.7583213842398684}. Best is trial 437 with value: 4559.341375814847.\u001b[0m\n",
            "\u001b[32m[I 2022-08-27 17:30:59,251]\u001b[0m Trial 459 finished with value: 4574.8163397412245 and parameters: {'n_estimators': 96, 'max_depth': 3, 'reg_alpha': 4.517247148082827, 'reg_lambda': 1.526596042365091, 'min_child_weight': 1, 'gamma': 3.0767066372126552, 'learning_rate': 0.05766504332842298, 'colsample_bytree': 0.8393877920030367, 'subsample': 0.8045008321913882}. Best is trial 437 with value: 4559.341375814847.\u001b[0m\n",
            "\u001b[32m[I 2022-08-27 17:30:59,536]\u001b[0m Trial 460 finished with value: 4566.590289072045 and parameters: {'n_estimators': 98, 'max_depth': 3, 'reg_alpha': 0.5509230867154233, 'reg_lambda': 1.4576756698061903, 'min_child_weight': 1, 'gamma': 3.101203367202304, 'learning_rate': 0.06069108707672472, 'colsample_bytree': 0.8363504892532485, 'subsample': 0.7808551782487073}. Best is trial 437 with value: 4559.341375814847.\u001b[0m\n",
            "\u001b[32m[I 2022-08-27 17:30:59,813]\u001b[0m Trial 461 finished with value: 4582.0100597826695 and parameters: {'n_estimators': 110, 'max_depth': 3, 'reg_alpha': 0.2684940833254226, 'reg_lambda': 1.4627290244506779, 'min_child_weight': 1, 'gamma': 3.1396147189090233, 'learning_rate': 0.06065372869615854, 'colsample_bytree': 0.8242634278329225, 'subsample': 0.7851945865253502}. Best is trial 437 with value: 4559.341375814847.\u001b[0m\n",
            "\u001b[32m[I 2022-08-27 17:31:00,104]\u001b[0m Trial 462 finished with value: 4581.375870044452 and parameters: {'n_estimators': 121, 'max_depth': 3, 'reg_alpha': 0.9513367195904303, 'reg_lambda': 1.471753123924398, 'min_child_weight': 1, 'gamma': 3.233192551613544, 'learning_rate': 0.05566572505845015, 'colsample_bytree': 0.836780500734714, 'subsample': 0.7901327893370315}. Best is trial 437 with value: 4559.341375814847.\u001b[0m\n",
            "\u001b[32m[I 2022-08-27 17:31:00,378]\u001b[0m Trial 463 finished with value: 4572.292161886881 and parameters: {'n_estimators': 99, 'max_depth': 3, 'reg_alpha': 3.6901326868692577, 'reg_lambda': 1.431610217342446, 'min_child_weight': 1, 'gamma': 2.987285691861375, 'learning_rate': 0.05797311335240027, 'colsample_bytree': 0.8186300147090129, 'subsample': 0.7782151861627019}. Best is trial 437 with value: 4559.341375814847.\u001b[0m\n",
            "\u001b[32m[I 2022-08-27 17:31:00,689]\u001b[0m Trial 464 finished with value: 4592.930552974207 and parameters: {'n_estimators': 138, 'max_depth': 3, 'reg_alpha': 3.784848756864563, 'reg_lambda': 1.441737965842098, 'min_child_weight': 1, 'gamma': 3.1286855670776315, 'learning_rate': 0.053524332247329214, 'colsample_bytree': 0.8216330693531, 'subsample': 0.7644198530106855}. Best is trial 437 with value: 4559.341375814847.\u001b[0m\n",
            "\u001b[32m[I 2022-08-27 17:31:00,980]\u001b[0m Trial 465 finished with value: 4583.423124733593 and parameters: {'n_estimators': 115, 'max_depth': 3, 'reg_alpha': 4.603992520010285, 'reg_lambda': 1.413593054753871, 'min_child_weight': 1, 'gamma': 2.910901928143169, 'learning_rate': 0.051046137125637624, 'colsample_bytree': 0.8492341438807276, 'subsample': 0.7699751856254065}. Best is trial 437 with value: 4559.341375814847.\u001b[0m\n",
            "\u001b[32m[I 2022-08-27 17:31:01,268]\u001b[0m Trial 466 finished with value: 4578.763421887082 and parameters: {'n_estimators': 106, 'max_depth': 3, 'reg_alpha': 3.6075248952863364, 'reg_lambda': 1.4982945759881452, 'min_child_weight': 1, 'gamma': 3.0877408355178004, 'learning_rate': 0.05727858266023335, 'colsample_bytree': 0.813105563275871, 'subsample': 0.7790932524488493}. Best is trial 437 with value: 4559.341375814847.\u001b[0m\n",
            "\u001b[32m[I 2022-08-27 17:31:01,532]\u001b[0m Trial 467 finished with value: 4587.494033668161 and parameters: {'n_estimators': 98, 'max_depth': 3, 'reg_alpha': 3.626307325011302, 'reg_lambda': 1.3900723983499241, 'min_child_weight': 1, 'gamma': 3.0307263244107143, 'learning_rate': 0.05939407985154845, 'colsample_bytree': 0.7909409156167735, 'subsample': 0.7572782447253521}. Best is trial 437 with value: 4559.341375814847.\u001b[0m\n",
            "\u001b[32m[I 2022-08-27 17:31:01,800]\u001b[0m Trial 468 finished with value: 4573.644729402983 and parameters: {'n_estimators': 100, 'max_depth': 3, 'reg_alpha': 3.8878138930885466, 'reg_lambda': 1.4371375222075091, 'min_child_weight': 1, 'gamma': 3.007264239554635, 'learning_rate': 0.05697340313688269, 'colsample_bytree': 0.8188536049595315, 'subsample': 0.7749506691714088}. Best is trial 437 with value: 4559.341375814847.\u001b[0m\n",
            "\u001b[32m[I 2022-08-27 17:31:02,063]\u001b[0m Trial 469 finished with value: 4578.036620426012 and parameters: {'n_estimators': 95, 'max_depth': 3, 'reg_alpha': 3.700399291548229, 'reg_lambda': 1.4260659883977729, 'min_child_weight': 1, 'gamma': 3.0003564661117235, 'learning_rate': 0.05716218787079008, 'colsample_bytree': 0.8310173691197328, 'subsample': 0.7630633743373632}. Best is trial 437 with value: 4559.341375814847.\u001b[0m\n",
            "\u001b[32m[I 2022-08-27 17:31:02,383]\u001b[0m Trial 470 finished with value: 4580.788961987052 and parameters: {'n_estimators': 117, 'max_depth': 3, 'reg_alpha': 3.5226232857927138, 'reg_lambda': 1.535876579585514, 'min_child_weight': 1, 'gamma': 2.9922551686308134, 'learning_rate': 0.05970970892149444, 'colsample_bytree': 0.8217866991841609, 'subsample': 0.7748783081553816}. Best is trial 437 with value: 4559.341375814847.\u001b[0m\n",
            "\u001b[32m[I 2022-08-27 17:31:02,658]\u001b[0m Trial 471 finished with value: 4585.577338756102 and parameters: {'n_estimators': 97, 'max_depth': 3, 'reg_alpha': 1.1887861351383622, 'reg_lambda': 1.5032406142022374, 'min_child_weight': 1, 'gamma': 2.918518364381603, 'learning_rate': 0.06136680628484228, 'colsample_bytree': 0.8154793496312727, 'subsample': 0.7494291116027587}. Best is trial 437 with value: 4559.341375814847.\u001b[0m\n",
            "\u001b[32m[I 2022-08-27 17:31:02,924]\u001b[0m Trial 472 finished with value: 5006.5594052697925 and parameters: {'n_estimators': 93, 'max_depth': 3, 'reg_alpha': 3.7051679429797564, 'reg_lambda': 1.3576198313933192, 'min_child_weight': 1, 'gamma': 3.040524122038458, 'learning_rate': 0.3140195858256071, 'colsample_bytree': 0.8450152275792051, 'subsample': 0.7671465702320296}. Best is trial 437 with value: 4559.341375814847.\u001b[0m\n",
            "\u001b[32m[I 2022-08-27 17:31:03,206]\u001b[0m Trial 473 finished with value: 4581.1230418875775 and parameters: {'n_estimators': 104, 'max_depth': 3, 'reg_alpha': 3.9156691757893762, 'reg_lambda': 1.533115370776468, 'min_child_weight': 1, 'gamma': 2.9668973207974343, 'learning_rate': 0.05706545438005037, 'colsample_bytree': 0.8334866148139243, 'subsample': 0.7871650392791908}. Best is trial 437 with value: 4559.341375814847.\u001b[0m\n",
            "\u001b[32m[I 2022-08-27 17:31:03,491]\u001b[0m Trial 474 finished with value: 4600.013154860904 and parameters: {'n_estimators': 110, 'max_depth': 3, 'reg_alpha': 0.46472661282920225, 'reg_lambda': 1.4232141669899232, 'min_child_weight': 1, 'gamma': 2.851356796099077, 'learning_rate': 0.060418677672198995, 'colsample_bytree': 0.8483483855612464, 'subsample': 0.7534084893220847}. Best is trial 437 with value: 4559.341375814847.\u001b[0m\n",
            "\u001b[32m[I 2022-08-27 17:31:03,864]\u001b[0m Trial 475 finished with value: 4640.222975125591 and parameters: {'n_estimators': 178, 'max_depth': 3, 'reg_alpha': 3.7696982251583724, 'reg_lambda': 1.4929574143434312, 'min_child_weight': 1, 'gamma': 2.882541510714839, 'learning_rate': 0.058956500839173726, 'colsample_bytree': 0.8499907121596325, 'subsample': 0.7788476734403506}. Best is trial 437 with value: 4559.341375814847.\u001b[0m\n",
            "\u001b[32m[I 2022-08-27 17:31:04,135]\u001b[0m Trial 476 finished with value: 4585.165683587766 and parameters: {'n_estimators': 91, 'max_depth': 3, 'reg_alpha': 3.877227730028227, 'reg_lambda': 1.3869402220743368, 'min_child_weight': 1, 'gamma': 3.032188991032139, 'learning_rate': 0.054305393190159056, 'colsample_bytree': 0.853886949879206, 'subsample': 0.7962946041846073}. Best is trial 437 with value: 4559.341375814847.\u001b[0m\n",
            "\u001b[32m[I 2022-08-27 17:31:04,410]\u001b[0m Trial 477 finished with value: 4579.587796863651 and parameters: {'n_estimators': 96, 'max_depth': 3, 'reg_alpha': 0.6323580872783316, 'reg_lambda': 1.5800008790606266, 'min_child_weight': 1, 'gamma': 3.103980149646425, 'learning_rate': 0.06223882063717096, 'colsample_bytree': 0.8372735151437726, 'subsample': 0.808518431235261}. Best is trial 437 with value: 4559.341375814847.\u001b[0m\n",
            "\u001b[32m[I 2022-08-27 17:31:04,722]\u001b[0m Trial 478 finished with value: 4591.450905250304 and parameters: {'n_estimators': 123, 'max_depth': 3, 'reg_alpha': 4.018951129476131, 'reg_lambda': 1.3252415413293444, 'min_child_weight': 1, 'gamma': 3.25181360331567, 'learning_rate': 0.05644869066381099, 'colsample_bytree': 0.8196856855917867, 'subsample': 0.7697051289502191}. Best is trial 437 with value: 4559.341375814847.\u001b[0m\n",
            "\u001b[32m[I 2022-08-27 17:31:05,178]\u001b[0m Trial 479 finished with value: 4724.034590876219 and parameters: {'n_estimators': 237, 'max_depth': 3, 'reg_alpha': 3.823745303324515, 'reg_lambda': 1.4755975133183181, 'min_child_weight': 1, 'gamma': 2.9017820912146055, 'learning_rate': 0.06156579009938653, 'colsample_bytree': 0.8422035104435749, 'subsample': 0.4607258580414705}. Best is trial 437 with value: 4559.341375814847.\u001b[0m\n",
            "\u001b[32m[I 2022-08-27 17:31:05,507]\u001b[0m Trial 480 finished with value: 4755.366565728905 and parameters: {'n_estimators': 88, 'max_depth': 5, 'reg_alpha': 3.4508416728926328, 'reg_lambda': 1.4480910134555327, 'min_child_weight': 1, 'gamma': 2.985961275604251, 'learning_rate': 0.058899822090463474, 'colsample_bytree': 0.8546524664201076, 'subsample': 0.7820214629271021}. Best is trial 437 with value: 4559.341375814847.\u001b[0m\n",
            "\u001b[32m[I 2022-08-27 17:31:05,783]\u001b[0m Trial 481 finished with value: 4586.026966563842 and parameters: {'n_estimators': 106, 'max_depth': 3, 'reg_alpha': 3.8514476404027573, 'reg_lambda': 1.5549783242485957, 'min_child_weight': 1, 'gamma': 3.1896865528429412, 'learning_rate': 0.06237813280638778, 'colsample_bytree': 0.8291121500265926, 'subsample': 0.7529404780976651}. Best is trial 437 with value: 4559.341375814847.\u001b[0m\n",
            "\u001b[32m[I 2022-08-27 17:31:06,051]\u001b[0m Trial 482 finished with value: 4587.050096726354 and parameters: {'n_estimators': 89, 'max_depth': 3, 'reg_alpha': 4.084968116376183, 'reg_lambda': 1.6308423367075688, 'min_child_weight': 1, 'gamma': 3.3560917613571295, 'learning_rate': 0.05568400840879282, 'colsample_bytree': 0.8534690729703238, 'subsample': 0.7425645666028889}. Best is trial 437 with value: 4559.341375814847.\u001b[0m\n",
            "\u001b[32m[I 2022-08-27 17:31:06,580]\u001b[0m Trial 483 finished with value: 4782.3005623214085 and parameters: {'n_estimators': 324, 'max_depth': 3, 'reg_alpha': 0.09324570874211519, 'reg_lambda': 1.2589693900328678, 'min_child_weight': 1, 'gamma': 3.0755157664807196, 'learning_rate': 0.059044782578532254, 'colsample_bytree': 0.6025636407229655, 'subsample': 0.7714147925569329}. Best is trial 437 with value: 4559.341375814847.\u001b[0m\n",
            "\u001b[32m[I 2022-08-27 17:31:06,845]\u001b[0m Trial 484 finished with value: 4568.8404590006285 and parameters: {'n_estimators': 86, 'max_depth': 3, 'reg_alpha': 3.946795396282042, 'reg_lambda': 1.5148770677209065, 'min_child_weight': 1, 'gamma': 2.810249714529539, 'learning_rate': 0.06231624066133014, 'colsample_bytree': 0.8136868502219566, 'subsample': 0.7932595086831017}. Best is trial 437 with value: 4559.341375814847.\u001b[0m\n",
            "\u001b[32m[I 2022-08-27 17:31:07,095]\u001b[0m Trial 485 finished with value: 4574.84835685975 and parameters: {'n_estimators': 87, 'max_depth': 3, 'reg_alpha': 1.6525642597027526, 'reg_lambda': 1.6124587604433664, 'min_child_weight': 1, 'gamma': 2.8058817743833555, 'learning_rate': 0.06344518603340997, 'colsample_bytree': 0.8581646069373001, 'subsample': 0.7915229699752876}. Best is trial 437 with value: 4559.341375814847.\u001b[0m\n",
            "\u001b[32m[I 2022-08-27 17:31:07,369]\u001b[0m Trial 486 finished with value: 4578.768205668137 and parameters: {'n_estimators': 84, 'max_depth': 3, 'reg_alpha': 1.972892225376045, 'reg_lambda': 1.547577904119786, 'min_child_weight': 1, 'gamma': 2.8661657591980156, 'learning_rate': 0.06305193113407091, 'colsample_bytree': 0.8316120413417506, 'subsample': 0.7982384213605626}. Best is trial 437 with value: 4559.341375814847.\u001b[0m\n",
            "\u001b[32m[I 2022-08-27 17:31:07,944]\u001b[0m Trial 487 finished with value: 4746.166745495204 and parameters: {'n_estimators': 299, 'max_depth': 3, 'reg_alpha': 1.8632417826447671, 'reg_lambda': 1.5086407846453573, 'min_child_weight': 1, 'gamma': 2.7944448077125936, 'learning_rate': 0.0603450491473547, 'colsample_bytree': 0.8415254599848933, 'subsample': 0.7836590608811167}. Best is trial 437 with value: 4559.341375814847.\u001b[0m\n",
            "\u001b[32m[I 2022-08-27 17:31:08,201]\u001b[0m Trial 488 finished with value: 4592.086121185994 and parameters: {'n_estimators': 83, 'max_depth': 3, 'reg_alpha': 4.101633398506429, 'reg_lambda': 1.5120403246582186, 'min_child_weight': 5, 'gamma': 1.5991595570406503, 'learning_rate': 0.06282757274797235, 'colsample_bytree': 0.860837293667739, 'subsample': 0.8043086923615046}. Best is trial 437 with value: 4559.341375814847.\u001b[0m\n",
            "\u001b[32m[I 2022-08-27 17:31:08,464]\u001b[0m Trial 489 finished with value: 4589.047793604246 and parameters: {'n_estimators': 91, 'max_depth': 3, 'reg_alpha': 3.990203653365156, 'reg_lambda': 0.945755471664354, 'min_child_weight': 1, 'gamma': 1.8847140571525616, 'learning_rate': 0.0606878472657205, 'colsample_bytree': 0.8520166665190825, 'subsample': 0.7287651680141517}. Best is trial 437 with value: 4559.341375814847.\u001b[0m\n",
            "\u001b[32m[I 2022-08-27 17:31:08,728]\u001b[0m Trial 490 finished with value: 4567.7502007947 and parameters: {'n_estimators': 97, 'max_depth': 3, 'reg_alpha': 4.222729590326453, 'reg_lambda': 1.9998822140278196, 'min_child_weight': 1, 'gamma': 2.9248978500066767, 'learning_rate': 0.06312303106727778, 'colsample_bytree': 0.8080783378175241, 'subsample': 0.7872356049381967}. Best is trial 437 with value: 4559.341375814847.\u001b[0m\n",
            "\u001b[32m[I 2022-08-27 17:31:09,017]\u001b[0m Trial 491 finished with value: 4612.240113898415 and parameters: {'n_estimators': 116, 'max_depth': 3, 'reg_alpha': 4.039436555174812, 'reg_lambda': 1.997913253950304, 'min_child_weight': 1, 'gamma': 2.984071277998721, 'learning_rate': 0.06389546615702031, 'colsample_bytree': 0.8093694038017857, 'subsample': 0.8168501536797326}. Best is trial 437 with value: 4559.341375814847.\u001b[0m\n",
            "\u001b[32m[I 2022-08-27 17:31:09,299]\u001b[0m Trial 492 finished with value: 4578.385975847181 and parameters: {'n_estimators': 103, 'max_depth': 3, 'reg_alpha': 4.206821690573016, 'reg_lambda': 0.8817543618202879, 'min_child_weight': 1, 'gamma': 2.844532050735343, 'learning_rate': 0.059125617171169736, 'colsample_bytree': 0.8242202154235041, 'subsample': 0.7850734534693266}. Best is trial 437 with value: 4559.341375814847.\u001b[0m\n",
            "\u001b[32m[I 2022-08-27 17:31:09,579]\u001b[0m Trial 493 finished with value: 4590.57447883331 and parameters: {'n_estimators': 95, 'max_depth': 3, 'reg_alpha': 3.9800647551883825, 'reg_lambda': 1.6130054387732122, 'min_child_weight': 1, 'gamma': 2.766016829888518, 'learning_rate': 0.06337236645571706, 'colsample_bytree': 0.8132151612569896, 'subsample': 0.8100082846879093}. Best is trial 437 with value: 4559.341375814847.\u001b[0m\n",
            "\u001b[32m[I 2022-08-27 17:31:09,864]\u001b[0m Trial 494 finished with value: 4584.261241262942 and parameters: {'n_estimators': 109, 'max_depth': 3, 'reg_alpha': 3.666510062941002, 'reg_lambda': 1.9930632202935668, 'min_child_weight': 1, 'gamma': 2.921379434226393, 'learning_rate': 0.06172370530327065, 'colsample_bytree': 0.8120430293368669, 'subsample': 0.7920439818552248}. Best is trial 437 with value: 4559.341375814847.\u001b[0m\n",
            "\u001b[32m[I 2022-08-27 17:31:10,184]\u001b[0m Trial 495 finished with value: 4597.979766921063 and parameters: {'n_estimators': 129, 'max_depth': 3, 'reg_alpha': 1.4317435098304188, 'reg_lambda': 1.629405945502742, 'min_child_weight': 1, 'gamma': 2.861330965797204, 'learning_rate': 0.05907941757406433, 'colsample_bytree': 0.8027067671306082, 'subsample': 0.7643248024528155}. Best is trial 437 with value: 4559.341375814847.\u001b[0m\n",
            "\u001b[32m[I 2022-08-27 17:31:10,440]\u001b[0m Trial 496 finished with value: 4722.740628854016 and parameters: {'n_estimators': 86, 'max_depth': 3, 'reg_alpha': 4.258930540611378, 'reg_lambda': 1.577307486363722, 'min_child_weight': 1, 'gamma': 2.7269123327666978, 'learning_rate': 0.19449661243196384, 'colsample_bytree': 0.8346699138466425, 'subsample': 0.7888003270133598}. Best is trial 437 with value: 4559.341375814847.\u001b[0m\n",
            "\u001b[32m[I 2022-08-27 17:31:10,743]\u001b[0m Trial 497 finished with value: 5336.062056939891 and parameters: {'n_estimators': 95, 'max_depth': 4, 'reg_alpha': 4.112655488950584, 'reg_lambda': 1.54959763044068, 'min_child_weight': 1, 'gamma': 1.938035521309944, 'learning_rate': 0.4156629535134174, 'colsample_bytree': 0.738067044088221, 'subsample': 0.7992285325199237}. Best is trial 437 with value: 4559.341375814847.\u001b[0m\n",
            "\u001b[32m[I 2022-08-27 17:31:11,010]\u001b[0m Trial 498 finished with value: 4580.253019186673 and parameters: {'n_estimators': 82, 'max_depth': 3, 'reg_alpha': 3.7765100129364866, 'reg_lambda': 1.1144201087262045, 'min_child_weight': 1, 'gamma': 2.9365730560487964, 'learning_rate': 0.06458027257083206, 'colsample_bytree': 0.8462326873388376, 'subsample': 0.7793995878741258}. Best is trial 437 with value: 4559.341375814847.\u001b[0m\n",
            "\u001b[32m[I 2022-08-27 17:31:11,272]\u001b[0m Trial 499 finished with value: 4587.702452101845 and parameters: {'n_estimators': 99, 'max_depth': 3, 'reg_alpha': 4.334029750739417, 'reg_lambda': 1.0115575755349064, 'min_child_weight': 1, 'gamma': 2.1054056565552974, 'learning_rate': 0.05716706111191333, 'colsample_bytree': 0.7964690120953157, 'subsample': 0.7603252440231788}. Best is trial 437 with value: 4559.341375814847.\u001b[0m\n",
            "\u001b[32m[I 2022-08-27 17:31:11,530]\u001b[0m Trial 500 finished with value: 4577.095528805979 and parameters: {'n_estimators': 84, 'max_depth': 3, 'reg_alpha': 3.908438871726625, 'reg_lambda': 1.9987747344719846, 'min_child_weight': 1, 'gamma': 2.003454997748779, 'learning_rate': 0.06099977993700477, 'colsample_bytree': 0.822571191170465, 'subsample': 0.7111804957187631}. Best is trial 437 with value: 4559.341375814847.\u001b[0m\n",
            "\u001b[32m[I 2022-08-27 17:31:11,825]\u001b[0m Trial 501 finished with value: 4614.789414273878 and parameters: {'n_estimators': 111, 'max_depth': 3, 'reg_alpha': 4.178052923795169, 'reg_lambda': 1.5292358272514692, 'min_child_weight': 1, 'gamma': 2.8598123438617358, 'learning_rate': 0.05398449398895901, 'colsample_bytree': 0.6934385733507344, 'subsample': 0.777617362523701}. Best is trial 437 with value: 4559.341375814847.\u001b[0m\n",
            "\u001b[32m[I 2022-08-27 17:31:12,086]\u001b[0m Trial 502 finished with value: 4564.787308473038 and parameters: {'n_estimators': 94, 'max_depth': 3, 'reg_alpha': 4.31674725157523, 'reg_lambda': 1.642050319349445, 'min_child_weight': 1, 'gamma': 2.7492937722442012, 'learning_rate': 0.06471954013053498, 'colsample_bytree': 0.8595249554729844, 'subsample': 0.769244657947264}. Best is trial 437 with value: 4559.341375814847.\u001b[0m\n",
            "\u001b[32m[I 2022-08-27 17:31:12,369]\u001b[0m Trial 503 finished with value: 4571.369829267889 and parameters: {'n_estimators': 98, 'max_depth': 3, 'reg_alpha': 4.238161953290086, 'reg_lambda': 1.6351239955186911, 'min_child_weight': 1, 'gamma': 1.7278229167774921, 'learning_rate': 0.06314767966244447, 'colsample_bytree': 0.7899882012386696, 'subsample': 0.7672543218841594}. Best is trial 437 with value: 4559.341375814847.\u001b[0m\n",
            "\u001b[32m[I 2022-08-27 17:31:12,693]\u001b[0m Trial 504 finished with value: 4603.881630745334 and parameters: {'n_estimators': 121, 'max_depth': 3, 'reg_alpha': 4.245001377361417, 'reg_lambda': 1.6265778519993563, 'min_child_weight': 1, 'gamma': 1.5771883665766564, 'learning_rate': 0.06411273598076439, 'colsample_bytree': 0.7788566833543832, 'subsample': 0.7559578246564919}. Best is trial 437 with value: 4559.341375814847.\u001b[0m\n",
            "\u001b[32m[I 2022-08-27 17:31:12,978]\u001b[0m Trial 505 finished with value: 4577.6485454990725 and parameters: {'n_estimators': 110, 'max_depth': 3, 'reg_alpha': 4.3481409906169075, 'reg_lambda': 1.5898292029117782, 'min_child_weight': 1, 'gamma': 1.7506578909494992, 'learning_rate': 0.06526329673423212, 'colsample_bytree': 0.7886298435109874, 'subsample': 0.7722737732349653}. Best is trial 437 with value: 4559.341375814847.\u001b[0m\n",
            "\u001b[32m[I 2022-08-27 17:31:13,257]\u001b[0m Trial 506 finished with value: 4586.334049629763 and parameters: {'n_estimators': 104, 'max_depth': 3, 'reg_alpha': 4.157203733371548, 'reg_lambda': 1.652940768259133, 'min_child_weight': 1, 'gamma': 1.634793808658923, 'learning_rate': 0.0648864014176502, 'colsample_bytree': 0.8129811061825689, 'subsample': 0.7891124222106038}. Best is trial 437 with value: 4559.341375814847.\u001b[0m\n",
            "\u001b[32m[I 2022-08-27 17:31:13,526]\u001b[0m Trial 507 finished with value: 4576.254678835982 and parameters: {'n_estimators': 100, 'max_depth': 3, 'reg_alpha': 4.292521986725449, 'reg_lambda': 1.5420048958386767, 'min_child_weight': 1, 'gamma': 1.81674059104636, 'learning_rate': 0.061526670556801916, 'colsample_bytree': 0.7951386658300358, 'subsample': 0.7776675437772483}. Best is trial 437 with value: 4559.341375814847.\u001b[0m\n",
            "\u001b[32m[I 2022-08-27 17:31:13,827]\u001b[0m Trial 508 finished with value: 4602.73102136868 and parameters: {'n_estimators': 115, 'max_depth': 3, 'reg_alpha': 4.072077548477043, 'reg_lambda': 1.6212474847241463, 'min_child_weight': 1, 'gamma': 1.5075753464375348, 'learning_rate': 0.0653469294831601, 'colsample_bytree': 0.8023812846240809, 'subsample': 0.7460856002375698}. Best is trial 437 with value: 4559.341375814847.\u001b[0m\n",
            "\u001b[32m[I 2022-08-27 17:31:14,099]\u001b[0m Trial 509 finished with value: 4585.2254086640505 and parameters: {'n_estimators': 94, 'max_depth': 3, 'reg_alpha': 4.376275767190997, 'reg_lambda': 1.587074570831097, 'min_child_weight': 1, 'gamma': 3.052367889880629, 'learning_rate': 0.06540047395028606, 'colsample_bytree': 0.808237619986428, 'subsample': 0.8021366888319114}. Best is trial 437 with value: 4559.341375814847.\u001b[0m\n",
            "\u001b[32m[I 2022-08-27 17:31:14,345]\u001b[0m Trial 510 finished with value: 4582.397073767635 and parameters: {'n_estimators': 83, 'max_depth': 3, 'reg_alpha': 4.194823945099362, 'reg_lambda': 0.831282671851721, 'min_child_weight': 1, 'gamma': 2.9263672783389802, 'learning_rate': 0.06082552924781118, 'colsample_bytree': 0.8257772416405811, 'subsample': 0.7626906969448211}. Best is trial 437 with value: 4559.341375814847.\u001b[0m\n",
            "\u001b[32m[I 2022-08-27 17:31:14,945]\u001b[0m Trial 511 finished with value: 5423.059736554265 and parameters: {'n_estimators': 349, 'max_depth': 3, 'reg_alpha': 4.339174179629785, 'reg_lambda': 0.5460436151731857, 'min_child_weight': 1, 'gamma': 2.8203199629181888, 'learning_rate': 0.23369267216219938, 'colsample_bytree': 0.8382211853650955, 'subsample': 0.7873105785151358}. Best is trial 437 with value: 4559.341375814847.\u001b[0m\n",
            "\u001b[32m[I 2022-08-27 17:31:15,257]\u001b[0m Trial 512 finished with value: 4599.660038690087 and parameters: {'n_estimators': 131, 'max_depth': 3, 'reg_alpha': 4.472550165934583, 'reg_lambda': 1.4944963091505377, 'min_child_weight': 1, 'gamma': 1.7108077737174365, 'learning_rate': 0.06317225989261611, 'colsample_bytree': 0.8582976418040782, 'subsample': 0.7693333006242119}. Best is trial 437 with value: 4559.341375814847.\u001b[0m\n",
            "\u001b[32m[I 2022-08-27 17:31:15,590]\u001b[0m Trial 513 finished with value: 4601.7655131490765 and parameters: {'n_estimators': 144, 'max_depth': 3, 'reg_alpha': 4.233929759980438, 'reg_lambda': 1.65820166480577, 'min_child_weight': 1, 'gamma': 2.9558050951289445, 'learning_rate': 0.05924344331476582, 'colsample_bytree': 0.7851465781895844, 'subsample': 0.7831513306978377}. Best is trial 437 with value: 4559.341375814847.\u001b[0m\n",
            "\u001b[32m[I 2022-08-27 17:31:15,887]\u001b[0m Trial 514 finished with value: 4601.241667833692 and parameters: {'n_estimators': 102, 'max_depth': 3, 'reg_alpha': 4.092214762971545, 'reg_lambda': 1.5668978674070622, 'min_child_weight': 1, 'gamma': 1.9304120610920563, 'learning_rate': 0.06634167086251148, 'colsample_bytree': 0.8141814621694994, 'subsample': 0.6067241170522591}. Best is trial 437 with value: 4559.341375814847.\u001b[0m\n",
            "\u001b[32m[I 2022-08-27 17:31:16,150]\u001b[0m Trial 515 finished with value: 4584.841372769288 and parameters: {'n_estimators': 92, 'max_depth': 3, 'reg_alpha': 4.431167419699736, 'reg_lambda': 1.638222094744568, 'min_child_weight': 1, 'gamma': 2.772240635181534, 'learning_rate': 0.06235054167747478, 'colsample_bytree': 0.8299342274871182, 'subsample': 0.8137406510725472}. Best is trial 437 with value: 4559.341375814847.\u001b[0m\n",
            "\u001b[32m[I 2022-08-27 17:31:16,395]\u001b[0m Trial 516 finished with value: 4588.221032942665 and parameters: {'n_estimators': 81, 'max_depth': 3, 'reg_alpha': 4.304408530741961, 'reg_lambda': 1.6050635768042476, 'min_child_weight': 1, 'gamma': 2.892551405838614, 'learning_rate': 0.0658193200688461, 'colsample_bytree': 0.8630752395730632, 'subsample': 0.7555622020557968}. Best is trial 437 with value: 4559.341375814847.\u001b[0m\n",
            "\u001b[32m[I 2022-08-27 17:31:16,697]\u001b[0m Trial 517 finished with value: 4598.84896001753 and parameters: {'n_estimators': 113, 'max_depth': 3, 'reg_alpha': 4.042318964622987, 'reg_lambda': 0.9203699903296361, 'min_child_weight': 1, 'gamma': 2.0565479711347883, 'learning_rate': 0.060186011997748354, 'colsample_bytree': 0.8224345174215392, 'subsample': 0.7954911167643414}. Best is trial 437 with value: 4559.341375814847.\u001b[0m\n",
            "\u001b[32m[I 2022-08-27 17:31:16,952]\u001b[0m Trial 518 finished with value: 4706.482767995085 and parameters: {'n_estimators': 96, 'max_depth': 3, 'reg_alpha': 4.185743836916414, 'reg_lambda': 1.4727520781073795, 'min_child_weight': 1, 'gamma': 3.0105780502331494, 'learning_rate': 0.15336384878887133, 'colsample_bytree': 0.7982288587086503, 'subsample': 0.7691625280795203}. Best is trial 437 with value: 4559.341375814847.\u001b[0m\n",
            "\u001b[32m[I 2022-08-27 17:31:17,215]\u001b[0m Trial 519 finished with value: 4622.097840755421 and parameters: {'n_estimators': 82, 'max_depth': 3, 'reg_alpha': 4.395998450520224, 'reg_lambda': 1.6640257274313366, 'min_child_weight': 1, 'gamma': 1.8476482571562278, 'learning_rate': 0.06337226329952401, 'colsample_bytree': 0.6739439061367314, 'subsample': 0.7768264518784493}. Best is trial 437 with value: 4559.341375814847.\u001b[0m\n",
            "\u001b[32m[I 2022-08-27 17:31:17,533]\u001b[0m Trial 520 finished with value: 4639.601119554303 and parameters: {'n_estimators': 104, 'max_depth': 4, 'reg_alpha': 4.508750010761321, 'reg_lambda': 1.5551417193040489, 'min_child_weight': 1, 'gamma': 3.17778037576503, 'learning_rate': 0.056319944700269416, 'colsample_bytree': 0.8365697082134341, 'subsample': 0.7763762667683499}. Best is trial 437 with value: 4559.341375814847.\u001b[0m\n",
            "\u001b[32m[I 2022-08-27 17:31:17,828]\u001b[0m Trial 521 finished with value: 4581.083804685494 and parameters: {'n_estimators': 91, 'max_depth': 3, 'reg_alpha': 2.4492617821489544, 'reg_lambda': 1.5205389265117055, 'min_child_weight': 1, 'gamma': 2.8420174330495667, 'learning_rate': 0.06726641776836029, 'colsample_bytree': 0.8483776892016075, 'subsample': 0.7928909688150179}. Best is trial 437 with value: 4559.341375814847.\u001b[0m\n",
            "\u001b[32m[I 2022-08-27 17:31:18,091]\u001b[0m Trial 522 finished with value: 4590.694627096513 and parameters: {'n_estimators': 84, 'max_depth': 3, 'reg_alpha': 4.714558926952449, 'reg_lambda': 0.9835294877960831, 'min_child_weight': 1, 'gamma': 3.0849300420407717, 'learning_rate': 0.05960916124990919, 'colsample_bytree': 0.8664476900574114, 'subsample': 0.6250693439640874}. Best is trial 437 with value: 4559.341375814847.\u001b[0m\n",
            "\u001b[32m[I 2022-08-27 17:31:18,405]\u001b[0m Trial 523 finished with value: 4587.707553648249 and parameters: {'n_estimators': 122, 'max_depth': 3, 'reg_alpha': 4.288964301608307, 'reg_lambda': 1.7143511366917146, 'min_child_weight': 1, 'gamma': 1.9683091679011286, 'learning_rate': 0.06411105603594651, 'colsample_bytree': 0.8406894001991073, 'subsample': 0.7650353058768491}. Best is trial 437 with value: 4559.341375814847.\u001b[0m\n",
            "\u001b[32m[I 2022-08-27 17:31:18,652]\u001b[0m Trial 524 finished with value: 4594.7515845210455 and parameters: {'n_estimators': 77, 'max_depth': 3, 'reg_alpha': 4.477683237782139, 'reg_lambda': 1.627284538695488, 'min_child_weight': 1, 'gamma': 1.507006108058032, 'learning_rate': 0.05785721553408296, 'colsample_bytree': 0.8664062626045126, 'subsample': 0.7439028172687134}. Best is trial 437 with value: 4559.341375814847.\u001b[0m\n",
            "\u001b[32m[I 2022-08-27 17:31:19,369]\u001b[0m Trial 525 finished with value: 4852.561756997384 and parameters: {'n_estimators': 434, 'max_depth': 3, 'reg_alpha': 4.135706538950025, 'reg_lambda': 1.041423671274347, 'min_child_weight': 1, 'gamma': 1.761961284472219, 'learning_rate': 0.06108074277087779, 'colsample_bytree': 0.8591264812078212, 'subsample': 0.7853783631477894}. Best is trial 437 with value: 4559.341375814847.\u001b[0m\n",
            "\u001b[32m[I 2022-08-27 17:31:19,649]\u001b[0m Trial 526 finished with value: 4586.11927398487 and parameters: {'n_estimators': 96, 'max_depth': 3, 'reg_alpha': 3.9617981387426573, 'reg_lambda': 1.5882208062227254, 'min_child_weight': 1, 'gamma': 2.6891032805308717, 'learning_rate': 0.06750281668460151, 'colsample_bytree': 0.8301280249839652, 'subsample': 0.8066350513875514}. Best is trial 437 with value: 4559.341375814847.\u001b[0m\n",
            "\u001b[32m[I 2022-08-27 17:31:19,953]\u001b[0m Trial 527 finished with value: 4598.008795967804 and parameters: {'n_estimators': 107, 'max_depth': 3, 'reg_alpha': 4.604874457382766, 'reg_lambda': 0.25139492351620407, 'min_child_weight': 4, 'gamma': 3.006945377842792, 'learning_rate': 0.05456261121808913, 'colsample_bytree': 0.8080478406417683, 'subsample': 0.7595626536377513}. Best is trial 437 with value: 4559.341375814847.\u001b[0m\n",
            "\u001b[32m[I 2022-08-27 17:31:20,209]\u001b[0m Trial 528 finished with value: 4605.941635044856 and parameters: {'n_estimators': 81, 'max_depth': 3, 'reg_alpha': 4.3901112453978985, 'reg_lambda': 1.6768531219608982, 'min_child_weight': 1, 'gamma': 1.6538873957459774, 'learning_rate': 0.09892277956958027, 'colsample_bytree': 0.846939661022386, 'subsample': 0.7943362768016904}. Best is trial 437 with value: 4559.341375814847.\u001b[0m\n",
            "\u001b[32m[I 2022-08-27 17:31:20,475]\u001b[0m Trial 529 finished with value: 4622.598936761211 and parameters: {'n_estimators': 90, 'max_depth': 3, 'reg_alpha': 4.177373531616679, 'reg_lambda': 1.7255229602407238, 'min_child_weight': 1, 'gamma': 3.3103076050062685, 'learning_rate': 0.06272515327055829, 'colsample_bytree': 0.8684186770708309, 'subsample': 0.4375813320395797}. Best is trial 437 with value: 4559.341375814847.\u001b[0m\n",
            "\u001b[32m[I 2022-08-27 17:31:20,712]\u001b[0m Trial 530 finished with value: 4636.956828306429 and parameters: {'n_estimators': 75, 'max_depth': 3, 'reg_alpha': 4.49726374227762, 'reg_lambda': 1.5105265880431393, 'min_child_weight': 1, 'gamma': 2.7297106301606027, 'learning_rate': 0.06533245014109637, 'colsample_bytree': 0.7520464868850826, 'subsample': 0.7748336426498064}. Best is trial 437 with value: 4559.341375814847.\u001b[0m\n",
            "\u001b[32m[I 2022-08-27 17:31:20,998]\u001b[0m Trial 531 finished with value: 4584.874958692753 and parameters: {'n_estimators': 98, 'max_depth': 3, 'reg_alpha': 4.27059021445376, 'reg_lambda': 1.6962771998142911, 'min_child_weight': 1, 'gamma': 1.8693337518939193, 'learning_rate': 0.07035943686396606, 'colsample_bytree': 0.8155340515243878, 'subsample': 0.7677481518045439}. Best is trial 437 with value: 4559.341375814847.\u001b[0m\n",
            "\u001b[32m[I 2022-08-27 17:31:21,492]\u001b[0m Trial 532 finished with value: 4706.610803422314 and parameters: {'n_estimators': 270, 'max_depth': 3, 'reg_alpha': 4.686593929012621, 'reg_lambda': 1.636106986183082, 'min_child_weight': 1, 'gamma': 2.9017550269771384, 'learning_rate': 0.05835565643705619, 'colsample_bytree': 0.8609922902491974, 'subsample': 0.7837954601323259}. Best is trial 437 with value: 4559.341375814847.\u001b[0m\n",
            "\u001b[32m[I 2022-08-27 17:31:21,867]\u001b[0m Trial 533 finished with value: 4641.758463726213 and parameters: {'n_estimators': 165, 'max_depth': 3, 'reg_alpha': 4.0169473671623885, 'reg_lambda': 1.5526206880824895, 'min_child_weight': 1, 'gamma': 1.4483407783011677, 'learning_rate': 0.06121571775157928, 'colsample_bytree': 0.8461287072353731, 'subsample': 0.7997293186030965}. Best is trial 437 with value: 4559.341375814847.\u001b[0m\n",
            "\u001b[32m[I 2022-08-27 17:31:22,158]\u001b[0m Trial 534 finished with value: 4839.217782773218 and parameters: {'n_estimators': 113, 'max_depth': 3, 'reg_alpha': 4.375663797976996, 'reg_lambda': 1.60589713827768, 'min_child_weight': 1, 'gamma': 2.817259660333622, 'learning_rate': 0.17862615712471203, 'colsample_bytree': 0.824875053946467, 'subsample': 0.6872680805700282}. Best is trial 437 with value: 4559.341375814847.\u001b[0m\n",
            "\u001b[32m[I 2022-08-27 17:31:22,358]\u001b[0m Trial 535 finished with value: 5407.789894119632 and parameters: {'n_estimators': 63, 'max_depth': 3, 'reg_alpha': 4.528136815596365, 'reg_lambda': 1.4795612940324896, 'min_child_weight': 5, 'gamma': 2.0097990372086922, 'learning_rate': 0.06704816756328733, 'colsample_bytree': 0.5450646985399035, 'subsample': 0.752589155958916}. Best is trial 437 with value: 4559.341375814847.\u001b[0m\n",
            "\u001b[32m[I 2022-08-27 17:31:22,595]\u001b[0m Trial 536 finished with value: 4580.189603647796 and parameters: {'n_estimators': 77, 'max_depth': 3, 'reg_alpha': 4.248713633608975, 'reg_lambda': 1.7247304457810486, 'min_child_weight': 4, 'gamma': 2.066022919233397, 'learning_rate': 0.07102796534185309, 'colsample_bytree': 0.8710139549645988, 'subsample': 0.8177930473122946}. Best is trial 437 with value: 4559.341375814847.\u001b[0m\n",
            "\u001b[32m[I 2022-08-27 17:31:22,879]\u001b[0m Trial 537 finished with value: 4599.105210715469 and parameters: {'n_estimators': 89, 'max_depth': 3, 'reg_alpha': 4.632607312177818, 'reg_lambda': 1.651447598423095, 'min_child_weight': 1, 'gamma': 3.1177792183551554, 'learning_rate': 0.08033958564258264, 'colsample_bytree': 0.8556245699031156, 'subsample': 0.6553117720362704}. Best is trial 437 with value: 4559.341375814847.\u001b[0m\n",
            "\u001b[32m[I 2022-08-27 17:31:23,159]\u001b[0m Trial 538 finished with value: 4561.030950535089 and parameters: {'n_estimators': 103, 'max_depth': 3, 'reg_alpha': 4.372853923094922, 'reg_lambda': 1.6739991162688503, 'min_child_weight': 1, 'gamma': 2.9169114523246025, 'learning_rate': 0.0559190657432076, 'colsample_bytree': 0.8378603222681835, 'subsample': 0.7819050726799893}. Best is trial 437 with value: 4559.341375814847.\u001b[0m\n",
            "\u001b[32m[I 2022-08-27 17:31:23,436]\u001b[0m Trial 539 finished with value: 4579.715026485184 and parameters: {'n_estimators': 102, 'max_depth': 3, 'reg_alpha': 2.6965960951305386, 'reg_lambda': 0.9386189580182036, 'min_child_weight': 1, 'gamma': 2.937646548115021, 'learning_rate': 0.05505832107787006, 'colsample_bytree': 0.8375596071711807, 'subsample': 0.7218063296335554}. Best is trial 437 with value: 4559.341375814847.\u001b[0m\n",
            "\u001b[32m[I 2022-08-27 17:31:23,664]\u001b[0m Trial 540 finished with value: 4605.745167999001 and parameters: {'n_estimators': 65, 'max_depth': 3, 'reg_alpha': 4.453731110520578, 'reg_lambda': 1.581295820233434, 'min_child_weight': 1, 'gamma': 3.0061936033325236, 'learning_rate': 0.06431785716532316, 'colsample_bytree': 0.8308973760819026, 'subsample': 0.7875500499414947}. Best is trial 437 with value: 4559.341375814847.\u001b[0m\n",
            "\u001b[32m[I 2022-08-27 17:31:23,978]\u001b[0m Trial 541 finished with value: 4578.6790327256085 and parameters: {'n_estimators': 122, 'max_depth': 3, 'reg_alpha': 4.5569445112362335, 'reg_lambda': 1.5328678157308804, 'min_child_weight': 1, 'gamma': 2.9326530590078113, 'learning_rate': 0.0512998745039945, 'colsample_bytree': 0.8131765944851082, 'subsample': 0.7641366382879423}. Best is trial 437 with value: 4559.341375814847.\u001b[0m\n",
            "\u001b[32m[I 2022-08-27 17:31:24,246]\u001b[0m Trial 542 finished with value: 4564.344634000054 and parameters: {'n_estimators': 78, 'max_depth': 3, 'reg_alpha': 4.382320277482765, 'reg_lambda': 1.7433642893100922, 'min_child_weight': 1, 'gamma': 2.8006644665802733, 'learning_rate': 0.06865846454451074, 'colsample_bytree': 0.837972998960397, 'subsample': 0.7713993637745977}. Best is trial 437 with value: 4559.341375814847.\u001b[0m\n",
            "\u001b[32m[I 2022-08-27 17:31:24,462]\u001b[0m Trial 543 finished with value: 4632.507032909927 and parameters: {'n_estimators': 52, 'max_depth': 3, 'reg_alpha': 4.752510533278765, 'reg_lambda': 1.7465814517566338, 'min_child_weight': 1, 'gamma': 2.856195940580098, 'learning_rate': 0.07257325884771025, 'colsample_bytree': 0.8391709523924349, 'subsample': 0.772226158073186}. Best is trial 437 with value: 4559.341375814847.\u001b[0m\n",
            "\u001b[32m[I 2022-08-27 17:31:24,705]\u001b[0m Trial 544 finished with value: 4597.5859032931785 and parameters: {'n_estimators': 74, 'max_depth': 3, 'reg_alpha': 4.426665782145587, 'reg_lambda': 1.6956974079820732, 'min_child_weight': 1, 'gamma': 3.1833821491129015, 'learning_rate': 0.0693040471746946, 'colsample_bytree': 0.8225304764015552, 'subsample': 0.7322504801438997}. Best is trial 437 with value: 4559.341375814847.\u001b[0m\n",
            "\u001b[32m[I 2022-08-27 17:31:25,125]\u001b[0m Trial 545 finished with value: 4695.488800077005 and parameters: {'n_estimators': 199, 'max_depth': 3, 'reg_alpha': 4.620308130495535, 'reg_lambda': 1.7360227330701794, 'min_child_weight': 1, 'gamma': 3.064667356086004, 'learning_rate': 0.07536971294143992, 'colsample_bytree': 0.8350646315415547, 'subsample': 0.7502355071587017}. Best is trial 437 with value: 4559.341375814847.\u001b[0m\n",
            "\u001b[32m[I 2022-08-27 17:31:25,415]\u001b[0m Trial 546 finished with value: 4646.826945636093 and parameters: {'n_estimators': 108, 'max_depth': 3, 'reg_alpha': 4.379518363414281, 'reg_lambda': 0.005269676051626759, 'min_child_weight': 1, 'gamma': 2.9652608280323447, 'learning_rate': 0.06938489008751476, 'colsample_bytree': 0.8302004054009344, 'subsample': 0.7577333644144312}. Best is trial 437 with value: 4559.341375814847.\u001b[0m\n",
            "\u001b[32m[I 2022-08-27 17:31:25,656]\u001b[0m Trial 547 finished with value: 4587.630130352603 and parameters: {'n_estimators': 68, 'max_depth': 3, 'reg_alpha': 4.50875913117167, 'reg_lambda': 1.6505510786244013, 'min_child_weight': 1, 'gamma': 2.8774044181910896, 'learning_rate': 0.06672721956269821, 'colsample_bytree': 0.8425354770759477, 'subsample': 0.7808370531422838}. Best is trial 437 with value: 4559.341375814847.\u001b[0m\n",
            "\u001b[32m[I 2022-08-27 17:31:25,912]\u001b[0m Trial 548 finished with value: 4584.4833770539435 and parameters: {'n_estimators': 89, 'max_depth': 3, 'reg_alpha': 4.753358059215256, 'reg_lambda': 1.4377711466570466, 'min_child_weight': 1, 'gamma': 2.8386118030798535, 'learning_rate': 0.07755209565464932, 'colsample_bytree': 0.8215472638494938, 'subsample': 0.7715228150551341}. Best is trial 437 with value: 4559.341375814847.\u001b[0m\n",
            "\u001b[32m[I 2022-08-27 17:31:26,142]\u001b[0m Trial 549 finished with value: 4610.991857506055 and parameters: {'n_estimators': 59, 'max_depth': 3, 'reg_alpha': 4.366430027774542, 'reg_lambda': 1.6817497092180318, 'min_child_weight': 1, 'gamma': 0.009032991953792147, 'learning_rate': 0.07107923491116139, 'colsample_bytree': 0.84181148659016, 'subsample': 0.7993302299850992}. Best is trial 437 with value: 4559.341375814847.\u001b[0m\n"
          ]
        }
      ]
    },
    {
      "cell_type": "markdown",
      "source": [
        "Optimim Hyperparametreler ile Modelin Değerlendirilmesi"
      ],
      "metadata": {
        "id": "wFL42praXP4Y"
      }
    },
    {
      "cell_type": "code",
      "source": [
        "model = XGBRegressor(**bestparam)\n",
        "model.fit(X_train,y_train)\n",
        "pred_xg = model.predict(X_test)\n",
        "print('MAE: ',metrics.mean_absolute_error(y_test,pred_xg))\n",
        "print('MSE: ',metrics.mean_squared_error(y_test,pred_xg))\n",
        "print(\"r2 score: \",r2_score(y_test,pred_xg))"
      ],
      "metadata": {
        "id": "v9IzR7T1K8kB",
        "colab": {
          "base_uri": "https://localhost:8080/"
        },
        "outputId": "c5e6de1e-8c3e-487f-e133-8c0d50fb2198"
      },
      "execution_count": 50,
      "outputs": [
        {
          "output_type": "stream",
          "name": "stdout",
          "text": [
            "[17:31:26] WARNING: /workspace/src/objective/regression_obj.cu:152: reg:linear is now deprecated in favor of reg:squarederror.\n",
            "MAE:  2421.9424364460997\n",
            "MSE:  18329074.191446576\n",
            "r2 score:  0.8819373658301497\n"
          ]
        }
      ]
    },
    {
      "cell_type": "code",
      "source": [
        "from google.colab import drive\n",
        "drive.mount('/content/drive')"
      ],
      "metadata": {
        "colab": {
          "base_uri": "https://localhost:8080/"
        },
        "id": "iUQMc4FMVw0F",
        "outputId": "c4507b93-1191-4136-e08d-71ddf3c9370e"
      },
      "execution_count": 51,
      "outputs": [
        {
          "output_type": "stream",
          "name": "stdout",
          "text": [
            "Drive already mounted at /content/drive; to attempt to forcibly remount, call drive.mount(\"/content/drive\", force_remount=True).\n"
          ]
        }
      ]
    }
  ]
}